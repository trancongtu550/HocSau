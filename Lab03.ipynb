{
  "nbformat": 4,
  "nbformat_minor": 0,
  "metadata": {
    "colab": {
      "name": "Lab03.ipynb",
      "provenance": [],
      "toc_visible": true,
      "authorship_tag": "ABX9TyPoDhhzR0iY8MSP7sp1q2lC",
      "include_colab_link": true
    },
    "kernelspec": {
      "name": "python3",
      "display_name": "Python 3"
    },
    "language_info": {
      "name": "python"
    }
  },
  "cells": [
    {
      "cell_type": "markdown",
      "metadata": {
        "id": "view-in-github",
        "colab_type": "text"
      },
      "source": [
        "<a href=\"https://colab.research.google.com/github/187it20961/PTDL-HS/blob/main/Lab03.ipynb\" target=\"_parent\"><img src=\"https://colab.research.google.com/assets/colab-badge.svg\" alt=\"Open In Colab\"/></a>"
      ]
    },
    {
      "cell_type": "markdown",
      "metadata": {
        "id": "M9pI3K29pSAJ"
      },
      "source": [
        "**Lab 3**"
      ]
    },
    {
      "cell_type": "markdown",
      "metadata": {
        "id": "6MpvECClcyXw"
      },
      "source": [
        "**Vấn đề 1**"
      ]
    },
    {
      "cell_type": "markdown",
      "metadata": {
        "id": "6MN8_8K3c4DU"
      },
      "source": [
        "1.Tiến hành tải dữ liệu vào chương trình ứng dụng Python và giải quyết vấn đề"
      ]
    },
    {
      "cell_type": "markdown",
      "metadata": {
        "id": "6NGIwL_Kc7Ob"
      },
      "source": [
        "\"Missing header in the csv file\""
      ]
    },
    {
      "cell_type": "code",
      "metadata": {
        "colab": {
          "base_uri": "https://localhost:8080/"
        },
        "id": "AJytWO9Ccdzs",
        "outputId": "2fb646ef-4d9f-42a3-db3f-580a9c343a8b"
      },
      "source": [
        "import pandas as pd\n",
        "import seaborn as sns\n",
        "df_patientheartrate = pd.read_csv('https://raw.githubusercontent.com/huynhhoc/DataAnalystDeepLearning/main/Data/patient_heart_rate.csv')\n",
        "print(df_patientheartrate)"
      ],
      "execution_count": 1,
      "outputs": [
        {
          "output_type": "stream",
          "name": "stdout",
          "text": [
            "       1    Mickéy Mousé    56       70kgs   72   69   71    -  -.1  -.2\n",
            "0    2.0     Donald Duck  34.0   154.89lbs    -    -    -   85   84   76\n",
            "1    3.0      Mini Mouse  16.0         NaN    -    -    -   65   69   72\n",
            "2    4.0  Scrooge McDuck   NaN       78kgs   78   79   72    -    -    -\n",
            "3    5.0    Pink Panther  54.0  198.658lbs    -    -    -   69  NaN   75\n",
            "4    6.0     Huey McDuck  52.0      189lbs    -    -    -   68   75   72\n",
            "5    7.0    Dewey McDuck  19.0       56kgs    -    -    -   71   78   75\n",
            "6    8.0      Scööpy Doo  32.0       78kgs   78   76   75    -    -    -\n",
            "7    NaN             NaN   NaN         NaN  NaN  NaN  NaN  NaN  NaN  NaN\n",
            "8    NaN             NaN   NaN         NaN  NaN  NaN  NaN  NaN  NaN  NaN\n",
            "9    9.0     Huey McDuck  52.0      189lbs    -    -    -   68   75   72\n",
            "10  10.0    Louie McDuck  12.0       45kgs    -    -    -   92   95   87\n",
            "11  11.0       Henry Nam   NaN       60kgs   78   75   72    -    -    -\n",
            "12  12.0     Michel Long  34.0         NaN   65   67   55    -    -    -\n",
            "13  13.0      Tana Ricky   NaN         NaN    -    -    -   68   72   70\n",
            "14  14.0        UniLever   NaN         NaN  NaN  NaN  NaN  NaN  NaN  NaN\n",
            "15  15.0             NaN  52.0      180lbs    -    -    -   68   75   72\n"
          ]
        }
      ]
    },
    {
      "cell_type": "markdown",
      "metadata": {
        "id": "Wphjhi35dFzD"
      },
      "source": [
        "Thêm header vào df_patientheartrate để diễn giải data"
      ]
    },
    {
      "cell_type": "code",
      "metadata": {
        "colab": {
          "base_uri": "https://localhost:8080/"
        },
        "id": "4RmhgT1XdGol",
        "outputId": "deb25ebd-187b-4749-fcd5-b076d9625193"
      },
      "source": [
        "column_names=[\"ID\", \"Name\", \"Age\", \"Weight\", \"m0006\", \"m0612\",\"m1218\", \"f006\", \"f0612\", \"f1218\"]\n",
        "df_patientheartrate = pd.read_csv('https://raw.githubusercontent.com/huynhhoc/DataAnalystDeepLearning/main/Data/patient_heart_rate.csv', names= column_names)\n",
        "print(df_patientheartrate)"
      ],
      "execution_count": 2,
      "outputs": [
        {
          "output_type": "stream",
          "name": "stdout",
          "text": [
            "      ID            Name   Age      Weight m0006 m0612 m1218 f006 f0612 f1218\n",
            "0    1.0    Mickéy Mousé  56.0       70kgs    72    69    71    -     -     -\n",
            "1    2.0     Donald Duck  34.0   154.89lbs     -     -     -   85    84    76\n",
            "2    3.0      Mini Mouse  16.0         NaN     -     -     -   65    69    72\n",
            "3    4.0  Scrooge McDuck   NaN       78kgs    78    79    72    -     -     -\n",
            "4    5.0    Pink Panther  54.0  198.658lbs     -     -     -   69   NaN    75\n",
            "5    6.0     Huey McDuck  52.0      189lbs     -     -     -   68    75    72\n",
            "6    7.0    Dewey McDuck  19.0       56kgs     -     -     -   71    78    75\n",
            "7    8.0      Scööpy Doo  32.0       78kgs    78    76    75    -     -     -\n",
            "8    NaN             NaN   NaN         NaN   NaN   NaN   NaN  NaN   NaN   NaN\n",
            "9    NaN             NaN   NaN         NaN   NaN   NaN   NaN  NaN   NaN   NaN\n",
            "10   9.0     Huey McDuck  52.0      189lbs     -     -     -   68    75    72\n",
            "11  10.0    Louie McDuck  12.0       45kgs     -     -     -   92    95    87\n",
            "12  11.0       Henry Nam   NaN       60kgs    78    75    72    -     -     -\n",
            "13  12.0     Michel Long  34.0         NaN    65    67    55    -     -     -\n",
            "14  13.0      Tana Ricky   NaN         NaN     -     -     -   68    72    70\n",
            "15  14.0        UniLever   NaN         NaN   NaN   NaN   NaN  NaN   NaN   NaN\n",
            "16  15.0             NaN  52.0      180lbs     -     -     -   68    75    72\n"
          ]
        }
      ]
    },
    {
      "cell_type": "markdown",
      "metadata": {
        "id": "od9-uNsadMkE"
      },
      "source": [
        "**Vấn đề 2**"
      ]
    },
    {
      "cell_type": "markdown",
      "metadata": {
        "id": "3fZmobFhdRNj"
      },
      "source": [
        "1.Xử lý vấn đề một cột lưu hỗn hợp nhiều dữ liệu, ở đây là cột \"Name\" chứa bao gồm \"Firstname\" và \"Lastname\", giải pháp là ta sẽ tách ra làm 2 cột"
      ]
    },
    {
      "cell_type": "code",
      "metadata": {
        "colab": {
          "base_uri": "https://localhost:8080/",
          "height": 204
        },
        "id": "koIXCpPQdPbU",
        "outputId": "7172d68b-ad71-4ad6-caa2-cb8af9ddbd23"
      },
      "source": [
        "df_patientheartrate[['Firstname', 'Lastname']]=df_patientheartrate['Name'].str.split(expand = True)\n",
        "df_patientheartrate.head(5)"
      ],
      "execution_count": 3,
      "outputs": [
        {
          "output_type": "execute_result",
          "data": {
            "text/html": [
              "<div>\n",
              "<style scoped>\n",
              "    .dataframe tbody tr th:only-of-type {\n",
              "        vertical-align: middle;\n",
              "    }\n",
              "\n",
              "    .dataframe tbody tr th {\n",
              "        vertical-align: top;\n",
              "    }\n",
              "\n",
              "    .dataframe thead th {\n",
              "        text-align: right;\n",
              "    }\n",
              "</style>\n",
              "<table border=\"1\" class=\"dataframe\">\n",
              "  <thead>\n",
              "    <tr style=\"text-align: right;\">\n",
              "      <th></th>\n",
              "      <th>ID</th>\n",
              "      <th>Name</th>\n",
              "      <th>Age</th>\n",
              "      <th>Weight</th>\n",
              "      <th>m0006</th>\n",
              "      <th>m0612</th>\n",
              "      <th>m1218</th>\n",
              "      <th>f006</th>\n",
              "      <th>f0612</th>\n",
              "      <th>f1218</th>\n",
              "      <th>Firstname</th>\n",
              "      <th>Lastname</th>\n",
              "    </tr>\n",
              "  </thead>\n",
              "  <tbody>\n",
              "    <tr>\n",
              "      <th>0</th>\n",
              "      <td>1.0</td>\n",
              "      <td>Mickéy Mousé</td>\n",
              "      <td>56.0</td>\n",
              "      <td>70kgs</td>\n",
              "      <td>72</td>\n",
              "      <td>69</td>\n",
              "      <td>71</td>\n",
              "      <td>-</td>\n",
              "      <td>-</td>\n",
              "      <td>-</td>\n",
              "      <td>Mickéy</td>\n",
              "      <td>Mousé</td>\n",
              "    </tr>\n",
              "    <tr>\n",
              "      <th>1</th>\n",
              "      <td>2.0</td>\n",
              "      <td>Donald Duck</td>\n",
              "      <td>34.0</td>\n",
              "      <td>154.89lbs</td>\n",
              "      <td>-</td>\n",
              "      <td>-</td>\n",
              "      <td>-</td>\n",
              "      <td>85</td>\n",
              "      <td>84</td>\n",
              "      <td>76</td>\n",
              "      <td>Donald</td>\n",
              "      <td>Duck</td>\n",
              "    </tr>\n",
              "    <tr>\n",
              "      <th>2</th>\n",
              "      <td>3.0</td>\n",
              "      <td>Mini Mouse</td>\n",
              "      <td>16.0</td>\n",
              "      <td>NaN</td>\n",
              "      <td>-</td>\n",
              "      <td>-</td>\n",
              "      <td>-</td>\n",
              "      <td>65</td>\n",
              "      <td>69</td>\n",
              "      <td>72</td>\n",
              "      <td>Mini</td>\n",
              "      <td>Mouse</td>\n",
              "    </tr>\n",
              "    <tr>\n",
              "      <th>3</th>\n",
              "      <td>4.0</td>\n",
              "      <td>Scrooge McDuck</td>\n",
              "      <td>NaN</td>\n",
              "      <td>78kgs</td>\n",
              "      <td>78</td>\n",
              "      <td>79</td>\n",
              "      <td>72</td>\n",
              "      <td>-</td>\n",
              "      <td>-</td>\n",
              "      <td>-</td>\n",
              "      <td>Scrooge</td>\n",
              "      <td>McDuck</td>\n",
              "    </tr>\n",
              "    <tr>\n",
              "      <th>4</th>\n",
              "      <td>5.0</td>\n",
              "      <td>Pink Panther</td>\n",
              "      <td>54.0</td>\n",
              "      <td>198.658lbs</td>\n",
              "      <td>-</td>\n",
              "      <td>-</td>\n",
              "      <td>-</td>\n",
              "      <td>69</td>\n",
              "      <td>NaN</td>\n",
              "      <td>75</td>\n",
              "      <td>Pink</td>\n",
              "      <td>Panther</td>\n",
              "    </tr>\n",
              "  </tbody>\n",
              "</table>\n",
              "</div>"
            ],
            "text/plain": [
              "    ID            Name   Age      Weight  ... f0612 f1218 Firstname Lastname\n",
              "0  1.0    Mickéy Mousé  56.0       70kgs  ...     -     -    Mickéy    Mousé\n",
              "1  2.0     Donald Duck  34.0   154.89lbs  ...    84    76    Donald     Duck\n",
              "2  3.0      Mini Mouse  16.0         NaN  ...    69    72      Mini    Mouse\n",
              "3  4.0  Scrooge McDuck   NaN       78kgs  ...     -     -   Scrooge   McDuck\n",
              "4  5.0    Pink Panther  54.0  198.658lbs  ...   NaN    75      Pink  Panther\n",
              "\n",
              "[5 rows x 12 columns]"
            ]
          },
          "metadata": {},
          "execution_count": 3
        }
      ]
    },
    {
      "cell_type": "markdown",
      "metadata": {
        "id": "fQiJx6bsdYkj"
      },
      "source": [
        "Xóa cột name"
      ]
    },
    {
      "cell_type": "code",
      "metadata": {
        "colab": {
          "base_uri": "https://localhost:8080/",
          "height": 204
        },
        "id": "zWxIqlSMdZHU",
        "outputId": "8b59bd61-adc7-429f-9a1a-d6a707e5d025"
      },
      "source": [
        "df_patientheartrate = df_patientheartrate.drop('Name',axis=1)\n",
        "df_patientheartrate.head(5)"
      ],
      "execution_count": 4,
      "outputs": [
        {
          "output_type": "execute_result",
          "data": {
            "text/html": [
              "<div>\n",
              "<style scoped>\n",
              "    .dataframe tbody tr th:only-of-type {\n",
              "        vertical-align: middle;\n",
              "    }\n",
              "\n",
              "    .dataframe tbody tr th {\n",
              "        vertical-align: top;\n",
              "    }\n",
              "\n",
              "    .dataframe thead th {\n",
              "        text-align: right;\n",
              "    }\n",
              "</style>\n",
              "<table border=\"1\" class=\"dataframe\">\n",
              "  <thead>\n",
              "    <tr style=\"text-align: right;\">\n",
              "      <th></th>\n",
              "      <th>ID</th>\n",
              "      <th>Age</th>\n",
              "      <th>Weight</th>\n",
              "      <th>m0006</th>\n",
              "      <th>m0612</th>\n",
              "      <th>m1218</th>\n",
              "      <th>f006</th>\n",
              "      <th>f0612</th>\n",
              "      <th>f1218</th>\n",
              "      <th>Firstname</th>\n",
              "      <th>Lastname</th>\n",
              "    </tr>\n",
              "  </thead>\n",
              "  <tbody>\n",
              "    <tr>\n",
              "      <th>0</th>\n",
              "      <td>1.0</td>\n",
              "      <td>56.0</td>\n",
              "      <td>70kgs</td>\n",
              "      <td>72</td>\n",
              "      <td>69</td>\n",
              "      <td>71</td>\n",
              "      <td>-</td>\n",
              "      <td>-</td>\n",
              "      <td>-</td>\n",
              "      <td>Mickéy</td>\n",
              "      <td>Mousé</td>\n",
              "    </tr>\n",
              "    <tr>\n",
              "      <th>1</th>\n",
              "      <td>2.0</td>\n",
              "      <td>34.0</td>\n",
              "      <td>154.89lbs</td>\n",
              "      <td>-</td>\n",
              "      <td>-</td>\n",
              "      <td>-</td>\n",
              "      <td>85</td>\n",
              "      <td>84</td>\n",
              "      <td>76</td>\n",
              "      <td>Donald</td>\n",
              "      <td>Duck</td>\n",
              "    </tr>\n",
              "    <tr>\n",
              "      <th>2</th>\n",
              "      <td>3.0</td>\n",
              "      <td>16.0</td>\n",
              "      <td>NaN</td>\n",
              "      <td>-</td>\n",
              "      <td>-</td>\n",
              "      <td>-</td>\n",
              "      <td>65</td>\n",
              "      <td>69</td>\n",
              "      <td>72</td>\n",
              "      <td>Mini</td>\n",
              "      <td>Mouse</td>\n",
              "    </tr>\n",
              "    <tr>\n",
              "      <th>3</th>\n",
              "      <td>4.0</td>\n",
              "      <td>NaN</td>\n",
              "      <td>78kgs</td>\n",
              "      <td>78</td>\n",
              "      <td>79</td>\n",
              "      <td>72</td>\n",
              "      <td>-</td>\n",
              "      <td>-</td>\n",
              "      <td>-</td>\n",
              "      <td>Scrooge</td>\n",
              "      <td>McDuck</td>\n",
              "    </tr>\n",
              "    <tr>\n",
              "      <th>4</th>\n",
              "      <td>5.0</td>\n",
              "      <td>54.0</td>\n",
              "      <td>198.658lbs</td>\n",
              "      <td>-</td>\n",
              "      <td>-</td>\n",
              "      <td>-</td>\n",
              "      <td>69</td>\n",
              "      <td>NaN</td>\n",
              "      <td>75</td>\n",
              "      <td>Pink</td>\n",
              "      <td>Panther</td>\n",
              "    </tr>\n",
              "  </tbody>\n",
              "</table>\n",
              "</div>"
            ],
            "text/plain": [
              "    ID   Age      Weight m0006 m0612 m1218 f006 f0612 f1218 Firstname Lastname\n",
              "0  1.0  56.0       70kgs    72    69    71    -     -     -    Mickéy    Mousé\n",
              "1  2.0  34.0   154.89lbs     -     -     -   85    84    76    Donald     Duck\n",
              "2  3.0  16.0         NaN     -     -     -   65    69    72      Mini    Mouse\n",
              "3  4.0   NaN       78kgs    78    79    72    -     -     -   Scrooge   McDuck\n",
              "4  5.0  54.0  198.658lbs     -     -     -   69   NaN    75      Pink  Panther"
            ]
          },
          "metadata": {},
          "execution_count": 4
        }
      ]
    },
    {
      "cell_type": "markdown",
      "metadata": {
        "id": "N6o_faXCdjzG"
      },
      "source": [
        "**Vấn đề 3**"
      ]
    },
    {
      "cell_type": "markdown",
      "metadata": {
        "id": "2IhVv_DYdq-L"
      },
      "source": [
        "1.Cột Weight có vấn đề về không thống nhất các đơn vị đo lường trong dữ liệu.Ta sẽ chuyển các đơn vị về thành đơn vị chuẩn \"kg\""
      ]
    },
    {
      "cell_type": "code",
      "metadata": {
        "colab": {
          "base_uri": "https://localhost:8080/"
        },
        "id": "gV6RaP2Vdw3E",
        "outputId": "5cc644c8-0d5b-4bbd-827f-cc99a7f5dc43"
      },
      "source": [
        "weight=df_patientheartrate['Weight']\n",
        "for i in range(len(weight)):\n",
        "  x = str(weight[i])\n",
        "  if \"lbs\" in x[-3:]:\n",
        "    #remove the lbs from the value\n",
        "    x = x[:-3]\n",
        "    float_x = float(x)\n",
        "    y = int(float_x/2.205)\n",
        "    y = str(y)+\"kgs\"\n",
        "    weight[i] = y\n",
        "print(df_patientheartrate.head(5))"
      ],
      "execution_count": 5,
      "outputs": [
        {
          "output_type": "stream",
          "name": "stdout",
          "text": [
            "    ID   Age Weight m0006 m0612 m1218 f006 f0612 f1218 Firstname Lastname\n",
            "0  1.0  56.0  70kgs    72    69    71    -     -     -    Mickéy    Mousé\n",
            "1  2.0  34.0  70kgs     -     -     -   85    84    76    Donald     Duck\n",
            "2  3.0  16.0    NaN     -     -     -   65    69    72      Mini    Mouse\n",
            "3  4.0   NaN  78kgs    78    79    72    -     -     -   Scrooge   McDuck\n",
            "4  5.0  54.0  90kgs     -     -     -   69   NaN    75      Pink  Panther\n"
          ]
        },
        {
          "output_type": "stream",
          "name": "stderr",
          "text": [
            "/usr/local/lib/python3.7/dist-packages/ipykernel_launcher.py:10: SettingWithCopyWarning: \n",
            "A value is trying to be set on a copy of a slice from a DataFrame\n",
            "\n",
            "See the caveats in the documentation: https://pandas.pydata.org/pandas-docs/stable/user_guide/indexing.html#returning-a-view-versus-a-copy\n",
            "  # Remove the CWD from sys.path while we load stuff.\n"
          ]
        }
      ]
    },
    {
      "cell_type": "markdown",
      "metadata": {
        "id": "B4kNBLvmd8IL"
      },
      "source": [
        "**Vấn đề 4**"
      ]
    },
    {
      "cell_type": "markdown",
      "metadata": {
        "id": "NzQWCaMjd-Ub"
      },
      "source": [
        "1.Vấn đề về xuất hiện dòng dữ liệu rỗng (không có giá trị: NaN). Giải pháp có thể đưa ra là xóa bỏ"
      ]
    },
    {
      "cell_type": "code",
      "metadata": {
        "colab": {
          "base_uri": "https://localhost:8080/",
          "height": 204
        },
        "id": "-8gxSm8Ud_Ib",
        "outputId": "391230cb-d505-457e-bead-e9ce7385e2e9"
      },
      "source": [
        "df_patientheartrate.dropna(how=\"all\", inplace=True)\n",
        "df_patientheartrate.head(5)"
      ],
      "execution_count": 6,
      "outputs": [
        {
          "output_type": "execute_result",
          "data": {
            "text/html": [
              "<div>\n",
              "<style scoped>\n",
              "    .dataframe tbody tr th:only-of-type {\n",
              "        vertical-align: middle;\n",
              "    }\n",
              "\n",
              "    .dataframe tbody tr th {\n",
              "        vertical-align: top;\n",
              "    }\n",
              "\n",
              "    .dataframe thead th {\n",
              "        text-align: right;\n",
              "    }\n",
              "</style>\n",
              "<table border=\"1\" class=\"dataframe\">\n",
              "  <thead>\n",
              "    <tr style=\"text-align: right;\">\n",
              "      <th></th>\n",
              "      <th>ID</th>\n",
              "      <th>Age</th>\n",
              "      <th>Weight</th>\n",
              "      <th>m0006</th>\n",
              "      <th>m0612</th>\n",
              "      <th>m1218</th>\n",
              "      <th>f006</th>\n",
              "      <th>f0612</th>\n",
              "      <th>f1218</th>\n",
              "      <th>Firstname</th>\n",
              "      <th>Lastname</th>\n",
              "    </tr>\n",
              "  </thead>\n",
              "  <tbody>\n",
              "    <tr>\n",
              "      <th>0</th>\n",
              "      <td>1.0</td>\n",
              "      <td>56.0</td>\n",
              "      <td>70kgs</td>\n",
              "      <td>72</td>\n",
              "      <td>69</td>\n",
              "      <td>71</td>\n",
              "      <td>-</td>\n",
              "      <td>-</td>\n",
              "      <td>-</td>\n",
              "      <td>Mickéy</td>\n",
              "      <td>Mousé</td>\n",
              "    </tr>\n",
              "    <tr>\n",
              "      <th>1</th>\n",
              "      <td>2.0</td>\n",
              "      <td>34.0</td>\n",
              "      <td>70kgs</td>\n",
              "      <td>-</td>\n",
              "      <td>-</td>\n",
              "      <td>-</td>\n",
              "      <td>85</td>\n",
              "      <td>84</td>\n",
              "      <td>76</td>\n",
              "      <td>Donald</td>\n",
              "      <td>Duck</td>\n",
              "    </tr>\n",
              "    <tr>\n",
              "      <th>2</th>\n",
              "      <td>3.0</td>\n",
              "      <td>16.0</td>\n",
              "      <td>NaN</td>\n",
              "      <td>-</td>\n",
              "      <td>-</td>\n",
              "      <td>-</td>\n",
              "      <td>65</td>\n",
              "      <td>69</td>\n",
              "      <td>72</td>\n",
              "      <td>Mini</td>\n",
              "      <td>Mouse</td>\n",
              "    </tr>\n",
              "    <tr>\n",
              "      <th>3</th>\n",
              "      <td>4.0</td>\n",
              "      <td>NaN</td>\n",
              "      <td>78kgs</td>\n",
              "      <td>78</td>\n",
              "      <td>79</td>\n",
              "      <td>72</td>\n",
              "      <td>-</td>\n",
              "      <td>-</td>\n",
              "      <td>-</td>\n",
              "      <td>Scrooge</td>\n",
              "      <td>McDuck</td>\n",
              "    </tr>\n",
              "    <tr>\n",
              "      <th>4</th>\n",
              "      <td>5.0</td>\n",
              "      <td>54.0</td>\n",
              "      <td>90kgs</td>\n",
              "      <td>-</td>\n",
              "      <td>-</td>\n",
              "      <td>-</td>\n",
              "      <td>69</td>\n",
              "      <td>NaN</td>\n",
              "      <td>75</td>\n",
              "      <td>Pink</td>\n",
              "      <td>Panther</td>\n",
              "    </tr>\n",
              "  </tbody>\n",
              "</table>\n",
              "</div>"
            ],
            "text/plain": [
              "    ID   Age Weight m0006 m0612 m1218 f006 f0612 f1218 Firstname Lastname\n",
              "0  1.0  56.0  70kgs    72    69    71    -     -     -    Mickéy    Mousé\n",
              "1  2.0  34.0  70kgs     -     -     -   85    84    76    Donald     Duck\n",
              "2  3.0  16.0    NaN     -     -     -   65    69    72      Mini    Mouse\n",
              "3  4.0   NaN  78kgs    78    79    72    -     -     -   Scrooge   McDuck\n",
              "4  5.0  54.0  90kgs     -     -     -   69   NaN    75      Pink  Panther"
            ]
          },
          "metadata": {},
          "execution_count": 6
        }
      ]
    },
    {
      "cell_type": "markdown",
      "metadata": {
        "id": "v_FAstBOeCY-"
      },
      "source": [
        "Khảo sát dữ liệu thiếu và xóa dòng dữ liệu rỗng"
      ]
    },
    {
      "cell_type": "code",
      "metadata": {
        "colab": {
          "base_uri": "https://localhost:8080/",
          "height": 427
        },
        "id": "t7uG4AV2eDBU",
        "outputId": "26193528-5a68-4818-a3f8-80387250bbb7"
      },
      "source": [
        "%matplotlib inline\n",
        "%config InlineBackend.figure_format = 'svg'\n",
        "sns.heatmap(df_patientheartrate.isna(), \n",
        "            yticklabels=False, \n",
        "            cbar=True, \n",
        "            cmap='viridis')"
      ],
      "execution_count": 7,
      "outputs": [
        {
          "output_type": "execute_result",
          "data": {
            "text/plain": [
              "<matplotlib.axes._subplots.AxesSubplot at 0x7fa684e3f790>"
            ]
          },
          "metadata": {},
          "execution_count": 7
        },
        {
          "output_type": "display_data",
          "data": {
            "text/plain": [
              "<Figure size 432x288 with 2 Axes>"
            ],
            "image/svg+xml": "<?xml version=\"1.0\" encoding=\"utf-8\" standalone=\"no\"?>\n<!DOCTYPE svg PUBLIC \"-//W3C//DTD SVG 1.1//EN\"\n  \"http://www.w3.org/Graphics/SVG/1.1/DTD/svg11.dtd\">\n<!-- Created with matplotlib (https://matplotlib.org/) -->\n<svg height=\"292.043906pt\" version=\"1.1\" viewBox=\"0 0 332.755125 292.043906\" width=\"332.755125pt\" xmlns=\"http://www.w3.org/2000/svg\" xmlns:xlink=\"http://www.w3.org/1999/xlink\">\n <defs>\n  <style type=\"text/css\">\n*{stroke-linecap:butt;stroke-linejoin:round;}\n  </style>\n </defs>\n <g id=\"figure_1\">\n  <g id=\"patch_1\">\n   <path d=\"M 0 292.043906 \nL 332.755125 292.043906 \nL 332.755125 0 \nL 0 0 \nz\n\" style=\"fill:none;\"/>\n  </g>\n  <g id=\"axes_1\">\n   <g id=\"patch_2\">\n    <path d=\"M 7.2 228.439219 \nL 275.04 228.439219 \nL 275.04 10.999219 \nL 7.2 10.999219 \nz\n\" style=\"fill:#ffffff;\"/>\n   </g>\n   <g id=\"QuadMesh_1\">\n    <path clip-path=\"url(#p42d92f6a39)\" d=\"M 7.2 10.999219 \nL 31.549091 10.999219 \nL 31.549091 25.495219 \nL 7.2 25.495219 \nL 7.2 10.999219 \n\" style=\"fill:#440154;\"/>\n    <path clip-path=\"url(#p42d92f6a39)\" d=\"M 31.549091 10.999219 \nL 55.898182 10.999219 \nL 55.898182 25.495219 \nL 31.549091 25.495219 \nL 31.549091 10.999219 \n\" style=\"fill:#440154;\"/>\n    <path clip-path=\"url(#p42d92f6a39)\" d=\"M 55.898182 10.999219 \nL 80.247273 10.999219 \nL 80.247273 25.495219 \nL 55.898182 25.495219 \nL 55.898182 10.999219 \n\" style=\"fill:#440154;\"/>\n    <path clip-path=\"url(#p42d92f6a39)\" d=\"M 80.247273 10.999219 \nL 104.596364 10.999219 \nL 104.596364 25.495219 \nL 80.247273 25.495219 \nL 80.247273 10.999219 \n\" style=\"fill:#440154;\"/>\n    <path clip-path=\"url(#p42d92f6a39)\" d=\"M 104.596364 10.999219 \nL 128.945455 10.999219 \nL 128.945455 25.495219 \nL 104.596364 25.495219 \nL 104.596364 10.999219 \n\" style=\"fill:#440154;\"/>\n    <path clip-path=\"url(#p42d92f6a39)\" d=\"M 128.945455 10.999219 \nL 153.294545 10.999219 \nL 153.294545 25.495219 \nL 128.945455 25.495219 \nL 128.945455 10.999219 \n\" style=\"fill:#440154;\"/>\n    <path clip-path=\"url(#p42d92f6a39)\" d=\"M 153.294545 10.999219 \nL 177.643636 10.999219 \nL 177.643636 25.495219 \nL 153.294545 25.495219 \nL 153.294545 10.999219 \n\" style=\"fill:#440154;\"/>\n    <path clip-path=\"url(#p42d92f6a39)\" d=\"M 177.643636 10.999219 \nL 201.992727 10.999219 \nL 201.992727 25.495219 \nL 177.643636 25.495219 \nL 177.643636 10.999219 \n\" style=\"fill:#440154;\"/>\n    <path clip-path=\"url(#p42d92f6a39)\" d=\"M 201.992727 10.999219 \nL 226.341818 10.999219 \nL 226.341818 25.495219 \nL 201.992727 25.495219 \nL 201.992727 10.999219 \n\" style=\"fill:#440154;\"/>\n    <path clip-path=\"url(#p42d92f6a39)\" d=\"M 226.341818 10.999219 \nL 250.690909 10.999219 \nL 250.690909 25.495219 \nL 226.341818 25.495219 \nL 226.341818 10.999219 \n\" style=\"fill:#440154;\"/>\n    <path clip-path=\"url(#p42d92f6a39)\" d=\"M 250.690909 10.999219 \nL 275.04 10.999219 \nL 275.04 25.495219 \nL 250.690909 25.495219 \nL 250.690909 10.999219 \n\" style=\"fill:#440154;\"/>\n    <path clip-path=\"url(#p42d92f6a39)\" d=\"M 7.2 25.495219 \nL 31.549091 25.495219 \nL 31.549091 39.991219 \nL 7.2 39.991219 \nL 7.2 25.495219 \n\" style=\"fill:#440154;\"/>\n    <path clip-path=\"url(#p42d92f6a39)\" d=\"M 31.549091 25.495219 \nL 55.898182 25.495219 \nL 55.898182 39.991219 \nL 31.549091 39.991219 \nL 31.549091 25.495219 \n\" style=\"fill:#440154;\"/>\n    <path clip-path=\"url(#p42d92f6a39)\" d=\"M 55.898182 25.495219 \nL 80.247273 25.495219 \nL 80.247273 39.991219 \nL 55.898182 39.991219 \nL 55.898182 25.495219 \n\" style=\"fill:#440154;\"/>\n    <path clip-path=\"url(#p42d92f6a39)\" d=\"M 80.247273 25.495219 \nL 104.596364 25.495219 \nL 104.596364 39.991219 \nL 80.247273 39.991219 \nL 80.247273 25.495219 \n\" style=\"fill:#440154;\"/>\n    <path clip-path=\"url(#p42d92f6a39)\" d=\"M 104.596364 25.495219 \nL 128.945455 25.495219 \nL 128.945455 39.991219 \nL 104.596364 39.991219 \nL 104.596364 25.495219 \n\" style=\"fill:#440154;\"/>\n    <path clip-path=\"url(#p42d92f6a39)\" d=\"M 128.945455 25.495219 \nL 153.294545 25.495219 \nL 153.294545 39.991219 \nL 128.945455 39.991219 \nL 128.945455 25.495219 \n\" style=\"fill:#440154;\"/>\n    <path clip-path=\"url(#p42d92f6a39)\" d=\"M 153.294545 25.495219 \nL 177.643636 25.495219 \nL 177.643636 39.991219 \nL 153.294545 39.991219 \nL 153.294545 25.495219 \n\" style=\"fill:#440154;\"/>\n    <path clip-path=\"url(#p42d92f6a39)\" d=\"M 177.643636 25.495219 \nL 201.992727 25.495219 \nL 201.992727 39.991219 \nL 177.643636 39.991219 \nL 177.643636 25.495219 \n\" style=\"fill:#440154;\"/>\n    <path clip-path=\"url(#p42d92f6a39)\" d=\"M 201.992727 25.495219 \nL 226.341818 25.495219 \nL 226.341818 39.991219 \nL 201.992727 39.991219 \nL 201.992727 25.495219 \n\" style=\"fill:#440154;\"/>\n    <path clip-path=\"url(#p42d92f6a39)\" d=\"M 226.341818 25.495219 \nL 250.690909 25.495219 \nL 250.690909 39.991219 \nL 226.341818 39.991219 \nL 226.341818 25.495219 \n\" style=\"fill:#440154;\"/>\n    <path clip-path=\"url(#p42d92f6a39)\" d=\"M 250.690909 25.495219 \nL 275.04 25.495219 \nL 275.04 39.991219 \nL 250.690909 39.991219 \nL 250.690909 25.495219 \n\" style=\"fill:#440154;\"/>\n    <path clip-path=\"url(#p42d92f6a39)\" d=\"M 7.2 39.991219 \nL 31.549091 39.991219 \nL 31.549091 54.487219 \nL 7.2 54.487219 \nL 7.2 39.991219 \n\" style=\"fill:#440154;\"/>\n    <path clip-path=\"url(#p42d92f6a39)\" d=\"M 31.549091 39.991219 \nL 55.898182 39.991219 \nL 55.898182 54.487219 \nL 31.549091 54.487219 \nL 31.549091 39.991219 \n\" style=\"fill:#440154;\"/>\n    <path clip-path=\"url(#p42d92f6a39)\" d=\"M 55.898182 39.991219 \nL 80.247273 39.991219 \nL 80.247273 54.487219 \nL 55.898182 54.487219 \nL 55.898182 39.991219 \n\" style=\"fill:#fde725;\"/>\n    <path clip-path=\"url(#p42d92f6a39)\" d=\"M 80.247273 39.991219 \nL 104.596364 39.991219 \nL 104.596364 54.487219 \nL 80.247273 54.487219 \nL 80.247273 39.991219 \n\" style=\"fill:#440154;\"/>\n    <path clip-path=\"url(#p42d92f6a39)\" d=\"M 104.596364 39.991219 \nL 128.945455 39.991219 \nL 128.945455 54.487219 \nL 104.596364 54.487219 \nL 104.596364 39.991219 \n\" style=\"fill:#440154;\"/>\n    <path clip-path=\"url(#p42d92f6a39)\" d=\"M 128.945455 39.991219 \nL 153.294545 39.991219 \nL 153.294545 54.487219 \nL 128.945455 54.487219 \nL 128.945455 39.991219 \n\" style=\"fill:#440154;\"/>\n    <path clip-path=\"url(#p42d92f6a39)\" d=\"M 153.294545 39.991219 \nL 177.643636 39.991219 \nL 177.643636 54.487219 \nL 153.294545 54.487219 \nL 153.294545 39.991219 \n\" style=\"fill:#440154;\"/>\n    <path clip-path=\"url(#p42d92f6a39)\" d=\"M 177.643636 39.991219 \nL 201.992727 39.991219 \nL 201.992727 54.487219 \nL 177.643636 54.487219 \nL 177.643636 39.991219 \n\" style=\"fill:#440154;\"/>\n    <path clip-path=\"url(#p42d92f6a39)\" d=\"M 201.992727 39.991219 \nL 226.341818 39.991219 \nL 226.341818 54.487219 \nL 201.992727 54.487219 \nL 201.992727 39.991219 \n\" style=\"fill:#440154;\"/>\n    <path clip-path=\"url(#p42d92f6a39)\" d=\"M 226.341818 39.991219 \nL 250.690909 39.991219 \nL 250.690909 54.487219 \nL 226.341818 54.487219 \nL 226.341818 39.991219 \n\" style=\"fill:#440154;\"/>\n    <path clip-path=\"url(#p42d92f6a39)\" d=\"M 250.690909 39.991219 \nL 275.04 39.991219 \nL 275.04 54.487219 \nL 250.690909 54.487219 \nL 250.690909 39.991219 \n\" style=\"fill:#440154;\"/>\n    <path clip-path=\"url(#p42d92f6a39)\" d=\"M 7.2 54.487219 \nL 31.549091 54.487219 \nL 31.549091 68.983219 \nL 7.2 68.983219 \nL 7.2 54.487219 \n\" style=\"fill:#440154;\"/>\n    <path clip-path=\"url(#p42d92f6a39)\" d=\"M 31.549091 54.487219 \nL 55.898182 54.487219 \nL 55.898182 68.983219 \nL 31.549091 68.983219 \nL 31.549091 54.487219 \n\" style=\"fill:#fde725;\"/>\n    <path clip-path=\"url(#p42d92f6a39)\" d=\"M 55.898182 54.487219 \nL 80.247273 54.487219 \nL 80.247273 68.983219 \nL 55.898182 68.983219 \nL 55.898182 54.487219 \n\" style=\"fill:#440154;\"/>\n    <path clip-path=\"url(#p42d92f6a39)\" d=\"M 80.247273 54.487219 \nL 104.596364 54.487219 \nL 104.596364 68.983219 \nL 80.247273 68.983219 \nL 80.247273 54.487219 \n\" style=\"fill:#440154;\"/>\n    <path clip-path=\"url(#p42d92f6a39)\" d=\"M 104.596364 54.487219 \nL 128.945455 54.487219 \nL 128.945455 68.983219 \nL 104.596364 68.983219 \nL 104.596364 54.487219 \n\" style=\"fill:#440154;\"/>\n    <path clip-path=\"url(#p42d92f6a39)\" d=\"M 128.945455 54.487219 \nL 153.294545 54.487219 \nL 153.294545 68.983219 \nL 128.945455 68.983219 \nL 128.945455 54.487219 \n\" style=\"fill:#440154;\"/>\n    <path clip-path=\"url(#p42d92f6a39)\" d=\"M 153.294545 54.487219 \nL 177.643636 54.487219 \nL 177.643636 68.983219 \nL 153.294545 68.983219 \nL 153.294545 54.487219 \n\" style=\"fill:#440154;\"/>\n    <path clip-path=\"url(#p42d92f6a39)\" d=\"M 177.643636 54.487219 \nL 201.992727 54.487219 \nL 201.992727 68.983219 \nL 177.643636 68.983219 \nL 177.643636 54.487219 \n\" style=\"fill:#440154;\"/>\n    <path clip-path=\"url(#p42d92f6a39)\" d=\"M 201.992727 54.487219 \nL 226.341818 54.487219 \nL 226.341818 68.983219 \nL 201.992727 68.983219 \nL 201.992727 54.487219 \n\" style=\"fill:#440154;\"/>\n    <path clip-path=\"url(#p42d92f6a39)\" d=\"M 226.341818 54.487219 \nL 250.690909 54.487219 \nL 250.690909 68.983219 \nL 226.341818 68.983219 \nL 226.341818 54.487219 \n\" style=\"fill:#440154;\"/>\n    <path clip-path=\"url(#p42d92f6a39)\" d=\"M 250.690909 54.487219 \nL 275.04 54.487219 \nL 275.04 68.983219 \nL 250.690909 68.983219 \nL 250.690909 54.487219 \n\" style=\"fill:#440154;\"/>\n    <path clip-path=\"url(#p42d92f6a39)\" d=\"M 7.2 68.983219 \nL 31.549091 68.983219 \nL 31.549091 83.479219 \nL 7.2 83.479219 \nL 7.2 68.983219 \n\" style=\"fill:#440154;\"/>\n    <path clip-path=\"url(#p42d92f6a39)\" d=\"M 31.549091 68.983219 \nL 55.898182 68.983219 \nL 55.898182 83.479219 \nL 31.549091 83.479219 \nL 31.549091 68.983219 \n\" style=\"fill:#440154;\"/>\n    <path clip-path=\"url(#p42d92f6a39)\" d=\"M 55.898182 68.983219 \nL 80.247273 68.983219 \nL 80.247273 83.479219 \nL 55.898182 83.479219 \nL 55.898182 68.983219 \n\" style=\"fill:#440154;\"/>\n    <path clip-path=\"url(#p42d92f6a39)\" d=\"M 80.247273 68.983219 \nL 104.596364 68.983219 \nL 104.596364 83.479219 \nL 80.247273 83.479219 \nL 80.247273 68.983219 \n\" style=\"fill:#440154;\"/>\n    <path clip-path=\"url(#p42d92f6a39)\" d=\"M 104.596364 68.983219 \nL 128.945455 68.983219 \nL 128.945455 83.479219 \nL 104.596364 83.479219 \nL 104.596364 68.983219 \n\" style=\"fill:#440154;\"/>\n    <path clip-path=\"url(#p42d92f6a39)\" d=\"M 128.945455 68.983219 \nL 153.294545 68.983219 \nL 153.294545 83.479219 \nL 128.945455 83.479219 \nL 128.945455 68.983219 \n\" style=\"fill:#440154;\"/>\n    <path clip-path=\"url(#p42d92f6a39)\" d=\"M 153.294545 68.983219 \nL 177.643636 68.983219 \nL 177.643636 83.479219 \nL 153.294545 83.479219 \nL 153.294545 68.983219 \n\" style=\"fill:#440154;\"/>\n    <path clip-path=\"url(#p42d92f6a39)\" d=\"M 177.643636 68.983219 \nL 201.992727 68.983219 \nL 201.992727 83.479219 \nL 177.643636 83.479219 \nL 177.643636 68.983219 \n\" style=\"fill:#fde725;\"/>\n    <path clip-path=\"url(#p42d92f6a39)\" d=\"M 201.992727 68.983219 \nL 226.341818 68.983219 \nL 226.341818 83.479219 \nL 201.992727 83.479219 \nL 201.992727 68.983219 \n\" style=\"fill:#440154;\"/>\n    <path clip-path=\"url(#p42d92f6a39)\" d=\"M 226.341818 68.983219 \nL 250.690909 68.983219 \nL 250.690909 83.479219 \nL 226.341818 83.479219 \nL 226.341818 68.983219 \n\" style=\"fill:#440154;\"/>\n    <path clip-path=\"url(#p42d92f6a39)\" d=\"M 250.690909 68.983219 \nL 275.04 68.983219 \nL 275.04 83.479219 \nL 250.690909 83.479219 \nL 250.690909 68.983219 \n\" style=\"fill:#440154;\"/>\n    <path clip-path=\"url(#p42d92f6a39)\" d=\"M 7.2 83.479219 \nL 31.549091 83.479219 \nL 31.549091 97.975219 \nL 7.2 97.975219 \nL 7.2 83.479219 \n\" style=\"fill:#440154;\"/>\n    <path clip-path=\"url(#p42d92f6a39)\" d=\"M 31.549091 83.479219 \nL 55.898182 83.479219 \nL 55.898182 97.975219 \nL 31.549091 97.975219 \nL 31.549091 83.479219 \n\" style=\"fill:#440154;\"/>\n    <path clip-path=\"url(#p42d92f6a39)\" d=\"M 55.898182 83.479219 \nL 80.247273 83.479219 \nL 80.247273 97.975219 \nL 55.898182 97.975219 \nL 55.898182 83.479219 \n\" style=\"fill:#440154;\"/>\n    <path clip-path=\"url(#p42d92f6a39)\" d=\"M 80.247273 83.479219 \nL 104.596364 83.479219 \nL 104.596364 97.975219 \nL 80.247273 97.975219 \nL 80.247273 83.479219 \n\" style=\"fill:#440154;\"/>\n    <path clip-path=\"url(#p42d92f6a39)\" d=\"M 104.596364 83.479219 \nL 128.945455 83.479219 \nL 128.945455 97.975219 \nL 104.596364 97.975219 \nL 104.596364 83.479219 \n\" style=\"fill:#440154;\"/>\n    <path clip-path=\"url(#p42d92f6a39)\" d=\"M 128.945455 83.479219 \nL 153.294545 83.479219 \nL 153.294545 97.975219 \nL 128.945455 97.975219 \nL 128.945455 83.479219 \n\" style=\"fill:#440154;\"/>\n    <path clip-path=\"url(#p42d92f6a39)\" d=\"M 153.294545 83.479219 \nL 177.643636 83.479219 \nL 177.643636 97.975219 \nL 153.294545 97.975219 \nL 153.294545 83.479219 \n\" style=\"fill:#440154;\"/>\n    <path clip-path=\"url(#p42d92f6a39)\" d=\"M 177.643636 83.479219 \nL 201.992727 83.479219 \nL 201.992727 97.975219 \nL 177.643636 97.975219 \nL 177.643636 83.479219 \n\" style=\"fill:#440154;\"/>\n    <path clip-path=\"url(#p42d92f6a39)\" d=\"M 201.992727 83.479219 \nL 226.341818 83.479219 \nL 226.341818 97.975219 \nL 201.992727 97.975219 \nL 201.992727 83.479219 \n\" style=\"fill:#440154;\"/>\n    <path clip-path=\"url(#p42d92f6a39)\" d=\"M 226.341818 83.479219 \nL 250.690909 83.479219 \nL 250.690909 97.975219 \nL 226.341818 97.975219 \nL 226.341818 83.479219 \n\" style=\"fill:#440154;\"/>\n    <path clip-path=\"url(#p42d92f6a39)\" d=\"M 250.690909 83.479219 \nL 275.04 83.479219 \nL 275.04 97.975219 \nL 250.690909 97.975219 \nL 250.690909 83.479219 \n\" style=\"fill:#440154;\"/>\n    <path clip-path=\"url(#p42d92f6a39)\" d=\"M 7.2 97.975219 \nL 31.549091 97.975219 \nL 31.549091 112.471219 \nL 7.2 112.471219 \nL 7.2 97.975219 \n\" style=\"fill:#440154;\"/>\n    <path clip-path=\"url(#p42d92f6a39)\" d=\"M 31.549091 97.975219 \nL 55.898182 97.975219 \nL 55.898182 112.471219 \nL 31.549091 112.471219 \nL 31.549091 97.975219 \n\" style=\"fill:#440154;\"/>\n    <path clip-path=\"url(#p42d92f6a39)\" d=\"M 55.898182 97.975219 \nL 80.247273 97.975219 \nL 80.247273 112.471219 \nL 55.898182 112.471219 \nL 55.898182 97.975219 \n\" style=\"fill:#440154;\"/>\n    <path clip-path=\"url(#p42d92f6a39)\" d=\"M 80.247273 97.975219 \nL 104.596364 97.975219 \nL 104.596364 112.471219 \nL 80.247273 112.471219 \nL 80.247273 97.975219 \n\" style=\"fill:#440154;\"/>\n    <path clip-path=\"url(#p42d92f6a39)\" d=\"M 104.596364 97.975219 \nL 128.945455 97.975219 \nL 128.945455 112.471219 \nL 104.596364 112.471219 \nL 104.596364 97.975219 \n\" style=\"fill:#440154;\"/>\n    <path clip-path=\"url(#p42d92f6a39)\" d=\"M 128.945455 97.975219 \nL 153.294545 97.975219 \nL 153.294545 112.471219 \nL 128.945455 112.471219 \nL 128.945455 97.975219 \n\" style=\"fill:#440154;\"/>\n    <path clip-path=\"url(#p42d92f6a39)\" d=\"M 153.294545 97.975219 \nL 177.643636 97.975219 \nL 177.643636 112.471219 \nL 153.294545 112.471219 \nL 153.294545 97.975219 \n\" style=\"fill:#440154;\"/>\n    <path clip-path=\"url(#p42d92f6a39)\" d=\"M 177.643636 97.975219 \nL 201.992727 97.975219 \nL 201.992727 112.471219 \nL 177.643636 112.471219 \nL 177.643636 97.975219 \n\" style=\"fill:#440154;\"/>\n    <path clip-path=\"url(#p42d92f6a39)\" d=\"M 201.992727 97.975219 \nL 226.341818 97.975219 \nL 226.341818 112.471219 \nL 201.992727 112.471219 \nL 201.992727 97.975219 \n\" style=\"fill:#440154;\"/>\n    <path clip-path=\"url(#p42d92f6a39)\" d=\"M 226.341818 97.975219 \nL 250.690909 97.975219 \nL 250.690909 112.471219 \nL 226.341818 112.471219 \nL 226.341818 97.975219 \n\" style=\"fill:#440154;\"/>\n    <path clip-path=\"url(#p42d92f6a39)\" d=\"M 250.690909 97.975219 \nL 275.04 97.975219 \nL 275.04 112.471219 \nL 250.690909 112.471219 \nL 250.690909 97.975219 \n\" style=\"fill:#440154;\"/>\n    <path clip-path=\"url(#p42d92f6a39)\" d=\"M 7.2 112.471219 \nL 31.549091 112.471219 \nL 31.549091 126.967219 \nL 7.2 126.967219 \nL 7.2 112.471219 \n\" style=\"fill:#440154;\"/>\n    <path clip-path=\"url(#p42d92f6a39)\" d=\"M 31.549091 112.471219 \nL 55.898182 112.471219 \nL 55.898182 126.967219 \nL 31.549091 126.967219 \nL 31.549091 112.471219 \n\" style=\"fill:#440154;\"/>\n    <path clip-path=\"url(#p42d92f6a39)\" d=\"M 55.898182 112.471219 \nL 80.247273 112.471219 \nL 80.247273 126.967219 \nL 55.898182 126.967219 \nL 55.898182 112.471219 \n\" style=\"fill:#440154;\"/>\n    <path clip-path=\"url(#p42d92f6a39)\" d=\"M 80.247273 112.471219 \nL 104.596364 112.471219 \nL 104.596364 126.967219 \nL 80.247273 126.967219 \nL 80.247273 112.471219 \n\" style=\"fill:#440154;\"/>\n    <path clip-path=\"url(#p42d92f6a39)\" d=\"M 104.596364 112.471219 \nL 128.945455 112.471219 \nL 128.945455 126.967219 \nL 104.596364 126.967219 \nL 104.596364 112.471219 \n\" style=\"fill:#440154;\"/>\n    <path clip-path=\"url(#p42d92f6a39)\" d=\"M 128.945455 112.471219 \nL 153.294545 112.471219 \nL 153.294545 126.967219 \nL 128.945455 126.967219 \nL 128.945455 112.471219 \n\" style=\"fill:#440154;\"/>\n    <path clip-path=\"url(#p42d92f6a39)\" d=\"M 153.294545 112.471219 \nL 177.643636 112.471219 \nL 177.643636 126.967219 \nL 153.294545 126.967219 \nL 153.294545 112.471219 \n\" style=\"fill:#440154;\"/>\n    <path clip-path=\"url(#p42d92f6a39)\" d=\"M 177.643636 112.471219 \nL 201.992727 112.471219 \nL 201.992727 126.967219 \nL 177.643636 126.967219 \nL 177.643636 112.471219 \n\" style=\"fill:#440154;\"/>\n    <path clip-path=\"url(#p42d92f6a39)\" d=\"M 201.992727 112.471219 \nL 226.341818 112.471219 \nL 226.341818 126.967219 \nL 201.992727 126.967219 \nL 201.992727 112.471219 \n\" style=\"fill:#440154;\"/>\n    <path clip-path=\"url(#p42d92f6a39)\" d=\"M 226.341818 112.471219 \nL 250.690909 112.471219 \nL 250.690909 126.967219 \nL 226.341818 126.967219 \nL 226.341818 112.471219 \n\" style=\"fill:#440154;\"/>\n    <path clip-path=\"url(#p42d92f6a39)\" d=\"M 250.690909 112.471219 \nL 275.04 112.471219 \nL 275.04 126.967219 \nL 250.690909 126.967219 \nL 250.690909 112.471219 \n\" style=\"fill:#440154;\"/>\n    <path clip-path=\"url(#p42d92f6a39)\" d=\"M 7.2 126.967219 \nL 31.549091 126.967219 \nL 31.549091 141.463219 \nL 7.2 141.463219 \nL 7.2 126.967219 \n\" style=\"fill:#440154;\"/>\n    <path clip-path=\"url(#p42d92f6a39)\" d=\"M 31.549091 126.967219 \nL 55.898182 126.967219 \nL 55.898182 141.463219 \nL 31.549091 141.463219 \nL 31.549091 126.967219 \n\" style=\"fill:#440154;\"/>\n    <path clip-path=\"url(#p42d92f6a39)\" d=\"M 55.898182 126.967219 \nL 80.247273 126.967219 \nL 80.247273 141.463219 \nL 55.898182 141.463219 \nL 55.898182 126.967219 \n\" style=\"fill:#440154;\"/>\n    <path clip-path=\"url(#p42d92f6a39)\" d=\"M 80.247273 126.967219 \nL 104.596364 126.967219 \nL 104.596364 141.463219 \nL 80.247273 141.463219 \nL 80.247273 126.967219 \n\" style=\"fill:#440154;\"/>\n    <path clip-path=\"url(#p42d92f6a39)\" d=\"M 104.596364 126.967219 \nL 128.945455 126.967219 \nL 128.945455 141.463219 \nL 104.596364 141.463219 \nL 104.596364 126.967219 \n\" style=\"fill:#440154;\"/>\n    <path clip-path=\"url(#p42d92f6a39)\" d=\"M 128.945455 126.967219 \nL 153.294545 126.967219 \nL 153.294545 141.463219 \nL 128.945455 141.463219 \nL 128.945455 126.967219 \n\" style=\"fill:#440154;\"/>\n    <path clip-path=\"url(#p42d92f6a39)\" d=\"M 153.294545 126.967219 \nL 177.643636 126.967219 \nL 177.643636 141.463219 \nL 153.294545 141.463219 \nL 153.294545 126.967219 \n\" style=\"fill:#440154;\"/>\n    <path clip-path=\"url(#p42d92f6a39)\" d=\"M 177.643636 126.967219 \nL 201.992727 126.967219 \nL 201.992727 141.463219 \nL 177.643636 141.463219 \nL 177.643636 126.967219 \n\" style=\"fill:#440154;\"/>\n    <path clip-path=\"url(#p42d92f6a39)\" d=\"M 201.992727 126.967219 \nL 226.341818 126.967219 \nL 226.341818 141.463219 \nL 201.992727 141.463219 \nL 201.992727 126.967219 \n\" style=\"fill:#440154;\"/>\n    <path clip-path=\"url(#p42d92f6a39)\" d=\"M 226.341818 126.967219 \nL 250.690909 126.967219 \nL 250.690909 141.463219 \nL 226.341818 141.463219 \nL 226.341818 126.967219 \n\" style=\"fill:#440154;\"/>\n    <path clip-path=\"url(#p42d92f6a39)\" d=\"M 250.690909 126.967219 \nL 275.04 126.967219 \nL 275.04 141.463219 \nL 250.690909 141.463219 \nL 250.690909 126.967219 \n\" style=\"fill:#440154;\"/>\n    <path clip-path=\"url(#p42d92f6a39)\" d=\"M 7.2 141.463219 \nL 31.549091 141.463219 \nL 31.549091 155.959219 \nL 7.2 155.959219 \nL 7.2 141.463219 \n\" style=\"fill:#440154;\"/>\n    <path clip-path=\"url(#p42d92f6a39)\" d=\"M 31.549091 141.463219 \nL 55.898182 141.463219 \nL 55.898182 155.959219 \nL 31.549091 155.959219 \nL 31.549091 141.463219 \n\" style=\"fill:#440154;\"/>\n    <path clip-path=\"url(#p42d92f6a39)\" d=\"M 55.898182 141.463219 \nL 80.247273 141.463219 \nL 80.247273 155.959219 \nL 55.898182 155.959219 \nL 55.898182 141.463219 \n\" style=\"fill:#440154;\"/>\n    <path clip-path=\"url(#p42d92f6a39)\" d=\"M 80.247273 141.463219 \nL 104.596364 141.463219 \nL 104.596364 155.959219 \nL 80.247273 155.959219 \nL 80.247273 141.463219 \n\" style=\"fill:#440154;\"/>\n    <path clip-path=\"url(#p42d92f6a39)\" d=\"M 104.596364 141.463219 \nL 128.945455 141.463219 \nL 128.945455 155.959219 \nL 104.596364 155.959219 \nL 104.596364 141.463219 \n\" style=\"fill:#440154;\"/>\n    <path clip-path=\"url(#p42d92f6a39)\" d=\"M 128.945455 141.463219 \nL 153.294545 141.463219 \nL 153.294545 155.959219 \nL 128.945455 155.959219 \nL 128.945455 141.463219 \n\" style=\"fill:#440154;\"/>\n    <path clip-path=\"url(#p42d92f6a39)\" d=\"M 153.294545 141.463219 \nL 177.643636 141.463219 \nL 177.643636 155.959219 \nL 153.294545 155.959219 \nL 153.294545 141.463219 \n\" style=\"fill:#440154;\"/>\n    <path clip-path=\"url(#p42d92f6a39)\" d=\"M 177.643636 141.463219 \nL 201.992727 141.463219 \nL 201.992727 155.959219 \nL 177.643636 155.959219 \nL 177.643636 141.463219 \n\" style=\"fill:#440154;\"/>\n    <path clip-path=\"url(#p42d92f6a39)\" d=\"M 201.992727 141.463219 \nL 226.341818 141.463219 \nL 226.341818 155.959219 \nL 201.992727 155.959219 \nL 201.992727 141.463219 \n\" style=\"fill:#440154;\"/>\n    <path clip-path=\"url(#p42d92f6a39)\" d=\"M 226.341818 141.463219 \nL 250.690909 141.463219 \nL 250.690909 155.959219 \nL 226.341818 155.959219 \nL 226.341818 141.463219 \n\" style=\"fill:#440154;\"/>\n    <path clip-path=\"url(#p42d92f6a39)\" d=\"M 250.690909 141.463219 \nL 275.04 141.463219 \nL 275.04 155.959219 \nL 250.690909 155.959219 \nL 250.690909 141.463219 \n\" style=\"fill:#440154;\"/>\n    <path clip-path=\"url(#p42d92f6a39)\" d=\"M 7.2 155.959219 \nL 31.549091 155.959219 \nL 31.549091 170.455219 \nL 7.2 170.455219 \nL 7.2 155.959219 \n\" style=\"fill:#440154;\"/>\n    <path clip-path=\"url(#p42d92f6a39)\" d=\"M 31.549091 155.959219 \nL 55.898182 155.959219 \nL 55.898182 170.455219 \nL 31.549091 170.455219 \nL 31.549091 155.959219 \n\" style=\"fill:#fde725;\"/>\n    <path clip-path=\"url(#p42d92f6a39)\" d=\"M 55.898182 155.959219 \nL 80.247273 155.959219 \nL 80.247273 170.455219 \nL 55.898182 170.455219 \nL 55.898182 155.959219 \n\" style=\"fill:#440154;\"/>\n    <path clip-path=\"url(#p42d92f6a39)\" d=\"M 80.247273 155.959219 \nL 104.596364 155.959219 \nL 104.596364 170.455219 \nL 80.247273 170.455219 \nL 80.247273 155.959219 \n\" style=\"fill:#440154;\"/>\n    <path clip-path=\"url(#p42d92f6a39)\" d=\"M 104.596364 155.959219 \nL 128.945455 155.959219 \nL 128.945455 170.455219 \nL 104.596364 170.455219 \nL 104.596364 155.959219 \n\" style=\"fill:#440154;\"/>\n    <path clip-path=\"url(#p42d92f6a39)\" d=\"M 128.945455 155.959219 \nL 153.294545 155.959219 \nL 153.294545 170.455219 \nL 128.945455 170.455219 \nL 128.945455 155.959219 \n\" style=\"fill:#440154;\"/>\n    <path clip-path=\"url(#p42d92f6a39)\" d=\"M 153.294545 155.959219 \nL 177.643636 155.959219 \nL 177.643636 170.455219 \nL 153.294545 170.455219 \nL 153.294545 155.959219 \n\" style=\"fill:#440154;\"/>\n    <path clip-path=\"url(#p42d92f6a39)\" d=\"M 177.643636 155.959219 \nL 201.992727 155.959219 \nL 201.992727 170.455219 \nL 177.643636 170.455219 \nL 177.643636 155.959219 \n\" style=\"fill:#440154;\"/>\n    <path clip-path=\"url(#p42d92f6a39)\" d=\"M 201.992727 155.959219 \nL 226.341818 155.959219 \nL 226.341818 170.455219 \nL 201.992727 170.455219 \nL 201.992727 155.959219 \n\" style=\"fill:#440154;\"/>\n    <path clip-path=\"url(#p42d92f6a39)\" d=\"M 226.341818 155.959219 \nL 250.690909 155.959219 \nL 250.690909 170.455219 \nL 226.341818 170.455219 \nL 226.341818 155.959219 \n\" style=\"fill:#440154;\"/>\n    <path clip-path=\"url(#p42d92f6a39)\" d=\"M 250.690909 155.959219 \nL 275.04 155.959219 \nL 275.04 170.455219 \nL 250.690909 170.455219 \nL 250.690909 155.959219 \n\" style=\"fill:#440154;\"/>\n    <path clip-path=\"url(#p42d92f6a39)\" d=\"M 7.2 170.455219 \nL 31.549091 170.455219 \nL 31.549091 184.951219 \nL 7.2 184.951219 \nL 7.2 170.455219 \n\" style=\"fill:#440154;\"/>\n    <path clip-path=\"url(#p42d92f6a39)\" d=\"M 31.549091 170.455219 \nL 55.898182 170.455219 \nL 55.898182 184.951219 \nL 31.549091 184.951219 \nL 31.549091 170.455219 \n\" style=\"fill:#440154;\"/>\n    <path clip-path=\"url(#p42d92f6a39)\" d=\"M 55.898182 170.455219 \nL 80.247273 170.455219 \nL 80.247273 184.951219 \nL 55.898182 184.951219 \nL 55.898182 170.455219 \n\" style=\"fill:#fde725;\"/>\n    <path clip-path=\"url(#p42d92f6a39)\" d=\"M 80.247273 170.455219 \nL 104.596364 170.455219 \nL 104.596364 184.951219 \nL 80.247273 184.951219 \nL 80.247273 170.455219 \n\" style=\"fill:#440154;\"/>\n    <path clip-path=\"url(#p42d92f6a39)\" d=\"M 104.596364 170.455219 \nL 128.945455 170.455219 \nL 128.945455 184.951219 \nL 104.596364 184.951219 \nL 104.596364 170.455219 \n\" style=\"fill:#440154;\"/>\n    <path clip-path=\"url(#p42d92f6a39)\" d=\"M 128.945455 170.455219 \nL 153.294545 170.455219 \nL 153.294545 184.951219 \nL 128.945455 184.951219 \nL 128.945455 170.455219 \n\" style=\"fill:#440154;\"/>\n    <path clip-path=\"url(#p42d92f6a39)\" d=\"M 153.294545 170.455219 \nL 177.643636 170.455219 \nL 177.643636 184.951219 \nL 153.294545 184.951219 \nL 153.294545 170.455219 \n\" style=\"fill:#440154;\"/>\n    <path clip-path=\"url(#p42d92f6a39)\" d=\"M 177.643636 170.455219 \nL 201.992727 170.455219 \nL 201.992727 184.951219 \nL 177.643636 184.951219 \nL 177.643636 170.455219 \n\" style=\"fill:#440154;\"/>\n    <path clip-path=\"url(#p42d92f6a39)\" d=\"M 201.992727 170.455219 \nL 226.341818 170.455219 \nL 226.341818 184.951219 \nL 201.992727 184.951219 \nL 201.992727 170.455219 \n\" style=\"fill:#440154;\"/>\n    <path clip-path=\"url(#p42d92f6a39)\" d=\"M 226.341818 170.455219 \nL 250.690909 170.455219 \nL 250.690909 184.951219 \nL 226.341818 184.951219 \nL 226.341818 170.455219 \n\" style=\"fill:#440154;\"/>\n    <path clip-path=\"url(#p42d92f6a39)\" d=\"M 250.690909 170.455219 \nL 275.04 170.455219 \nL 275.04 184.951219 \nL 250.690909 184.951219 \nL 250.690909 170.455219 \n\" style=\"fill:#440154;\"/>\n    <path clip-path=\"url(#p42d92f6a39)\" d=\"M 7.2 184.951219 \nL 31.549091 184.951219 \nL 31.549091 199.447219 \nL 7.2 199.447219 \nL 7.2 184.951219 \n\" style=\"fill:#440154;\"/>\n    <path clip-path=\"url(#p42d92f6a39)\" d=\"M 31.549091 184.951219 \nL 55.898182 184.951219 \nL 55.898182 199.447219 \nL 31.549091 199.447219 \nL 31.549091 184.951219 \n\" style=\"fill:#fde725;\"/>\n    <path clip-path=\"url(#p42d92f6a39)\" d=\"M 55.898182 184.951219 \nL 80.247273 184.951219 \nL 80.247273 199.447219 \nL 55.898182 199.447219 \nL 55.898182 184.951219 \n\" style=\"fill:#fde725;\"/>\n    <path clip-path=\"url(#p42d92f6a39)\" d=\"M 80.247273 184.951219 \nL 104.596364 184.951219 \nL 104.596364 199.447219 \nL 80.247273 199.447219 \nL 80.247273 184.951219 \n\" style=\"fill:#440154;\"/>\n    <path clip-path=\"url(#p42d92f6a39)\" d=\"M 104.596364 184.951219 \nL 128.945455 184.951219 \nL 128.945455 199.447219 \nL 104.596364 199.447219 \nL 104.596364 184.951219 \n\" style=\"fill:#440154;\"/>\n    <path clip-path=\"url(#p42d92f6a39)\" d=\"M 128.945455 184.951219 \nL 153.294545 184.951219 \nL 153.294545 199.447219 \nL 128.945455 199.447219 \nL 128.945455 184.951219 \n\" style=\"fill:#440154;\"/>\n    <path clip-path=\"url(#p42d92f6a39)\" d=\"M 153.294545 184.951219 \nL 177.643636 184.951219 \nL 177.643636 199.447219 \nL 153.294545 199.447219 \nL 153.294545 184.951219 \n\" style=\"fill:#440154;\"/>\n    <path clip-path=\"url(#p42d92f6a39)\" d=\"M 177.643636 184.951219 \nL 201.992727 184.951219 \nL 201.992727 199.447219 \nL 177.643636 199.447219 \nL 177.643636 184.951219 \n\" style=\"fill:#440154;\"/>\n    <path clip-path=\"url(#p42d92f6a39)\" d=\"M 201.992727 184.951219 \nL 226.341818 184.951219 \nL 226.341818 199.447219 \nL 201.992727 199.447219 \nL 201.992727 184.951219 \n\" style=\"fill:#440154;\"/>\n    <path clip-path=\"url(#p42d92f6a39)\" d=\"M 226.341818 184.951219 \nL 250.690909 184.951219 \nL 250.690909 199.447219 \nL 226.341818 199.447219 \nL 226.341818 184.951219 \n\" style=\"fill:#440154;\"/>\n    <path clip-path=\"url(#p42d92f6a39)\" d=\"M 250.690909 184.951219 \nL 275.04 184.951219 \nL 275.04 199.447219 \nL 250.690909 199.447219 \nL 250.690909 184.951219 \n\" style=\"fill:#440154;\"/>\n    <path clip-path=\"url(#p42d92f6a39)\" d=\"M 7.2 199.447219 \nL 31.549091 199.447219 \nL 31.549091 213.943219 \nL 7.2 213.943219 \nL 7.2 199.447219 \n\" style=\"fill:#440154;\"/>\n    <path clip-path=\"url(#p42d92f6a39)\" d=\"M 31.549091 199.447219 \nL 55.898182 199.447219 \nL 55.898182 213.943219 \nL 31.549091 213.943219 \nL 31.549091 199.447219 \n\" style=\"fill:#fde725;\"/>\n    <path clip-path=\"url(#p42d92f6a39)\" d=\"M 55.898182 199.447219 \nL 80.247273 199.447219 \nL 80.247273 213.943219 \nL 55.898182 213.943219 \nL 55.898182 199.447219 \n\" style=\"fill:#fde725;\"/>\n    <path clip-path=\"url(#p42d92f6a39)\" d=\"M 80.247273 199.447219 \nL 104.596364 199.447219 \nL 104.596364 213.943219 \nL 80.247273 213.943219 \nL 80.247273 199.447219 \n\" style=\"fill:#fde725;\"/>\n    <path clip-path=\"url(#p42d92f6a39)\" d=\"M 104.596364 199.447219 \nL 128.945455 199.447219 \nL 128.945455 213.943219 \nL 104.596364 213.943219 \nL 104.596364 199.447219 \n\" style=\"fill:#fde725;\"/>\n    <path clip-path=\"url(#p42d92f6a39)\" d=\"M 128.945455 199.447219 \nL 153.294545 199.447219 \nL 153.294545 213.943219 \nL 128.945455 213.943219 \nL 128.945455 199.447219 \n\" style=\"fill:#fde725;\"/>\n    <path clip-path=\"url(#p42d92f6a39)\" d=\"M 153.294545 199.447219 \nL 177.643636 199.447219 \nL 177.643636 213.943219 \nL 153.294545 213.943219 \nL 153.294545 199.447219 \n\" style=\"fill:#fde725;\"/>\n    <path clip-path=\"url(#p42d92f6a39)\" d=\"M 177.643636 199.447219 \nL 201.992727 199.447219 \nL 201.992727 213.943219 \nL 177.643636 213.943219 \nL 177.643636 199.447219 \n\" style=\"fill:#fde725;\"/>\n    <path clip-path=\"url(#p42d92f6a39)\" d=\"M 201.992727 199.447219 \nL 226.341818 199.447219 \nL 226.341818 213.943219 \nL 201.992727 213.943219 \nL 201.992727 199.447219 \n\" style=\"fill:#fde725;\"/>\n    <path clip-path=\"url(#p42d92f6a39)\" d=\"M 226.341818 199.447219 \nL 250.690909 199.447219 \nL 250.690909 213.943219 \nL 226.341818 213.943219 \nL 226.341818 199.447219 \n\" style=\"fill:#440154;\"/>\n    <path clip-path=\"url(#p42d92f6a39)\" d=\"M 250.690909 199.447219 \nL 275.04 199.447219 \nL 275.04 213.943219 \nL 250.690909 213.943219 \nL 250.690909 199.447219 \n\" style=\"fill:#fde725;\"/>\n    <path clip-path=\"url(#p42d92f6a39)\" d=\"M 7.2 213.943219 \nL 31.549091 213.943219 \nL 31.549091 228.439219 \nL 7.2 228.439219 \nL 7.2 213.943219 \n\" style=\"fill:#440154;\"/>\n    <path clip-path=\"url(#p42d92f6a39)\" d=\"M 31.549091 213.943219 \nL 55.898182 213.943219 \nL 55.898182 228.439219 \nL 31.549091 228.439219 \nL 31.549091 213.943219 \n\" style=\"fill:#440154;\"/>\n    <path clip-path=\"url(#p42d92f6a39)\" d=\"M 55.898182 213.943219 \nL 80.247273 213.943219 \nL 80.247273 228.439219 \nL 55.898182 228.439219 \nL 55.898182 213.943219 \n\" style=\"fill:#440154;\"/>\n    <path clip-path=\"url(#p42d92f6a39)\" d=\"M 80.247273 213.943219 \nL 104.596364 213.943219 \nL 104.596364 228.439219 \nL 80.247273 228.439219 \nL 80.247273 213.943219 \n\" style=\"fill:#440154;\"/>\n    <path clip-path=\"url(#p42d92f6a39)\" d=\"M 104.596364 213.943219 \nL 128.945455 213.943219 \nL 128.945455 228.439219 \nL 104.596364 228.439219 \nL 104.596364 213.943219 \n\" style=\"fill:#440154;\"/>\n    <path clip-path=\"url(#p42d92f6a39)\" d=\"M 128.945455 213.943219 \nL 153.294545 213.943219 \nL 153.294545 228.439219 \nL 128.945455 228.439219 \nL 128.945455 213.943219 \n\" style=\"fill:#440154;\"/>\n    <path clip-path=\"url(#p42d92f6a39)\" d=\"M 153.294545 213.943219 \nL 177.643636 213.943219 \nL 177.643636 228.439219 \nL 153.294545 228.439219 \nL 153.294545 213.943219 \n\" style=\"fill:#440154;\"/>\n    <path clip-path=\"url(#p42d92f6a39)\" d=\"M 177.643636 213.943219 \nL 201.992727 213.943219 \nL 201.992727 228.439219 \nL 177.643636 228.439219 \nL 177.643636 213.943219 \n\" style=\"fill:#440154;\"/>\n    <path clip-path=\"url(#p42d92f6a39)\" d=\"M 201.992727 213.943219 \nL 226.341818 213.943219 \nL 226.341818 228.439219 \nL 201.992727 228.439219 \nL 201.992727 213.943219 \n\" style=\"fill:#440154;\"/>\n    <path clip-path=\"url(#p42d92f6a39)\" d=\"M 226.341818 213.943219 \nL 250.690909 213.943219 \nL 250.690909 228.439219 \nL 226.341818 228.439219 \nL 226.341818 213.943219 \n\" style=\"fill:#fde725;\"/>\n    <path clip-path=\"url(#p42d92f6a39)\" d=\"M 250.690909 213.943219 \nL 275.04 213.943219 \nL 275.04 228.439219 \nL 250.690909 228.439219 \nL 250.690909 213.943219 \n\" style=\"fill:#fde725;\"/>\n   </g>\n   <g id=\"matplotlib.axis_1\">\n    <g id=\"xtick_1\">\n     <g id=\"line2d_1\">\n      <defs>\n       <path d=\"M 0 0 \nL 0 3.5 \n\" id=\"m5f03281084\" style=\"stroke:#000000;stroke-width:0.8;\"/>\n      </defs>\n      <g>\n       <use style=\"stroke:#000000;stroke-width:0.8;\" x=\"19.374545\" xlink:href=\"#m5f03281084\" y=\"228.439219\"/>\n      </g>\n     </g>\n     <g id=\"text_1\">\n      <!-- ID -->\n      <defs>\n       <path d=\"M 9.8125 72.90625 \nL 19.671875 72.90625 \nL 19.671875 0 \nL 9.8125 0 \nz\n\" id=\"DejaVuSans-73\"/>\n       <path d=\"M 19.671875 64.796875 \nL 19.671875 8.109375 \nL 31.59375 8.109375 \nQ 46.6875 8.109375 53.6875 14.9375 \nQ 60.6875 21.78125 60.6875 36.53125 \nQ 60.6875 51.171875 53.6875 57.984375 \nQ 46.6875 64.796875 31.59375 64.796875 \nz\nM 9.8125 72.90625 \nL 30.078125 72.90625 \nQ 51.265625 72.90625 61.171875 64.09375 \nQ 71.09375 55.28125 71.09375 36.53125 \nQ 71.09375 17.671875 61.125 8.828125 \nQ 51.171875 0 30.078125 0 \nL 9.8125 0 \nz\n\" id=\"DejaVuSans-68\"/>\n      </defs>\n      <g transform=\"translate(22.13392 246.089219)rotate(-90)scale(0.1 -0.1)\">\n       <use xlink:href=\"#DejaVuSans-73\"/>\n       <use x=\"29.492188\" xlink:href=\"#DejaVuSans-68\"/>\n      </g>\n     </g>\n    </g>\n    <g id=\"xtick_2\">\n     <g id=\"line2d_2\">\n      <g>\n       <use style=\"stroke:#000000;stroke-width:0.8;\" x=\"43.723636\" xlink:href=\"#m5f03281084\" y=\"228.439219\"/>\n      </g>\n     </g>\n     <g id=\"text_2\">\n      <!-- Age -->\n      <defs>\n       <path d=\"M 34.1875 63.1875 \nL 20.796875 26.90625 \nL 47.609375 26.90625 \nz\nM 28.609375 72.90625 \nL 39.796875 72.90625 \nL 67.578125 0 \nL 57.328125 0 \nL 50.6875 18.703125 \nL 17.828125 18.703125 \nL 11.1875 0 \nL 0.78125 0 \nz\n\" id=\"DejaVuSans-65\"/>\n       <path d=\"M 45.40625 27.984375 \nQ 45.40625 37.75 41.375 43.109375 \nQ 37.359375 48.484375 30.078125 48.484375 \nQ 22.859375 48.484375 18.828125 43.109375 \nQ 14.796875 37.75 14.796875 27.984375 \nQ 14.796875 18.265625 18.828125 12.890625 \nQ 22.859375 7.515625 30.078125 7.515625 \nQ 37.359375 7.515625 41.375 12.890625 \nQ 45.40625 18.265625 45.40625 27.984375 \nz\nM 54.390625 6.78125 \nQ 54.390625 -7.171875 48.1875 -13.984375 \nQ 42 -20.796875 29.203125 -20.796875 \nQ 24.46875 -20.796875 20.265625 -20.09375 \nQ 16.0625 -19.390625 12.109375 -17.921875 \nL 12.109375 -9.1875 \nQ 16.0625 -11.328125 19.921875 -12.34375 \nQ 23.78125 -13.375 27.78125 -13.375 \nQ 36.625 -13.375 41.015625 -8.765625 \nQ 45.40625 -4.15625 45.40625 5.171875 \nL 45.40625 9.625 \nQ 42.625 4.78125 38.28125 2.390625 \nQ 33.9375 0 27.875 0 \nQ 17.828125 0 11.671875 7.65625 \nQ 5.515625 15.328125 5.515625 27.984375 \nQ 5.515625 40.671875 11.671875 48.328125 \nQ 17.828125 56 27.875 56 \nQ 33.9375 56 38.28125 53.609375 \nQ 42.625 51.21875 45.40625 46.390625 \nL 45.40625 54.6875 \nL 54.390625 54.6875 \nz\n\" id=\"DejaVuSans-103\"/>\n       <path d=\"M 56.203125 29.59375 \nL 56.203125 25.203125 \nL 14.890625 25.203125 \nQ 15.484375 15.921875 20.484375 11.0625 \nQ 25.484375 6.203125 34.421875 6.203125 \nQ 39.59375 6.203125 44.453125 7.46875 \nQ 49.3125 8.734375 54.109375 11.28125 \nL 54.109375 2.78125 \nQ 49.265625 0.734375 44.1875 -0.34375 \nQ 39.109375 -1.421875 33.890625 -1.421875 \nQ 20.796875 -1.421875 13.15625 6.1875 \nQ 5.515625 13.8125 5.515625 26.8125 \nQ 5.515625 40.234375 12.765625 48.109375 \nQ 20.015625 56 32.328125 56 \nQ 43.359375 56 49.78125 48.890625 \nQ 56.203125 41.796875 56.203125 29.59375 \nz\nM 47.21875 32.234375 \nQ 47.125 39.59375 43.09375 43.984375 \nQ 39.0625 48.390625 32.421875 48.390625 \nQ 24.90625 48.390625 20.390625 44.140625 \nQ 15.875 39.890625 15.1875 32.171875 \nz\n\" id=\"DejaVuSans-101\"/>\n      </defs>\n      <g transform=\"translate(46.483011 254.781406)rotate(-90)scale(0.1 -0.1)\">\n       <use xlink:href=\"#DejaVuSans-65\"/>\n       <use x=\"68.408203\" xlink:href=\"#DejaVuSans-103\"/>\n       <use x=\"131.884766\" xlink:href=\"#DejaVuSans-101\"/>\n      </g>\n     </g>\n    </g>\n    <g id=\"xtick_3\">\n     <g id=\"line2d_3\">\n      <g>\n       <use style=\"stroke:#000000;stroke-width:0.8;\" x=\"68.072727\" xlink:href=\"#m5f03281084\" y=\"228.439219\"/>\n      </g>\n     </g>\n     <g id=\"text_3\">\n      <!-- Weight -->\n      <defs>\n       <path d=\"M 3.328125 72.90625 \nL 13.28125 72.90625 \nL 28.609375 11.28125 \nL 43.890625 72.90625 \nL 54.984375 72.90625 \nL 70.3125 11.28125 \nL 85.59375 72.90625 \nL 95.609375 72.90625 \nL 77.296875 0 \nL 64.890625 0 \nL 49.515625 63.28125 \nL 33.984375 0 \nL 21.578125 0 \nz\n\" id=\"DejaVuSans-87\"/>\n       <path d=\"M 9.421875 54.6875 \nL 18.40625 54.6875 \nL 18.40625 0 \nL 9.421875 0 \nz\nM 9.421875 75.984375 \nL 18.40625 75.984375 \nL 18.40625 64.59375 \nL 9.421875 64.59375 \nz\n\" id=\"DejaVuSans-105\"/>\n       <path d=\"M 54.890625 33.015625 \nL 54.890625 0 \nL 45.90625 0 \nL 45.90625 32.71875 \nQ 45.90625 40.484375 42.875 44.328125 \nQ 39.84375 48.1875 33.796875 48.1875 \nQ 26.515625 48.1875 22.3125 43.546875 \nQ 18.109375 38.921875 18.109375 30.90625 \nL 18.109375 0 \nL 9.078125 0 \nL 9.078125 75.984375 \nL 18.109375 75.984375 \nL 18.109375 46.1875 \nQ 21.34375 51.125 25.703125 53.5625 \nQ 30.078125 56 35.796875 56 \nQ 45.21875 56 50.046875 50.171875 \nQ 54.890625 44.34375 54.890625 33.015625 \nz\n\" id=\"DejaVuSans-104\"/>\n       <path d=\"M 18.3125 70.21875 \nL 18.3125 54.6875 \nL 36.8125 54.6875 \nL 36.8125 47.703125 \nL 18.3125 47.703125 \nL 18.3125 18.015625 \nQ 18.3125 11.328125 20.140625 9.421875 \nQ 21.96875 7.515625 27.59375 7.515625 \nL 36.8125 7.515625 \nL 36.8125 0 \nL 27.59375 0 \nQ 17.1875 0 13.234375 3.875 \nQ 9.28125 7.765625 9.28125 18.015625 \nL 9.28125 47.703125 \nL 2.6875 47.703125 \nL 2.6875 54.6875 \nL 9.28125 54.6875 \nL 9.28125 70.21875 \nz\n\" id=\"DejaVuSans-116\"/>\n      </defs>\n      <g transform=\"translate(70.832102 270.276719)rotate(-90)scale(0.1 -0.1)\">\n       <use xlink:href=\"#DejaVuSans-87\"/>\n       <use x=\"93.001953\" xlink:href=\"#DejaVuSans-101\"/>\n       <use x=\"154.525391\" xlink:href=\"#DejaVuSans-105\"/>\n       <use x=\"182.308594\" xlink:href=\"#DejaVuSans-103\"/>\n       <use x=\"245.785156\" xlink:href=\"#DejaVuSans-104\"/>\n       <use x=\"309.164062\" xlink:href=\"#DejaVuSans-116\"/>\n      </g>\n     </g>\n    </g>\n    <g id=\"xtick_4\">\n     <g id=\"line2d_4\">\n      <g>\n       <use style=\"stroke:#000000;stroke-width:0.8;\" x=\"92.421818\" xlink:href=\"#m5f03281084\" y=\"228.439219\"/>\n      </g>\n     </g>\n     <g id=\"text_4\">\n      <!-- m0006 -->\n      <defs>\n       <path d=\"M 52 44.1875 \nQ 55.375 50.25 60.0625 53.125 \nQ 64.75 56 71.09375 56 \nQ 79.640625 56 84.28125 50.015625 \nQ 88.921875 44.046875 88.921875 33.015625 \nL 88.921875 0 \nL 79.890625 0 \nL 79.890625 32.71875 \nQ 79.890625 40.578125 77.09375 44.375 \nQ 74.3125 48.1875 68.609375 48.1875 \nQ 61.625 48.1875 57.5625 43.546875 \nQ 53.515625 38.921875 53.515625 30.90625 \nL 53.515625 0 \nL 44.484375 0 \nL 44.484375 32.71875 \nQ 44.484375 40.625 41.703125 44.40625 \nQ 38.921875 48.1875 33.109375 48.1875 \nQ 26.21875 48.1875 22.15625 43.53125 \nQ 18.109375 38.875 18.109375 30.90625 \nL 18.109375 0 \nL 9.078125 0 \nL 9.078125 54.6875 \nL 18.109375 54.6875 \nL 18.109375 46.1875 \nQ 21.1875 51.21875 25.484375 53.609375 \nQ 29.78125 56 35.6875 56 \nQ 41.65625 56 45.828125 52.96875 \nQ 50 49.953125 52 44.1875 \nz\n\" id=\"DejaVuSans-109\"/>\n       <path d=\"M 31.78125 66.40625 \nQ 24.171875 66.40625 20.328125 58.90625 \nQ 16.5 51.421875 16.5 36.375 \nQ 16.5 21.390625 20.328125 13.890625 \nQ 24.171875 6.390625 31.78125 6.390625 \nQ 39.453125 6.390625 43.28125 13.890625 \nQ 47.125 21.390625 47.125 36.375 \nQ 47.125 51.421875 43.28125 58.90625 \nQ 39.453125 66.40625 31.78125 66.40625 \nz\nM 31.78125 74.21875 \nQ 44.046875 74.21875 50.515625 64.515625 \nQ 56.984375 54.828125 56.984375 36.375 \nQ 56.984375 17.96875 50.515625 8.265625 \nQ 44.046875 -1.421875 31.78125 -1.421875 \nQ 19.53125 -1.421875 13.0625 8.265625 \nQ 6.59375 17.96875 6.59375 36.375 \nQ 6.59375 54.828125 13.0625 64.515625 \nQ 19.53125 74.21875 31.78125 74.21875 \nz\n\" id=\"DejaVuSans-48\"/>\n       <path d=\"M 33.015625 40.375 \nQ 26.375 40.375 22.484375 35.828125 \nQ 18.609375 31.296875 18.609375 23.390625 \nQ 18.609375 15.53125 22.484375 10.953125 \nQ 26.375 6.390625 33.015625 6.390625 \nQ 39.65625 6.390625 43.53125 10.953125 \nQ 47.40625 15.53125 47.40625 23.390625 \nQ 47.40625 31.296875 43.53125 35.828125 \nQ 39.65625 40.375 33.015625 40.375 \nz\nM 52.59375 71.296875 \nL 52.59375 62.3125 \nQ 48.875 64.0625 45.09375 64.984375 \nQ 41.3125 65.921875 37.59375 65.921875 \nQ 27.828125 65.921875 22.671875 59.328125 \nQ 17.53125 52.734375 16.796875 39.40625 \nQ 19.671875 43.65625 24.015625 45.921875 \nQ 28.375 48.1875 33.59375 48.1875 \nQ 44.578125 48.1875 50.953125 41.515625 \nQ 57.328125 34.859375 57.328125 23.390625 \nQ 57.328125 12.15625 50.6875 5.359375 \nQ 44.046875 -1.421875 33.015625 -1.421875 \nQ 20.359375 -1.421875 13.671875 8.265625 \nQ 6.984375 17.96875 6.984375 36.375 \nQ 6.984375 53.65625 15.1875 63.9375 \nQ 23.390625 74.21875 37.203125 74.21875 \nQ 40.921875 74.21875 44.703125 73.484375 \nQ 48.484375 72.75 52.59375 71.296875 \nz\n\" id=\"DejaVuSans-54\"/>\n      </defs>\n      <g transform=\"translate(95.181193 270.629844)rotate(-90)scale(0.1 -0.1)\">\n       <use xlink:href=\"#DejaVuSans-109\"/>\n       <use x=\"97.412109\" xlink:href=\"#DejaVuSans-48\"/>\n       <use x=\"161.035156\" xlink:href=\"#DejaVuSans-48\"/>\n       <use x=\"224.658203\" xlink:href=\"#DejaVuSans-48\"/>\n       <use x=\"288.28125\" xlink:href=\"#DejaVuSans-54\"/>\n      </g>\n     </g>\n    </g>\n    <g id=\"xtick_5\">\n     <g id=\"line2d_5\">\n      <g>\n       <use style=\"stroke:#000000;stroke-width:0.8;\" x=\"116.770909\" xlink:href=\"#m5f03281084\" y=\"228.439219\"/>\n      </g>\n     </g>\n     <g id=\"text_5\">\n      <!-- m0612 -->\n      <defs>\n       <path d=\"M 12.40625 8.296875 \nL 28.515625 8.296875 \nL 28.515625 63.921875 \nL 10.984375 60.40625 \nL 10.984375 69.390625 \nL 28.421875 72.90625 \nL 38.28125 72.90625 \nL 38.28125 8.296875 \nL 54.390625 8.296875 \nL 54.390625 0 \nL 12.40625 0 \nz\n\" id=\"DejaVuSans-49\"/>\n       <path d=\"M 19.1875 8.296875 \nL 53.609375 8.296875 \nL 53.609375 0 \nL 7.328125 0 \nL 7.328125 8.296875 \nQ 12.9375 14.109375 22.625 23.890625 \nQ 32.328125 33.6875 34.8125 36.53125 \nQ 39.546875 41.84375 41.421875 45.53125 \nQ 43.3125 49.21875 43.3125 52.78125 \nQ 43.3125 58.59375 39.234375 62.25 \nQ 35.15625 65.921875 28.609375 65.921875 \nQ 23.96875 65.921875 18.8125 64.3125 \nQ 13.671875 62.703125 7.8125 59.421875 \nL 7.8125 69.390625 \nQ 13.765625 71.78125 18.9375 73 \nQ 24.125 74.21875 28.421875 74.21875 \nQ 39.75 74.21875 46.484375 68.546875 \nQ 53.21875 62.890625 53.21875 53.421875 \nQ 53.21875 48.921875 51.53125 44.890625 \nQ 49.859375 40.875 45.40625 35.40625 \nQ 44.1875 33.984375 37.640625 27.21875 \nQ 31.109375 20.453125 19.1875 8.296875 \nz\n\" id=\"DejaVuSans-50\"/>\n      </defs>\n      <g transform=\"translate(119.530284 270.629844)rotate(-90)scale(0.1 -0.1)\">\n       <use xlink:href=\"#DejaVuSans-109\"/>\n       <use x=\"97.412109\" xlink:href=\"#DejaVuSans-48\"/>\n       <use x=\"161.035156\" xlink:href=\"#DejaVuSans-54\"/>\n       <use x=\"224.658203\" xlink:href=\"#DejaVuSans-49\"/>\n       <use x=\"288.28125\" xlink:href=\"#DejaVuSans-50\"/>\n      </g>\n     </g>\n    </g>\n    <g id=\"xtick_6\">\n     <g id=\"line2d_6\">\n      <g>\n       <use style=\"stroke:#000000;stroke-width:0.8;\" x=\"141.12\" xlink:href=\"#m5f03281084\" y=\"228.439219\"/>\n      </g>\n     </g>\n     <g id=\"text_6\">\n      <!-- m1218 -->\n      <defs>\n       <path d=\"M 31.78125 34.625 \nQ 24.75 34.625 20.71875 30.859375 \nQ 16.703125 27.09375 16.703125 20.515625 \nQ 16.703125 13.921875 20.71875 10.15625 \nQ 24.75 6.390625 31.78125 6.390625 \nQ 38.8125 6.390625 42.859375 10.171875 \nQ 46.921875 13.96875 46.921875 20.515625 \nQ 46.921875 27.09375 42.890625 30.859375 \nQ 38.875 34.625 31.78125 34.625 \nz\nM 21.921875 38.8125 \nQ 15.578125 40.375 12.03125 44.71875 \nQ 8.5 49.078125 8.5 55.328125 \nQ 8.5 64.0625 14.71875 69.140625 \nQ 20.953125 74.21875 31.78125 74.21875 \nQ 42.671875 74.21875 48.875 69.140625 \nQ 55.078125 64.0625 55.078125 55.328125 \nQ 55.078125 49.078125 51.53125 44.71875 \nQ 48 40.375 41.703125 38.8125 \nQ 48.828125 37.15625 52.796875 32.3125 \nQ 56.78125 27.484375 56.78125 20.515625 \nQ 56.78125 9.90625 50.3125 4.234375 \nQ 43.84375 -1.421875 31.78125 -1.421875 \nQ 19.734375 -1.421875 13.25 4.234375 \nQ 6.78125 9.90625 6.78125 20.515625 \nQ 6.78125 27.484375 10.78125 32.3125 \nQ 14.796875 37.15625 21.921875 38.8125 \nz\nM 18.3125 54.390625 \nQ 18.3125 48.734375 21.84375 45.5625 \nQ 25.390625 42.390625 31.78125 42.390625 \nQ 38.140625 42.390625 41.71875 45.5625 \nQ 45.3125 48.734375 45.3125 54.390625 \nQ 45.3125 60.0625 41.71875 63.234375 \nQ 38.140625 66.40625 31.78125 66.40625 \nQ 25.390625 66.40625 21.84375 63.234375 \nQ 18.3125 60.0625 18.3125 54.390625 \nz\n\" id=\"DejaVuSans-56\"/>\n      </defs>\n      <g transform=\"translate(143.879375 270.629844)rotate(-90)scale(0.1 -0.1)\">\n       <use xlink:href=\"#DejaVuSans-109\"/>\n       <use x=\"97.412109\" xlink:href=\"#DejaVuSans-49\"/>\n       <use x=\"161.035156\" xlink:href=\"#DejaVuSans-50\"/>\n       <use x=\"224.658203\" xlink:href=\"#DejaVuSans-49\"/>\n       <use x=\"288.28125\" xlink:href=\"#DejaVuSans-56\"/>\n      </g>\n     </g>\n    </g>\n    <g id=\"xtick_7\">\n     <g id=\"line2d_7\">\n      <g>\n       <use style=\"stroke:#000000;stroke-width:0.8;\" x=\"165.469091\" xlink:href=\"#m5f03281084\" y=\"228.439219\"/>\n      </g>\n     </g>\n     <g id=\"text_7\">\n      <!-- f006 -->\n      <defs>\n       <path d=\"M 37.109375 75.984375 \nL 37.109375 68.5 \nL 28.515625 68.5 \nQ 23.6875 68.5 21.796875 66.546875 \nQ 19.921875 64.59375 19.921875 59.515625 \nL 19.921875 54.6875 \nL 34.71875 54.6875 \nL 34.71875 47.703125 \nL 19.921875 47.703125 \nL 19.921875 0 \nL 10.890625 0 \nL 10.890625 47.703125 \nL 2.296875 47.703125 \nL 2.296875 54.6875 \nL 10.890625 54.6875 \nL 10.890625 58.5 \nQ 10.890625 67.625 15.140625 71.796875 \nQ 19.390625 75.984375 28.609375 75.984375 \nz\n\" id=\"DejaVuSans-102\"/>\n      </defs>\n      <g transform=\"translate(168.228466 258.047031)rotate(-90)scale(0.1 -0.1)\">\n       <use xlink:href=\"#DejaVuSans-102\"/>\n       <use x=\"35.205078\" xlink:href=\"#DejaVuSans-48\"/>\n       <use x=\"98.828125\" xlink:href=\"#DejaVuSans-48\"/>\n       <use x=\"162.451172\" xlink:href=\"#DejaVuSans-54\"/>\n      </g>\n     </g>\n    </g>\n    <g id=\"xtick_8\">\n     <g id=\"line2d_8\">\n      <g>\n       <use style=\"stroke:#000000;stroke-width:0.8;\" x=\"189.818182\" xlink:href=\"#m5f03281084\" y=\"228.439219\"/>\n      </g>\n     </g>\n     <g id=\"text_8\">\n      <!-- f0612 -->\n      <g transform=\"translate(192.577557 264.409531)rotate(-90)scale(0.1 -0.1)\">\n       <use xlink:href=\"#DejaVuSans-102\"/>\n       <use x=\"35.205078\" xlink:href=\"#DejaVuSans-48\"/>\n       <use x=\"98.828125\" xlink:href=\"#DejaVuSans-54\"/>\n       <use x=\"162.451172\" xlink:href=\"#DejaVuSans-49\"/>\n       <use x=\"226.074219\" xlink:href=\"#DejaVuSans-50\"/>\n      </g>\n     </g>\n    </g>\n    <g id=\"xtick_9\">\n     <g id=\"line2d_9\">\n      <g>\n       <use style=\"stroke:#000000;stroke-width:0.8;\" x=\"214.167273\" xlink:href=\"#m5f03281084\" y=\"228.439219\"/>\n      </g>\n     </g>\n     <g id=\"text_9\">\n      <!-- f1218 -->\n      <g transform=\"translate(216.926648 264.409531)rotate(-90)scale(0.1 -0.1)\">\n       <use xlink:href=\"#DejaVuSans-102\"/>\n       <use x=\"35.205078\" xlink:href=\"#DejaVuSans-49\"/>\n       <use x=\"98.828125\" xlink:href=\"#DejaVuSans-50\"/>\n       <use x=\"162.451172\" xlink:href=\"#DejaVuSans-49\"/>\n       <use x=\"226.074219\" xlink:href=\"#DejaVuSans-56\"/>\n      </g>\n     </g>\n    </g>\n    <g id=\"xtick_10\">\n     <g id=\"line2d_10\">\n      <g>\n       <use style=\"stroke:#000000;stroke-width:0.8;\" x=\"238.516364\" xlink:href=\"#m5f03281084\" y=\"228.439219\"/>\n      </g>\n     </g>\n     <g id=\"text_10\">\n      <!-- Firstname -->\n      <defs>\n       <path d=\"M 9.8125 72.90625 \nL 51.703125 72.90625 \nL 51.703125 64.59375 \nL 19.671875 64.59375 \nL 19.671875 43.109375 \nL 48.578125 43.109375 \nL 48.578125 34.8125 \nL 19.671875 34.8125 \nL 19.671875 0 \nL 9.8125 0 \nz\n\" id=\"DejaVuSans-70\"/>\n       <path d=\"M 41.109375 46.296875 \nQ 39.59375 47.171875 37.8125 47.578125 \nQ 36.03125 48 33.890625 48 \nQ 26.265625 48 22.1875 43.046875 \nQ 18.109375 38.09375 18.109375 28.8125 \nL 18.109375 0 \nL 9.078125 0 \nL 9.078125 54.6875 \nL 18.109375 54.6875 \nL 18.109375 46.1875 \nQ 20.953125 51.171875 25.484375 53.578125 \nQ 30.03125 56 36.53125 56 \nQ 37.453125 56 38.578125 55.875 \nQ 39.703125 55.765625 41.0625 55.515625 \nz\n\" id=\"DejaVuSans-114\"/>\n       <path d=\"M 44.28125 53.078125 \nL 44.28125 44.578125 \nQ 40.484375 46.53125 36.375 47.5 \nQ 32.28125 48.484375 27.875 48.484375 \nQ 21.1875 48.484375 17.84375 46.4375 \nQ 14.5 44.390625 14.5 40.28125 \nQ 14.5 37.15625 16.890625 35.375 \nQ 19.28125 33.59375 26.515625 31.984375 \nL 29.59375 31.296875 \nQ 39.15625 29.25 43.1875 25.515625 \nQ 47.21875 21.78125 47.21875 15.09375 \nQ 47.21875 7.46875 41.1875 3.015625 \nQ 35.15625 -1.421875 24.609375 -1.421875 \nQ 20.21875 -1.421875 15.453125 -0.5625 \nQ 10.6875 0.296875 5.421875 2 \nL 5.421875 11.28125 \nQ 10.40625 8.6875 15.234375 7.390625 \nQ 20.0625 6.109375 24.8125 6.109375 \nQ 31.15625 6.109375 34.5625 8.28125 \nQ 37.984375 10.453125 37.984375 14.40625 \nQ 37.984375 18.0625 35.515625 20.015625 \nQ 33.0625 21.96875 24.703125 23.78125 \nL 21.578125 24.515625 \nQ 13.234375 26.265625 9.515625 29.90625 \nQ 5.8125 33.546875 5.8125 39.890625 \nQ 5.8125 47.609375 11.28125 51.796875 \nQ 16.75 56 26.8125 56 \nQ 31.78125 56 36.171875 55.265625 \nQ 40.578125 54.546875 44.28125 53.078125 \nz\n\" id=\"DejaVuSans-115\"/>\n       <path d=\"M 54.890625 33.015625 \nL 54.890625 0 \nL 45.90625 0 \nL 45.90625 32.71875 \nQ 45.90625 40.484375 42.875 44.328125 \nQ 39.84375 48.1875 33.796875 48.1875 \nQ 26.515625 48.1875 22.3125 43.546875 \nQ 18.109375 38.921875 18.109375 30.90625 \nL 18.109375 0 \nL 9.078125 0 \nL 9.078125 54.6875 \nL 18.109375 54.6875 \nL 18.109375 46.1875 \nQ 21.34375 51.125 25.703125 53.5625 \nQ 30.078125 56 35.796875 56 \nQ 45.21875 56 50.046875 50.171875 \nQ 54.890625 44.34375 54.890625 33.015625 \nz\n\" id=\"DejaVuSans-110\"/>\n       <path d=\"M 34.28125 27.484375 \nQ 23.390625 27.484375 19.1875 25 \nQ 14.984375 22.515625 14.984375 16.5 \nQ 14.984375 11.71875 18.140625 8.90625 \nQ 21.296875 6.109375 26.703125 6.109375 \nQ 34.1875 6.109375 38.703125 11.40625 \nQ 43.21875 16.703125 43.21875 25.484375 \nL 43.21875 27.484375 \nz\nM 52.203125 31.203125 \nL 52.203125 0 \nL 43.21875 0 \nL 43.21875 8.296875 \nQ 40.140625 3.328125 35.546875 0.953125 \nQ 30.953125 -1.421875 24.3125 -1.421875 \nQ 15.921875 -1.421875 10.953125 3.296875 \nQ 6 8.015625 6 15.921875 \nQ 6 25.140625 12.171875 29.828125 \nQ 18.359375 34.515625 30.609375 34.515625 \nL 43.21875 34.515625 \nL 43.21875 35.40625 \nQ 43.21875 41.609375 39.140625 45 \nQ 35.0625 48.390625 27.6875 48.390625 \nQ 23 48.390625 18.546875 47.265625 \nQ 14.109375 46.140625 10.015625 43.890625 \nL 10.015625 52.203125 \nQ 14.9375 54.109375 19.578125 55.046875 \nQ 24.21875 56 28.609375 56 \nQ 40.484375 56 46.34375 49.84375 \nQ 52.203125 43.703125 52.203125 31.203125 \nz\n\" id=\"DejaVuSans-97\"/>\n      </defs>\n      <g transform=\"translate(241.275739 284.843906)rotate(-90)scale(0.1 -0.1)\">\n       <use xlink:href=\"#DejaVuSans-70\"/>\n       <use x=\"50.269531\" xlink:href=\"#DejaVuSans-105\"/>\n       <use x=\"78.052734\" xlink:href=\"#DejaVuSans-114\"/>\n       <use x=\"119.166016\" xlink:href=\"#DejaVuSans-115\"/>\n       <use x=\"171.265625\" xlink:href=\"#DejaVuSans-116\"/>\n       <use x=\"210.474609\" xlink:href=\"#DejaVuSans-110\"/>\n       <use x=\"273.853516\" xlink:href=\"#DejaVuSans-97\"/>\n       <use x=\"335.132812\" xlink:href=\"#DejaVuSans-109\"/>\n       <use x=\"432.544922\" xlink:href=\"#DejaVuSans-101\"/>\n      </g>\n     </g>\n    </g>\n    <g id=\"xtick_11\">\n     <g id=\"line2d_11\">\n      <g>\n       <use style=\"stroke:#000000;stroke-width:0.8;\" x=\"262.865455\" xlink:href=\"#m5f03281084\" y=\"228.439219\"/>\n      </g>\n     </g>\n     <g id=\"text_11\">\n      <!-- Lastname -->\n      <defs>\n       <path d=\"M 9.8125 72.90625 \nL 19.671875 72.90625 \nL 19.671875 8.296875 \nL 55.171875 8.296875 \nL 55.171875 0 \nL 9.8125 0 \nz\n\" id=\"DejaVuSans-76\"/>\n      </defs>\n      <g transform=\"translate(265.62483 284.628281)rotate(-90)scale(0.1 -0.1)\">\n       <use xlink:href=\"#DejaVuSans-76\"/>\n       <use x=\"55.712891\" xlink:href=\"#DejaVuSans-97\"/>\n       <use x=\"116.992188\" xlink:href=\"#DejaVuSans-115\"/>\n       <use x=\"169.091797\" xlink:href=\"#DejaVuSans-116\"/>\n       <use x=\"208.300781\" xlink:href=\"#DejaVuSans-110\"/>\n       <use x=\"271.679688\" xlink:href=\"#DejaVuSans-97\"/>\n       <use x=\"332.958984\" xlink:href=\"#DejaVuSans-109\"/>\n       <use x=\"430.371094\" xlink:href=\"#DejaVuSans-101\"/>\n      </g>\n     </g>\n    </g>\n   </g>\n   <g id=\"matplotlib.axis_2\"/>\n  </g>\n  <g id=\"axes_2\">\n   <g id=\"patch_3\">\n    <path clip-path=\"url(#p23b82e750e)\" d=\"M 291.78 228.439219 \nL 291.78 227.589844 \nL 291.78 11.848594 \nL 291.78 10.999219 \nL 302.652 10.999219 \nL 302.652 11.848594 \nL 302.652 227.589844 \nL 302.652 228.439219 \nz\n\" style=\"fill:#ffffff;stroke:#ffffff;stroke-linejoin:miter;stroke-width:0.01;\"/>\n   </g>\n   <image height=\"217\" id=\"image4f25bb77a8\" transform=\"scale(1 -1)translate(0 -217)\" width=\"11\" x=\"292\" xlink:href=\"data:image/png;base64,\niVBORw0KGgoAAAANSUhEUgAAAAsAAADZCAYAAAD2WsoCAAAABHNCSVQICAgIfAhkiAAAAV5JREFUaIHd2tFthEAMhOFdG66y1JD+C0lyaWG/h5HM8WyNZn57DQL2V32/1+F17dqntetau86Ldzcomw0o3gWeSXnFAm7hnEMXpJGzkaMxJOAMGu+eEZA8G7rj2nUtWTJBG0Eaohz0nFJeokzDb5zJRoyGKRsNUR5CQ+Z5SlMIHQWccrqheAq6YMDYkrF2i/Knt3uK5/NafN54Ygc/v93PowG6zwwYnefz8402ZqyCKTSC7QbPQXSVsjGEBjwiJWmslQsYUxYaxlk8U0CygQGl+NwFB0zR6PqbYKNiNErOYMdmIxhQintDu0l5SrG0+5LhH+KZlK/6nWCjZOo62G6g0UYjNUhIA2zcW2Yjt2RoP4syBpQRjc1GSwepKa/9A8qxptCI0vATulto5M4gocOAsV0XDJi6Ab1WbNfRSbGAx7WofJsyfG6Qt3tXy4eMEhs3vM9SG6BMnlt+BBIb/6Y/gWhq+41lAAAAAElFTkSuQmCC\" y=\"-11\"/>\n   <g id=\"matplotlib.axis_3\"/>\n   <g id=\"matplotlib.axis_4\">\n    <g id=\"ytick_1\">\n     <g id=\"line2d_12\">\n      <defs>\n       <path d=\"M 0 0 \nL 3.5 0 \n\" id=\"mb66276280b\" style=\"stroke:#000000;stroke-width:0.8;\"/>\n      </defs>\n      <g>\n       <use style=\"stroke:#000000;stroke-width:0.8;\" x=\"302.652\" xlink:href=\"#mb66276280b\" y=\"228.439219\"/>\n      </g>\n     </g>\n     <g id=\"text_12\">\n      <!-- 0.0 -->\n      <defs>\n       <path d=\"M 10.6875 12.40625 \nL 21 12.40625 \nL 21 0 \nL 10.6875 0 \nz\n\" id=\"DejaVuSans-46\"/>\n      </defs>\n      <g transform=\"translate(309.652 232.238438)scale(0.1 -0.1)\">\n       <use xlink:href=\"#DejaVuSans-48\"/>\n       <use x=\"63.623047\" xlink:href=\"#DejaVuSans-46\"/>\n       <use x=\"95.410156\" xlink:href=\"#DejaVuSans-48\"/>\n      </g>\n     </g>\n    </g>\n    <g id=\"ytick_2\">\n     <g id=\"line2d_13\">\n      <g>\n       <use style=\"stroke:#000000;stroke-width:0.8;\" x=\"302.652\" xlink:href=\"#mb66276280b\" y=\"184.951219\"/>\n      </g>\n     </g>\n     <g id=\"text_13\">\n      <!-- 0.2 -->\n      <g transform=\"translate(309.652 188.750437)scale(0.1 -0.1)\">\n       <use xlink:href=\"#DejaVuSans-48\"/>\n       <use x=\"63.623047\" xlink:href=\"#DejaVuSans-46\"/>\n       <use x=\"95.410156\" xlink:href=\"#DejaVuSans-50\"/>\n      </g>\n     </g>\n    </g>\n    <g id=\"ytick_3\">\n     <g id=\"line2d_14\">\n      <g>\n       <use style=\"stroke:#000000;stroke-width:0.8;\" x=\"302.652\" xlink:href=\"#mb66276280b\" y=\"141.463219\"/>\n      </g>\n     </g>\n     <g id=\"text_14\">\n      <!-- 0.4 -->\n      <defs>\n       <path d=\"M 37.796875 64.3125 \nL 12.890625 25.390625 \nL 37.796875 25.390625 \nz\nM 35.203125 72.90625 \nL 47.609375 72.90625 \nL 47.609375 25.390625 \nL 58.015625 25.390625 \nL 58.015625 17.1875 \nL 47.609375 17.1875 \nL 47.609375 0 \nL 37.796875 0 \nL 37.796875 17.1875 \nL 4.890625 17.1875 \nL 4.890625 26.703125 \nz\n\" id=\"DejaVuSans-52\"/>\n      </defs>\n      <g transform=\"translate(309.652 145.262438)scale(0.1 -0.1)\">\n       <use xlink:href=\"#DejaVuSans-48\"/>\n       <use x=\"63.623047\" xlink:href=\"#DejaVuSans-46\"/>\n       <use x=\"95.410156\" xlink:href=\"#DejaVuSans-52\"/>\n      </g>\n     </g>\n    </g>\n    <g id=\"ytick_4\">\n     <g id=\"line2d_15\">\n      <g>\n       <use style=\"stroke:#000000;stroke-width:0.8;\" x=\"302.652\" xlink:href=\"#mb66276280b\" y=\"97.975219\"/>\n      </g>\n     </g>\n     <g id=\"text_15\">\n      <!-- 0.6 -->\n      <g transform=\"translate(309.652 101.774437)scale(0.1 -0.1)\">\n       <use xlink:href=\"#DejaVuSans-48\"/>\n       <use x=\"63.623047\" xlink:href=\"#DejaVuSans-46\"/>\n       <use x=\"95.410156\" xlink:href=\"#DejaVuSans-54\"/>\n      </g>\n     </g>\n    </g>\n    <g id=\"ytick_5\">\n     <g id=\"line2d_16\">\n      <g>\n       <use style=\"stroke:#000000;stroke-width:0.8;\" x=\"302.652\" xlink:href=\"#mb66276280b\" y=\"54.487219\"/>\n      </g>\n     </g>\n     <g id=\"text_16\">\n      <!-- 0.8 -->\n      <g transform=\"translate(309.652 58.286438)scale(0.1 -0.1)\">\n       <use xlink:href=\"#DejaVuSans-48\"/>\n       <use x=\"63.623047\" xlink:href=\"#DejaVuSans-46\"/>\n       <use x=\"95.410156\" xlink:href=\"#DejaVuSans-56\"/>\n      </g>\n     </g>\n    </g>\n    <g id=\"ytick_6\">\n     <g id=\"line2d_17\">\n      <g>\n       <use style=\"stroke:#000000;stroke-width:0.8;\" x=\"302.652\" xlink:href=\"#mb66276280b\" y=\"10.999219\"/>\n      </g>\n     </g>\n     <g id=\"text_17\">\n      <!-- 1.0 -->\n      <g transform=\"translate(309.652 14.798438)scale(0.1 -0.1)\">\n       <use xlink:href=\"#DejaVuSans-49\"/>\n       <use x=\"63.623047\" xlink:href=\"#DejaVuSans-46\"/>\n       <use x=\"95.410156\" xlink:href=\"#DejaVuSans-48\"/>\n      </g>\n     </g>\n    </g>\n   </g>\n   <g id=\"patch_4\">\n    <path d=\"M 291.78 228.439219 \nL 291.78 227.589844 \nL 291.78 11.848594 \nL 291.78 10.999219 \nL 302.652 10.999219 \nL 302.652 11.848594 \nL 302.652 227.589844 \nL 302.652 228.439219 \nz\n\" style=\"fill:none;\"/>\n   </g>\n  </g>\n </g>\n <defs>\n  <clipPath id=\"p42d92f6a39\">\n   <rect height=\"217.44\" width=\"267.84\" x=\"7.2\" y=\"10.999219\"/>\n  </clipPath>\n  <clipPath id=\"p23b82e750e\">\n   <rect height=\"217.44\" width=\"10.872\" x=\"291.78\" y=\"10.999219\"/>\n  </clipPath>\n </defs>\n</svg>\n"
          },
          "metadata": {
            "needs_background": "light"
          }
        }
      ]
    },
    {
      "cell_type": "markdown",
      "metadata": {
        "id": "IV6zZrK-eZZr"
      },
      "source": [
        "**Vấn đề 5**"
      ]
    },
    {
      "cell_type": "markdown",
      "metadata": {
        "id": "njtrgaR2eb0j"
      },
      "source": [
        "1.Có nhiều dòng dữ liệu bị trùng lắp thông tin hoàn toàn[fullname, lastname, age, weight,....], giải pháp đưa ra là chỉ giữ lại một dòng dữ liệu, tuy nhiên giải pháp phải dựa trên nghiệp vụ của tập dữ liệu và quan sát của người xử lý."
      ]
    },
    {
      "cell_type": "code",
      "metadata": {
        "colab": {
          "base_uri": "https://localhost:8080/",
          "height": 204
        },
        "id": "COhFguvvedE1",
        "outputId": "d22d0149-2788-4c28-8176-772650984f29"
      },
      "source": [
        "df_patientheartrate = df_patientheartrate.drop_duplicates(subset=['Firstname','Lastname', 'Age', 'Weight'])\n",
        "df_patientheartrate.head(5)"
      ],
      "execution_count": 8,
      "outputs": [
        {
          "output_type": "execute_result",
          "data": {
            "text/html": [
              "<div>\n",
              "<style scoped>\n",
              "    .dataframe tbody tr th:only-of-type {\n",
              "        vertical-align: middle;\n",
              "    }\n",
              "\n",
              "    .dataframe tbody tr th {\n",
              "        vertical-align: top;\n",
              "    }\n",
              "\n",
              "    .dataframe thead th {\n",
              "        text-align: right;\n",
              "    }\n",
              "</style>\n",
              "<table border=\"1\" class=\"dataframe\">\n",
              "  <thead>\n",
              "    <tr style=\"text-align: right;\">\n",
              "      <th></th>\n",
              "      <th>ID</th>\n",
              "      <th>Age</th>\n",
              "      <th>Weight</th>\n",
              "      <th>m0006</th>\n",
              "      <th>m0612</th>\n",
              "      <th>m1218</th>\n",
              "      <th>f006</th>\n",
              "      <th>f0612</th>\n",
              "      <th>f1218</th>\n",
              "      <th>Firstname</th>\n",
              "      <th>Lastname</th>\n",
              "    </tr>\n",
              "  </thead>\n",
              "  <tbody>\n",
              "    <tr>\n",
              "      <th>0</th>\n",
              "      <td>1.0</td>\n",
              "      <td>56.0</td>\n",
              "      <td>70kgs</td>\n",
              "      <td>72</td>\n",
              "      <td>69</td>\n",
              "      <td>71</td>\n",
              "      <td>-</td>\n",
              "      <td>-</td>\n",
              "      <td>-</td>\n",
              "      <td>Mickéy</td>\n",
              "      <td>Mousé</td>\n",
              "    </tr>\n",
              "    <tr>\n",
              "      <th>1</th>\n",
              "      <td>2.0</td>\n",
              "      <td>34.0</td>\n",
              "      <td>70kgs</td>\n",
              "      <td>-</td>\n",
              "      <td>-</td>\n",
              "      <td>-</td>\n",
              "      <td>85</td>\n",
              "      <td>84</td>\n",
              "      <td>76</td>\n",
              "      <td>Donald</td>\n",
              "      <td>Duck</td>\n",
              "    </tr>\n",
              "    <tr>\n",
              "      <th>2</th>\n",
              "      <td>3.0</td>\n",
              "      <td>16.0</td>\n",
              "      <td>NaN</td>\n",
              "      <td>-</td>\n",
              "      <td>-</td>\n",
              "      <td>-</td>\n",
              "      <td>65</td>\n",
              "      <td>69</td>\n",
              "      <td>72</td>\n",
              "      <td>Mini</td>\n",
              "      <td>Mouse</td>\n",
              "    </tr>\n",
              "    <tr>\n",
              "      <th>3</th>\n",
              "      <td>4.0</td>\n",
              "      <td>NaN</td>\n",
              "      <td>78kgs</td>\n",
              "      <td>78</td>\n",
              "      <td>79</td>\n",
              "      <td>72</td>\n",
              "      <td>-</td>\n",
              "      <td>-</td>\n",
              "      <td>-</td>\n",
              "      <td>Scrooge</td>\n",
              "      <td>McDuck</td>\n",
              "    </tr>\n",
              "    <tr>\n",
              "      <th>4</th>\n",
              "      <td>5.0</td>\n",
              "      <td>54.0</td>\n",
              "      <td>90kgs</td>\n",
              "      <td>-</td>\n",
              "      <td>-</td>\n",
              "      <td>-</td>\n",
              "      <td>69</td>\n",
              "      <td>NaN</td>\n",
              "      <td>75</td>\n",
              "      <td>Pink</td>\n",
              "      <td>Panther</td>\n",
              "    </tr>\n",
              "  </tbody>\n",
              "</table>\n",
              "</div>"
            ],
            "text/plain": [
              "    ID   Age Weight m0006 m0612 m1218 f006 f0612 f1218 Firstname Lastname\n",
              "0  1.0  56.0  70kgs    72    69    71    -     -     -    Mickéy    Mousé\n",
              "1  2.0  34.0  70kgs     -     -     -   85    84    76    Donald     Duck\n",
              "2  3.0  16.0    NaN     -     -     -   65    69    72      Mini    Mouse\n",
              "3  4.0   NaN  78kgs    78    79    72    -     -     -   Scrooge   McDuck\n",
              "4  5.0  54.0  90kgs     -     -     -   69   NaN    75      Pink  Panther"
            ]
          },
          "metadata": {},
          "execution_count": 8
        }
      ]
    },
    {
      "cell_type": "markdown",
      "metadata": {
        "id": "uz3wpglmefsr"
      },
      "source": [
        "**Vấn đề 6**"
      ]
    },
    {
      "cell_type": "markdown",
      "metadata": {
        "id": "K-tFWJILeiXL"
      },
      "source": [
        "1.Xuất hiện dữ liệu bị ảnh hưởng bởi lỗi non-ASCII, không định dạng ASCII."
      ]
    },
    {
      "cell_type": "code",
      "metadata": {
        "colab": {
          "base_uri": "https://localhost:8080/",
          "height": 204
        },
        "id": "fsFYbczPekQ9",
        "outputId": "885e4f2f-e02b-49cf-c343-a4d984448675"
      },
      "source": [
        "df_patientheartrate.Firstname.replace({r'[^\\x00-\\x7F]+':''}, regex=True,inplace=True)\n",
        "df_patientheartrate.Lastname.replace({r'[^\\x00-\\x7F]+':''}, regex=True,inplace=True)\n",
        "df_patientheartrate.head(5)"
      ],
      "execution_count": 9,
      "outputs": [
        {
          "output_type": "execute_result",
          "data": {
            "text/html": [
              "<div>\n",
              "<style scoped>\n",
              "    .dataframe tbody tr th:only-of-type {\n",
              "        vertical-align: middle;\n",
              "    }\n",
              "\n",
              "    .dataframe tbody tr th {\n",
              "        vertical-align: top;\n",
              "    }\n",
              "\n",
              "    .dataframe thead th {\n",
              "        text-align: right;\n",
              "    }\n",
              "</style>\n",
              "<table border=\"1\" class=\"dataframe\">\n",
              "  <thead>\n",
              "    <tr style=\"text-align: right;\">\n",
              "      <th></th>\n",
              "      <th>ID</th>\n",
              "      <th>Age</th>\n",
              "      <th>Weight</th>\n",
              "      <th>m0006</th>\n",
              "      <th>m0612</th>\n",
              "      <th>m1218</th>\n",
              "      <th>f006</th>\n",
              "      <th>f0612</th>\n",
              "      <th>f1218</th>\n",
              "      <th>Firstname</th>\n",
              "      <th>Lastname</th>\n",
              "    </tr>\n",
              "  </thead>\n",
              "  <tbody>\n",
              "    <tr>\n",
              "      <th>0</th>\n",
              "      <td>1.0</td>\n",
              "      <td>56.0</td>\n",
              "      <td>70kgs</td>\n",
              "      <td>72</td>\n",
              "      <td>69</td>\n",
              "      <td>71</td>\n",
              "      <td>-</td>\n",
              "      <td>-</td>\n",
              "      <td>-</td>\n",
              "      <td>Micky</td>\n",
              "      <td>Mous</td>\n",
              "    </tr>\n",
              "    <tr>\n",
              "      <th>1</th>\n",
              "      <td>2.0</td>\n",
              "      <td>34.0</td>\n",
              "      <td>70kgs</td>\n",
              "      <td>-</td>\n",
              "      <td>-</td>\n",
              "      <td>-</td>\n",
              "      <td>85</td>\n",
              "      <td>84</td>\n",
              "      <td>76</td>\n",
              "      <td>Donald</td>\n",
              "      <td>Duck</td>\n",
              "    </tr>\n",
              "    <tr>\n",
              "      <th>2</th>\n",
              "      <td>3.0</td>\n",
              "      <td>16.0</td>\n",
              "      <td>NaN</td>\n",
              "      <td>-</td>\n",
              "      <td>-</td>\n",
              "      <td>-</td>\n",
              "      <td>65</td>\n",
              "      <td>69</td>\n",
              "      <td>72</td>\n",
              "      <td>Mini</td>\n",
              "      <td>Mouse</td>\n",
              "    </tr>\n",
              "    <tr>\n",
              "      <th>3</th>\n",
              "      <td>4.0</td>\n",
              "      <td>NaN</td>\n",
              "      <td>78kgs</td>\n",
              "      <td>78</td>\n",
              "      <td>79</td>\n",
              "      <td>72</td>\n",
              "      <td>-</td>\n",
              "      <td>-</td>\n",
              "      <td>-</td>\n",
              "      <td>Scrooge</td>\n",
              "      <td>McDuck</td>\n",
              "    </tr>\n",
              "    <tr>\n",
              "      <th>4</th>\n",
              "      <td>5.0</td>\n",
              "      <td>54.0</td>\n",
              "      <td>90kgs</td>\n",
              "      <td>-</td>\n",
              "      <td>-</td>\n",
              "      <td>-</td>\n",
              "      <td>69</td>\n",
              "      <td>NaN</td>\n",
              "      <td>75</td>\n",
              "      <td>Pink</td>\n",
              "      <td>Panther</td>\n",
              "    </tr>\n",
              "  </tbody>\n",
              "</table>\n",
              "</div>"
            ],
            "text/plain": [
              "    ID   Age Weight m0006 m0612 m1218 f006 f0612 f1218 Firstname Lastname\n",
              "0  1.0  56.0  70kgs    72    69    71    -     -     -     Micky     Mous\n",
              "1  2.0  34.0  70kgs     -     -     -   85    84    76    Donald     Duck\n",
              "2  3.0  16.0    NaN     -     -     -   65    69    72      Mini    Mouse\n",
              "3  4.0   NaN  78kgs    78    79    72    -     -     -   Scrooge   McDuck\n",
              "4  5.0  54.0  90kgs     -     -     -   69   NaN    75      Pink  Panther"
            ]
          },
          "metadata": {},
          "execution_count": 9
        }
      ]
    },
    {
      "cell_type": "markdown",
      "metadata": {
        "id": "kb4U4VwUepMk"
      },
      "source": [
        "**Vấn đề 7**"
      ]
    },
    {
      "cell_type": "markdown",
      "metadata": {
        "id": "oMTsRuP6erfc"
      },
      "source": [
        "\"Missing values\", vấn đề này xảy ra tại các cột \"Age\", \"Weight\" và \"Heart Rate\". Thiếu dữ liệu (dữ liệu không đầy đủ) là vấn đề xảy ra nhiều trong các nguồn dữ liệu do nhiều nguyên nhân chủ quan lẫn khách quan.Có một vài giải pháp để xử lý vấn đề này, chủ yếu dựa trên kinh nghiệm và nghiệp vụ về tập dữ liệu đó. Một số giải pháp đưa đề xuất từ chuyên gia như sau:"
      ]
    },
    {
      "cell_type": "markdown",
      "metadata": {
        "id": "6eKR_-Xbeuxc"
      },
      "source": [
        "\n",
        "\"Missing values\", vấn đề này xảy ra tại các cột \"Age\", \"Weight\" và \"Heart Rate\". Thiếu dữ liệu (dữ liệu không đầy đủ) là vấn đề xảy ra nhiều trong các nguồn dữ liệu do nhiều nguyên nhân chủ quan lẫn khách quan.Có một vài giải pháp để xử lý vấn đề này, chủ yếu dựa trên kinh nghiệm và nghiệp vụ về tập dữ liệu đó. Một số giải pháp đưa đề xuất từ chuyên gia như sau:\n",
        "a. Deletion: Remove records with missing values\n",
        "\n",
        "b. Dummy substitution: Replace missing values with a dummy but valid value: e.g.: 0 for numerical values.\n",
        "\n",
        "c. Mean substitution: Replace the missing values with the mean.\n",
        "\n",
        "d. Frequent substitution: Replace the missing values with the most frequent item.\n",
        "\n",
        "e. Improve the data collector: Your business folk will talk to the clients and inform them about why it is worth fixing the problem with the data collector.\n",
        "\n",
        "Yêu cầu:\n",
        "\n",
        "Thống kê thông tin dữ liệu thiếu trên từng biến Age và Weight\n",
        "Yêu cầu xử lý dữ liệu thiếu như sau: Nếu dòng nào có Age hoặc Weight có dữ liệu thì phần Age hoặc Weight được tính như bên dưới, nếu thiếu cả 2 thông tin thì xóa dòng o Age: Giá trị thay thế là mean của các giá trị trong cột Age o Weight: Giá trị thay thế là mean của các giá trị trong cột Weight theo nhóm giới tính"
      ]
    },
    {
      "cell_type": "code",
      "metadata": {
        "colab": {
          "base_uri": "https://localhost:8080/"
        },
        "id": "eN6WXxoVex50",
        "outputId": "442e76a4-8e10-48d2-df7b-5f4bf787a4c9"
      },
      "source": [
        "index_ageweightnull = df_patientheartrate[df_patientheartrate['Age'].isna() & df_patientheartrate['Weight'].isna()].index\n",
        "index_ageweightnull"
      ],
      "execution_count": 12,
      "outputs": [
        {
          "output_type": "execute_result",
          "data": {
            "text/plain": [
              "Int64Index([], dtype='int64')"
            ]
          },
          "metadata": {},
          "execution_count": 12
        }
      ]
    },
    {
      "cell_type": "code",
      "metadata": {
        "colab": {
          "base_uri": "https://localhost:8080/",
          "height": 204
        },
        "id": "7GMiwj_se15U",
        "outputId": "4741d9b7-761b-48bb-b491-ff3782b14ef1"
      },
      "source": [
        "df_patientheartrate.drop(index_ageweightnull, inplace=True)\n",
        "df_patientheartrate.head(5)"
      ],
      "execution_count": 11,
      "outputs": [
        {
          "output_type": "execute_result",
          "data": {
            "text/html": [
              "<div>\n",
              "<style scoped>\n",
              "    .dataframe tbody tr th:only-of-type {\n",
              "        vertical-align: middle;\n",
              "    }\n",
              "\n",
              "    .dataframe tbody tr th {\n",
              "        vertical-align: top;\n",
              "    }\n",
              "\n",
              "    .dataframe thead th {\n",
              "        text-align: right;\n",
              "    }\n",
              "</style>\n",
              "<table border=\"1\" class=\"dataframe\">\n",
              "  <thead>\n",
              "    <tr style=\"text-align: right;\">\n",
              "      <th></th>\n",
              "      <th>ID</th>\n",
              "      <th>Age</th>\n",
              "      <th>Weight</th>\n",
              "      <th>m0006</th>\n",
              "      <th>m0612</th>\n",
              "      <th>m1218</th>\n",
              "      <th>f006</th>\n",
              "      <th>f0612</th>\n",
              "      <th>f1218</th>\n",
              "      <th>Firstname</th>\n",
              "      <th>Lastname</th>\n",
              "    </tr>\n",
              "  </thead>\n",
              "  <tbody>\n",
              "    <tr>\n",
              "      <th>0</th>\n",
              "      <td>1.0</td>\n",
              "      <td>56.0</td>\n",
              "      <td>70kgs</td>\n",
              "      <td>72</td>\n",
              "      <td>69</td>\n",
              "      <td>71</td>\n",
              "      <td>-</td>\n",
              "      <td>-</td>\n",
              "      <td>-</td>\n",
              "      <td>Micky</td>\n",
              "      <td>Mous</td>\n",
              "    </tr>\n",
              "    <tr>\n",
              "      <th>1</th>\n",
              "      <td>2.0</td>\n",
              "      <td>34.0</td>\n",
              "      <td>70kgs</td>\n",
              "      <td>-</td>\n",
              "      <td>-</td>\n",
              "      <td>-</td>\n",
              "      <td>85</td>\n",
              "      <td>84</td>\n",
              "      <td>76</td>\n",
              "      <td>Donald</td>\n",
              "      <td>Duck</td>\n",
              "    </tr>\n",
              "    <tr>\n",
              "      <th>2</th>\n",
              "      <td>3.0</td>\n",
              "      <td>16.0</td>\n",
              "      <td>NaN</td>\n",
              "      <td>-</td>\n",
              "      <td>-</td>\n",
              "      <td>-</td>\n",
              "      <td>65</td>\n",
              "      <td>69</td>\n",
              "      <td>72</td>\n",
              "      <td>Mini</td>\n",
              "      <td>Mouse</td>\n",
              "    </tr>\n",
              "    <tr>\n",
              "      <th>3</th>\n",
              "      <td>4.0</td>\n",
              "      <td>NaN</td>\n",
              "      <td>78kgs</td>\n",
              "      <td>78</td>\n",
              "      <td>79</td>\n",
              "      <td>72</td>\n",
              "      <td>-</td>\n",
              "      <td>-</td>\n",
              "      <td>-</td>\n",
              "      <td>Scrooge</td>\n",
              "      <td>McDuck</td>\n",
              "    </tr>\n",
              "    <tr>\n",
              "      <th>4</th>\n",
              "      <td>5.0</td>\n",
              "      <td>54.0</td>\n",
              "      <td>90kgs</td>\n",
              "      <td>-</td>\n",
              "      <td>-</td>\n",
              "      <td>-</td>\n",
              "      <td>69</td>\n",
              "      <td>NaN</td>\n",
              "      <td>75</td>\n",
              "      <td>Pink</td>\n",
              "      <td>Panther</td>\n",
              "    </tr>\n",
              "  </tbody>\n",
              "</table>\n",
              "</div>"
            ],
            "text/plain": [
              "    ID   Age Weight m0006 m0612 m1218 f006 f0612 f1218 Firstname Lastname\n",
              "0  1.0  56.0  70kgs    72    69    71    -     -     -     Micky     Mous\n",
              "1  2.0  34.0  70kgs     -     -     -   85    84    76    Donald     Duck\n",
              "2  3.0  16.0    NaN     -     -     -   65    69    72      Mini    Mouse\n",
              "3  4.0   NaN  78kgs    78    79    72    -     -     -   Scrooge   McDuck\n",
              "4  5.0  54.0  90kgs     -     -     -   69   NaN    75      Pink  Panther"
            ]
          },
          "metadata": {},
          "execution_count": 11
        }
      ]
    },
    {
      "cell_type": "code",
      "metadata": {
        "colab": {
          "base_uri": "https://localhost:8080/",
          "height": 427
        },
        "id": "XBGHr6FLe5gr",
        "outputId": "c86b4127-df31-440a-fd50-78e001b767ae"
      },
      "source": [
        "%matplotlib inline\n",
        "%config InlineBackend.figure_format = 'svg'\n",
        "sns.heatmap(df_patientheartrate.isna(), \n",
        "            yticklabels=False, \n",
        "            cbar=True, \n",
        "            cmap='viridis')"
      ],
      "execution_count": 13,
      "outputs": [
        {
          "output_type": "execute_result",
          "data": {
            "text/plain": [
              "<matplotlib.axes._subplots.AxesSubplot at 0x7fa67b06abd0>"
            ]
          },
          "metadata": {},
          "execution_count": 13
        },
        {
          "output_type": "display_data",
          "data": {
            "text/plain": [
              "<Figure size 432x288 with 2 Axes>"
            ],
            "image/svg+xml": "<?xml version=\"1.0\" encoding=\"utf-8\" standalone=\"no\"?>\n<!DOCTYPE svg PUBLIC \"-//W3C//DTD SVG 1.1//EN\"\n  \"http://www.w3.org/Graphics/SVG/1.1/DTD/svg11.dtd\">\n<!-- Created with matplotlib (https://matplotlib.org/) -->\n<svg height=\"292.043906pt\" version=\"1.1\" viewBox=\"0 0 332.755125 292.043906\" width=\"332.755125pt\" xmlns=\"http://www.w3.org/2000/svg\" xmlns:xlink=\"http://www.w3.org/1999/xlink\">\n <defs>\n  <style type=\"text/css\">\n*{stroke-linecap:butt;stroke-linejoin:round;}\n  </style>\n </defs>\n <g id=\"figure_1\">\n  <g id=\"patch_1\">\n   <path d=\"M 0 292.043906 \nL 332.755125 292.043906 \nL 332.755125 0 \nL 0 0 \nz\n\" style=\"fill:none;\"/>\n  </g>\n  <g id=\"axes_1\">\n   <g id=\"patch_2\">\n    <path d=\"M 7.2 228.439219 \nL 275.04 228.439219 \nL 275.04 10.999219 \nL 7.2 10.999219 \nz\n\" style=\"fill:#ffffff;\"/>\n   </g>\n   <g id=\"QuadMesh_1\">\n    <path clip-path=\"url(#p2b30136500)\" d=\"M 7.2 10.999219 \nL 31.549091 10.999219 \nL 31.549091 29.119219 \nL 7.2 29.119219 \nL 7.2 10.999219 \n\" style=\"fill:#440154;\"/>\n    <path clip-path=\"url(#p2b30136500)\" d=\"M 31.549091 10.999219 \nL 55.898182 10.999219 \nL 55.898182 29.119219 \nL 31.549091 29.119219 \nL 31.549091 10.999219 \n\" style=\"fill:#440154;\"/>\n    <path clip-path=\"url(#p2b30136500)\" d=\"M 55.898182 10.999219 \nL 80.247273 10.999219 \nL 80.247273 29.119219 \nL 55.898182 29.119219 \nL 55.898182 10.999219 \n\" style=\"fill:#440154;\"/>\n    <path clip-path=\"url(#p2b30136500)\" d=\"M 80.247273 10.999219 \nL 104.596364 10.999219 \nL 104.596364 29.119219 \nL 80.247273 29.119219 \nL 80.247273 10.999219 \n\" style=\"fill:#440154;\"/>\n    <path clip-path=\"url(#p2b30136500)\" d=\"M 104.596364 10.999219 \nL 128.945455 10.999219 \nL 128.945455 29.119219 \nL 104.596364 29.119219 \nL 104.596364 10.999219 \n\" style=\"fill:#440154;\"/>\n    <path clip-path=\"url(#p2b30136500)\" d=\"M 128.945455 10.999219 \nL 153.294545 10.999219 \nL 153.294545 29.119219 \nL 128.945455 29.119219 \nL 128.945455 10.999219 \n\" style=\"fill:#440154;\"/>\n    <path clip-path=\"url(#p2b30136500)\" d=\"M 153.294545 10.999219 \nL 177.643636 10.999219 \nL 177.643636 29.119219 \nL 153.294545 29.119219 \nL 153.294545 10.999219 \n\" style=\"fill:#440154;\"/>\n    <path clip-path=\"url(#p2b30136500)\" d=\"M 177.643636 10.999219 \nL 201.992727 10.999219 \nL 201.992727 29.119219 \nL 177.643636 29.119219 \nL 177.643636 10.999219 \n\" style=\"fill:#440154;\"/>\n    <path clip-path=\"url(#p2b30136500)\" d=\"M 201.992727 10.999219 \nL 226.341818 10.999219 \nL 226.341818 29.119219 \nL 201.992727 29.119219 \nL 201.992727 10.999219 \n\" style=\"fill:#440154;\"/>\n    <path clip-path=\"url(#p2b30136500)\" d=\"M 226.341818 10.999219 \nL 250.690909 10.999219 \nL 250.690909 29.119219 \nL 226.341818 29.119219 \nL 226.341818 10.999219 \n\" style=\"fill:#440154;\"/>\n    <path clip-path=\"url(#p2b30136500)\" d=\"M 250.690909 10.999219 \nL 275.04 10.999219 \nL 275.04 29.119219 \nL 250.690909 29.119219 \nL 250.690909 10.999219 \n\" style=\"fill:#440154;\"/>\n    <path clip-path=\"url(#p2b30136500)\" d=\"M 7.2 29.119219 \nL 31.549091 29.119219 \nL 31.549091 47.239219 \nL 7.2 47.239219 \nL 7.2 29.119219 \n\" style=\"fill:#440154;\"/>\n    <path clip-path=\"url(#p2b30136500)\" d=\"M 31.549091 29.119219 \nL 55.898182 29.119219 \nL 55.898182 47.239219 \nL 31.549091 47.239219 \nL 31.549091 29.119219 \n\" style=\"fill:#440154;\"/>\n    <path clip-path=\"url(#p2b30136500)\" d=\"M 55.898182 29.119219 \nL 80.247273 29.119219 \nL 80.247273 47.239219 \nL 55.898182 47.239219 \nL 55.898182 29.119219 \n\" style=\"fill:#440154;\"/>\n    <path clip-path=\"url(#p2b30136500)\" d=\"M 80.247273 29.119219 \nL 104.596364 29.119219 \nL 104.596364 47.239219 \nL 80.247273 47.239219 \nL 80.247273 29.119219 \n\" style=\"fill:#440154;\"/>\n    <path clip-path=\"url(#p2b30136500)\" d=\"M 104.596364 29.119219 \nL 128.945455 29.119219 \nL 128.945455 47.239219 \nL 104.596364 47.239219 \nL 104.596364 29.119219 \n\" style=\"fill:#440154;\"/>\n    <path clip-path=\"url(#p2b30136500)\" d=\"M 128.945455 29.119219 \nL 153.294545 29.119219 \nL 153.294545 47.239219 \nL 128.945455 47.239219 \nL 128.945455 29.119219 \n\" style=\"fill:#440154;\"/>\n    <path clip-path=\"url(#p2b30136500)\" d=\"M 153.294545 29.119219 \nL 177.643636 29.119219 \nL 177.643636 47.239219 \nL 153.294545 47.239219 \nL 153.294545 29.119219 \n\" style=\"fill:#440154;\"/>\n    <path clip-path=\"url(#p2b30136500)\" d=\"M 177.643636 29.119219 \nL 201.992727 29.119219 \nL 201.992727 47.239219 \nL 177.643636 47.239219 \nL 177.643636 29.119219 \n\" style=\"fill:#440154;\"/>\n    <path clip-path=\"url(#p2b30136500)\" d=\"M 201.992727 29.119219 \nL 226.341818 29.119219 \nL 226.341818 47.239219 \nL 201.992727 47.239219 \nL 201.992727 29.119219 \n\" style=\"fill:#440154;\"/>\n    <path clip-path=\"url(#p2b30136500)\" d=\"M 226.341818 29.119219 \nL 250.690909 29.119219 \nL 250.690909 47.239219 \nL 226.341818 47.239219 \nL 226.341818 29.119219 \n\" style=\"fill:#440154;\"/>\n    <path clip-path=\"url(#p2b30136500)\" d=\"M 250.690909 29.119219 \nL 275.04 29.119219 \nL 275.04 47.239219 \nL 250.690909 47.239219 \nL 250.690909 29.119219 \n\" style=\"fill:#440154;\"/>\n    <path clip-path=\"url(#p2b30136500)\" d=\"M 7.2 47.239219 \nL 31.549091 47.239219 \nL 31.549091 65.359219 \nL 7.2 65.359219 \nL 7.2 47.239219 \n\" style=\"fill:#440154;\"/>\n    <path clip-path=\"url(#p2b30136500)\" d=\"M 31.549091 47.239219 \nL 55.898182 47.239219 \nL 55.898182 65.359219 \nL 31.549091 65.359219 \nL 31.549091 47.239219 \n\" style=\"fill:#440154;\"/>\n    <path clip-path=\"url(#p2b30136500)\" d=\"M 55.898182 47.239219 \nL 80.247273 47.239219 \nL 80.247273 65.359219 \nL 55.898182 65.359219 \nL 55.898182 47.239219 \n\" style=\"fill:#fde725;\"/>\n    <path clip-path=\"url(#p2b30136500)\" d=\"M 80.247273 47.239219 \nL 104.596364 47.239219 \nL 104.596364 65.359219 \nL 80.247273 65.359219 \nL 80.247273 47.239219 \n\" style=\"fill:#440154;\"/>\n    <path clip-path=\"url(#p2b30136500)\" d=\"M 104.596364 47.239219 \nL 128.945455 47.239219 \nL 128.945455 65.359219 \nL 104.596364 65.359219 \nL 104.596364 47.239219 \n\" style=\"fill:#440154;\"/>\n    <path clip-path=\"url(#p2b30136500)\" d=\"M 128.945455 47.239219 \nL 153.294545 47.239219 \nL 153.294545 65.359219 \nL 128.945455 65.359219 \nL 128.945455 47.239219 \n\" style=\"fill:#440154;\"/>\n    <path clip-path=\"url(#p2b30136500)\" d=\"M 153.294545 47.239219 \nL 177.643636 47.239219 \nL 177.643636 65.359219 \nL 153.294545 65.359219 \nL 153.294545 47.239219 \n\" style=\"fill:#440154;\"/>\n    <path clip-path=\"url(#p2b30136500)\" d=\"M 177.643636 47.239219 \nL 201.992727 47.239219 \nL 201.992727 65.359219 \nL 177.643636 65.359219 \nL 177.643636 47.239219 \n\" style=\"fill:#440154;\"/>\n    <path clip-path=\"url(#p2b30136500)\" d=\"M 201.992727 47.239219 \nL 226.341818 47.239219 \nL 226.341818 65.359219 \nL 201.992727 65.359219 \nL 201.992727 47.239219 \n\" style=\"fill:#440154;\"/>\n    <path clip-path=\"url(#p2b30136500)\" d=\"M 226.341818 47.239219 \nL 250.690909 47.239219 \nL 250.690909 65.359219 \nL 226.341818 65.359219 \nL 226.341818 47.239219 \n\" style=\"fill:#440154;\"/>\n    <path clip-path=\"url(#p2b30136500)\" d=\"M 250.690909 47.239219 \nL 275.04 47.239219 \nL 275.04 65.359219 \nL 250.690909 65.359219 \nL 250.690909 47.239219 \n\" style=\"fill:#440154;\"/>\n    <path clip-path=\"url(#p2b30136500)\" d=\"M 7.2 65.359219 \nL 31.549091 65.359219 \nL 31.549091 83.479219 \nL 7.2 83.479219 \nL 7.2 65.359219 \n\" style=\"fill:#440154;\"/>\n    <path clip-path=\"url(#p2b30136500)\" d=\"M 31.549091 65.359219 \nL 55.898182 65.359219 \nL 55.898182 83.479219 \nL 31.549091 83.479219 \nL 31.549091 65.359219 \n\" style=\"fill:#fde725;\"/>\n    <path clip-path=\"url(#p2b30136500)\" d=\"M 55.898182 65.359219 \nL 80.247273 65.359219 \nL 80.247273 83.479219 \nL 55.898182 83.479219 \nL 55.898182 65.359219 \n\" style=\"fill:#440154;\"/>\n    <path clip-path=\"url(#p2b30136500)\" d=\"M 80.247273 65.359219 \nL 104.596364 65.359219 \nL 104.596364 83.479219 \nL 80.247273 83.479219 \nL 80.247273 65.359219 \n\" style=\"fill:#440154;\"/>\n    <path clip-path=\"url(#p2b30136500)\" d=\"M 104.596364 65.359219 \nL 128.945455 65.359219 \nL 128.945455 83.479219 \nL 104.596364 83.479219 \nL 104.596364 65.359219 \n\" style=\"fill:#440154;\"/>\n    <path clip-path=\"url(#p2b30136500)\" d=\"M 128.945455 65.359219 \nL 153.294545 65.359219 \nL 153.294545 83.479219 \nL 128.945455 83.479219 \nL 128.945455 65.359219 \n\" style=\"fill:#440154;\"/>\n    <path clip-path=\"url(#p2b30136500)\" d=\"M 153.294545 65.359219 \nL 177.643636 65.359219 \nL 177.643636 83.479219 \nL 153.294545 83.479219 \nL 153.294545 65.359219 \n\" style=\"fill:#440154;\"/>\n    <path clip-path=\"url(#p2b30136500)\" d=\"M 177.643636 65.359219 \nL 201.992727 65.359219 \nL 201.992727 83.479219 \nL 177.643636 83.479219 \nL 177.643636 65.359219 \n\" style=\"fill:#440154;\"/>\n    <path clip-path=\"url(#p2b30136500)\" d=\"M 201.992727 65.359219 \nL 226.341818 65.359219 \nL 226.341818 83.479219 \nL 201.992727 83.479219 \nL 201.992727 65.359219 \n\" style=\"fill:#440154;\"/>\n    <path clip-path=\"url(#p2b30136500)\" d=\"M 226.341818 65.359219 \nL 250.690909 65.359219 \nL 250.690909 83.479219 \nL 226.341818 83.479219 \nL 226.341818 65.359219 \n\" style=\"fill:#440154;\"/>\n    <path clip-path=\"url(#p2b30136500)\" d=\"M 250.690909 65.359219 \nL 275.04 65.359219 \nL 275.04 83.479219 \nL 250.690909 83.479219 \nL 250.690909 65.359219 \n\" style=\"fill:#440154;\"/>\n    <path clip-path=\"url(#p2b30136500)\" d=\"M 7.2 83.479219 \nL 31.549091 83.479219 \nL 31.549091 101.599219 \nL 7.2 101.599219 \nL 7.2 83.479219 \n\" style=\"fill:#440154;\"/>\n    <path clip-path=\"url(#p2b30136500)\" d=\"M 31.549091 83.479219 \nL 55.898182 83.479219 \nL 55.898182 101.599219 \nL 31.549091 101.599219 \nL 31.549091 83.479219 \n\" style=\"fill:#440154;\"/>\n    <path clip-path=\"url(#p2b30136500)\" d=\"M 55.898182 83.479219 \nL 80.247273 83.479219 \nL 80.247273 101.599219 \nL 55.898182 101.599219 \nL 55.898182 83.479219 \n\" style=\"fill:#440154;\"/>\n    <path clip-path=\"url(#p2b30136500)\" d=\"M 80.247273 83.479219 \nL 104.596364 83.479219 \nL 104.596364 101.599219 \nL 80.247273 101.599219 \nL 80.247273 83.479219 \n\" style=\"fill:#440154;\"/>\n    <path clip-path=\"url(#p2b30136500)\" d=\"M 104.596364 83.479219 \nL 128.945455 83.479219 \nL 128.945455 101.599219 \nL 104.596364 101.599219 \nL 104.596364 83.479219 \n\" style=\"fill:#440154;\"/>\n    <path clip-path=\"url(#p2b30136500)\" d=\"M 128.945455 83.479219 \nL 153.294545 83.479219 \nL 153.294545 101.599219 \nL 128.945455 101.599219 \nL 128.945455 83.479219 \n\" style=\"fill:#440154;\"/>\n    <path clip-path=\"url(#p2b30136500)\" d=\"M 153.294545 83.479219 \nL 177.643636 83.479219 \nL 177.643636 101.599219 \nL 153.294545 101.599219 \nL 153.294545 83.479219 \n\" style=\"fill:#440154;\"/>\n    <path clip-path=\"url(#p2b30136500)\" d=\"M 177.643636 83.479219 \nL 201.992727 83.479219 \nL 201.992727 101.599219 \nL 177.643636 101.599219 \nL 177.643636 83.479219 \n\" style=\"fill:#fde725;\"/>\n    <path clip-path=\"url(#p2b30136500)\" d=\"M 201.992727 83.479219 \nL 226.341818 83.479219 \nL 226.341818 101.599219 \nL 201.992727 101.599219 \nL 201.992727 83.479219 \n\" style=\"fill:#440154;\"/>\n    <path clip-path=\"url(#p2b30136500)\" d=\"M 226.341818 83.479219 \nL 250.690909 83.479219 \nL 250.690909 101.599219 \nL 226.341818 101.599219 \nL 226.341818 83.479219 \n\" style=\"fill:#440154;\"/>\n    <path clip-path=\"url(#p2b30136500)\" d=\"M 250.690909 83.479219 \nL 275.04 83.479219 \nL 275.04 101.599219 \nL 250.690909 101.599219 \nL 250.690909 83.479219 \n\" style=\"fill:#440154;\"/>\n    <path clip-path=\"url(#p2b30136500)\" d=\"M 7.2 101.599219 \nL 31.549091 101.599219 \nL 31.549091 119.719219 \nL 7.2 119.719219 \nL 7.2 101.599219 \n\" style=\"fill:#440154;\"/>\n    <path clip-path=\"url(#p2b30136500)\" d=\"M 31.549091 101.599219 \nL 55.898182 101.599219 \nL 55.898182 119.719219 \nL 31.549091 119.719219 \nL 31.549091 101.599219 \n\" style=\"fill:#440154;\"/>\n    <path clip-path=\"url(#p2b30136500)\" d=\"M 55.898182 101.599219 \nL 80.247273 101.599219 \nL 80.247273 119.719219 \nL 55.898182 119.719219 \nL 55.898182 101.599219 \n\" style=\"fill:#440154;\"/>\n    <path clip-path=\"url(#p2b30136500)\" d=\"M 80.247273 101.599219 \nL 104.596364 101.599219 \nL 104.596364 119.719219 \nL 80.247273 119.719219 \nL 80.247273 101.599219 \n\" style=\"fill:#440154;\"/>\n    <path clip-path=\"url(#p2b30136500)\" d=\"M 104.596364 101.599219 \nL 128.945455 101.599219 \nL 128.945455 119.719219 \nL 104.596364 119.719219 \nL 104.596364 101.599219 \n\" style=\"fill:#440154;\"/>\n    <path clip-path=\"url(#p2b30136500)\" d=\"M 128.945455 101.599219 \nL 153.294545 101.599219 \nL 153.294545 119.719219 \nL 128.945455 119.719219 \nL 128.945455 101.599219 \n\" style=\"fill:#440154;\"/>\n    <path clip-path=\"url(#p2b30136500)\" d=\"M 153.294545 101.599219 \nL 177.643636 101.599219 \nL 177.643636 119.719219 \nL 153.294545 119.719219 \nL 153.294545 101.599219 \n\" style=\"fill:#440154;\"/>\n    <path clip-path=\"url(#p2b30136500)\" d=\"M 177.643636 101.599219 \nL 201.992727 101.599219 \nL 201.992727 119.719219 \nL 177.643636 119.719219 \nL 177.643636 101.599219 \n\" style=\"fill:#440154;\"/>\n    <path clip-path=\"url(#p2b30136500)\" d=\"M 201.992727 101.599219 \nL 226.341818 101.599219 \nL 226.341818 119.719219 \nL 201.992727 119.719219 \nL 201.992727 101.599219 \n\" style=\"fill:#440154;\"/>\n    <path clip-path=\"url(#p2b30136500)\" d=\"M 226.341818 101.599219 \nL 250.690909 101.599219 \nL 250.690909 119.719219 \nL 226.341818 119.719219 \nL 226.341818 101.599219 \n\" style=\"fill:#440154;\"/>\n    <path clip-path=\"url(#p2b30136500)\" d=\"M 250.690909 101.599219 \nL 275.04 101.599219 \nL 275.04 119.719219 \nL 250.690909 119.719219 \nL 250.690909 101.599219 \n\" style=\"fill:#440154;\"/>\n    <path clip-path=\"url(#p2b30136500)\" d=\"M 7.2 119.719219 \nL 31.549091 119.719219 \nL 31.549091 137.839219 \nL 7.2 137.839219 \nL 7.2 119.719219 \n\" style=\"fill:#440154;\"/>\n    <path clip-path=\"url(#p2b30136500)\" d=\"M 31.549091 119.719219 \nL 55.898182 119.719219 \nL 55.898182 137.839219 \nL 31.549091 137.839219 \nL 31.549091 119.719219 \n\" style=\"fill:#440154;\"/>\n    <path clip-path=\"url(#p2b30136500)\" d=\"M 55.898182 119.719219 \nL 80.247273 119.719219 \nL 80.247273 137.839219 \nL 55.898182 137.839219 \nL 55.898182 119.719219 \n\" style=\"fill:#440154;\"/>\n    <path clip-path=\"url(#p2b30136500)\" d=\"M 80.247273 119.719219 \nL 104.596364 119.719219 \nL 104.596364 137.839219 \nL 80.247273 137.839219 \nL 80.247273 119.719219 \n\" style=\"fill:#440154;\"/>\n    <path clip-path=\"url(#p2b30136500)\" d=\"M 104.596364 119.719219 \nL 128.945455 119.719219 \nL 128.945455 137.839219 \nL 104.596364 137.839219 \nL 104.596364 119.719219 \n\" style=\"fill:#440154;\"/>\n    <path clip-path=\"url(#p2b30136500)\" d=\"M 128.945455 119.719219 \nL 153.294545 119.719219 \nL 153.294545 137.839219 \nL 128.945455 137.839219 \nL 128.945455 119.719219 \n\" style=\"fill:#440154;\"/>\n    <path clip-path=\"url(#p2b30136500)\" d=\"M 153.294545 119.719219 \nL 177.643636 119.719219 \nL 177.643636 137.839219 \nL 153.294545 137.839219 \nL 153.294545 119.719219 \n\" style=\"fill:#440154;\"/>\n    <path clip-path=\"url(#p2b30136500)\" d=\"M 177.643636 119.719219 \nL 201.992727 119.719219 \nL 201.992727 137.839219 \nL 177.643636 137.839219 \nL 177.643636 119.719219 \n\" style=\"fill:#440154;\"/>\n    <path clip-path=\"url(#p2b30136500)\" d=\"M 201.992727 119.719219 \nL 226.341818 119.719219 \nL 226.341818 137.839219 \nL 201.992727 137.839219 \nL 201.992727 119.719219 \n\" style=\"fill:#440154;\"/>\n    <path clip-path=\"url(#p2b30136500)\" d=\"M 226.341818 119.719219 \nL 250.690909 119.719219 \nL 250.690909 137.839219 \nL 226.341818 137.839219 \nL 226.341818 119.719219 \n\" style=\"fill:#440154;\"/>\n    <path clip-path=\"url(#p2b30136500)\" d=\"M 250.690909 119.719219 \nL 275.04 119.719219 \nL 275.04 137.839219 \nL 250.690909 137.839219 \nL 250.690909 119.719219 \n\" style=\"fill:#440154;\"/>\n    <path clip-path=\"url(#p2b30136500)\" d=\"M 7.2 137.839219 \nL 31.549091 137.839219 \nL 31.549091 155.959219 \nL 7.2 155.959219 \nL 7.2 137.839219 \n\" style=\"fill:#440154;\"/>\n    <path clip-path=\"url(#p2b30136500)\" d=\"M 31.549091 137.839219 \nL 55.898182 137.839219 \nL 55.898182 155.959219 \nL 31.549091 155.959219 \nL 31.549091 137.839219 \n\" style=\"fill:#440154;\"/>\n    <path clip-path=\"url(#p2b30136500)\" d=\"M 55.898182 137.839219 \nL 80.247273 137.839219 \nL 80.247273 155.959219 \nL 55.898182 155.959219 \nL 55.898182 137.839219 \n\" style=\"fill:#440154;\"/>\n    <path clip-path=\"url(#p2b30136500)\" d=\"M 80.247273 137.839219 \nL 104.596364 137.839219 \nL 104.596364 155.959219 \nL 80.247273 155.959219 \nL 80.247273 137.839219 \n\" style=\"fill:#440154;\"/>\n    <path clip-path=\"url(#p2b30136500)\" d=\"M 104.596364 137.839219 \nL 128.945455 137.839219 \nL 128.945455 155.959219 \nL 104.596364 155.959219 \nL 104.596364 137.839219 \n\" style=\"fill:#440154;\"/>\n    <path clip-path=\"url(#p2b30136500)\" d=\"M 128.945455 137.839219 \nL 153.294545 137.839219 \nL 153.294545 155.959219 \nL 128.945455 155.959219 \nL 128.945455 137.839219 \n\" style=\"fill:#440154;\"/>\n    <path clip-path=\"url(#p2b30136500)\" d=\"M 153.294545 137.839219 \nL 177.643636 137.839219 \nL 177.643636 155.959219 \nL 153.294545 155.959219 \nL 153.294545 137.839219 \n\" style=\"fill:#440154;\"/>\n    <path clip-path=\"url(#p2b30136500)\" d=\"M 177.643636 137.839219 \nL 201.992727 137.839219 \nL 201.992727 155.959219 \nL 177.643636 155.959219 \nL 177.643636 137.839219 \n\" style=\"fill:#440154;\"/>\n    <path clip-path=\"url(#p2b30136500)\" d=\"M 201.992727 137.839219 \nL 226.341818 137.839219 \nL 226.341818 155.959219 \nL 201.992727 155.959219 \nL 201.992727 137.839219 \n\" style=\"fill:#440154;\"/>\n    <path clip-path=\"url(#p2b30136500)\" d=\"M 226.341818 137.839219 \nL 250.690909 137.839219 \nL 250.690909 155.959219 \nL 226.341818 155.959219 \nL 226.341818 137.839219 \n\" style=\"fill:#440154;\"/>\n    <path clip-path=\"url(#p2b30136500)\" d=\"M 250.690909 137.839219 \nL 275.04 137.839219 \nL 275.04 155.959219 \nL 250.690909 155.959219 \nL 250.690909 137.839219 \n\" style=\"fill:#440154;\"/>\n    <path clip-path=\"url(#p2b30136500)\" d=\"M 7.2 155.959219 \nL 31.549091 155.959219 \nL 31.549091 174.079219 \nL 7.2 174.079219 \nL 7.2 155.959219 \n\" style=\"fill:#440154;\"/>\n    <path clip-path=\"url(#p2b30136500)\" d=\"M 31.549091 155.959219 \nL 55.898182 155.959219 \nL 55.898182 174.079219 \nL 31.549091 174.079219 \nL 31.549091 155.959219 \n\" style=\"fill:#440154;\"/>\n    <path clip-path=\"url(#p2b30136500)\" d=\"M 55.898182 155.959219 \nL 80.247273 155.959219 \nL 80.247273 174.079219 \nL 55.898182 174.079219 \nL 55.898182 155.959219 \n\" style=\"fill:#440154;\"/>\n    <path clip-path=\"url(#p2b30136500)\" d=\"M 80.247273 155.959219 \nL 104.596364 155.959219 \nL 104.596364 174.079219 \nL 80.247273 174.079219 \nL 80.247273 155.959219 \n\" style=\"fill:#440154;\"/>\n    <path clip-path=\"url(#p2b30136500)\" d=\"M 104.596364 155.959219 \nL 128.945455 155.959219 \nL 128.945455 174.079219 \nL 104.596364 174.079219 \nL 104.596364 155.959219 \n\" style=\"fill:#440154;\"/>\n    <path clip-path=\"url(#p2b30136500)\" d=\"M 128.945455 155.959219 \nL 153.294545 155.959219 \nL 153.294545 174.079219 \nL 128.945455 174.079219 \nL 128.945455 155.959219 \n\" style=\"fill:#440154;\"/>\n    <path clip-path=\"url(#p2b30136500)\" d=\"M 153.294545 155.959219 \nL 177.643636 155.959219 \nL 177.643636 174.079219 \nL 153.294545 174.079219 \nL 153.294545 155.959219 \n\" style=\"fill:#440154;\"/>\n    <path clip-path=\"url(#p2b30136500)\" d=\"M 177.643636 155.959219 \nL 201.992727 155.959219 \nL 201.992727 174.079219 \nL 177.643636 174.079219 \nL 177.643636 155.959219 \n\" style=\"fill:#440154;\"/>\n    <path clip-path=\"url(#p2b30136500)\" d=\"M 201.992727 155.959219 \nL 226.341818 155.959219 \nL 226.341818 174.079219 \nL 201.992727 174.079219 \nL 201.992727 155.959219 \n\" style=\"fill:#440154;\"/>\n    <path clip-path=\"url(#p2b30136500)\" d=\"M 226.341818 155.959219 \nL 250.690909 155.959219 \nL 250.690909 174.079219 \nL 226.341818 174.079219 \nL 226.341818 155.959219 \n\" style=\"fill:#440154;\"/>\n    <path clip-path=\"url(#p2b30136500)\" d=\"M 250.690909 155.959219 \nL 275.04 155.959219 \nL 275.04 174.079219 \nL 250.690909 174.079219 \nL 250.690909 155.959219 \n\" style=\"fill:#440154;\"/>\n    <path clip-path=\"url(#p2b30136500)\" d=\"M 7.2 174.079219 \nL 31.549091 174.079219 \nL 31.549091 192.199219 \nL 7.2 192.199219 \nL 7.2 174.079219 \n\" style=\"fill:#440154;\"/>\n    <path clip-path=\"url(#p2b30136500)\" d=\"M 31.549091 174.079219 \nL 55.898182 174.079219 \nL 55.898182 192.199219 \nL 31.549091 192.199219 \nL 31.549091 174.079219 \n\" style=\"fill:#fde725;\"/>\n    <path clip-path=\"url(#p2b30136500)\" d=\"M 55.898182 174.079219 \nL 80.247273 174.079219 \nL 80.247273 192.199219 \nL 55.898182 192.199219 \nL 55.898182 174.079219 \n\" style=\"fill:#440154;\"/>\n    <path clip-path=\"url(#p2b30136500)\" d=\"M 80.247273 174.079219 \nL 104.596364 174.079219 \nL 104.596364 192.199219 \nL 80.247273 192.199219 \nL 80.247273 174.079219 \n\" style=\"fill:#440154;\"/>\n    <path clip-path=\"url(#p2b30136500)\" d=\"M 104.596364 174.079219 \nL 128.945455 174.079219 \nL 128.945455 192.199219 \nL 104.596364 192.199219 \nL 104.596364 174.079219 \n\" style=\"fill:#440154;\"/>\n    <path clip-path=\"url(#p2b30136500)\" d=\"M 128.945455 174.079219 \nL 153.294545 174.079219 \nL 153.294545 192.199219 \nL 128.945455 192.199219 \nL 128.945455 174.079219 \n\" style=\"fill:#440154;\"/>\n    <path clip-path=\"url(#p2b30136500)\" d=\"M 153.294545 174.079219 \nL 177.643636 174.079219 \nL 177.643636 192.199219 \nL 153.294545 192.199219 \nL 153.294545 174.079219 \n\" style=\"fill:#440154;\"/>\n    <path clip-path=\"url(#p2b30136500)\" d=\"M 177.643636 174.079219 \nL 201.992727 174.079219 \nL 201.992727 192.199219 \nL 177.643636 192.199219 \nL 177.643636 174.079219 \n\" style=\"fill:#440154;\"/>\n    <path clip-path=\"url(#p2b30136500)\" d=\"M 201.992727 174.079219 \nL 226.341818 174.079219 \nL 226.341818 192.199219 \nL 201.992727 192.199219 \nL 201.992727 174.079219 \n\" style=\"fill:#440154;\"/>\n    <path clip-path=\"url(#p2b30136500)\" d=\"M 226.341818 174.079219 \nL 250.690909 174.079219 \nL 250.690909 192.199219 \nL 226.341818 192.199219 \nL 226.341818 174.079219 \n\" style=\"fill:#440154;\"/>\n    <path clip-path=\"url(#p2b30136500)\" d=\"M 250.690909 174.079219 \nL 275.04 174.079219 \nL 275.04 192.199219 \nL 250.690909 192.199219 \nL 250.690909 174.079219 \n\" style=\"fill:#440154;\"/>\n    <path clip-path=\"url(#p2b30136500)\" d=\"M 7.2 192.199219 \nL 31.549091 192.199219 \nL 31.549091 210.319219 \nL 7.2 210.319219 \nL 7.2 192.199219 \n\" style=\"fill:#440154;\"/>\n    <path clip-path=\"url(#p2b30136500)\" d=\"M 31.549091 192.199219 \nL 55.898182 192.199219 \nL 55.898182 210.319219 \nL 31.549091 210.319219 \nL 31.549091 192.199219 \n\" style=\"fill:#440154;\"/>\n    <path clip-path=\"url(#p2b30136500)\" d=\"M 55.898182 192.199219 \nL 80.247273 192.199219 \nL 80.247273 210.319219 \nL 55.898182 210.319219 \nL 55.898182 192.199219 \n\" style=\"fill:#fde725;\"/>\n    <path clip-path=\"url(#p2b30136500)\" d=\"M 80.247273 192.199219 \nL 104.596364 192.199219 \nL 104.596364 210.319219 \nL 80.247273 210.319219 \nL 80.247273 192.199219 \n\" style=\"fill:#440154;\"/>\n    <path clip-path=\"url(#p2b30136500)\" d=\"M 104.596364 192.199219 \nL 128.945455 192.199219 \nL 128.945455 210.319219 \nL 104.596364 210.319219 \nL 104.596364 192.199219 \n\" style=\"fill:#440154;\"/>\n    <path clip-path=\"url(#p2b30136500)\" d=\"M 128.945455 192.199219 \nL 153.294545 192.199219 \nL 153.294545 210.319219 \nL 128.945455 210.319219 \nL 128.945455 192.199219 \n\" style=\"fill:#440154;\"/>\n    <path clip-path=\"url(#p2b30136500)\" d=\"M 153.294545 192.199219 \nL 177.643636 192.199219 \nL 177.643636 210.319219 \nL 153.294545 210.319219 \nL 153.294545 192.199219 \n\" style=\"fill:#440154;\"/>\n    <path clip-path=\"url(#p2b30136500)\" d=\"M 177.643636 192.199219 \nL 201.992727 192.199219 \nL 201.992727 210.319219 \nL 177.643636 210.319219 \nL 177.643636 192.199219 \n\" style=\"fill:#440154;\"/>\n    <path clip-path=\"url(#p2b30136500)\" d=\"M 201.992727 192.199219 \nL 226.341818 192.199219 \nL 226.341818 210.319219 \nL 201.992727 210.319219 \nL 201.992727 192.199219 \n\" style=\"fill:#440154;\"/>\n    <path clip-path=\"url(#p2b30136500)\" d=\"M 226.341818 192.199219 \nL 250.690909 192.199219 \nL 250.690909 210.319219 \nL 226.341818 210.319219 \nL 226.341818 192.199219 \n\" style=\"fill:#440154;\"/>\n    <path clip-path=\"url(#p2b30136500)\" d=\"M 250.690909 192.199219 \nL 275.04 192.199219 \nL 275.04 210.319219 \nL 250.690909 210.319219 \nL 250.690909 192.199219 \n\" style=\"fill:#440154;\"/>\n    <path clip-path=\"url(#p2b30136500)\" d=\"M 7.2 210.319219 \nL 31.549091 210.319219 \nL 31.549091 228.439219 \nL 7.2 228.439219 \nL 7.2 210.319219 \n\" style=\"fill:#440154;\"/>\n    <path clip-path=\"url(#p2b30136500)\" d=\"M 31.549091 210.319219 \nL 55.898182 210.319219 \nL 55.898182 228.439219 \nL 31.549091 228.439219 \nL 31.549091 210.319219 \n\" style=\"fill:#440154;\"/>\n    <path clip-path=\"url(#p2b30136500)\" d=\"M 55.898182 210.319219 \nL 80.247273 210.319219 \nL 80.247273 228.439219 \nL 55.898182 228.439219 \nL 55.898182 210.319219 \n\" style=\"fill:#440154;\"/>\n    <path clip-path=\"url(#p2b30136500)\" d=\"M 80.247273 210.319219 \nL 104.596364 210.319219 \nL 104.596364 228.439219 \nL 80.247273 228.439219 \nL 80.247273 210.319219 \n\" style=\"fill:#440154;\"/>\n    <path clip-path=\"url(#p2b30136500)\" d=\"M 104.596364 210.319219 \nL 128.945455 210.319219 \nL 128.945455 228.439219 \nL 104.596364 228.439219 \nL 104.596364 210.319219 \n\" style=\"fill:#440154;\"/>\n    <path clip-path=\"url(#p2b30136500)\" d=\"M 128.945455 210.319219 \nL 153.294545 210.319219 \nL 153.294545 228.439219 \nL 128.945455 228.439219 \nL 128.945455 210.319219 \n\" style=\"fill:#440154;\"/>\n    <path clip-path=\"url(#p2b30136500)\" d=\"M 153.294545 210.319219 \nL 177.643636 210.319219 \nL 177.643636 228.439219 \nL 153.294545 228.439219 \nL 153.294545 210.319219 \n\" style=\"fill:#440154;\"/>\n    <path clip-path=\"url(#p2b30136500)\" d=\"M 177.643636 210.319219 \nL 201.992727 210.319219 \nL 201.992727 228.439219 \nL 177.643636 228.439219 \nL 177.643636 210.319219 \n\" style=\"fill:#440154;\"/>\n    <path clip-path=\"url(#p2b30136500)\" d=\"M 201.992727 210.319219 \nL 226.341818 210.319219 \nL 226.341818 228.439219 \nL 201.992727 228.439219 \nL 201.992727 210.319219 \n\" style=\"fill:#440154;\"/>\n    <path clip-path=\"url(#p2b30136500)\" d=\"M 226.341818 210.319219 \nL 250.690909 210.319219 \nL 250.690909 228.439219 \nL 226.341818 228.439219 \nL 226.341818 210.319219 \n\" style=\"fill:#fde725;\"/>\n    <path clip-path=\"url(#p2b30136500)\" d=\"M 250.690909 210.319219 \nL 275.04 210.319219 \nL 275.04 228.439219 \nL 250.690909 228.439219 \nL 250.690909 210.319219 \n\" style=\"fill:#fde725;\"/>\n   </g>\n   <g id=\"matplotlib.axis_1\">\n    <g id=\"xtick_1\">\n     <g id=\"line2d_1\">\n      <defs>\n       <path d=\"M 0 0 \nL 0 3.5 \n\" id=\"m3988983c6a\" style=\"stroke:#000000;stroke-width:0.8;\"/>\n      </defs>\n      <g>\n       <use style=\"stroke:#000000;stroke-width:0.8;\" x=\"19.374545\" xlink:href=\"#m3988983c6a\" y=\"228.439219\"/>\n      </g>\n     </g>\n     <g id=\"text_1\">\n      <!-- ID -->\n      <defs>\n       <path d=\"M 9.8125 72.90625 \nL 19.671875 72.90625 \nL 19.671875 0 \nL 9.8125 0 \nz\n\" id=\"DejaVuSans-73\"/>\n       <path d=\"M 19.671875 64.796875 \nL 19.671875 8.109375 \nL 31.59375 8.109375 \nQ 46.6875 8.109375 53.6875 14.9375 \nQ 60.6875 21.78125 60.6875 36.53125 \nQ 60.6875 51.171875 53.6875 57.984375 \nQ 46.6875 64.796875 31.59375 64.796875 \nz\nM 9.8125 72.90625 \nL 30.078125 72.90625 \nQ 51.265625 72.90625 61.171875 64.09375 \nQ 71.09375 55.28125 71.09375 36.53125 \nQ 71.09375 17.671875 61.125 8.828125 \nQ 51.171875 0 30.078125 0 \nL 9.8125 0 \nz\n\" id=\"DejaVuSans-68\"/>\n      </defs>\n      <g transform=\"translate(22.13392 246.089219)rotate(-90)scale(0.1 -0.1)\">\n       <use xlink:href=\"#DejaVuSans-73\"/>\n       <use x=\"29.492188\" xlink:href=\"#DejaVuSans-68\"/>\n      </g>\n     </g>\n    </g>\n    <g id=\"xtick_2\">\n     <g id=\"line2d_2\">\n      <g>\n       <use style=\"stroke:#000000;stroke-width:0.8;\" x=\"43.723636\" xlink:href=\"#m3988983c6a\" y=\"228.439219\"/>\n      </g>\n     </g>\n     <g id=\"text_2\">\n      <!-- Age -->\n      <defs>\n       <path d=\"M 34.1875 63.1875 \nL 20.796875 26.90625 \nL 47.609375 26.90625 \nz\nM 28.609375 72.90625 \nL 39.796875 72.90625 \nL 67.578125 0 \nL 57.328125 0 \nL 50.6875 18.703125 \nL 17.828125 18.703125 \nL 11.1875 0 \nL 0.78125 0 \nz\n\" id=\"DejaVuSans-65\"/>\n       <path d=\"M 45.40625 27.984375 \nQ 45.40625 37.75 41.375 43.109375 \nQ 37.359375 48.484375 30.078125 48.484375 \nQ 22.859375 48.484375 18.828125 43.109375 \nQ 14.796875 37.75 14.796875 27.984375 \nQ 14.796875 18.265625 18.828125 12.890625 \nQ 22.859375 7.515625 30.078125 7.515625 \nQ 37.359375 7.515625 41.375 12.890625 \nQ 45.40625 18.265625 45.40625 27.984375 \nz\nM 54.390625 6.78125 \nQ 54.390625 -7.171875 48.1875 -13.984375 \nQ 42 -20.796875 29.203125 -20.796875 \nQ 24.46875 -20.796875 20.265625 -20.09375 \nQ 16.0625 -19.390625 12.109375 -17.921875 \nL 12.109375 -9.1875 \nQ 16.0625 -11.328125 19.921875 -12.34375 \nQ 23.78125 -13.375 27.78125 -13.375 \nQ 36.625 -13.375 41.015625 -8.765625 \nQ 45.40625 -4.15625 45.40625 5.171875 \nL 45.40625 9.625 \nQ 42.625 4.78125 38.28125 2.390625 \nQ 33.9375 0 27.875 0 \nQ 17.828125 0 11.671875 7.65625 \nQ 5.515625 15.328125 5.515625 27.984375 \nQ 5.515625 40.671875 11.671875 48.328125 \nQ 17.828125 56 27.875 56 \nQ 33.9375 56 38.28125 53.609375 \nQ 42.625 51.21875 45.40625 46.390625 \nL 45.40625 54.6875 \nL 54.390625 54.6875 \nz\n\" id=\"DejaVuSans-103\"/>\n       <path d=\"M 56.203125 29.59375 \nL 56.203125 25.203125 \nL 14.890625 25.203125 \nQ 15.484375 15.921875 20.484375 11.0625 \nQ 25.484375 6.203125 34.421875 6.203125 \nQ 39.59375 6.203125 44.453125 7.46875 \nQ 49.3125 8.734375 54.109375 11.28125 \nL 54.109375 2.78125 \nQ 49.265625 0.734375 44.1875 -0.34375 \nQ 39.109375 -1.421875 33.890625 -1.421875 \nQ 20.796875 -1.421875 13.15625 6.1875 \nQ 5.515625 13.8125 5.515625 26.8125 \nQ 5.515625 40.234375 12.765625 48.109375 \nQ 20.015625 56 32.328125 56 \nQ 43.359375 56 49.78125 48.890625 \nQ 56.203125 41.796875 56.203125 29.59375 \nz\nM 47.21875 32.234375 \nQ 47.125 39.59375 43.09375 43.984375 \nQ 39.0625 48.390625 32.421875 48.390625 \nQ 24.90625 48.390625 20.390625 44.140625 \nQ 15.875 39.890625 15.1875 32.171875 \nz\n\" id=\"DejaVuSans-101\"/>\n      </defs>\n      <g transform=\"translate(46.483011 254.781406)rotate(-90)scale(0.1 -0.1)\">\n       <use xlink:href=\"#DejaVuSans-65\"/>\n       <use x=\"68.408203\" xlink:href=\"#DejaVuSans-103\"/>\n       <use x=\"131.884766\" xlink:href=\"#DejaVuSans-101\"/>\n      </g>\n     </g>\n    </g>\n    <g id=\"xtick_3\">\n     <g id=\"line2d_3\">\n      <g>\n       <use style=\"stroke:#000000;stroke-width:0.8;\" x=\"68.072727\" xlink:href=\"#m3988983c6a\" y=\"228.439219\"/>\n      </g>\n     </g>\n     <g id=\"text_3\">\n      <!-- Weight -->\n      <defs>\n       <path d=\"M 3.328125 72.90625 \nL 13.28125 72.90625 \nL 28.609375 11.28125 \nL 43.890625 72.90625 \nL 54.984375 72.90625 \nL 70.3125 11.28125 \nL 85.59375 72.90625 \nL 95.609375 72.90625 \nL 77.296875 0 \nL 64.890625 0 \nL 49.515625 63.28125 \nL 33.984375 0 \nL 21.578125 0 \nz\n\" id=\"DejaVuSans-87\"/>\n       <path d=\"M 9.421875 54.6875 \nL 18.40625 54.6875 \nL 18.40625 0 \nL 9.421875 0 \nz\nM 9.421875 75.984375 \nL 18.40625 75.984375 \nL 18.40625 64.59375 \nL 9.421875 64.59375 \nz\n\" id=\"DejaVuSans-105\"/>\n       <path d=\"M 54.890625 33.015625 \nL 54.890625 0 \nL 45.90625 0 \nL 45.90625 32.71875 \nQ 45.90625 40.484375 42.875 44.328125 \nQ 39.84375 48.1875 33.796875 48.1875 \nQ 26.515625 48.1875 22.3125 43.546875 \nQ 18.109375 38.921875 18.109375 30.90625 \nL 18.109375 0 \nL 9.078125 0 \nL 9.078125 75.984375 \nL 18.109375 75.984375 \nL 18.109375 46.1875 \nQ 21.34375 51.125 25.703125 53.5625 \nQ 30.078125 56 35.796875 56 \nQ 45.21875 56 50.046875 50.171875 \nQ 54.890625 44.34375 54.890625 33.015625 \nz\n\" id=\"DejaVuSans-104\"/>\n       <path d=\"M 18.3125 70.21875 \nL 18.3125 54.6875 \nL 36.8125 54.6875 \nL 36.8125 47.703125 \nL 18.3125 47.703125 \nL 18.3125 18.015625 \nQ 18.3125 11.328125 20.140625 9.421875 \nQ 21.96875 7.515625 27.59375 7.515625 \nL 36.8125 7.515625 \nL 36.8125 0 \nL 27.59375 0 \nQ 17.1875 0 13.234375 3.875 \nQ 9.28125 7.765625 9.28125 18.015625 \nL 9.28125 47.703125 \nL 2.6875 47.703125 \nL 2.6875 54.6875 \nL 9.28125 54.6875 \nL 9.28125 70.21875 \nz\n\" id=\"DejaVuSans-116\"/>\n      </defs>\n      <g transform=\"translate(70.832102 270.276719)rotate(-90)scale(0.1 -0.1)\">\n       <use xlink:href=\"#DejaVuSans-87\"/>\n       <use x=\"93.001953\" xlink:href=\"#DejaVuSans-101\"/>\n       <use x=\"154.525391\" xlink:href=\"#DejaVuSans-105\"/>\n       <use x=\"182.308594\" xlink:href=\"#DejaVuSans-103\"/>\n       <use x=\"245.785156\" xlink:href=\"#DejaVuSans-104\"/>\n       <use x=\"309.164062\" xlink:href=\"#DejaVuSans-116\"/>\n      </g>\n     </g>\n    </g>\n    <g id=\"xtick_4\">\n     <g id=\"line2d_4\">\n      <g>\n       <use style=\"stroke:#000000;stroke-width:0.8;\" x=\"92.421818\" xlink:href=\"#m3988983c6a\" y=\"228.439219\"/>\n      </g>\n     </g>\n     <g id=\"text_4\">\n      <!-- m0006 -->\n      <defs>\n       <path d=\"M 52 44.1875 \nQ 55.375 50.25 60.0625 53.125 \nQ 64.75 56 71.09375 56 \nQ 79.640625 56 84.28125 50.015625 \nQ 88.921875 44.046875 88.921875 33.015625 \nL 88.921875 0 \nL 79.890625 0 \nL 79.890625 32.71875 \nQ 79.890625 40.578125 77.09375 44.375 \nQ 74.3125 48.1875 68.609375 48.1875 \nQ 61.625 48.1875 57.5625 43.546875 \nQ 53.515625 38.921875 53.515625 30.90625 \nL 53.515625 0 \nL 44.484375 0 \nL 44.484375 32.71875 \nQ 44.484375 40.625 41.703125 44.40625 \nQ 38.921875 48.1875 33.109375 48.1875 \nQ 26.21875 48.1875 22.15625 43.53125 \nQ 18.109375 38.875 18.109375 30.90625 \nL 18.109375 0 \nL 9.078125 0 \nL 9.078125 54.6875 \nL 18.109375 54.6875 \nL 18.109375 46.1875 \nQ 21.1875 51.21875 25.484375 53.609375 \nQ 29.78125 56 35.6875 56 \nQ 41.65625 56 45.828125 52.96875 \nQ 50 49.953125 52 44.1875 \nz\n\" id=\"DejaVuSans-109\"/>\n       <path d=\"M 31.78125 66.40625 \nQ 24.171875 66.40625 20.328125 58.90625 \nQ 16.5 51.421875 16.5 36.375 \nQ 16.5 21.390625 20.328125 13.890625 \nQ 24.171875 6.390625 31.78125 6.390625 \nQ 39.453125 6.390625 43.28125 13.890625 \nQ 47.125 21.390625 47.125 36.375 \nQ 47.125 51.421875 43.28125 58.90625 \nQ 39.453125 66.40625 31.78125 66.40625 \nz\nM 31.78125 74.21875 \nQ 44.046875 74.21875 50.515625 64.515625 \nQ 56.984375 54.828125 56.984375 36.375 \nQ 56.984375 17.96875 50.515625 8.265625 \nQ 44.046875 -1.421875 31.78125 -1.421875 \nQ 19.53125 -1.421875 13.0625 8.265625 \nQ 6.59375 17.96875 6.59375 36.375 \nQ 6.59375 54.828125 13.0625 64.515625 \nQ 19.53125 74.21875 31.78125 74.21875 \nz\n\" id=\"DejaVuSans-48\"/>\n       <path d=\"M 33.015625 40.375 \nQ 26.375 40.375 22.484375 35.828125 \nQ 18.609375 31.296875 18.609375 23.390625 \nQ 18.609375 15.53125 22.484375 10.953125 \nQ 26.375 6.390625 33.015625 6.390625 \nQ 39.65625 6.390625 43.53125 10.953125 \nQ 47.40625 15.53125 47.40625 23.390625 \nQ 47.40625 31.296875 43.53125 35.828125 \nQ 39.65625 40.375 33.015625 40.375 \nz\nM 52.59375 71.296875 \nL 52.59375 62.3125 \nQ 48.875 64.0625 45.09375 64.984375 \nQ 41.3125 65.921875 37.59375 65.921875 \nQ 27.828125 65.921875 22.671875 59.328125 \nQ 17.53125 52.734375 16.796875 39.40625 \nQ 19.671875 43.65625 24.015625 45.921875 \nQ 28.375 48.1875 33.59375 48.1875 \nQ 44.578125 48.1875 50.953125 41.515625 \nQ 57.328125 34.859375 57.328125 23.390625 \nQ 57.328125 12.15625 50.6875 5.359375 \nQ 44.046875 -1.421875 33.015625 -1.421875 \nQ 20.359375 -1.421875 13.671875 8.265625 \nQ 6.984375 17.96875 6.984375 36.375 \nQ 6.984375 53.65625 15.1875 63.9375 \nQ 23.390625 74.21875 37.203125 74.21875 \nQ 40.921875 74.21875 44.703125 73.484375 \nQ 48.484375 72.75 52.59375 71.296875 \nz\n\" id=\"DejaVuSans-54\"/>\n      </defs>\n      <g transform=\"translate(95.181193 270.629844)rotate(-90)scale(0.1 -0.1)\">\n       <use xlink:href=\"#DejaVuSans-109\"/>\n       <use x=\"97.412109\" xlink:href=\"#DejaVuSans-48\"/>\n       <use x=\"161.035156\" xlink:href=\"#DejaVuSans-48\"/>\n       <use x=\"224.658203\" xlink:href=\"#DejaVuSans-48\"/>\n       <use x=\"288.28125\" xlink:href=\"#DejaVuSans-54\"/>\n      </g>\n     </g>\n    </g>\n    <g id=\"xtick_5\">\n     <g id=\"line2d_5\">\n      <g>\n       <use style=\"stroke:#000000;stroke-width:0.8;\" x=\"116.770909\" xlink:href=\"#m3988983c6a\" y=\"228.439219\"/>\n      </g>\n     </g>\n     <g id=\"text_5\">\n      <!-- m0612 -->\n      <defs>\n       <path d=\"M 12.40625 8.296875 \nL 28.515625 8.296875 \nL 28.515625 63.921875 \nL 10.984375 60.40625 \nL 10.984375 69.390625 \nL 28.421875 72.90625 \nL 38.28125 72.90625 \nL 38.28125 8.296875 \nL 54.390625 8.296875 \nL 54.390625 0 \nL 12.40625 0 \nz\n\" id=\"DejaVuSans-49\"/>\n       <path d=\"M 19.1875 8.296875 \nL 53.609375 8.296875 \nL 53.609375 0 \nL 7.328125 0 \nL 7.328125 8.296875 \nQ 12.9375 14.109375 22.625 23.890625 \nQ 32.328125 33.6875 34.8125 36.53125 \nQ 39.546875 41.84375 41.421875 45.53125 \nQ 43.3125 49.21875 43.3125 52.78125 \nQ 43.3125 58.59375 39.234375 62.25 \nQ 35.15625 65.921875 28.609375 65.921875 \nQ 23.96875 65.921875 18.8125 64.3125 \nQ 13.671875 62.703125 7.8125 59.421875 \nL 7.8125 69.390625 \nQ 13.765625 71.78125 18.9375 73 \nQ 24.125 74.21875 28.421875 74.21875 \nQ 39.75 74.21875 46.484375 68.546875 \nQ 53.21875 62.890625 53.21875 53.421875 \nQ 53.21875 48.921875 51.53125 44.890625 \nQ 49.859375 40.875 45.40625 35.40625 \nQ 44.1875 33.984375 37.640625 27.21875 \nQ 31.109375 20.453125 19.1875 8.296875 \nz\n\" id=\"DejaVuSans-50\"/>\n      </defs>\n      <g transform=\"translate(119.530284 270.629844)rotate(-90)scale(0.1 -0.1)\">\n       <use xlink:href=\"#DejaVuSans-109\"/>\n       <use x=\"97.412109\" xlink:href=\"#DejaVuSans-48\"/>\n       <use x=\"161.035156\" xlink:href=\"#DejaVuSans-54\"/>\n       <use x=\"224.658203\" xlink:href=\"#DejaVuSans-49\"/>\n       <use x=\"288.28125\" xlink:href=\"#DejaVuSans-50\"/>\n      </g>\n     </g>\n    </g>\n    <g id=\"xtick_6\">\n     <g id=\"line2d_6\">\n      <g>\n       <use style=\"stroke:#000000;stroke-width:0.8;\" x=\"141.12\" xlink:href=\"#m3988983c6a\" y=\"228.439219\"/>\n      </g>\n     </g>\n     <g id=\"text_6\">\n      <!-- m1218 -->\n      <defs>\n       <path d=\"M 31.78125 34.625 \nQ 24.75 34.625 20.71875 30.859375 \nQ 16.703125 27.09375 16.703125 20.515625 \nQ 16.703125 13.921875 20.71875 10.15625 \nQ 24.75 6.390625 31.78125 6.390625 \nQ 38.8125 6.390625 42.859375 10.171875 \nQ 46.921875 13.96875 46.921875 20.515625 \nQ 46.921875 27.09375 42.890625 30.859375 \nQ 38.875 34.625 31.78125 34.625 \nz\nM 21.921875 38.8125 \nQ 15.578125 40.375 12.03125 44.71875 \nQ 8.5 49.078125 8.5 55.328125 \nQ 8.5 64.0625 14.71875 69.140625 \nQ 20.953125 74.21875 31.78125 74.21875 \nQ 42.671875 74.21875 48.875 69.140625 \nQ 55.078125 64.0625 55.078125 55.328125 \nQ 55.078125 49.078125 51.53125 44.71875 \nQ 48 40.375 41.703125 38.8125 \nQ 48.828125 37.15625 52.796875 32.3125 \nQ 56.78125 27.484375 56.78125 20.515625 \nQ 56.78125 9.90625 50.3125 4.234375 \nQ 43.84375 -1.421875 31.78125 -1.421875 \nQ 19.734375 -1.421875 13.25 4.234375 \nQ 6.78125 9.90625 6.78125 20.515625 \nQ 6.78125 27.484375 10.78125 32.3125 \nQ 14.796875 37.15625 21.921875 38.8125 \nz\nM 18.3125 54.390625 \nQ 18.3125 48.734375 21.84375 45.5625 \nQ 25.390625 42.390625 31.78125 42.390625 \nQ 38.140625 42.390625 41.71875 45.5625 \nQ 45.3125 48.734375 45.3125 54.390625 \nQ 45.3125 60.0625 41.71875 63.234375 \nQ 38.140625 66.40625 31.78125 66.40625 \nQ 25.390625 66.40625 21.84375 63.234375 \nQ 18.3125 60.0625 18.3125 54.390625 \nz\n\" id=\"DejaVuSans-56\"/>\n      </defs>\n      <g transform=\"translate(143.879375 270.629844)rotate(-90)scale(0.1 -0.1)\">\n       <use xlink:href=\"#DejaVuSans-109\"/>\n       <use x=\"97.412109\" xlink:href=\"#DejaVuSans-49\"/>\n       <use x=\"161.035156\" xlink:href=\"#DejaVuSans-50\"/>\n       <use x=\"224.658203\" xlink:href=\"#DejaVuSans-49\"/>\n       <use x=\"288.28125\" xlink:href=\"#DejaVuSans-56\"/>\n      </g>\n     </g>\n    </g>\n    <g id=\"xtick_7\">\n     <g id=\"line2d_7\">\n      <g>\n       <use style=\"stroke:#000000;stroke-width:0.8;\" x=\"165.469091\" xlink:href=\"#m3988983c6a\" y=\"228.439219\"/>\n      </g>\n     </g>\n     <g id=\"text_7\">\n      <!-- f006 -->\n      <defs>\n       <path d=\"M 37.109375 75.984375 \nL 37.109375 68.5 \nL 28.515625 68.5 \nQ 23.6875 68.5 21.796875 66.546875 \nQ 19.921875 64.59375 19.921875 59.515625 \nL 19.921875 54.6875 \nL 34.71875 54.6875 \nL 34.71875 47.703125 \nL 19.921875 47.703125 \nL 19.921875 0 \nL 10.890625 0 \nL 10.890625 47.703125 \nL 2.296875 47.703125 \nL 2.296875 54.6875 \nL 10.890625 54.6875 \nL 10.890625 58.5 \nQ 10.890625 67.625 15.140625 71.796875 \nQ 19.390625 75.984375 28.609375 75.984375 \nz\n\" id=\"DejaVuSans-102\"/>\n      </defs>\n      <g transform=\"translate(168.228466 258.047031)rotate(-90)scale(0.1 -0.1)\">\n       <use xlink:href=\"#DejaVuSans-102\"/>\n       <use x=\"35.205078\" xlink:href=\"#DejaVuSans-48\"/>\n       <use x=\"98.828125\" xlink:href=\"#DejaVuSans-48\"/>\n       <use x=\"162.451172\" xlink:href=\"#DejaVuSans-54\"/>\n      </g>\n     </g>\n    </g>\n    <g id=\"xtick_8\">\n     <g id=\"line2d_8\">\n      <g>\n       <use style=\"stroke:#000000;stroke-width:0.8;\" x=\"189.818182\" xlink:href=\"#m3988983c6a\" y=\"228.439219\"/>\n      </g>\n     </g>\n     <g id=\"text_8\">\n      <!-- f0612 -->\n      <g transform=\"translate(192.577557 264.409531)rotate(-90)scale(0.1 -0.1)\">\n       <use xlink:href=\"#DejaVuSans-102\"/>\n       <use x=\"35.205078\" xlink:href=\"#DejaVuSans-48\"/>\n       <use x=\"98.828125\" xlink:href=\"#DejaVuSans-54\"/>\n       <use x=\"162.451172\" xlink:href=\"#DejaVuSans-49\"/>\n       <use x=\"226.074219\" xlink:href=\"#DejaVuSans-50\"/>\n      </g>\n     </g>\n    </g>\n    <g id=\"xtick_9\">\n     <g id=\"line2d_9\">\n      <g>\n       <use style=\"stroke:#000000;stroke-width:0.8;\" x=\"214.167273\" xlink:href=\"#m3988983c6a\" y=\"228.439219\"/>\n      </g>\n     </g>\n     <g id=\"text_9\">\n      <!-- f1218 -->\n      <g transform=\"translate(216.926648 264.409531)rotate(-90)scale(0.1 -0.1)\">\n       <use xlink:href=\"#DejaVuSans-102\"/>\n       <use x=\"35.205078\" xlink:href=\"#DejaVuSans-49\"/>\n       <use x=\"98.828125\" xlink:href=\"#DejaVuSans-50\"/>\n       <use x=\"162.451172\" xlink:href=\"#DejaVuSans-49\"/>\n       <use x=\"226.074219\" xlink:href=\"#DejaVuSans-56\"/>\n      </g>\n     </g>\n    </g>\n    <g id=\"xtick_10\">\n     <g id=\"line2d_10\">\n      <g>\n       <use style=\"stroke:#000000;stroke-width:0.8;\" x=\"238.516364\" xlink:href=\"#m3988983c6a\" y=\"228.439219\"/>\n      </g>\n     </g>\n     <g id=\"text_10\">\n      <!-- Firstname -->\n      <defs>\n       <path d=\"M 9.8125 72.90625 \nL 51.703125 72.90625 \nL 51.703125 64.59375 \nL 19.671875 64.59375 \nL 19.671875 43.109375 \nL 48.578125 43.109375 \nL 48.578125 34.8125 \nL 19.671875 34.8125 \nL 19.671875 0 \nL 9.8125 0 \nz\n\" id=\"DejaVuSans-70\"/>\n       <path d=\"M 41.109375 46.296875 \nQ 39.59375 47.171875 37.8125 47.578125 \nQ 36.03125 48 33.890625 48 \nQ 26.265625 48 22.1875 43.046875 \nQ 18.109375 38.09375 18.109375 28.8125 \nL 18.109375 0 \nL 9.078125 0 \nL 9.078125 54.6875 \nL 18.109375 54.6875 \nL 18.109375 46.1875 \nQ 20.953125 51.171875 25.484375 53.578125 \nQ 30.03125 56 36.53125 56 \nQ 37.453125 56 38.578125 55.875 \nQ 39.703125 55.765625 41.0625 55.515625 \nz\n\" id=\"DejaVuSans-114\"/>\n       <path d=\"M 44.28125 53.078125 \nL 44.28125 44.578125 \nQ 40.484375 46.53125 36.375 47.5 \nQ 32.28125 48.484375 27.875 48.484375 \nQ 21.1875 48.484375 17.84375 46.4375 \nQ 14.5 44.390625 14.5 40.28125 \nQ 14.5 37.15625 16.890625 35.375 \nQ 19.28125 33.59375 26.515625 31.984375 \nL 29.59375 31.296875 \nQ 39.15625 29.25 43.1875 25.515625 \nQ 47.21875 21.78125 47.21875 15.09375 \nQ 47.21875 7.46875 41.1875 3.015625 \nQ 35.15625 -1.421875 24.609375 -1.421875 \nQ 20.21875 -1.421875 15.453125 -0.5625 \nQ 10.6875 0.296875 5.421875 2 \nL 5.421875 11.28125 \nQ 10.40625 8.6875 15.234375 7.390625 \nQ 20.0625 6.109375 24.8125 6.109375 \nQ 31.15625 6.109375 34.5625 8.28125 \nQ 37.984375 10.453125 37.984375 14.40625 \nQ 37.984375 18.0625 35.515625 20.015625 \nQ 33.0625 21.96875 24.703125 23.78125 \nL 21.578125 24.515625 \nQ 13.234375 26.265625 9.515625 29.90625 \nQ 5.8125 33.546875 5.8125 39.890625 \nQ 5.8125 47.609375 11.28125 51.796875 \nQ 16.75 56 26.8125 56 \nQ 31.78125 56 36.171875 55.265625 \nQ 40.578125 54.546875 44.28125 53.078125 \nz\n\" id=\"DejaVuSans-115\"/>\n       <path d=\"M 54.890625 33.015625 \nL 54.890625 0 \nL 45.90625 0 \nL 45.90625 32.71875 \nQ 45.90625 40.484375 42.875 44.328125 \nQ 39.84375 48.1875 33.796875 48.1875 \nQ 26.515625 48.1875 22.3125 43.546875 \nQ 18.109375 38.921875 18.109375 30.90625 \nL 18.109375 0 \nL 9.078125 0 \nL 9.078125 54.6875 \nL 18.109375 54.6875 \nL 18.109375 46.1875 \nQ 21.34375 51.125 25.703125 53.5625 \nQ 30.078125 56 35.796875 56 \nQ 45.21875 56 50.046875 50.171875 \nQ 54.890625 44.34375 54.890625 33.015625 \nz\n\" id=\"DejaVuSans-110\"/>\n       <path d=\"M 34.28125 27.484375 \nQ 23.390625 27.484375 19.1875 25 \nQ 14.984375 22.515625 14.984375 16.5 \nQ 14.984375 11.71875 18.140625 8.90625 \nQ 21.296875 6.109375 26.703125 6.109375 \nQ 34.1875 6.109375 38.703125 11.40625 \nQ 43.21875 16.703125 43.21875 25.484375 \nL 43.21875 27.484375 \nz\nM 52.203125 31.203125 \nL 52.203125 0 \nL 43.21875 0 \nL 43.21875 8.296875 \nQ 40.140625 3.328125 35.546875 0.953125 \nQ 30.953125 -1.421875 24.3125 -1.421875 \nQ 15.921875 -1.421875 10.953125 3.296875 \nQ 6 8.015625 6 15.921875 \nQ 6 25.140625 12.171875 29.828125 \nQ 18.359375 34.515625 30.609375 34.515625 \nL 43.21875 34.515625 \nL 43.21875 35.40625 \nQ 43.21875 41.609375 39.140625 45 \nQ 35.0625 48.390625 27.6875 48.390625 \nQ 23 48.390625 18.546875 47.265625 \nQ 14.109375 46.140625 10.015625 43.890625 \nL 10.015625 52.203125 \nQ 14.9375 54.109375 19.578125 55.046875 \nQ 24.21875 56 28.609375 56 \nQ 40.484375 56 46.34375 49.84375 \nQ 52.203125 43.703125 52.203125 31.203125 \nz\n\" id=\"DejaVuSans-97\"/>\n      </defs>\n      <g transform=\"translate(241.275739 284.843906)rotate(-90)scale(0.1 -0.1)\">\n       <use xlink:href=\"#DejaVuSans-70\"/>\n       <use x=\"50.269531\" xlink:href=\"#DejaVuSans-105\"/>\n       <use x=\"78.052734\" xlink:href=\"#DejaVuSans-114\"/>\n       <use x=\"119.166016\" xlink:href=\"#DejaVuSans-115\"/>\n       <use x=\"171.265625\" xlink:href=\"#DejaVuSans-116\"/>\n       <use x=\"210.474609\" xlink:href=\"#DejaVuSans-110\"/>\n       <use x=\"273.853516\" xlink:href=\"#DejaVuSans-97\"/>\n       <use x=\"335.132812\" xlink:href=\"#DejaVuSans-109\"/>\n       <use x=\"432.544922\" xlink:href=\"#DejaVuSans-101\"/>\n      </g>\n     </g>\n    </g>\n    <g id=\"xtick_11\">\n     <g id=\"line2d_11\">\n      <g>\n       <use style=\"stroke:#000000;stroke-width:0.8;\" x=\"262.865455\" xlink:href=\"#m3988983c6a\" y=\"228.439219\"/>\n      </g>\n     </g>\n     <g id=\"text_11\">\n      <!-- Lastname -->\n      <defs>\n       <path d=\"M 9.8125 72.90625 \nL 19.671875 72.90625 \nL 19.671875 8.296875 \nL 55.171875 8.296875 \nL 55.171875 0 \nL 9.8125 0 \nz\n\" id=\"DejaVuSans-76\"/>\n      </defs>\n      <g transform=\"translate(265.62483 284.628281)rotate(-90)scale(0.1 -0.1)\">\n       <use xlink:href=\"#DejaVuSans-76\"/>\n       <use x=\"55.712891\" xlink:href=\"#DejaVuSans-97\"/>\n       <use x=\"116.992188\" xlink:href=\"#DejaVuSans-115\"/>\n       <use x=\"169.091797\" xlink:href=\"#DejaVuSans-116\"/>\n       <use x=\"208.300781\" xlink:href=\"#DejaVuSans-110\"/>\n       <use x=\"271.679688\" xlink:href=\"#DejaVuSans-97\"/>\n       <use x=\"332.958984\" xlink:href=\"#DejaVuSans-109\"/>\n       <use x=\"430.371094\" xlink:href=\"#DejaVuSans-101\"/>\n      </g>\n     </g>\n    </g>\n   </g>\n   <g id=\"matplotlib.axis_2\"/>\n  </g>\n  <g id=\"axes_2\">\n   <g id=\"patch_3\">\n    <path clip-path=\"url(#paac9fdaa56)\" d=\"M 291.78 228.439219 \nL 291.78 227.589844 \nL 291.78 11.848594 \nL 291.78 10.999219 \nL 302.652 10.999219 \nL 302.652 11.848594 \nL 302.652 227.589844 \nL 302.652 228.439219 \nz\n\" style=\"fill:#ffffff;stroke:#ffffff;stroke-linejoin:miter;stroke-width:0.01;\"/>\n   </g>\n   <image height=\"217\" id=\"image66fd059852\" transform=\"scale(1 -1)translate(0 -217)\" width=\"11\" x=\"292\" xlink:href=\"data:image/png;base64,\niVBORw0KGgoAAAANSUhEUgAAAAsAAADZCAYAAAD2WsoCAAAABHNCSVQICAgIfAhkiAAAAV5JREFUaIHd2tFthEAMhOFdG66y1JD+C0lyaWG/h5HM8WyNZn57DQL2V32/1+F17dqntetau86Ldzcomw0o3gWeSXnFAm7hnEMXpJGzkaMxJOAMGu+eEZA8G7rj2nUtWTJBG0Eaohz0nFJeokzDb5zJRoyGKRsNUR5CQ+Z5SlMIHQWccrqheAq6YMDYkrF2i/Knt3uK5/NafN54Ygc/v93PowG6zwwYnefz8402ZqyCKTSC7QbPQXSVsjGEBjwiJWmslQsYUxYaxlk8U0CygQGl+NwFB0zR6PqbYKNiNErOYMdmIxhQintDu0l5SrG0+5LhH+KZlK/6nWCjZOo62G6g0UYjNUhIA2zcW2Yjt2RoP4syBpQRjc1GSwepKa/9A8qxptCI0vATulto5M4gocOAsV0XDJi6Ab1WbNfRSbGAx7WofJsyfG6Qt3tXy4eMEhs3vM9SG6BMnlt+BBIb/6Y/gWhq+41lAAAAAElFTkSuQmCC\" y=\"-11\"/>\n   <g id=\"matplotlib.axis_3\"/>\n   <g id=\"matplotlib.axis_4\">\n    <g id=\"ytick_1\">\n     <g id=\"line2d_12\">\n      <defs>\n       <path d=\"M 0 0 \nL 3.5 0 \n\" id=\"m7f0c733496\" style=\"stroke:#000000;stroke-width:0.8;\"/>\n      </defs>\n      <g>\n       <use style=\"stroke:#000000;stroke-width:0.8;\" x=\"302.652\" xlink:href=\"#m7f0c733496\" y=\"228.439219\"/>\n      </g>\n     </g>\n     <g id=\"text_12\">\n      <!-- 0.0 -->\n      <defs>\n       <path d=\"M 10.6875 12.40625 \nL 21 12.40625 \nL 21 0 \nL 10.6875 0 \nz\n\" id=\"DejaVuSans-46\"/>\n      </defs>\n      <g transform=\"translate(309.652 232.238438)scale(0.1 -0.1)\">\n       <use xlink:href=\"#DejaVuSans-48\"/>\n       <use x=\"63.623047\" xlink:href=\"#DejaVuSans-46\"/>\n       <use x=\"95.410156\" xlink:href=\"#DejaVuSans-48\"/>\n      </g>\n     </g>\n    </g>\n    <g id=\"ytick_2\">\n     <g id=\"line2d_13\">\n      <g>\n       <use style=\"stroke:#000000;stroke-width:0.8;\" x=\"302.652\" xlink:href=\"#m7f0c733496\" y=\"184.951219\"/>\n      </g>\n     </g>\n     <g id=\"text_13\">\n      <!-- 0.2 -->\n      <g transform=\"translate(309.652 188.750437)scale(0.1 -0.1)\">\n       <use xlink:href=\"#DejaVuSans-48\"/>\n       <use x=\"63.623047\" xlink:href=\"#DejaVuSans-46\"/>\n       <use x=\"95.410156\" xlink:href=\"#DejaVuSans-50\"/>\n      </g>\n     </g>\n    </g>\n    <g id=\"ytick_3\">\n     <g id=\"line2d_14\">\n      <g>\n       <use style=\"stroke:#000000;stroke-width:0.8;\" x=\"302.652\" xlink:href=\"#m7f0c733496\" y=\"141.463219\"/>\n      </g>\n     </g>\n     <g id=\"text_14\">\n      <!-- 0.4 -->\n      <defs>\n       <path d=\"M 37.796875 64.3125 \nL 12.890625 25.390625 \nL 37.796875 25.390625 \nz\nM 35.203125 72.90625 \nL 47.609375 72.90625 \nL 47.609375 25.390625 \nL 58.015625 25.390625 \nL 58.015625 17.1875 \nL 47.609375 17.1875 \nL 47.609375 0 \nL 37.796875 0 \nL 37.796875 17.1875 \nL 4.890625 17.1875 \nL 4.890625 26.703125 \nz\n\" id=\"DejaVuSans-52\"/>\n      </defs>\n      <g transform=\"translate(309.652 145.262438)scale(0.1 -0.1)\">\n       <use xlink:href=\"#DejaVuSans-48\"/>\n       <use x=\"63.623047\" xlink:href=\"#DejaVuSans-46\"/>\n       <use x=\"95.410156\" xlink:href=\"#DejaVuSans-52\"/>\n      </g>\n     </g>\n    </g>\n    <g id=\"ytick_4\">\n     <g id=\"line2d_15\">\n      <g>\n       <use style=\"stroke:#000000;stroke-width:0.8;\" x=\"302.652\" xlink:href=\"#m7f0c733496\" y=\"97.975219\"/>\n      </g>\n     </g>\n     <g id=\"text_15\">\n      <!-- 0.6 -->\n      <g transform=\"translate(309.652 101.774437)scale(0.1 -0.1)\">\n       <use xlink:href=\"#DejaVuSans-48\"/>\n       <use x=\"63.623047\" xlink:href=\"#DejaVuSans-46\"/>\n       <use x=\"95.410156\" xlink:href=\"#DejaVuSans-54\"/>\n      </g>\n     </g>\n    </g>\n    <g id=\"ytick_5\">\n     <g id=\"line2d_16\">\n      <g>\n       <use style=\"stroke:#000000;stroke-width:0.8;\" x=\"302.652\" xlink:href=\"#m7f0c733496\" y=\"54.487219\"/>\n      </g>\n     </g>\n     <g id=\"text_16\">\n      <!-- 0.8 -->\n      <g transform=\"translate(309.652 58.286438)scale(0.1 -0.1)\">\n       <use xlink:href=\"#DejaVuSans-48\"/>\n       <use x=\"63.623047\" xlink:href=\"#DejaVuSans-46\"/>\n       <use x=\"95.410156\" xlink:href=\"#DejaVuSans-56\"/>\n      </g>\n     </g>\n    </g>\n    <g id=\"ytick_6\">\n     <g id=\"line2d_17\">\n      <g>\n       <use style=\"stroke:#000000;stroke-width:0.8;\" x=\"302.652\" xlink:href=\"#m7f0c733496\" y=\"10.999219\"/>\n      </g>\n     </g>\n     <g id=\"text_17\">\n      <!-- 1.0 -->\n      <g transform=\"translate(309.652 14.798438)scale(0.1 -0.1)\">\n       <use xlink:href=\"#DejaVuSans-49\"/>\n       <use x=\"63.623047\" xlink:href=\"#DejaVuSans-46\"/>\n       <use x=\"95.410156\" xlink:href=\"#DejaVuSans-48\"/>\n      </g>\n     </g>\n    </g>\n   </g>\n   <g id=\"patch_4\">\n    <path d=\"M 291.78 228.439219 \nL 291.78 227.589844 \nL 291.78 11.848594 \nL 291.78 10.999219 \nL 302.652 10.999219 \nL 302.652 11.848594 \nL 302.652 227.589844 \nL 302.652 228.439219 \nz\n\" style=\"fill:none;\"/>\n   </g>\n  </g>\n </g>\n <defs>\n  <clipPath id=\"p2b30136500\">\n   <rect height=\"217.44\" width=\"267.84\" x=\"7.2\" y=\"10.999219\"/>\n  </clipPath>\n  <clipPath id=\"paac9fdaa56\">\n   <rect height=\"217.44\" width=\"10.872\" x=\"291.78\" y=\"10.999219\"/>\n  </clipPath>\n </defs>\n</svg>\n"
          },
          "metadata": {
            "needs_background": "light"
          }
        }
      ]
    },
    {
      "cell_type": "code",
      "metadata": {
        "colab": {
          "base_uri": "https://localhost:8080/"
        },
        "id": "rVB_KOKde9d8",
        "outputId": "6e410912-cafd-4b45-9e1a-048c895436a0"
      },
      "source": [
        "df_patientheartrate['Age'].fillna(df_patientheartrate['Age'].mean(), inplace =False)"
      ],
      "execution_count": 14,
      "outputs": [
        {
          "output_type": "execute_result",
          "data": {
            "text/plain": [
              "0     56.0\n",
              "1     34.0\n",
              "2     16.0\n",
              "3     36.1\n",
              "4     54.0\n",
              "5     52.0\n",
              "6     19.0\n",
              "7     32.0\n",
              "11    12.0\n",
              "12    36.1\n",
              "13    34.0\n",
              "16    52.0\n",
              "Name: Age, dtype: float64"
            ]
          },
          "metadata": {},
          "execution_count": 14
        }
      ]
    },
    {
      "cell_type": "markdown",
      "metadata": {
        "id": "mFBURjSwfRZc"
      },
      "source": [
        "**Vấn đề 8**"
      ]
    },
    {
      "cell_type": "markdown",
      "metadata": {
        "id": "jWHeDRXafcxE"
      },
      "source": [
        "1.\"một cột chứa quá nhiều thông tin cần được phân rã\", như trong bài toán này ta thấy header \"m0006\" chứa các nội dung bao gồm: m -> male, 1218 ~ 12-18 (mm-dd). Còn giá trị thì là kết quả huyết áp."
      ]
    },
    {
      "cell_type": "code",
      "metadata": {
        "colab": {
          "base_uri": "https://localhost:8080/",
          "height": 421
        },
        "id": "WLaoqwskfeoU",
        "outputId": "c41c2fd9-29a7-40b9-b180-91bef6cf0195"
      },
      "source": [
        "df_patientheartrate"
      ],
      "execution_count": 17,
      "outputs": [
        {
          "output_type": "execute_result",
          "data": {
            "text/html": [
              "<div>\n",
              "<style scoped>\n",
              "    .dataframe tbody tr th:only-of-type {\n",
              "        vertical-align: middle;\n",
              "    }\n",
              "\n",
              "    .dataframe tbody tr th {\n",
              "        vertical-align: top;\n",
              "    }\n",
              "\n",
              "    .dataframe thead th {\n",
              "        text-align: right;\n",
              "    }\n",
              "</style>\n",
              "<table border=\"1\" class=\"dataframe\">\n",
              "  <thead>\n",
              "    <tr style=\"text-align: right;\">\n",
              "      <th></th>\n",
              "      <th>ID</th>\n",
              "      <th>Age</th>\n",
              "      <th>Weight</th>\n",
              "      <th>m0006</th>\n",
              "      <th>m0612</th>\n",
              "      <th>m1218</th>\n",
              "      <th>f006</th>\n",
              "      <th>f0612</th>\n",
              "      <th>f1218</th>\n",
              "      <th>Firstname</th>\n",
              "      <th>Lastname</th>\n",
              "    </tr>\n",
              "  </thead>\n",
              "  <tbody>\n",
              "    <tr>\n",
              "      <th>0</th>\n",
              "      <td>1.0</td>\n",
              "      <td>56.0</td>\n",
              "      <td>70kgs</td>\n",
              "      <td>72</td>\n",
              "      <td>69</td>\n",
              "      <td>71</td>\n",
              "      <td>-</td>\n",
              "      <td>-</td>\n",
              "      <td>-</td>\n",
              "      <td>Micky</td>\n",
              "      <td>Mous</td>\n",
              "    </tr>\n",
              "    <tr>\n",
              "      <th>1</th>\n",
              "      <td>2.0</td>\n",
              "      <td>34.0</td>\n",
              "      <td>70kgs</td>\n",
              "      <td>-</td>\n",
              "      <td>-</td>\n",
              "      <td>-</td>\n",
              "      <td>85</td>\n",
              "      <td>84</td>\n",
              "      <td>76</td>\n",
              "      <td>Donald</td>\n",
              "      <td>Duck</td>\n",
              "    </tr>\n",
              "    <tr>\n",
              "      <th>2</th>\n",
              "      <td>3.0</td>\n",
              "      <td>16.0</td>\n",
              "      <td>NaN</td>\n",
              "      <td>-</td>\n",
              "      <td>-</td>\n",
              "      <td>-</td>\n",
              "      <td>65</td>\n",
              "      <td>69</td>\n",
              "      <td>72</td>\n",
              "      <td>Mini</td>\n",
              "      <td>Mouse</td>\n",
              "    </tr>\n",
              "    <tr>\n",
              "      <th>3</th>\n",
              "      <td>4.0</td>\n",
              "      <td>NaN</td>\n",
              "      <td>78kgs</td>\n",
              "      <td>78</td>\n",
              "      <td>79</td>\n",
              "      <td>72</td>\n",
              "      <td>-</td>\n",
              "      <td>-</td>\n",
              "      <td>-</td>\n",
              "      <td>Scrooge</td>\n",
              "      <td>McDuck</td>\n",
              "    </tr>\n",
              "    <tr>\n",
              "      <th>4</th>\n",
              "      <td>5.0</td>\n",
              "      <td>54.0</td>\n",
              "      <td>90kgs</td>\n",
              "      <td>-</td>\n",
              "      <td>-</td>\n",
              "      <td>-</td>\n",
              "      <td>69</td>\n",
              "      <td>NaN</td>\n",
              "      <td>75</td>\n",
              "      <td>Pink</td>\n",
              "      <td>Panther</td>\n",
              "    </tr>\n",
              "    <tr>\n",
              "      <th>5</th>\n",
              "      <td>6.0</td>\n",
              "      <td>52.0</td>\n",
              "      <td>85kgs</td>\n",
              "      <td>-</td>\n",
              "      <td>-</td>\n",
              "      <td>-</td>\n",
              "      <td>68</td>\n",
              "      <td>75</td>\n",
              "      <td>72</td>\n",
              "      <td>Huey</td>\n",
              "      <td>McDuck</td>\n",
              "    </tr>\n",
              "    <tr>\n",
              "      <th>6</th>\n",
              "      <td>7.0</td>\n",
              "      <td>19.0</td>\n",
              "      <td>56kgs</td>\n",
              "      <td>-</td>\n",
              "      <td>-</td>\n",
              "      <td>-</td>\n",
              "      <td>71</td>\n",
              "      <td>78</td>\n",
              "      <td>75</td>\n",
              "      <td>Dewey</td>\n",
              "      <td>McDuck</td>\n",
              "    </tr>\n",
              "    <tr>\n",
              "      <th>7</th>\n",
              "      <td>8.0</td>\n",
              "      <td>32.0</td>\n",
              "      <td>78kgs</td>\n",
              "      <td>78</td>\n",
              "      <td>76</td>\n",
              "      <td>75</td>\n",
              "      <td>-</td>\n",
              "      <td>-</td>\n",
              "      <td>-</td>\n",
              "      <td>Scpy</td>\n",
              "      <td>Doo</td>\n",
              "    </tr>\n",
              "    <tr>\n",
              "      <th>11</th>\n",
              "      <td>10.0</td>\n",
              "      <td>12.0</td>\n",
              "      <td>45kgs</td>\n",
              "      <td>-</td>\n",
              "      <td>-</td>\n",
              "      <td>-</td>\n",
              "      <td>92</td>\n",
              "      <td>95</td>\n",
              "      <td>87</td>\n",
              "      <td>Louie</td>\n",
              "      <td>McDuck</td>\n",
              "    </tr>\n",
              "    <tr>\n",
              "      <th>12</th>\n",
              "      <td>11.0</td>\n",
              "      <td>NaN</td>\n",
              "      <td>60kgs</td>\n",
              "      <td>78</td>\n",
              "      <td>75</td>\n",
              "      <td>72</td>\n",
              "      <td>-</td>\n",
              "      <td>-</td>\n",
              "      <td>-</td>\n",
              "      <td>Henry</td>\n",
              "      <td>Nam</td>\n",
              "    </tr>\n",
              "    <tr>\n",
              "      <th>13</th>\n",
              "      <td>12.0</td>\n",
              "      <td>34.0</td>\n",
              "      <td>NaN</td>\n",
              "      <td>65</td>\n",
              "      <td>67</td>\n",
              "      <td>55</td>\n",
              "      <td>-</td>\n",
              "      <td>-</td>\n",
              "      <td>-</td>\n",
              "      <td>Michel</td>\n",
              "      <td>Long</td>\n",
              "    </tr>\n",
              "    <tr>\n",
              "      <th>16</th>\n",
              "      <td>15.0</td>\n",
              "      <td>52.0</td>\n",
              "      <td>81kgs</td>\n",
              "      <td>-</td>\n",
              "      <td>-</td>\n",
              "      <td>-</td>\n",
              "      <td>68</td>\n",
              "      <td>75</td>\n",
              "      <td>72</td>\n",
              "      <td>NaN</td>\n",
              "      <td>NaN</td>\n",
              "    </tr>\n",
              "  </tbody>\n",
              "</table>\n",
              "</div>"
            ],
            "text/plain": [
              "      ID   Age Weight m0006 m0612 m1218 f006 f0612 f1218 Firstname Lastname\n",
              "0    1.0  56.0  70kgs    72    69    71    -     -     -     Micky     Mous\n",
              "1    2.0  34.0  70kgs     -     -     -   85    84    76    Donald     Duck\n",
              "2    3.0  16.0    NaN     -     -     -   65    69    72      Mini    Mouse\n",
              "3    4.0   NaN  78kgs    78    79    72    -     -     -   Scrooge   McDuck\n",
              "4    5.0  54.0  90kgs     -     -     -   69   NaN    75      Pink  Panther\n",
              "5    6.0  52.0  85kgs     -     -     -   68    75    72      Huey   McDuck\n",
              "6    7.0  19.0  56kgs     -     -     -   71    78    75     Dewey   McDuck\n",
              "7    8.0  32.0  78kgs    78    76    75    -     -     -      Scpy      Doo\n",
              "11  10.0  12.0  45kgs     -     -     -   92    95    87     Louie   McDuck\n",
              "12  11.0   NaN  60kgs    78    75    72    -     -     -     Henry      Nam\n",
              "13  12.0  34.0    NaN    65    67    55    -     -     -    Michel     Long\n",
              "16  15.0  52.0  81kgs     -     -     -   68    75    72       NaN      NaN"
            ]
          },
          "metadata": {},
          "execution_count": 17
        }
      ]
    },
    {
      "cell_type": "markdown",
      "metadata": {
        "id": "Zwb33w0AfpHM"
      },
      "source": [
        "Chúng ta sẽ tách nội dung của cột này ra làm 3 cột sau: PulseRate : giá trị huyết áp, Sex: giới tính ( m: male, f: female) và time: thời gian (tháng-ngày) như sau:"
      ]
    },
    {
      "cell_type": "code",
      "metadata": {
        "id": "gqj8gv6sfplc"
      },
      "source": [
        "df = pd.melt(df_patientheartrate, id_vars=['ID', 'Age', 'Weight', 'Firstname', 'Lastname'], value_name=\"PulseRate\",var_name=\"sex_and_time\").sort_values(['ID', 'Age', 'Weight', 'Firstname', 'Lastname'])"
      ],
      "execution_count": 18,
      "outputs": []
    },
    {
      "cell_type": "code",
      "metadata": {
        "colab": {
          "base_uri": "https://localhost:8080/",
          "height": 419
        },
        "id": "RBEIZxHhfs8M",
        "outputId": "47214e53-4f6b-49aa-870a-60bb8dbdc126"
      },
      "source": [
        "\n",
        "df"
      ],
      "execution_count": 19,
      "outputs": [
        {
          "output_type": "execute_result",
          "data": {
            "text/html": [
              "<div>\n",
              "<style scoped>\n",
              "    .dataframe tbody tr th:only-of-type {\n",
              "        vertical-align: middle;\n",
              "    }\n",
              "\n",
              "    .dataframe tbody tr th {\n",
              "        vertical-align: top;\n",
              "    }\n",
              "\n",
              "    .dataframe thead th {\n",
              "        text-align: right;\n",
              "    }\n",
              "</style>\n",
              "<table border=\"1\" class=\"dataframe\">\n",
              "  <thead>\n",
              "    <tr style=\"text-align: right;\">\n",
              "      <th></th>\n",
              "      <th>ID</th>\n",
              "      <th>Age</th>\n",
              "      <th>Weight</th>\n",
              "      <th>Firstname</th>\n",
              "      <th>Lastname</th>\n",
              "      <th>sex_and_time</th>\n",
              "      <th>PulseRate</th>\n",
              "    </tr>\n",
              "  </thead>\n",
              "  <tbody>\n",
              "    <tr>\n",
              "      <th>0</th>\n",
              "      <td>1.0</td>\n",
              "      <td>56.0</td>\n",
              "      <td>70kgs</td>\n",
              "      <td>Micky</td>\n",
              "      <td>Mous</td>\n",
              "      <td>m0006</td>\n",
              "      <td>72</td>\n",
              "    </tr>\n",
              "    <tr>\n",
              "      <th>12</th>\n",
              "      <td>1.0</td>\n",
              "      <td>56.0</td>\n",
              "      <td>70kgs</td>\n",
              "      <td>Micky</td>\n",
              "      <td>Mous</td>\n",
              "      <td>m0612</td>\n",
              "      <td>69</td>\n",
              "    </tr>\n",
              "    <tr>\n",
              "      <th>24</th>\n",
              "      <td>1.0</td>\n",
              "      <td>56.0</td>\n",
              "      <td>70kgs</td>\n",
              "      <td>Micky</td>\n",
              "      <td>Mous</td>\n",
              "      <td>m1218</td>\n",
              "      <td>71</td>\n",
              "    </tr>\n",
              "    <tr>\n",
              "      <th>36</th>\n",
              "      <td>1.0</td>\n",
              "      <td>56.0</td>\n",
              "      <td>70kgs</td>\n",
              "      <td>Micky</td>\n",
              "      <td>Mous</td>\n",
              "      <td>f006</td>\n",
              "      <td>-</td>\n",
              "    </tr>\n",
              "    <tr>\n",
              "      <th>48</th>\n",
              "      <td>1.0</td>\n",
              "      <td>56.0</td>\n",
              "      <td>70kgs</td>\n",
              "      <td>Micky</td>\n",
              "      <td>Mous</td>\n",
              "      <td>f0612</td>\n",
              "      <td>-</td>\n",
              "    </tr>\n",
              "    <tr>\n",
              "      <th>...</th>\n",
              "      <td>...</td>\n",
              "      <td>...</td>\n",
              "      <td>...</td>\n",
              "      <td>...</td>\n",
              "      <td>...</td>\n",
              "      <td>...</td>\n",
              "      <td>...</td>\n",
              "    </tr>\n",
              "    <tr>\n",
              "      <th>23</th>\n",
              "      <td>15.0</td>\n",
              "      <td>52.0</td>\n",
              "      <td>81kgs</td>\n",
              "      <td>NaN</td>\n",
              "      <td>NaN</td>\n",
              "      <td>m0612</td>\n",
              "      <td>-</td>\n",
              "    </tr>\n",
              "    <tr>\n",
              "      <th>35</th>\n",
              "      <td>15.0</td>\n",
              "      <td>52.0</td>\n",
              "      <td>81kgs</td>\n",
              "      <td>NaN</td>\n",
              "      <td>NaN</td>\n",
              "      <td>m1218</td>\n",
              "      <td>-</td>\n",
              "    </tr>\n",
              "    <tr>\n",
              "      <th>47</th>\n",
              "      <td>15.0</td>\n",
              "      <td>52.0</td>\n",
              "      <td>81kgs</td>\n",
              "      <td>NaN</td>\n",
              "      <td>NaN</td>\n",
              "      <td>f006</td>\n",
              "      <td>68</td>\n",
              "    </tr>\n",
              "    <tr>\n",
              "      <th>59</th>\n",
              "      <td>15.0</td>\n",
              "      <td>52.0</td>\n",
              "      <td>81kgs</td>\n",
              "      <td>NaN</td>\n",
              "      <td>NaN</td>\n",
              "      <td>f0612</td>\n",
              "      <td>75</td>\n",
              "    </tr>\n",
              "    <tr>\n",
              "      <th>71</th>\n",
              "      <td>15.0</td>\n",
              "      <td>52.0</td>\n",
              "      <td>81kgs</td>\n",
              "      <td>NaN</td>\n",
              "      <td>NaN</td>\n",
              "      <td>f1218</td>\n",
              "      <td>72</td>\n",
              "    </tr>\n",
              "  </tbody>\n",
              "</table>\n",
              "<p>72 rows × 7 columns</p>\n",
              "</div>"
            ],
            "text/plain": [
              "      ID   Age Weight Firstname Lastname sex_and_time PulseRate\n",
              "0    1.0  56.0  70kgs     Micky     Mous        m0006        72\n",
              "12   1.0  56.0  70kgs     Micky     Mous        m0612        69\n",
              "24   1.0  56.0  70kgs     Micky     Mous        m1218        71\n",
              "36   1.0  56.0  70kgs     Micky     Mous         f006         -\n",
              "48   1.0  56.0  70kgs     Micky     Mous        f0612         -\n",
              "..   ...   ...    ...       ...      ...          ...       ...\n",
              "23  15.0  52.0  81kgs       NaN      NaN        m0612         -\n",
              "35  15.0  52.0  81kgs       NaN      NaN        m1218         -\n",
              "47  15.0  52.0  81kgs       NaN      NaN         f006        68\n",
              "59  15.0  52.0  81kgs       NaN      NaN        f0612        75\n",
              "71  15.0  52.0  81kgs       NaN      NaN        f1218        72\n",
              "\n",
              "[72 rows x 7 columns]"
            ]
          },
          "metadata": {},
          "execution_count": 19
        }
      ]
    },
    {
      "cell_type": "markdown",
      "metadata": {
        "id": "V8_sWPbXf0MT"
      },
      "source": [
        "Extract sex, hour lower bound and hour upper dound group"
      ]
    },
    {
      "cell_type": "code",
      "metadata": {
        "id": "VBJHtIu_f0qL"
      },
      "source": [
        "tmp_df= df[\"sex_and_time\"].str.extract(\"(\\D)(\\d+)(\\d{2})\", expand=True)"
      ],
      "execution_count": 21,
      "outputs": []
    },
    {
      "cell_type": "code",
      "metadata": {
        "colab": {
          "base_uri": "https://localhost:8080/",
          "height": 204
        },
        "id": "J3x8UBGzf2fU",
        "outputId": "14bd3a14-a10b-45db-cc13-8988f0da20d1"
      },
      "source": [
        "tmp_df.head(5)"
      ],
      "execution_count": 22,
      "outputs": [
        {
          "output_type": "execute_result",
          "data": {
            "text/html": [
              "<div>\n",
              "<style scoped>\n",
              "    .dataframe tbody tr th:only-of-type {\n",
              "        vertical-align: middle;\n",
              "    }\n",
              "\n",
              "    .dataframe tbody tr th {\n",
              "        vertical-align: top;\n",
              "    }\n",
              "\n",
              "    .dataframe thead th {\n",
              "        text-align: right;\n",
              "    }\n",
              "</style>\n",
              "<table border=\"1\" class=\"dataframe\">\n",
              "  <thead>\n",
              "    <tr style=\"text-align: right;\">\n",
              "      <th></th>\n",
              "      <th>0</th>\n",
              "      <th>1</th>\n",
              "      <th>2</th>\n",
              "    </tr>\n",
              "  </thead>\n",
              "  <tbody>\n",
              "    <tr>\n",
              "      <th>0</th>\n",
              "      <td>m</td>\n",
              "      <td>00</td>\n",
              "      <td>06</td>\n",
              "    </tr>\n",
              "    <tr>\n",
              "      <th>12</th>\n",
              "      <td>m</td>\n",
              "      <td>06</td>\n",
              "      <td>12</td>\n",
              "    </tr>\n",
              "    <tr>\n",
              "      <th>24</th>\n",
              "      <td>m</td>\n",
              "      <td>12</td>\n",
              "      <td>18</td>\n",
              "    </tr>\n",
              "    <tr>\n",
              "      <th>36</th>\n",
              "      <td>f</td>\n",
              "      <td>0</td>\n",
              "      <td>06</td>\n",
              "    </tr>\n",
              "    <tr>\n",
              "      <th>48</th>\n",
              "      <td>f</td>\n",
              "      <td>06</td>\n",
              "      <td>12</td>\n",
              "    </tr>\n",
              "  </tbody>\n",
              "</table>\n",
              "</div>"
            ],
            "text/plain": [
              "    0   1   2\n",
              "0   m  00  06\n",
              "12  m  06  12\n",
              "24  m  12  18\n",
              "36  f   0  06\n",
              "48  f  06  12"
            ]
          },
          "metadata": {},
          "execution_count": 22
        }
      ]
    },
    {
      "cell_type": "markdown",
      "metadata": {
        "id": "2laZHViigEwT"
      },
      "source": [
        "Name columns"
      ]
    },
    {
      "cell_type": "code",
      "metadata": {
        "id": "XbR9ftKzgGZD"
      },
      "source": [
        "tmp_df.columns=[\"Sex\",\"hours_lower\",\"hours_upper\"]"
      ],
      "execution_count": 23,
      "outputs": []
    },
    {
      "cell_type": "code",
      "metadata": {
        "colab": {
          "base_uri": "https://localhost:8080/",
          "height": 204
        },
        "id": "PGoikZ6agKKG",
        "outputId": "dd4a476e-d88f-4075-d41d-254e4e5f8e6a"
      },
      "source": [
        "tmp_df.head(5)"
      ],
      "execution_count": 24,
      "outputs": [
        {
          "output_type": "execute_result",
          "data": {
            "text/html": [
              "<div>\n",
              "<style scoped>\n",
              "    .dataframe tbody tr th:only-of-type {\n",
              "        vertical-align: middle;\n",
              "    }\n",
              "\n",
              "    .dataframe tbody tr th {\n",
              "        vertical-align: top;\n",
              "    }\n",
              "\n",
              "    .dataframe thead th {\n",
              "        text-align: right;\n",
              "    }\n",
              "</style>\n",
              "<table border=\"1\" class=\"dataframe\">\n",
              "  <thead>\n",
              "    <tr style=\"text-align: right;\">\n",
              "      <th></th>\n",
              "      <th>Sex</th>\n",
              "      <th>hours_lower</th>\n",
              "      <th>hours_upper</th>\n",
              "    </tr>\n",
              "  </thead>\n",
              "  <tbody>\n",
              "    <tr>\n",
              "      <th>0</th>\n",
              "      <td>m</td>\n",
              "      <td>00</td>\n",
              "      <td>06</td>\n",
              "    </tr>\n",
              "    <tr>\n",
              "      <th>12</th>\n",
              "      <td>m</td>\n",
              "      <td>06</td>\n",
              "      <td>12</td>\n",
              "    </tr>\n",
              "    <tr>\n",
              "      <th>24</th>\n",
              "      <td>m</td>\n",
              "      <td>12</td>\n",
              "      <td>18</td>\n",
              "    </tr>\n",
              "    <tr>\n",
              "      <th>36</th>\n",
              "      <td>f</td>\n",
              "      <td>0</td>\n",
              "      <td>06</td>\n",
              "    </tr>\n",
              "    <tr>\n",
              "      <th>48</th>\n",
              "      <td>f</td>\n",
              "      <td>06</td>\n",
              "      <td>12</td>\n",
              "    </tr>\n",
              "  </tbody>\n",
              "</table>\n",
              "</div>"
            ],
            "text/plain": [
              "   Sex hours_lower hours_upper\n",
              "0    m          00          06\n",
              "12   m          06          12\n",
              "24   m          12          18\n",
              "36   f           0          06\n",
              "48   f          06          12"
            ]
          },
          "metadata": {},
          "execution_count": 24
        }
      ]
    },
    {
      "cell_type": "markdown",
      "metadata": {
        "id": "KLxM5EaogMs-"
      },
      "source": [
        "Create Time column based on \"hours_lower\" and \"hours_upper\" columns"
      ]
    },
    {
      "cell_type": "code",
      "metadata": {
        "id": "LGRKfhU5gNVd"
      },
      "source": [
        "tmp_df[\"Time\"]=tmp_df[\"hours_lower\"] + \"-\"+ tmp_df[\"hours_upper\"]"
      ],
      "execution_count": 30,
      "outputs": []
    },
    {
      "cell_type": "code",
      "metadata": {
        "colab": {
          "base_uri": "https://localhost:8080/",
          "height": 204
        },
        "id": "-wjlyIXmgWVN",
        "outputId": "21c63046-e85a-40f3-d009-80c200c329fa"
      },
      "source": [
        "\n",
        "tmp_df.head(5)"
      ],
      "execution_count": 32,
      "outputs": [
        {
          "output_type": "execute_result",
          "data": {
            "text/html": [
              "<div>\n",
              "<style scoped>\n",
              "    .dataframe tbody tr th:only-of-type {\n",
              "        vertical-align: middle;\n",
              "    }\n",
              "\n",
              "    .dataframe tbody tr th {\n",
              "        vertical-align: top;\n",
              "    }\n",
              "\n",
              "    .dataframe thead th {\n",
              "        text-align: right;\n",
              "    }\n",
              "</style>\n",
              "<table border=\"1\" class=\"dataframe\">\n",
              "  <thead>\n",
              "    <tr style=\"text-align: right;\">\n",
              "      <th></th>\n",
              "      <th>Sex</th>\n",
              "      <th>hours_lower</th>\n",
              "      <th>hours_upper</th>\n",
              "      <th>Time</th>\n",
              "    </tr>\n",
              "  </thead>\n",
              "  <tbody>\n",
              "    <tr>\n",
              "      <th>0</th>\n",
              "      <td>m</td>\n",
              "      <td>00</td>\n",
              "      <td>06</td>\n",
              "      <td>00-06</td>\n",
              "    </tr>\n",
              "    <tr>\n",
              "      <th>12</th>\n",
              "      <td>m</td>\n",
              "      <td>06</td>\n",
              "      <td>12</td>\n",
              "      <td>06-12</td>\n",
              "    </tr>\n",
              "    <tr>\n",
              "      <th>24</th>\n",
              "      <td>m</td>\n",
              "      <td>12</td>\n",
              "      <td>18</td>\n",
              "      <td>12-18</td>\n",
              "    </tr>\n",
              "    <tr>\n",
              "      <th>36</th>\n",
              "      <td>f</td>\n",
              "      <td>0</td>\n",
              "      <td>06</td>\n",
              "      <td>0-06</td>\n",
              "    </tr>\n",
              "    <tr>\n",
              "      <th>48</th>\n",
              "      <td>f</td>\n",
              "      <td>06</td>\n",
              "      <td>12</td>\n",
              "      <td>06-12</td>\n",
              "    </tr>\n",
              "  </tbody>\n",
              "</table>\n",
              "</div>"
            ],
            "text/plain": [
              "   Sex hours_lower hours_upper   Time\n",
              "0    m          00          06  00-06\n",
              "12   m          06          12  06-12\n",
              "24   m          12          18  12-18\n",
              "36   f           0          06   0-06\n",
              "48   f          06          12  06-12"
            ]
          },
          "metadata": {},
          "execution_count": 32
        }
      ]
    },
    {
      "cell_type": "markdown",
      "metadata": {
        "id": "wuvb3EAJgdXU"
      },
      "source": [
        "Merge"
      ]
    },
    {
      "cell_type": "code",
      "metadata": {
        "id": "yPMzyGtigdvr"
      },
      "source": [
        "df =pd.concat([df, tmp_df], axis=1)"
      ],
      "execution_count": 33,
      "outputs": []
    },
    {
      "cell_type": "code",
      "metadata": {
        "colab": {
          "base_uri": "https://localhost:8080/",
          "height": 204
        },
        "id": "6flQACrygfnX",
        "outputId": "9731df77-9066-4077-b127-6a399581af14"
      },
      "source": [
        "df.head(5)"
      ],
      "execution_count": 34,
      "outputs": [
        {
          "output_type": "execute_result",
          "data": {
            "text/html": [
              "<div>\n",
              "<style scoped>\n",
              "    .dataframe tbody tr th:only-of-type {\n",
              "        vertical-align: middle;\n",
              "    }\n",
              "\n",
              "    .dataframe tbody tr th {\n",
              "        vertical-align: top;\n",
              "    }\n",
              "\n",
              "    .dataframe thead th {\n",
              "        text-align: right;\n",
              "    }\n",
              "</style>\n",
              "<table border=\"1\" class=\"dataframe\">\n",
              "  <thead>\n",
              "    <tr style=\"text-align: right;\">\n",
              "      <th></th>\n",
              "      <th>ID</th>\n",
              "      <th>Age</th>\n",
              "      <th>Weight</th>\n",
              "      <th>Firstname</th>\n",
              "      <th>Lastname</th>\n",
              "      <th>sex_and_time</th>\n",
              "      <th>PulseRate</th>\n",
              "      <th>Sex</th>\n",
              "      <th>hours_lower</th>\n",
              "      <th>hours_upper</th>\n",
              "      <th>Time</th>\n",
              "    </tr>\n",
              "  </thead>\n",
              "  <tbody>\n",
              "    <tr>\n",
              "      <th>0</th>\n",
              "      <td>1.0</td>\n",
              "      <td>56.0</td>\n",
              "      <td>70kgs</td>\n",
              "      <td>Micky</td>\n",
              "      <td>Mous</td>\n",
              "      <td>m0006</td>\n",
              "      <td>72</td>\n",
              "      <td>m</td>\n",
              "      <td>00</td>\n",
              "      <td>06</td>\n",
              "      <td>00-06</td>\n",
              "    </tr>\n",
              "    <tr>\n",
              "      <th>12</th>\n",
              "      <td>1.0</td>\n",
              "      <td>56.0</td>\n",
              "      <td>70kgs</td>\n",
              "      <td>Micky</td>\n",
              "      <td>Mous</td>\n",
              "      <td>m0612</td>\n",
              "      <td>69</td>\n",
              "      <td>m</td>\n",
              "      <td>06</td>\n",
              "      <td>12</td>\n",
              "      <td>06-12</td>\n",
              "    </tr>\n",
              "    <tr>\n",
              "      <th>24</th>\n",
              "      <td>1.0</td>\n",
              "      <td>56.0</td>\n",
              "      <td>70kgs</td>\n",
              "      <td>Micky</td>\n",
              "      <td>Mous</td>\n",
              "      <td>m1218</td>\n",
              "      <td>71</td>\n",
              "      <td>m</td>\n",
              "      <td>12</td>\n",
              "      <td>18</td>\n",
              "      <td>12-18</td>\n",
              "    </tr>\n",
              "    <tr>\n",
              "      <th>36</th>\n",
              "      <td>1.0</td>\n",
              "      <td>56.0</td>\n",
              "      <td>70kgs</td>\n",
              "      <td>Micky</td>\n",
              "      <td>Mous</td>\n",
              "      <td>f006</td>\n",
              "      <td>-</td>\n",
              "      <td>f</td>\n",
              "      <td>0</td>\n",
              "      <td>06</td>\n",
              "      <td>0-06</td>\n",
              "    </tr>\n",
              "    <tr>\n",
              "      <th>48</th>\n",
              "      <td>1.0</td>\n",
              "      <td>56.0</td>\n",
              "      <td>70kgs</td>\n",
              "      <td>Micky</td>\n",
              "      <td>Mous</td>\n",
              "      <td>f0612</td>\n",
              "      <td>-</td>\n",
              "      <td>f</td>\n",
              "      <td>06</td>\n",
              "      <td>12</td>\n",
              "      <td>06-12</td>\n",
              "    </tr>\n",
              "  </tbody>\n",
              "</table>\n",
              "</div>"
            ],
            "text/plain": [
              "     ID   Age Weight Firstname  ... Sex hours_lower hours_upper   Time\n",
              "0   1.0  56.0  70kgs     Micky  ...   m          00          06  00-06\n",
              "12  1.0  56.0  70kgs     Micky  ...   m          06          12  06-12\n",
              "24  1.0  56.0  70kgs     Micky  ...   m          12          18  12-18\n",
              "36  1.0  56.0  70kgs     Micky  ...   f           0          06   0-06\n",
              "48  1.0  56.0  70kgs     Micky  ...   f          06          12  06-12\n",
              "\n",
              "[5 rows x 11 columns]"
            ]
          },
          "metadata": {},
          "execution_count": 34
        }
      ]
    },
    {
      "cell_type": "markdown",
      "metadata": {
        "id": "0QouyU20gpKk"
      },
      "source": [
        "Drop unnecessary columns and rows"
      ]
    },
    {
      "cell_type": "code",
      "metadata": {
        "id": "ANtPReMbgptp"
      },
      "source": [
        "df = df.drop(['sex_and_time','hours_lower','hours_upper'], axis=1)\n",
        "df = df.dropna()"
      ],
      "execution_count": 35,
      "outputs": []
    },
    {
      "cell_type": "code",
      "metadata": {
        "colab": {
          "base_uri": "https://localhost:8080/",
          "height": 204
        },
        "id": "65hdRElBgsIO",
        "outputId": "29b3ce98-f0eb-446a-f8f4-7bb21821ae7d"
      },
      "source": [
        "df.head(5)"
      ],
      "execution_count": 36,
      "outputs": [
        {
          "output_type": "execute_result",
          "data": {
            "text/html": [
              "<div>\n",
              "<style scoped>\n",
              "    .dataframe tbody tr th:only-of-type {\n",
              "        vertical-align: middle;\n",
              "    }\n",
              "\n",
              "    .dataframe tbody tr th {\n",
              "        vertical-align: top;\n",
              "    }\n",
              "\n",
              "    .dataframe thead th {\n",
              "        text-align: right;\n",
              "    }\n",
              "</style>\n",
              "<table border=\"1\" class=\"dataframe\">\n",
              "  <thead>\n",
              "    <tr style=\"text-align: right;\">\n",
              "      <th></th>\n",
              "      <th>ID</th>\n",
              "      <th>Age</th>\n",
              "      <th>Weight</th>\n",
              "      <th>Firstname</th>\n",
              "      <th>Lastname</th>\n",
              "      <th>PulseRate</th>\n",
              "      <th>Sex</th>\n",
              "      <th>Time</th>\n",
              "    </tr>\n",
              "  </thead>\n",
              "  <tbody>\n",
              "    <tr>\n",
              "      <th>0</th>\n",
              "      <td>1.0</td>\n",
              "      <td>56.0</td>\n",
              "      <td>70kgs</td>\n",
              "      <td>Micky</td>\n",
              "      <td>Mous</td>\n",
              "      <td>72</td>\n",
              "      <td>m</td>\n",
              "      <td>00-06</td>\n",
              "    </tr>\n",
              "    <tr>\n",
              "      <th>12</th>\n",
              "      <td>1.0</td>\n",
              "      <td>56.0</td>\n",
              "      <td>70kgs</td>\n",
              "      <td>Micky</td>\n",
              "      <td>Mous</td>\n",
              "      <td>69</td>\n",
              "      <td>m</td>\n",
              "      <td>06-12</td>\n",
              "    </tr>\n",
              "    <tr>\n",
              "      <th>24</th>\n",
              "      <td>1.0</td>\n",
              "      <td>56.0</td>\n",
              "      <td>70kgs</td>\n",
              "      <td>Micky</td>\n",
              "      <td>Mous</td>\n",
              "      <td>71</td>\n",
              "      <td>m</td>\n",
              "      <td>12-18</td>\n",
              "    </tr>\n",
              "    <tr>\n",
              "      <th>36</th>\n",
              "      <td>1.0</td>\n",
              "      <td>56.0</td>\n",
              "      <td>70kgs</td>\n",
              "      <td>Micky</td>\n",
              "      <td>Mous</td>\n",
              "      <td>-</td>\n",
              "      <td>f</td>\n",
              "      <td>0-06</td>\n",
              "    </tr>\n",
              "    <tr>\n",
              "      <th>48</th>\n",
              "      <td>1.0</td>\n",
              "      <td>56.0</td>\n",
              "      <td>70kgs</td>\n",
              "      <td>Micky</td>\n",
              "      <td>Mous</td>\n",
              "      <td>-</td>\n",
              "      <td>f</td>\n",
              "      <td>06-12</td>\n",
              "    </tr>\n",
              "  </tbody>\n",
              "</table>\n",
              "</div>"
            ],
            "text/plain": [
              "     ID   Age Weight Firstname Lastname PulseRate Sex   Time\n",
              "0   1.0  56.0  70kgs     Micky     Mous        72   m  00-06\n",
              "12  1.0  56.0  70kgs     Micky     Mous        69   m  06-12\n",
              "24  1.0  56.0  70kgs     Micky     Mous        71   m  12-18\n",
              "36  1.0  56.0  70kgs     Micky     Mous         -   f   0-06\n",
              "48  1.0  56.0  70kgs     Micky     Mous         -   f  06-12"
            ]
          },
          "metadata": {},
          "execution_count": 36
        }
      ]
    },
    {
      "cell_type": "markdown",
      "metadata": {
        "id": "aQuSLrAyguJt"
      },
      "source": [
        "**Vấn đề 9**"
      ]
    },
    {
      "cell_type": "markdown",
      "metadata": {
        "id": "GHB2ENnQg7vE"
      },
      "source": [
        "1.Hãy khảo sát tỉ lệ dữ liệu thiếu trên biến huyết áp. Dữ liệu bị thiếu thì hãy xử lý bằng phương pháp sau:"
      ]
    },
    {
      "cell_type": "markdown",
      "metadata": {
        "id": "pSs-mHWLg8xK"
      },
      "source": [
        "-Thay thế bằng giá trị trung bình liền trước và liền sau của người đó. Nếu không được thì dùng 2).\n",
        "\n",
        "-Thay thế bằng giá trị trung bình 2 giá liền trước của người đó. Nếu không được thì dùng 3).\n",
        "\n",
        "-Thay thế bằng giá trị trung bình 2 giá liền sau của người đó. Nếu không được thì dùng 4).\n",
        "\n",
        "-Trung bình của các giá trị huyết áp của người đó. Nếu không được thì dùng 5).\n",
        "\n",
        "-Trung bình của các giá trị huyết áp của nhóm giới tính. Nếu không được thì dùng 6).\n",
        "\n",
        "-Trung bình của các giá trị dữ liệu. Nếu không được thì thay bằng mức ổn định trong y học."
      ]
    },
    {
      "cell_type": "code",
      "metadata": {
        "colab": {
          "base_uri": "https://localhost:8080/",
          "height": 427
        },
        "id": "_J2v_rF7hJPt",
        "outputId": "40364f31-f4ba-4402-8d0c-f8f0aaf0b1f1"
      },
      "source": [
        "%matplotlib inline\n",
        "%config InlineBackend.figure_format = 'svg'\n",
        "sns.heatmap(df.isna(), \n",
        "            yticklabels=False, \n",
        "            cbar=True, \n",
        "            cmap='viridis')"
      ],
      "execution_count": 37,
      "outputs": [
        {
          "output_type": "execute_result",
          "data": {
            "text/plain": [
              "<matplotlib.axes._subplots.AxesSubplot at 0x7fa6849646d0>"
            ]
          },
          "metadata": {},
          "execution_count": 37
        },
        {
          "output_type": "display_data",
          "data": {
            "text/plain": [
              "<Figure size 432x288 with 2 Axes>"
            ],
            "image/svg+xml": "<?xml version=\"1.0\" encoding=\"utf-8\" standalone=\"no\"?>\n<!DOCTYPE svg PUBLIC \"-//W3C//DTD SVG 1.1//EN\"\n  \"http://www.w3.org/Graphics/SVG/1.1/DTD/svg11.dtd\">\n<!-- Created with matplotlib (https://matplotlib.org/) -->\n<svg height=\"292.043906pt\" version=\"1.1\" viewBox=\"0 0 353.859812 292.043906\" width=\"353.859812pt\" xmlns=\"http://www.w3.org/2000/svg\" xmlns:xlink=\"http://www.w3.org/1999/xlink\">\n <defs>\n  <style type=\"text/css\">\n*{stroke-linecap:butt;stroke-linejoin:round;}\n  </style>\n </defs>\n <g id=\"figure_1\">\n  <g id=\"patch_1\">\n   <path d=\"M 0 292.043906 \nL 353.859812 292.043906 \nL 353.859812 0 \nL 0 0 \nz\n\" style=\"fill:none;\"/>\n  </g>\n  <g id=\"axes_1\">\n   <g id=\"patch_2\">\n    <path d=\"M 7.2 228.439219 \nL 275.04 228.439219 \nL 275.04 10.999219 \nL 7.2 10.999219 \nz\n\" style=\"fill:#ffffff;\"/>\n   </g>\n   <g id=\"QuadMesh_1\">\n    <path clip-path=\"url(#pf05a49f005)\" d=\"M 7.2 10.999219 \nL 40.68 10.999219 \nL 40.68 16.302633 \nL 7.2 16.302633 \nL 7.2 10.999219 \n\" style=\"fill:#21918c;\"/>\n    <path clip-path=\"url(#pf05a49f005)\" d=\"M 40.68 10.999219 \nL 74.16 10.999219 \nL 74.16 16.302633 \nL 40.68 16.302633 \nL 40.68 10.999219 \n\" style=\"fill:#21918c;\"/>\n    <path clip-path=\"url(#pf05a49f005)\" d=\"M 74.16 10.999219 \nL 107.64 10.999219 \nL 107.64 16.302633 \nL 74.16 16.302633 \nL 74.16 10.999219 \n\" style=\"fill:#21918c;\"/>\n    <path clip-path=\"url(#pf05a49f005)\" d=\"M 107.64 10.999219 \nL 141.12 10.999219 \nL 141.12 16.302633 \nL 107.64 16.302633 \nL 107.64 10.999219 \n\" style=\"fill:#21918c;\"/>\n    <path clip-path=\"url(#pf05a49f005)\" d=\"M 141.12 10.999219 \nL 174.6 10.999219 \nL 174.6 16.302633 \nL 141.12 16.302633 \nL 141.12 10.999219 \n\" style=\"fill:#21918c;\"/>\n    <path clip-path=\"url(#pf05a49f005)\" d=\"M 174.6 10.999219 \nL 208.08 10.999219 \nL 208.08 16.302633 \nL 174.6 16.302633 \nL 174.6 10.999219 \n\" style=\"fill:#21918c;\"/>\n    <path clip-path=\"url(#pf05a49f005)\" d=\"M 208.08 10.999219 \nL 241.56 10.999219 \nL 241.56 16.302633 \nL 208.08 16.302633 \nL 208.08 10.999219 \n\" style=\"fill:#21918c;\"/>\n    <path clip-path=\"url(#pf05a49f005)\" d=\"M 241.56 10.999219 \nL 275.04 10.999219 \nL 275.04 16.302633 \nL 241.56 16.302633 \nL 241.56 10.999219 \n\" style=\"fill:#21918c;\"/>\n    <path clip-path=\"url(#pf05a49f005)\" d=\"M 7.2 16.302633 \nL 40.68 16.302633 \nL 40.68 21.606048 \nL 7.2 21.606048 \nL 7.2 16.302633 \n\" style=\"fill:#21918c;\"/>\n    <path clip-path=\"url(#pf05a49f005)\" d=\"M 40.68 16.302633 \nL 74.16 16.302633 \nL 74.16 21.606048 \nL 40.68 21.606048 \nL 40.68 16.302633 \n\" style=\"fill:#21918c;\"/>\n    <path clip-path=\"url(#pf05a49f005)\" d=\"M 74.16 16.302633 \nL 107.64 16.302633 \nL 107.64 21.606048 \nL 74.16 21.606048 \nL 74.16 16.302633 \n\" style=\"fill:#21918c;\"/>\n    <path clip-path=\"url(#pf05a49f005)\" d=\"M 107.64 16.302633 \nL 141.12 16.302633 \nL 141.12 21.606048 \nL 107.64 21.606048 \nL 107.64 16.302633 \n\" style=\"fill:#21918c;\"/>\n    <path clip-path=\"url(#pf05a49f005)\" d=\"M 141.12 16.302633 \nL 174.6 16.302633 \nL 174.6 21.606048 \nL 141.12 21.606048 \nL 141.12 16.302633 \n\" style=\"fill:#21918c;\"/>\n    <path clip-path=\"url(#pf05a49f005)\" d=\"M 174.6 16.302633 \nL 208.08 16.302633 \nL 208.08 21.606048 \nL 174.6 21.606048 \nL 174.6 16.302633 \n\" style=\"fill:#21918c;\"/>\n    <path clip-path=\"url(#pf05a49f005)\" d=\"M 208.08 16.302633 \nL 241.56 16.302633 \nL 241.56 21.606048 \nL 208.08 21.606048 \nL 208.08 16.302633 \n\" style=\"fill:#21918c;\"/>\n    <path clip-path=\"url(#pf05a49f005)\" d=\"M 241.56 16.302633 \nL 275.04 16.302633 \nL 275.04 21.606048 \nL 241.56 21.606048 \nL 241.56 16.302633 \n\" style=\"fill:#21918c;\"/>\n    <path clip-path=\"url(#pf05a49f005)\" d=\"M 7.2 21.606048 \nL 40.68 21.606048 \nL 40.68 26.909463 \nL 7.2 26.909463 \nL 7.2 21.606048 \n\" style=\"fill:#21918c;\"/>\n    <path clip-path=\"url(#pf05a49f005)\" d=\"M 40.68 21.606048 \nL 74.16 21.606048 \nL 74.16 26.909463 \nL 40.68 26.909463 \nL 40.68 21.606048 \n\" style=\"fill:#21918c;\"/>\n    <path clip-path=\"url(#pf05a49f005)\" d=\"M 74.16 21.606048 \nL 107.64 21.606048 \nL 107.64 26.909463 \nL 74.16 26.909463 \nL 74.16 21.606048 \n\" style=\"fill:#21918c;\"/>\n    <path clip-path=\"url(#pf05a49f005)\" d=\"M 107.64 21.606048 \nL 141.12 21.606048 \nL 141.12 26.909463 \nL 107.64 26.909463 \nL 107.64 21.606048 \n\" style=\"fill:#21918c;\"/>\n    <path clip-path=\"url(#pf05a49f005)\" d=\"M 141.12 21.606048 \nL 174.6 21.606048 \nL 174.6 26.909463 \nL 141.12 26.909463 \nL 141.12 21.606048 \n\" style=\"fill:#21918c;\"/>\n    <path clip-path=\"url(#pf05a49f005)\" d=\"M 174.6 21.606048 \nL 208.08 21.606048 \nL 208.08 26.909463 \nL 174.6 26.909463 \nL 174.6 21.606048 \n\" style=\"fill:#21918c;\"/>\n    <path clip-path=\"url(#pf05a49f005)\" d=\"M 208.08 21.606048 \nL 241.56 21.606048 \nL 241.56 26.909463 \nL 208.08 26.909463 \nL 208.08 21.606048 \n\" style=\"fill:#21918c;\"/>\n    <path clip-path=\"url(#pf05a49f005)\" d=\"M 241.56 21.606048 \nL 275.04 21.606048 \nL 275.04 26.909463 \nL 241.56 26.909463 \nL 241.56 21.606048 \n\" style=\"fill:#21918c;\"/>\n    <path clip-path=\"url(#pf05a49f005)\" d=\"M 7.2 26.909463 \nL 40.68 26.909463 \nL 40.68 32.212877 \nL 7.2 32.212877 \nL 7.2 26.909463 \n\" style=\"fill:#21918c;\"/>\n    <path clip-path=\"url(#pf05a49f005)\" d=\"M 40.68 26.909463 \nL 74.16 26.909463 \nL 74.16 32.212877 \nL 40.68 32.212877 \nL 40.68 26.909463 \n\" style=\"fill:#21918c;\"/>\n    <path clip-path=\"url(#pf05a49f005)\" d=\"M 74.16 26.909463 \nL 107.64 26.909463 \nL 107.64 32.212877 \nL 74.16 32.212877 \nL 74.16 26.909463 \n\" style=\"fill:#21918c;\"/>\n    <path clip-path=\"url(#pf05a49f005)\" d=\"M 107.64 26.909463 \nL 141.12 26.909463 \nL 141.12 32.212877 \nL 107.64 32.212877 \nL 107.64 26.909463 \n\" style=\"fill:#21918c;\"/>\n    <path clip-path=\"url(#pf05a49f005)\" d=\"M 141.12 26.909463 \nL 174.6 26.909463 \nL 174.6 32.212877 \nL 141.12 32.212877 \nL 141.12 26.909463 \n\" style=\"fill:#21918c;\"/>\n    <path clip-path=\"url(#pf05a49f005)\" d=\"M 174.6 26.909463 \nL 208.08 26.909463 \nL 208.08 32.212877 \nL 174.6 32.212877 \nL 174.6 26.909463 \n\" style=\"fill:#21918c;\"/>\n    <path clip-path=\"url(#pf05a49f005)\" d=\"M 208.08 26.909463 \nL 241.56 26.909463 \nL 241.56 32.212877 \nL 208.08 32.212877 \nL 208.08 26.909463 \n\" style=\"fill:#21918c;\"/>\n    <path clip-path=\"url(#pf05a49f005)\" d=\"M 241.56 26.909463 \nL 275.04 26.909463 \nL 275.04 32.212877 \nL 241.56 32.212877 \nL 241.56 26.909463 \n\" style=\"fill:#21918c;\"/>\n    <path clip-path=\"url(#pf05a49f005)\" d=\"M 7.2 32.212877 \nL 40.68 32.212877 \nL 40.68 37.516292 \nL 7.2 37.516292 \nL 7.2 32.212877 \n\" style=\"fill:#21918c;\"/>\n    <path clip-path=\"url(#pf05a49f005)\" d=\"M 40.68 32.212877 \nL 74.16 32.212877 \nL 74.16 37.516292 \nL 40.68 37.516292 \nL 40.68 32.212877 \n\" style=\"fill:#21918c;\"/>\n    <path clip-path=\"url(#pf05a49f005)\" d=\"M 74.16 32.212877 \nL 107.64 32.212877 \nL 107.64 37.516292 \nL 74.16 37.516292 \nL 74.16 32.212877 \n\" style=\"fill:#21918c;\"/>\n    <path clip-path=\"url(#pf05a49f005)\" d=\"M 107.64 32.212877 \nL 141.12 32.212877 \nL 141.12 37.516292 \nL 107.64 37.516292 \nL 107.64 32.212877 \n\" style=\"fill:#21918c;\"/>\n    <path clip-path=\"url(#pf05a49f005)\" d=\"M 141.12 32.212877 \nL 174.6 32.212877 \nL 174.6 37.516292 \nL 141.12 37.516292 \nL 141.12 32.212877 \n\" style=\"fill:#21918c;\"/>\n    <path clip-path=\"url(#pf05a49f005)\" d=\"M 174.6 32.212877 \nL 208.08 32.212877 \nL 208.08 37.516292 \nL 174.6 37.516292 \nL 174.6 32.212877 \n\" style=\"fill:#21918c;\"/>\n    <path clip-path=\"url(#pf05a49f005)\" d=\"M 208.08 32.212877 \nL 241.56 32.212877 \nL 241.56 37.516292 \nL 208.08 37.516292 \nL 208.08 32.212877 \n\" style=\"fill:#21918c;\"/>\n    <path clip-path=\"url(#pf05a49f005)\" d=\"M 241.56 32.212877 \nL 275.04 32.212877 \nL 275.04 37.516292 \nL 241.56 37.516292 \nL 241.56 32.212877 \n\" style=\"fill:#21918c;\"/>\n    <path clip-path=\"url(#pf05a49f005)\" d=\"M 7.2 37.516292 \nL 40.68 37.516292 \nL 40.68 42.819707 \nL 7.2 42.819707 \nL 7.2 37.516292 \n\" style=\"fill:#21918c;\"/>\n    <path clip-path=\"url(#pf05a49f005)\" d=\"M 40.68 37.516292 \nL 74.16 37.516292 \nL 74.16 42.819707 \nL 40.68 42.819707 \nL 40.68 37.516292 \n\" style=\"fill:#21918c;\"/>\n    <path clip-path=\"url(#pf05a49f005)\" d=\"M 74.16 37.516292 \nL 107.64 37.516292 \nL 107.64 42.819707 \nL 74.16 42.819707 \nL 74.16 37.516292 \n\" style=\"fill:#21918c;\"/>\n    <path clip-path=\"url(#pf05a49f005)\" d=\"M 107.64 37.516292 \nL 141.12 37.516292 \nL 141.12 42.819707 \nL 107.64 42.819707 \nL 107.64 37.516292 \n\" style=\"fill:#21918c;\"/>\n    <path clip-path=\"url(#pf05a49f005)\" d=\"M 141.12 37.516292 \nL 174.6 37.516292 \nL 174.6 42.819707 \nL 141.12 42.819707 \nL 141.12 37.516292 \n\" style=\"fill:#21918c;\"/>\n    <path clip-path=\"url(#pf05a49f005)\" d=\"M 174.6 37.516292 \nL 208.08 37.516292 \nL 208.08 42.819707 \nL 174.6 42.819707 \nL 174.6 37.516292 \n\" style=\"fill:#21918c;\"/>\n    <path clip-path=\"url(#pf05a49f005)\" d=\"M 208.08 37.516292 \nL 241.56 37.516292 \nL 241.56 42.819707 \nL 208.08 42.819707 \nL 208.08 37.516292 \n\" style=\"fill:#21918c;\"/>\n    <path clip-path=\"url(#pf05a49f005)\" d=\"M 241.56 37.516292 \nL 275.04 37.516292 \nL 275.04 42.819707 \nL 241.56 42.819707 \nL 241.56 37.516292 \n\" style=\"fill:#21918c;\"/>\n    <path clip-path=\"url(#pf05a49f005)\" d=\"M 7.2 42.819707 \nL 40.68 42.819707 \nL 40.68 48.123121 \nL 7.2 48.123121 \nL 7.2 42.819707 \n\" style=\"fill:#21918c;\"/>\n    <path clip-path=\"url(#pf05a49f005)\" d=\"M 40.68 42.819707 \nL 74.16 42.819707 \nL 74.16 48.123121 \nL 40.68 48.123121 \nL 40.68 42.819707 \n\" style=\"fill:#21918c;\"/>\n    <path clip-path=\"url(#pf05a49f005)\" d=\"M 74.16 42.819707 \nL 107.64 42.819707 \nL 107.64 48.123121 \nL 74.16 48.123121 \nL 74.16 42.819707 \n\" style=\"fill:#21918c;\"/>\n    <path clip-path=\"url(#pf05a49f005)\" d=\"M 107.64 42.819707 \nL 141.12 42.819707 \nL 141.12 48.123121 \nL 107.64 48.123121 \nL 107.64 42.819707 \n\" style=\"fill:#21918c;\"/>\n    <path clip-path=\"url(#pf05a49f005)\" d=\"M 141.12 42.819707 \nL 174.6 42.819707 \nL 174.6 48.123121 \nL 141.12 48.123121 \nL 141.12 42.819707 \n\" style=\"fill:#21918c;\"/>\n    <path clip-path=\"url(#pf05a49f005)\" d=\"M 174.6 42.819707 \nL 208.08 42.819707 \nL 208.08 48.123121 \nL 174.6 48.123121 \nL 174.6 42.819707 \n\" style=\"fill:#21918c;\"/>\n    <path clip-path=\"url(#pf05a49f005)\" d=\"M 208.08 42.819707 \nL 241.56 42.819707 \nL 241.56 48.123121 \nL 208.08 48.123121 \nL 208.08 42.819707 \n\" style=\"fill:#21918c;\"/>\n    <path clip-path=\"url(#pf05a49f005)\" d=\"M 241.56 42.819707 \nL 275.04 42.819707 \nL 275.04 48.123121 \nL 241.56 48.123121 \nL 241.56 42.819707 \n\" style=\"fill:#21918c;\"/>\n    <path clip-path=\"url(#pf05a49f005)\" d=\"M 7.2 48.123121 \nL 40.68 48.123121 \nL 40.68 53.426536 \nL 7.2 53.426536 \nL 7.2 48.123121 \n\" style=\"fill:#21918c;\"/>\n    <path clip-path=\"url(#pf05a49f005)\" d=\"M 40.68 48.123121 \nL 74.16 48.123121 \nL 74.16 53.426536 \nL 40.68 53.426536 \nL 40.68 48.123121 \n\" style=\"fill:#21918c;\"/>\n    <path clip-path=\"url(#pf05a49f005)\" d=\"M 74.16 48.123121 \nL 107.64 48.123121 \nL 107.64 53.426536 \nL 74.16 53.426536 \nL 74.16 48.123121 \n\" style=\"fill:#21918c;\"/>\n    <path clip-path=\"url(#pf05a49f005)\" d=\"M 107.64 48.123121 \nL 141.12 48.123121 \nL 141.12 53.426536 \nL 107.64 53.426536 \nL 107.64 48.123121 \n\" style=\"fill:#21918c;\"/>\n    <path clip-path=\"url(#pf05a49f005)\" d=\"M 141.12 48.123121 \nL 174.6 48.123121 \nL 174.6 53.426536 \nL 141.12 53.426536 \nL 141.12 48.123121 \n\" style=\"fill:#21918c;\"/>\n    <path clip-path=\"url(#pf05a49f005)\" d=\"M 174.6 48.123121 \nL 208.08 48.123121 \nL 208.08 53.426536 \nL 174.6 53.426536 \nL 174.6 48.123121 \n\" style=\"fill:#21918c;\"/>\n    <path clip-path=\"url(#pf05a49f005)\" d=\"M 208.08 48.123121 \nL 241.56 48.123121 \nL 241.56 53.426536 \nL 208.08 53.426536 \nL 208.08 48.123121 \n\" style=\"fill:#21918c;\"/>\n    <path clip-path=\"url(#pf05a49f005)\" d=\"M 241.56 48.123121 \nL 275.04 48.123121 \nL 275.04 53.426536 \nL 241.56 53.426536 \nL 241.56 48.123121 \n\" style=\"fill:#21918c;\"/>\n    <path clip-path=\"url(#pf05a49f005)\" d=\"M 7.2 53.426536 \nL 40.68 53.426536 \nL 40.68 58.72995 \nL 7.2 58.72995 \nL 7.2 53.426536 \n\" style=\"fill:#21918c;\"/>\n    <path clip-path=\"url(#pf05a49f005)\" d=\"M 40.68 53.426536 \nL 74.16 53.426536 \nL 74.16 58.72995 \nL 40.68 58.72995 \nL 40.68 53.426536 \n\" style=\"fill:#21918c;\"/>\n    <path clip-path=\"url(#pf05a49f005)\" d=\"M 74.16 53.426536 \nL 107.64 53.426536 \nL 107.64 58.72995 \nL 74.16 58.72995 \nL 74.16 53.426536 \n\" style=\"fill:#21918c;\"/>\n    <path clip-path=\"url(#pf05a49f005)\" d=\"M 107.64 53.426536 \nL 141.12 53.426536 \nL 141.12 58.72995 \nL 107.64 58.72995 \nL 107.64 53.426536 \n\" style=\"fill:#21918c;\"/>\n    <path clip-path=\"url(#pf05a49f005)\" d=\"M 141.12 53.426536 \nL 174.6 53.426536 \nL 174.6 58.72995 \nL 141.12 58.72995 \nL 141.12 53.426536 \n\" style=\"fill:#21918c;\"/>\n    <path clip-path=\"url(#pf05a49f005)\" d=\"M 174.6 53.426536 \nL 208.08 53.426536 \nL 208.08 58.72995 \nL 174.6 58.72995 \nL 174.6 53.426536 \n\" style=\"fill:#21918c;\"/>\n    <path clip-path=\"url(#pf05a49f005)\" d=\"M 208.08 53.426536 \nL 241.56 53.426536 \nL 241.56 58.72995 \nL 208.08 58.72995 \nL 208.08 53.426536 \n\" style=\"fill:#21918c;\"/>\n    <path clip-path=\"url(#pf05a49f005)\" d=\"M 241.56 53.426536 \nL 275.04 53.426536 \nL 275.04 58.72995 \nL 241.56 58.72995 \nL 241.56 53.426536 \n\" style=\"fill:#21918c;\"/>\n    <path clip-path=\"url(#pf05a49f005)\" d=\"M 7.2 58.72995 \nL 40.68 58.72995 \nL 40.68 64.033365 \nL 7.2 64.033365 \nL 7.2 58.72995 \n\" style=\"fill:#21918c;\"/>\n    <path clip-path=\"url(#pf05a49f005)\" d=\"M 40.68 58.72995 \nL 74.16 58.72995 \nL 74.16 64.033365 \nL 40.68 64.033365 \nL 40.68 58.72995 \n\" style=\"fill:#21918c;\"/>\n    <path clip-path=\"url(#pf05a49f005)\" d=\"M 74.16 58.72995 \nL 107.64 58.72995 \nL 107.64 64.033365 \nL 74.16 64.033365 \nL 74.16 58.72995 \n\" style=\"fill:#21918c;\"/>\n    <path clip-path=\"url(#pf05a49f005)\" d=\"M 107.64 58.72995 \nL 141.12 58.72995 \nL 141.12 64.033365 \nL 107.64 64.033365 \nL 107.64 58.72995 \n\" style=\"fill:#21918c;\"/>\n    <path clip-path=\"url(#pf05a49f005)\" d=\"M 141.12 58.72995 \nL 174.6 58.72995 \nL 174.6 64.033365 \nL 141.12 64.033365 \nL 141.12 58.72995 \n\" style=\"fill:#21918c;\"/>\n    <path clip-path=\"url(#pf05a49f005)\" d=\"M 174.6 58.72995 \nL 208.08 58.72995 \nL 208.08 64.033365 \nL 174.6 64.033365 \nL 174.6 58.72995 \n\" style=\"fill:#21918c;\"/>\n    <path clip-path=\"url(#pf05a49f005)\" d=\"M 208.08 58.72995 \nL 241.56 58.72995 \nL 241.56 64.033365 \nL 208.08 64.033365 \nL 208.08 58.72995 \n\" style=\"fill:#21918c;\"/>\n    <path clip-path=\"url(#pf05a49f005)\" d=\"M 241.56 58.72995 \nL 275.04 58.72995 \nL 275.04 64.033365 \nL 241.56 64.033365 \nL 241.56 58.72995 \n\" style=\"fill:#21918c;\"/>\n    <path clip-path=\"url(#pf05a49f005)\" d=\"M 7.2 64.033365 \nL 40.68 64.033365 \nL 40.68 69.33678 \nL 7.2 69.33678 \nL 7.2 64.033365 \n\" style=\"fill:#21918c;\"/>\n    <path clip-path=\"url(#pf05a49f005)\" d=\"M 40.68 64.033365 \nL 74.16 64.033365 \nL 74.16 69.33678 \nL 40.68 69.33678 \nL 40.68 64.033365 \n\" style=\"fill:#21918c;\"/>\n    <path clip-path=\"url(#pf05a49f005)\" d=\"M 74.16 64.033365 \nL 107.64 64.033365 \nL 107.64 69.33678 \nL 74.16 69.33678 \nL 74.16 64.033365 \n\" style=\"fill:#21918c;\"/>\n    <path clip-path=\"url(#pf05a49f005)\" d=\"M 107.64 64.033365 \nL 141.12 64.033365 \nL 141.12 69.33678 \nL 107.64 69.33678 \nL 107.64 64.033365 \n\" style=\"fill:#21918c;\"/>\n    <path clip-path=\"url(#pf05a49f005)\" d=\"M 141.12 64.033365 \nL 174.6 64.033365 \nL 174.6 69.33678 \nL 141.12 69.33678 \nL 141.12 64.033365 \n\" style=\"fill:#21918c;\"/>\n    <path clip-path=\"url(#pf05a49f005)\" d=\"M 174.6 64.033365 \nL 208.08 64.033365 \nL 208.08 69.33678 \nL 174.6 69.33678 \nL 174.6 64.033365 \n\" style=\"fill:#21918c;\"/>\n    <path clip-path=\"url(#pf05a49f005)\" d=\"M 208.08 64.033365 \nL 241.56 64.033365 \nL 241.56 69.33678 \nL 208.08 69.33678 \nL 208.08 64.033365 \n\" style=\"fill:#21918c;\"/>\n    <path clip-path=\"url(#pf05a49f005)\" d=\"M 241.56 64.033365 \nL 275.04 64.033365 \nL 275.04 69.33678 \nL 241.56 69.33678 \nL 241.56 64.033365 \n\" style=\"fill:#21918c;\"/>\n    <path clip-path=\"url(#pf05a49f005)\" d=\"M 7.2 69.33678 \nL 40.68 69.33678 \nL 40.68 74.640194 \nL 7.2 74.640194 \nL 7.2 69.33678 \n\" style=\"fill:#21918c;\"/>\n    <path clip-path=\"url(#pf05a49f005)\" d=\"M 40.68 69.33678 \nL 74.16 69.33678 \nL 74.16 74.640194 \nL 40.68 74.640194 \nL 40.68 69.33678 \n\" style=\"fill:#21918c;\"/>\n    <path clip-path=\"url(#pf05a49f005)\" d=\"M 74.16 69.33678 \nL 107.64 69.33678 \nL 107.64 74.640194 \nL 74.16 74.640194 \nL 74.16 69.33678 \n\" style=\"fill:#21918c;\"/>\n    <path clip-path=\"url(#pf05a49f005)\" d=\"M 107.64 69.33678 \nL 141.12 69.33678 \nL 141.12 74.640194 \nL 107.64 74.640194 \nL 107.64 69.33678 \n\" style=\"fill:#21918c;\"/>\n    <path clip-path=\"url(#pf05a49f005)\" d=\"M 141.12 69.33678 \nL 174.6 69.33678 \nL 174.6 74.640194 \nL 141.12 74.640194 \nL 141.12 69.33678 \n\" style=\"fill:#21918c;\"/>\n    <path clip-path=\"url(#pf05a49f005)\" d=\"M 174.6 69.33678 \nL 208.08 69.33678 \nL 208.08 74.640194 \nL 174.6 74.640194 \nL 174.6 69.33678 \n\" style=\"fill:#21918c;\"/>\n    <path clip-path=\"url(#pf05a49f005)\" d=\"M 208.08 69.33678 \nL 241.56 69.33678 \nL 241.56 74.640194 \nL 208.08 74.640194 \nL 208.08 69.33678 \n\" style=\"fill:#21918c;\"/>\n    <path clip-path=\"url(#pf05a49f005)\" d=\"M 241.56 69.33678 \nL 275.04 69.33678 \nL 275.04 74.640194 \nL 241.56 74.640194 \nL 241.56 69.33678 \n\" style=\"fill:#21918c;\"/>\n    <path clip-path=\"url(#pf05a49f005)\" d=\"M 7.2 74.640194 \nL 40.68 74.640194 \nL 40.68 79.943609 \nL 7.2 79.943609 \nL 7.2 74.640194 \n\" style=\"fill:#21918c;\"/>\n    <path clip-path=\"url(#pf05a49f005)\" d=\"M 40.68 74.640194 \nL 74.16 74.640194 \nL 74.16 79.943609 \nL 40.68 79.943609 \nL 40.68 74.640194 \n\" style=\"fill:#21918c;\"/>\n    <path clip-path=\"url(#pf05a49f005)\" d=\"M 74.16 74.640194 \nL 107.64 74.640194 \nL 107.64 79.943609 \nL 74.16 79.943609 \nL 74.16 74.640194 \n\" style=\"fill:#21918c;\"/>\n    <path clip-path=\"url(#pf05a49f005)\" d=\"M 107.64 74.640194 \nL 141.12 74.640194 \nL 141.12 79.943609 \nL 107.64 79.943609 \nL 107.64 74.640194 \n\" style=\"fill:#21918c;\"/>\n    <path clip-path=\"url(#pf05a49f005)\" d=\"M 141.12 74.640194 \nL 174.6 74.640194 \nL 174.6 79.943609 \nL 141.12 79.943609 \nL 141.12 74.640194 \n\" style=\"fill:#21918c;\"/>\n    <path clip-path=\"url(#pf05a49f005)\" d=\"M 174.6 74.640194 \nL 208.08 74.640194 \nL 208.08 79.943609 \nL 174.6 79.943609 \nL 174.6 74.640194 \n\" style=\"fill:#21918c;\"/>\n    <path clip-path=\"url(#pf05a49f005)\" d=\"M 208.08 74.640194 \nL 241.56 74.640194 \nL 241.56 79.943609 \nL 208.08 79.943609 \nL 208.08 74.640194 \n\" style=\"fill:#21918c;\"/>\n    <path clip-path=\"url(#pf05a49f005)\" d=\"M 241.56 74.640194 \nL 275.04 74.640194 \nL 275.04 79.943609 \nL 241.56 79.943609 \nL 241.56 74.640194 \n\" style=\"fill:#21918c;\"/>\n    <path clip-path=\"url(#pf05a49f005)\" d=\"M 7.2 79.943609 \nL 40.68 79.943609 \nL 40.68 85.247024 \nL 7.2 85.247024 \nL 7.2 79.943609 \n\" style=\"fill:#21918c;\"/>\n    <path clip-path=\"url(#pf05a49f005)\" d=\"M 40.68 79.943609 \nL 74.16 79.943609 \nL 74.16 85.247024 \nL 40.68 85.247024 \nL 40.68 79.943609 \n\" style=\"fill:#21918c;\"/>\n    <path clip-path=\"url(#pf05a49f005)\" d=\"M 74.16 79.943609 \nL 107.64 79.943609 \nL 107.64 85.247024 \nL 74.16 85.247024 \nL 74.16 79.943609 \n\" style=\"fill:#21918c;\"/>\n    <path clip-path=\"url(#pf05a49f005)\" d=\"M 107.64 79.943609 \nL 141.12 79.943609 \nL 141.12 85.247024 \nL 107.64 85.247024 \nL 107.64 79.943609 \n\" style=\"fill:#21918c;\"/>\n    <path clip-path=\"url(#pf05a49f005)\" d=\"M 141.12 79.943609 \nL 174.6 79.943609 \nL 174.6 85.247024 \nL 141.12 85.247024 \nL 141.12 79.943609 \n\" style=\"fill:#21918c;\"/>\n    <path clip-path=\"url(#pf05a49f005)\" d=\"M 174.6 79.943609 \nL 208.08 79.943609 \nL 208.08 85.247024 \nL 174.6 85.247024 \nL 174.6 79.943609 \n\" style=\"fill:#21918c;\"/>\n    <path clip-path=\"url(#pf05a49f005)\" d=\"M 208.08 79.943609 \nL 241.56 79.943609 \nL 241.56 85.247024 \nL 208.08 85.247024 \nL 208.08 79.943609 \n\" style=\"fill:#21918c;\"/>\n    <path clip-path=\"url(#pf05a49f005)\" d=\"M 241.56 79.943609 \nL 275.04 79.943609 \nL 275.04 85.247024 \nL 241.56 85.247024 \nL 241.56 79.943609 \n\" style=\"fill:#21918c;\"/>\n    <path clip-path=\"url(#pf05a49f005)\" d=\"M 7.2 85.247024 \nL 40.68 85.247024 \nL 40.68 90.550438 \nL 7.2 90.550438 \nL 7.2 85.247024 \n\" style=\"fill:#21918c;\"/>\n    <path clip-path=\"url(#pf05a49f005)\" d=\"M 40.68 85.247024 \nL 74.16 85.247024 \nL 74.16 90.550438 \nL 40.68 90.550438 \nL 40.68 85.247024 \n\" style=\"fill:#21918c;\"/>\n    <path clip-path=\"url(#pf05a49f005)\" d=\"M 74.16 85.247024 \nL 107.64 85.247024 \nL 107.64 90.550438 \nL 74.16 90.550438 \nL 74.16 85.247024 \n\" style=\"fill:#21918c;\"/>\n    <path clip-path=\"url(#pf05a49f005)\" d=\"M 107.64 85.247024 \nL 141.12 85.247024 \nL 141.12 90.550438 \nL 107.64 90.550438 \nL 107.64 85.247024 \n\" style=\"fill:#21918c;\"/>\n    <path clip-path=\"url(#pf05a49f005)\" d=\"M 141.12 85.247024 \nL 174.6 85.247024 \nL 174.6 90.550438 \nL 141.12 90.550438 \nL 141.12 85.247024 \n\" style=\"fill:#21918c;\"/>\n    <path clip-path=\"url(#pf05a49f005)\" d=\"M 174.6 85.247024 \nL 208.08 85.247024 \nL 208.08 90.550438 \nL 174.6 90.550438 \nL 174.6 85.247024 \n\" style=\"fill:#21918c;\"/>\n    <path clip-path=\"url(#pf05a49f005)\" d=\"M 208.08 85.247024 \nL 241.56 85.247024 \nL 241.56 90.550438 \nL 208.08 90.550438 \nL 208.08 85.247024 \n\" style=\"fill:#21918c;\"/>\n    <path clip-path=\"url(#pf05a49f005)\" d=\"M 241.56 85.247024 \nL 275.04 85.247024 \nL 275.04 90.550438 \nL 241.56 90.550438 \nL 241.56 85.247024 \n\" style=\"fill:#21918c;\"/>\n    <path clip-path=\"url(#pf05a49f005)\" d=\"M 7.2 90.550438 \nL 40.68 90.550438 \nL 40.68 95.853853 \nL 7.2 95.853853 \nL 7.2 90.550438 \n\" style=\"fill:#21918c;\"/>\n    <path clip-path=\"url(#pf05a49f005)\" d=\"M 40.68 90.550438 \nL 74.16 90.550438 \nL 74.16 95.853853 \nL 40.68 95.853853 \nL 40.68 90.550438 \n\" style=\"fill:#21918c;\"/>\n    <path clip-path=\"url(#pf05a49f005)\" d=\"M 74.16 90.550438 \nL 107.64 90.550438 \nL 107.64 95.853853 \nL 74.16 95.853853 \nL 74.16 90.550438 \n\" style=\"fill:#21918c;\"/>\n    <path clip-path=\"url(#pf05a49f005)\" d=\"M 107.64 90.550438 \nL 141.12 90.550438 \nL 141.12 95.853853 \nL 107.64 95.853853 \nL 107.64 90.550438 \n\" style=\"fill:#21918c;\"/>\n    <path clip-path=\"url(#pf05a49f005)\" d=\"M 141.12 90.550438 \nL 174.6 90.550438 \nL 174.6 95.853853 \nL 141.12 95.853853 \nL 141.12 90.550438 \n\" style=\"fill:#21918c;\"/>\n    <path clip-path=\"url(#pf05a49f005)\" d=\"M 174.6 90.550438 \nL 208.08 90.550438 \nL 208.08 95.853853 \nL 174.6 95.853853 \nL 174.6 90.550438 \n\" style=\"fill:#21918c;\"/>\n    <path clip-path=\"url(#pf05a49f005)\" d=\"M 208.08 90.550438 \nL 241.56 90.550438 \nL 241.56 95.853853 \nL 208.08 95.853853 \nL 208.08 90.550438 \n\" style=\"fill:#21918c;\"/>\n    <path clip-path=\"url(#pf05a49f005)\" d=\"M 241.56 90.550438 \nL 275.04 90.550438 \nL 275.04 95.853853 \nL 241.56 95.853853 \nL 241.56 90.550438 \n\" style=\"fill:#21918c;\"/>\n    <path clip-path=\"url(#pf05a49f005)\" d=\"M 7.2 95.853853 \nL 40.68 95.853853 \nL 40.68 101.157268 \nL 7.2 101.157268 \nL 7.2 95.853853 \n\" style=\"fill:#21918c;\"/>\n    <path clip-path=\"url(#pf05a49f005)\" d=\"M 40.68 95.853853 \nL 74.16 95.853853 \nL 74.16 101.157268 \nL 40.68 101.157268 \nL 40.68 95.853853 \n\" style=\"fill:#21918c;\"/>\n    <path clip-path=\"url(#pf05a49f005)\" d=\"M 74.16 95.853853 \nL 107.64 95.853853 \nL 107.64 101.157268 \nL 74.16 101.157268 \nL 74.16 95.853853 \n\" style=\"fill:#21918c;\"/>\n    <path clip-path=\"url(#pf05a49f005)\" d=\"M 107.64 95.853853 \nL 141.12 95.853853 \nL 141.12 101.157268 \nL 107.64 101.157268 \nL 107.64 95.853853 \n\" style=\"fill:#21918c;\"/>\n    <path clip-path=\"url(#pf05a49f005)\" d=\"M 141.12 95.853853 \nL 174.6 95.853853 \nL 174.6 101.157268 \nL 141.12 101.157268 \nL 141.12 95.853853 \n\" style=\"fill:#21918c;\"/>\n    <path clip-path=\"url(#pf05a49f005)\" d=\"M 174.6 95.853853 \nL 208.08 95.853853 \nL 208.08 101.157268 \nL 174.6 101.157268 \nL 174.6 95.853853 \n\" style=\"fill:#21918c;\"/>\n    <path clip-path=\"url(#pf05a49f005)\" d=\"M 208.08 95.853853 \nL 241.56 95.853853 \nL 241.56 101.157268 \nL 208.08 101.157268 \nL 208.08 95.853853 \n\" style=\"fill:#21918c;\"/>\n    <path clip-path=\"url(#pf05a49f005)\" d=\"M 241.56 95.853853 \nL 275.04 95.853853 \nL 275.04 101.157268 \nL 241.56 101.157268 \nL 241.56 95.853853 \n\" style=\"fill:#21918c;\"/>\n    <path clip-path=\"url(#pf05a49f005)\" d=\"M 7.2 101.157268 \nL 40.68 101.157268 \nL 40.68 106.460682 \nL 7.2 106.460682 \nL 7.2 101.157268 \n\" style=\"fill:#21918c;\"/>\n    <path clip-path=\"url(#pf05a49f005)\" d=\"M 40.68 101.157268 \nL 74.16 101.157268 \nL 74.16 106.460682 \nL 40.68 106.460682 \nL 40.68 101.157268 \n\" style=\"fill:#21918c;\"/>\n    <path clip-path=\"url(#pf05a49f005)\" d=\"M 74.16 101.157268 \nL 107.64 101.157268 \nL 107.64 106.460682 \nL 74.16 106.460682 \nL 74.16 101.157268 \n\" style=\"fill:#21918c;\"/>\n    <path clip-path=\"url(#pf05a49f005)\" d=\"M 107.64 101.157268 \nL 141.12 101.157268 \nL 141.12 106.460682 \nL 107.64 106.460682 \nL 107.64 101.157268 \n\" style=\"fill:#21918c;\"/>\n    <path clip-path=\"url(#pf05a49f005)\" d=\"M 141.12 101.157268 \nL 174.6 101.157268 \nL 174.6 106.460682 \nL 141.12 106.460682 \nL 141.12 101.157268 \n\" style=\"fill:#21918c;\"/>\n    <path clip-path=\"url(#pf05a49f005)\" d=\"M 174.6 101.157268 \nL 208.08 101.157268 \nL 208.08 106.460682 \nL 174.6 106.460682 \nL 174.6 101.157268 \n\" style=\"fill:#21918c;\"/>\n    <path clip-path=\"url(#pf05a49f005)\" d=\"M 208.08 101.157268 \nL 241.56 101.157268 \nL 241.56 106.460682 \nL 208.08 106.460682 \nL 208.08 101.157268 \n\" style=\"fill:#21918c;\"/>\n    <path clip-path=\"url(#pf05a49f005)\" d=\"M 241.56 101.157268 \nL 275.04 101.157268 \nL 275.04 106.460682 \nL 241.56 106.460682 \nL 241.56 101.157268 \n\" style=\"fill:#21918c;\"/>\n    <path clip-path=\"url(#pf05a49f005)\" d=\"M 7.2 106.460682 \nL 40.68 106.460682 \nL 40.68 111.764097 \nL 7.2 111.764097 \nL 7.2 106.460682 \n\" style=\"fill:#21918c;\"/>\n    <path clip-path=\"url(#pf05a49f005)\" d=\"M 40.68 106.460682 \nL 74.16 106.460682 \nL 74.16 111.764097 \nL 40.68 111.764097 \nL 40.68 106.460682 \n\" style=\"fill:#21918c;\"/>\n    <path clip-path=\"url(#pf05a49f005)\" d=\"M 74.16 106.460682 \nL 107.64 106.460682 \nL 107.64 111.764097 \nL 74.16 111.764097 \nL 74.16 106.460682 \n\" style=\"fill:#21918c;\"/>\n    <path clip-path=\"url(#pf05a49f005)\" d=\"M 107.64 106.460682 \nL 141.12 106.460682 \nL 141.12 111.764097 \nL 107.64 111.764097 \nL 107.64 106.460682 \n\" style=\"fill:#21918c;\"/>\n    <path clip-path=\"url(#pf05a49f005)\" d=\"M 141.12 106.460682 \nL 174.6 106.460682 \nL 174.6 111.764097 \nL 141.12 111.764097 \nL 141.12 106.460682 \n\" style=\"fill:#21918c;\"/>\n    <path clip-path=\"url(#pf05a49f005)\" d=\"M 174.6 106.460682 \nL 208.08 106.460682 \nL 208.08 111.764097 \nL 174.6 111.764097 \nL 174.6 106.460682 \n\" style=\"fill:#21918c;\"/>\n    <path clip-path=\"url(#pf05a49f005)\" d=\"M 208.08 106.460682 \nL 241.56 106.460682 \nL 241.56 111.764097 \nL 208.08 111.764097 \nL 208.08 106.460682 \n\" style=\"fill:#21918c;\"/>\n    <path clip-path=\"url(#pf05a49f005)\" d=\"M 241.56 106.460682 \nL 275.04 106.460682 \nL 275.04 111.764097 \nL 241.56 111.764097 \nL 241.56 106.460682 \n\" style=\"fill:#21918c;\"/>\n    <path clip-path=\"url(#pf05a49f005)\" d=\"M 7.2 111.764097 \nL 40.68 111.764097 \nL 40.68 117.067511 \nL 7.2 117.067511 \nL 7.2 111.764097 \n\" style=\"fill:#21918c;\"/>\n    <path clip-path=\"url(#pf05a49f005)\" d=\"M 40.68 111.764097 \nL 74.16 111.764097 \nL 74.16 117.067511 \nL 40.68 117.067511 \nL 40.68 111.764097 \n\" style=\"fill:#21918c;\"/>\n    <path clip-path=\"url(#pf05a49f005)\" d=\"M 74.16 111.764097 \nL 107.64 111.764097 \nL 107.64 117.067511 \nL 74.16 117.067511 \nL 74.16 111.764097 \n\" style=\"fill:#21918c;\"/>\n    <path clip-path=\"url(#pf05a49f005)\" d=\"M 107.64 111.764097 \nL 141.12 111.764097 \nL 141.12 117.067511 \nL 107.64 117.067511 \nL 107.64 111.764097 \n\" style=\"fill:#21918c;\"/>\n    <path clip-path=\"url(#pf05a49f005)\" d=\"M 141.12 111.764097 \nL 174.6 111.764097 \nL 174.6 117.067511 \nL 141.12 117.067511 \nL 141.12 111.764097 \n\" style=\"fill:#21918c;\"/>\n    <path clip-path=\"url(#pf05a49f005)\" d=\"M 174.6 111.764097 \nL 208.08 111.764097 \nL 208.08 117.067511 \nL 174.6 117.067511 \nL 174.6 111.764097 \n\" style=\"fill:#21918c;\"/>\n    <path clip-path=\"url(#pf05a49f005)\" d=\"M 208.08 111.764097 \nL 241.56 111.764097 \nL 241.56 117.067511 \nL 208.08 117.067511 \nL 208.08 111.764097 \n\" style=\"fill:#21918c;\"/>\n    <path clip-path=\"url(#pf05a49f005)\" d=\"M 241.56 111.764097 \nL 275.04 111.764097 \nL 275.04 117.067511 \nL 241.56 117.067511 \nL 241.56 111.764097 \n\" style=\"fill:#21918c;\"/>\n    <path clip-path=\"url(#pf05a49f005)\" d=\"M 7.2 117.067511 \nL 40.68 117.067511 \nL 40.68 122.370926 \nL 7.2 122.370926 \nL 7.2 117.067511 \n\" style=\"fill:#21918c;\"/>\n    <path clip-path=\"url(#pf05a49f005)\" d=\"M 40.68 117.067511 \nL 74.16 117.067511 \nL 74.16 122.370926 \nL 40.68 122.370926 \nL 40.68 117.067511 \n\" style=\"fill:#21918c;\"/>\n    <path clip-path=\"url(#pf05a49f005)\" d=\"M 74.16 117.067511 \nL 107.64 117.067511 \nL 107.64 122.370926 \nL 74.16 122.370926 \nL 74.16 117.067511 \n\" style=\"fill:#21918c;\"/>\n    <path clip-path=\"url(#pf05a49f005)\" d=\"M 107.64 117.067511 \nL 141.12 117.067511 \nL 141.12 122.370926 \nL 107.64 122.370926 \nL 107.64 117.067511 \n\" style=\"fill:#21918c;\"/>\n    <path clip-path=\"url(#pf05a49f005)\" d=\"M 141.12 117.067511 \nL 174.6 117.067511 \nL 174.6 122.370926 \nL 141.12 122.370926 \nL 141.12 117.067511 \n\" style=\"fill:#21918c;\"/>\n    <path clip-path=\"url(#pf05a49f005)\" d=\"M 174.6 117.067511 \nL 208.08 117.067511 \nL 208.08 122.370926 \nL 174.6 122.370926 \nL 174.6 117.067511 \n\" style=\"fill:#21918c;\"/>\n    <path clip-path=\"url(#pf05a49f005)\" d=\"M 208.08 117.067511 \nL 241.56 117.067511 \nL 241.56 122.370926 \nL 208.08 122.370926 \nL 208.08 117.067511 \n\" style=\"fill:#21918c;\"/>\n    <path clip-path=\"url(#pf05a49f005)\" d=\"M 241.56 117.067511 \nL 275.04 117.067511 \nL 275.04 122.370926 \nL 241.56 122.370926 \nL 241.56 117.067511 \n\" style=\"fill:#21918c;\"/>\n    <path clip-path=\"url(#pf05a49f005)\" d=\"M 7.2 122.370926 \nL 40.68 122.370926 \nL 40.68 127.674341 \nL 7.2 127.674341 \nL 7.2 122.370926 \n\" style=\"fill:#21918c;\"/>\n    <path clip-path=\"url(#pf05a49f005)\" d=\"M 40.68 122.370926 \nL 74.16 122.370926 \nL 74.16 127.674341 \nL 40.68 127.674341 \nL 40.68 122.370926 \n\" style=\"fill:#21918c;\"/>\n    <path clip-path=\"url(#pf05a49f005)\" d=\"M 74.16 122.370926 \nL 107.64 122.370926 \nL 107.64 127.674341 \nL 74.16 127.674341 \nL 74.16 122.370926 \n\" style=\"fill:#21918c;\"/>\n    <path clip-path=\"url(#pf05a49f005)\" d=\"M 107.64 122.370926 \nL 141.12 122.370926 \nL 141.12 127.674341 \nL 107.64 127.674341 \nL 107.64 122.370926 \n\" style=\"fill:#21918c;\"/>\n    <path clip-path=\"url(#pf05a49f005)\" d=\"M 141.12 122.370926 \nL 174.6 122.370926 \nL 174.6 127.674341 \nL 141.12 127.674341 \nL 141.12 122.370926 \n\" style=\"fill:#21918c;\"/>\n    <path clip-path=\"url(#pf05a49f005)\" d=\"M 174.6 122.370926 \nL 208.08 122.370926 \nL 208.08 127.674341 \nL 174.6 127.674341 \nL 174.6 122.370926 \n\" style=\"fill:#21918c;\"/>\n    <path clip-path=\"url(#pf05a49f005)\" d=\"M 208.08 122.370926 \nL 241.56 122.370926 \nL 241.56 127.674341 \nL 208.08 127.674341 \nL 208.08 122.370926 \n\" style=\"fill:#21918c;\"/>\n    <path clip-path=\"url(#pf05a49f005)\" d=\"M 241.56 122.370926 \nL 275.04 122.370926 \nL 275.04 127.674341 \nL 241.56 127.674341 \nL 241.56 122.370926 \n\" style=\"fill:#21918c;\"/>\n    <path clip-path=\"url(#pf05a49f005)\" d=\"M 7.2 127.674341 \nL 40.68 127.674341 \nL 40.68 132.977755 \nL 7.2 132.977755 \nL 7.2 127.674341 \n\" style=\"fill:#21918c;\"/>\n    <path clip-path=\"url(#pf05a49f005)\" d=\"M 40.68 127.674341 \nL 74.16 127.674341 \nL 74.16 132.977755 \nL 40.68 132.977755 \nL 40.68 127.674341 \n\" style=\"fill:#21918c;\"/>\n    <path clip-path=\"url(#pf05a49f005)\" d=\"M 74.16 127.674341 \nL 107.64 127.674341 \nL 107.64 132.977755 \nL 74.16 132.977755 \nL 74.16 127.674341 \n\" style=\"fill:#21918c;\"/>\n    <path clip-path=\"url(#pf05a49f005)\" d=\"M 107.64 127.674341 \nL 141.12 127.674341 \nL 141.12 132.977755 \nL 107.64 132.977755 \nL 107.64 127.674341 \n\" style=\"fill:#21918c;\"/>\n    <path clip-path=\"url(#pf05a49f005)\" d=\"M 141.12 127.674341 \nL 174.6 127.674341 \nL 174.6 132.977755 \nL 141.12 132.977755 \nL 141.12 127.674341 \n\" style=\"fill:#21918c;\"/>\n    <path clip-path=\"url(#pf05a49f005)\" d=\"M 174.6 127.674341 \nL 208.08 127.674341 \nL 208.08 132.977755 \nL 174.6 132.977755 \nL 174.6 127.674341 \n\" style=\"fill:#21918c;\"/>\n    <path clip-path=\"url(#pf05a49f005)\" d=\"M 208.08 127.674341 \nL 241.56 127.674341 \nL 241.56 132.977755 \nL 208.08 132.977755 \nL 208.08 127.674341 \n\" style=\"fill:#21918c;\"/>\n    <path clip-path=\"url(#pf05a49f005)\" d=\"M 241.56 127.674341 \nL 275.04 127.674341 \nL 275.04 132.977755 \nL 241.56 132.977755 \nL 241.56 127.674341 \n\" style=\"fill:#21918c;\"/>\n    <path clip-path=\"url(#pf05a49f005)\" d=\"M 7.2 132.977755 \nL 40.68 132.977755 \nL 40.68 138.28117 \nL 7.2 138.28117 \nL 7.2 132.977755 \n\" style=\"fill:#21918c;\"/>\n    <path clip-path=\"url(#pf05a49f005)\" d=\"M 40.68 132.977755 \nL 74.16 132.977755 \nL 74.16 138.28117 \nL 40.68 138.28117 \nL 40.68 132.977755 \n\" style=\"fill:#21918c;\"/>\n    <path clip-path=\"url(#pf05a49f005)\" d=\"M 74.16 132.977755 \nL 107.64 132.977755 \nL 107.64 138.28117 \nL 74.16 138.28117 \nL 74.16 132.977755 \n\" style=\"fill:#21918c;\"/>\n    <path clip-path=\"url(#pf05a49f005)\" d=\"M 107.64 132.977755 \nL 141.12 132.977755 \nL 141.12 138.28117 \nL 107.64 138.28117 \nL 107.64 132.977755 \n\" style=\"fill:#21918c;\"/>\n    <path clip-path=\"url(#pf05a49f005)\" d=\"M 141.12 132.977755 \nL 174.6 132.977755 \nL 174.6 138.28117 \nL 141.12 138.28117 \nL 141.12 132.977755 \n\" style=\"fill:#21918c;\"/>\n    <path clip-path=\"url(#pf05a49f005)\" d=\"M 174.6 132.977755 \nL 208.08 132.977755 \nL 208.08 138.28117 \nL 174.6 138.28117 \nL 174.6 132.977755 \n\" style=\"fill:#21918c;\"/>\n    <path clip-path=\"url(#pf05a49f005)\" d=\"M 208.08 132.977755 \nL 241.56 132.977755 \nL 241.56 138.28117 \nL 208.08 138.28117 \nL 208.08 132.977755 \n\" style=\"fill:#21918c;\"/>\n    <path clip-path=\"url(#pf05a49f005)\" d=\"M 241.56 132.977755 \nL 275.04 132.977755 \nL 275.04 138.28117 \nL 241.56 138.28117 \nL 241.56 132.977755 \n\" style=\"fill:#21918c;\"/>\n    <path clip-path=\"url(#pf05a49f005)\" d=\"M 7.2 138.28117 \nL 40.68 138.28117 \nL 40.68 143.584585 \nL 7.2 143.584585 \nL 7.2 138.28117 \n\" style=\"fill:#21918c;\"/>\n    <path clip-path=\"url(#pf05a49f005)\" d=\"M 40.68 138.28117 \nL 74.16 138.28117 \nL 74.16 143.584585 \nL 40.68 143.584585 \nL 40.68 138.28117 \n\" style=\"fill:#21918c;\"/>\n    <path clip-path=\"url(#pf05a49f005)\" d=\"M 74.16 138.28117 \nL 107.64 138.28117 \nL 107.64 143.584585 \nL 74.16 143.584585 \nL 74.16 138.28117 \n\" style=\"fill:#21918c;\"/>\n    <path clip-path=\"url(#pf05a49f005)\" d=\"M 107.64 138.28117 \nL 141.12 138.28117 \nL 141.12 143.584585 \nL 107.64 143.584585 \nL 107.64 138.28117 \n\" style=\"fill:#21918c;\"/>\n    <path clip-path=\"url(#pf05a49f005)\" d=\"M 141.12 138.28117 \nL 174.6 138.28117 \nL 174.6 143.584585 \nL 141.12 143.584585 \nL 141.12 138.28117 \n\" style=\"fill:#21918c;\"/>\n    <path clip-path=\"url(#pf05a49f005)\" d=\"M 174.6 138.28117 \nL 208.08 138.28117 \nL 208.08 143.584585 \nL 174.6 143.584585 \nL 174.6 138.28117 \n\" style=\"fill:#21918c;\"/>\n    <path clip-path=\"url(#pf05a49f005)\" d=\"M 208.08 138.28117 \nL 241.56 138.28117 \nL 241.56 143.584585 \nL 208.08 143.584585 \nL 208.08 138.28117 \n\" style=\"fill:#21918c;\"/>\n    <path clip-path=\"url(#pf05a49f005)\" d=\"M 241.56 138.28117 \nL 275.04 138.28117 \nL 275.04 143.584585 \nL 241.56 143.584585 \nL 241.56 138.28117 \n\" style=\"fill:#21918c;\"/>\n    <path clip-path=\"url(#pf05a49f005)\" d=\"M 7.2 143.584585 \nL 40.68 143.584585 \nL 40.68 148.887999 \nL 7.2 148.887999 \nL 7.2 143.584585 \n\" style=\"fill:#21918c;\"/>\n    <path clip-path=\"url(#pf05a49f005)\" d=\"M 40.68 143.584585 \nL 74.16 143.584585 \nL 74.16 148.887999 \nL 40.68 148.887999 \nL 40.68 143.584585 \n\" style=\"fill:#21918c;\"/>\n    <path clip-path=\"url(#pf05a49f005)\" d=\"M 74.16 143.584585 \nL 107.64 143.584585 \nL 107.64 148.887999 \nL 74.16 148.887999 \nL 74.16 143.584585 \n\" style=\"fill:#21918c;\"/>\n    <path clip-path=\"url(#pf05a49f005)\" d=\"M 107.64 143.584585 \nL 141.12 143.584585 \nL 141.12 148.887999 \nL 107.64 148.887999 \nL 107.64 143.584585 \n\" style=\"fill:#21918c;\"/>\n    <path clip-path=\"url(#pf05a49f005)\" d=\"M 141.12 143.584585 \nL 174.6 143.584585 \nL 174.6 148.887999 \nL 141.12 148.887999 \nL 141.12 143.584585 \n\" style=\"fill:#21918c;\"/>\n    <path clip-path=\"url(#pf05a49f005)\" d=\"M 174.6 143.584585 \nL 208.08 143.584585 \nL 208.08 148.887999 \nL 174.6 148.887999 \nL 174.6 143.584585 \n\" style=\"fill:#21918c;\"/>\n    <path clip-path=\"url(#pf05a49f005)\" d=\"M 208.08 143.584585 \nL 241.56 143.584585 \nL 241.56 148.887999 \nL 208.08 148.887999 \nL 208.08 143.584585 \n\" style=\"fill:#21918c;\"/>\n    <path clip-path=\"url(#pf05a49f005)\" d=\"M 241.56 143.584585 \nL 275.04 143.584585 \nL 275.04 148.887999 \nL 241.56 148.887999 \nL 241.56 143.584585 \n\" style=\"fill:#21918c;\"/>\n    <path clip-path=\"url(#pf05a49f005)\" d=\"M 7.2 148.887999 \nL 40.68 148.887999 \nL 40.68 154.191414 \nL 7.2 154.191414 \nL 7.2 148.887999 \n\" style=\"fill:#21918c;\"/>\n    <path clip-path=\"url(#pf05a49f005)\" d=\"M 40.68 148.887999 \nL 74.16 148.887999 \nL 74.16 154.191414 \nL 40.68 154.191414 \nL 40.68 148.887999 \n\" style=\"fill:#21918c;\"/>\n    <path clip-path=\"url(#pf05a49f005)\" d=\"M 74.16 148.887999 \nL 107.64 148.887999 \nL 107.64 154.191414 \nL 74.16 154.191414 \nL 74.16 148.887999 \n\" style=\"fill:#21918c;\"/>\n    <path clip-path=\"url(#pf05a49f005)\" d=\"M 107.64 148.887999 \nL 141.12 148.887999 \nL 141.12 154.191414 \nL 107.64 154.191414 \nL 107.64 148.887999 \n\" style=\"fill:#21918c;\"/>\n    <path clip-path=\"url(#pf05a49f005)\" d=\"M 141.12 148.887999 \nL 174.6 148.887999 \nL 174.6 154.191414 \nL 141.12 154.191414 \nL 141.12 148.887999 \n\" style=\"fill:#21918c;\"/>\n    <path clip-path=\"url(#pf05a49f005)\" d=\"M 174.6 148.887999 \nL 208.08 148.887999 \nL 208.08 154.191414 \nL 174.6 154.191414 \nL 174.6 148.887999 \n\" style=\"fill:#21918c;\"/>\n    <path clip-path=\"url(#pf05a49f005)\" d=\"M 208.08 148.887999 \nL 241.56 148.887999 \nL 241.56 154.191414 \nL 208.08 154.191414 \nL 208.08 148.887999 \n\" style=\"fill:#21918c;\"/>\n    <path clip-path=\"url(#pf05a49f005)\" d=\"M 241.56 148.887999 \nL 275.04 148.887999 \nL 275.04 154.191414 \nL 241.56 154.191414 \nL 241.56 148.887999 \n\" style=\"fill:#21918c;\"/>\n    <path clip-path=\"url(#pf05a49f005)\" d=\"M 7.2 154.191414 \nL 40.68 154.191414 \nL 40.68 159.494829 \nL 7.2 159.494829 \nL 7.2 154.191414 \n\" style=\"fill:#21918c;\"/>\n    <path clip-path=\"url(#pf05a49f005)\" d=\"M 40.68 154.191414 \nL 74.16 154.191414 \nL 74.16 159.494829 \nL 40.68 159.494829 \nL 40.68 154.191414 \n\" style=\"fill:#21918c;\"/>\n    <path clip-path=\"url(#pf05a49f005)\" d=\"M 74.16 154.191414 \nL 107.64 154.191414 \nL 107.64 159.494829 \nL 74.16 159.494829 \nL 74.16 154.191414 \n\" style=\"fill:#21918c;\"/>\n    <path clip-path=\"url(#pf05a49f005)\" d=\"M 107.64 154.191414 \nL 141.12 154.191414 \nL 141.12 159.494829 \nL 107.64 159.494829 \nL 107.64 154.191414 \n\" style=\"fill:#21918c;\"/>\n    <path clip-path=\"url(#pf05a49f005)\" d=\"M 141.12 154.191414 \nL 174.6 154.191414 \nL 174.6 159.494829 \nL 141.12 159.494829 \nL 141.12 154.191414 \n\" style=\"fill:#21918c;\"/>\n    <path clip-path=\"url(#pf05a49f005)\" d=\"M 174.6 154.191414 \nL 208.08 154.191414 \nL 208.08 159.494829 \nL 174.6 159.494829 \nL 174.6 154.191414 \n\" style=\"fill:#21918c;\"/>\n    <path clip-path=\"url(#pf05a49f005)\" d=\"M 208.08 154.191414 \nL 241.56 154.191414 \nL 241.56 159.494829 \nL 208.08 159.494829 \nL 208.08 154.191414 \n\" style=\"fill:#21918c;\"/>\n    <path clip-path=\"url(#pf05a49f005)\" d=\"M 241.56 154.191414 \nL 275.04 154.191414 \nL 275.04 159.494829 \nL 241.56 159.494829 \nL 241.56 154.191414 \n\" style=\"fill:#21918c;\"/>\n    <path clip-path=\"url(#pf05a49f005)\" d=\"M 7.2 159.494829 \nL 40.68 159.494829 \nL 40.68 164.798243 \nL 7.2 164.798243 \nL 7.2 159.494829 \n\" style=\"fill:#21918c;\"/>\n    <path clip-path=\"url(#pf05a49f005)\" d=\"M 40.68 159.494829 \nL 74.16 159.494829 \nL 74.16 164.798243 \nL 40.68 164.798243 \nL 40.68 159.494829 \n\" style=\"fill:#21918c;\"/>\n    <path clip-path=\"url(#pf05a49f005)\" d=\"M 74.16 159.494829 \nL 107.64 159.494829 \nL 107.64 164.798243 \nL 74.16 164.798243 \nL 74.16 159.494829 \n\" style=\"fill:#21918c;\"/>\n    <path clip-path=\"url(#pf05a49f005)\" d=\"M 107.64 159.494829 \nL 141.12 159.494829 \nL 141.12 164.798243 \nL 107.64 164.798243 \nL 107.64 159.494829 \n\" style=\"fill:#21918c;\"/>\n    <path clip-path=\"url(#pf05a49f005)\" d=\"M 141.12 159.494829 \nL 174.6 159.494829 \nL 174.6 164.798243 \nL 141.12 164.798243 \nL 141.12 159.494829 \n\" style=\"fill:#21918c;\"/>\n    <path clip-path=\"url(#pf05a49f005)\" d=\"M 174.6 159.494829 \nL 208.08 159.494829 \nL 208.08 164.798243 \nL 174.6 164.798243 \nL 174.6 159.494829 \n\" style=\"fill:#21918c;\"/>\n    <path clip-path=\"url(#pf05a49f005)\" d=\"M 208.08 159.494829 \nL 241.56 159.494829 \nL 241.56 164.798243 \nL 208.08 164.798243 \nL 208.08 159.494829 \n\" style=\"fill:#21918c;\"/>\n    <path clip-path=\"url(#pf05a49f005)\" d=\"M 241.56 159.494829 \nL 275.04 159.494829 \nL 275.04 164.798243 \nL 241.56 164.798243 \nL 241.56 159.494829 \n\" style=\"fill:#21918c;\"/>\n    <path clip-path=\"url(#pf05a49f005)\" d=\"M 7.2 164.798243 \nL 40.68 164.798243 \nL 40.68 170.101658 \nL 7.2 170.101658 \nL 7.2 164.798243 \n\" style=\"fill:#21918c;\"/>\n    <path clip-path=\"url(#pf05a49f005)\" d=\"M 40.68 164.798243 \nL 74.16 164.798243 \nL 74.16 170.101658 \nL 40.68 170.101658 \nL 40.68 164.798243 \n\" style=\"fill:#21918c;\"/>\n    <path clip-path=\"url(#pf05a49f005)\" d=\"M 74.16 164.798243 \nL 107.64 164.798243 \nL 107.64 170.101658 \nL 74.16 170.101658 \nL 74.16 164.798243 \n\" style=\"fill:#21918c;\"/>\n    <path clip-path=\"url(#pf05a49f005)\" d=\"M 107.64 164.798243 \nL 141.12 164.798243 \nL 141.12 170.101658 \nL 107.64 170.101658 \nL 107.64 164.798243 \n\" style=\"fill:#21918c;\"/>\n    <path clip-path=\"url(#pf05a49f005)\" d=\"M 141.12 164.798243 \nL 174.6 164.798243 \nL 174.6 170.101658 \nL 141.12 170.101658 \nL 141.12 164.798243 \n\" style=\"fill:#21918c;\"/>\n    <path clip-path=\"url(#pf05a49f005)\" d=\"M 174.6 164.798243 \nL 208.08 164.798243 \nL 208.08 170.101658 \nL 174.6 170.101658 \nL 174.6 164.798243 \n\" style=\"fill:#21918c;\"/>\n    <path clip-path=\"url(#pf05a49f005)\" d=\"M 208.08 164.798243 \nL 241.56 164.798243 \nL 241.56 170.101658 \nL 208.08 170.101658 \nL 208.08 164.798243 \n\" style=\"fill:#21918c;\"/>\n    <path clip-path=\"url(#pf05a49f005)\" d=\"M 241.56 164.798243 \nL 275.04 164.798243 \nL 275.04 170.101658 \nL 241.56 170.101658 \nL 241.56 164.798243 \n\" style=\"fill:#21918c;\"/>\n    <path clip-path=\"url(#pf05a49f005)\" d=\"M 7.2 170.101658 \nL 40.68 170.101658 \nL 40.68 175.405072 \nL 7.2 175.405072 \nL 7.2 170.101658 \n\" style=\"fill:#21918c;\"/>\n    <path clip-path=\"url(#pf05a49f005)\" d=\"M 40.68 170.101658 \nL 74.16 170.101658 \nL 74.16 175.405072 \nL 40.68 175.405072 \nL 40.68 170.101658 \n\" style=\"fill:#21918c;\"/>\n    <path clip-path=\"url(#pf05a49f005)\" d=\"M 74.16 170.101658 \nL 107.64 170.101658 \nL 107.64 175.405072 \nL 74.16 175.405072 \nL 74.16 170.101658 \n\" style=\"fill:#21918c;\"/>\n    <path clip-path=\"url(#pf05a49f005)\" d=\"M 107.64 170.101658 \nL 141.12 170.101658 \nL 141.12 175.405072 \nL 107.64 175.405072 \nL 107.64 170.101658 \n\" style=\"fill:#21918c;\"/>\n    <path clip-path=\"url(#pf05a49f005)\" d=\"M 141.12 170.101658 \nL 174.6 170.101658 \nL 174.6 175.405072 \nL 141.12 175.405072 \nL 141.12 170.101658 \n\" style=\"fill:#21918c;\"/>\n    <path clip-path=\"url(#pf05a49f005)\" d=\"M 174.6 170.101658 \nL 208.08 170.101658 \nL 208.08 175.405072 \nL 174.6 175.405072 \nL 174.6 170.101658 \n\" style=\"fill:#21918c;\"/>\n    <path clip-path=\"url(#pf05a49f005)\" d=\"M 208.08 170.101658 \nL 241.56 170.101658 \nL 241.56 175.405072 \nL 208.08 175.405072 \nL 208.08 170.101658 \n\" style=\"fill:#21918c;\"/>\n    <path clip-path=\"url(#pf05a49f005)\" d=\"M 241.56 170.101658 \nL 275.04 170.101658 \nL 275.04 175.405072 \nL 241.56 175.405072 \nL 241.56 170.101658 \n\" style=\"fill:#21918c;\"/>\n    <path clip-path=\"url(#pf05a49f005)\" d=\"M 7.2 175.405072 \nL 40.68 175.405072 \nL 40.68 180.708487 \nL 7.2 180.708487 \nL 7.2 175.405072 \n\" style=\"fill:#21918c;\"/>\n    <path clip-path=\"url(#pf05a49f005)\" d=\"M 40.68 175.405072 \nL 74.16 175.405072 \nL 74.16 180.708487 \nL 40.68 180.708487 \nL 40.68 175.405072 \n\" style=\"fill:#21918c;\"/>\n    <path clip-path=\"url(#pf05a49f005)\" d=\"M 74.16 175.405072 \nL 107.64 175.405072 \nL 107.64 180.708487 \nL 74.16 180.708487 \nL 74.16 175.405072 \n\" style=\"fill:#21918c;\"/>\n    <path clip-path=\"url(#pf05a49f005)\" d=\"M 107.64 175.405072 \nL 141.12 175.405072 \nL 141.12 180.708487 \nL 107.64 180.708487 \nL 107.64 175.405072 \n\" style=\"fill:#21918c;\"/>\n    <path clip-path=\"url(#pf05a49f005)\" d=\"M 141.12 175.405072 \nL 174.6 175.405072 \nL 174.6 180.708487 \nL 141.12 180.708487 \nL 141.12 175.405072 \n\" style=\"fill:#21918c;\"/>\n    <path clip-path=\"url(#pf05a49f005)\" d=\"M 174.6 175.405072 \nL 208.08 175.405072 \nL 208.08 180.708487 \nL 174.6 180.708487 \nL 174.6 175.405072 \n\" style=\"fill:#21918c;\"/>\n    <path clip-path=\"url(#pf05a49f005)\" d=\"M 208.08 175.405072 \nL 241.56 175.405072 \nL 241.56 180.708487 \nL 208.08 180.708487 \nL 208.08 175.405072 \n\" style=\"fill:#21918c;\"/>\n    <path clip-path=\"url(#pf05a49f005)\" d=\"M 241.56 175.405072 \nL 275.04 175.405072 \nL 275.04 180.708487 \nL 241.56 180.708487 \nL 241.56 175.405072 \n\" style=\"fill:#21918c;\"/>\n    <path clip-path=\"url(#pf05a49f005)\" d=\"M 7.2 180.708487 \nL 40.68 180.708487 \nL 40.68 186.011902 \nL 7.2 186.011902 \nL 7.2 180.708487 \n\" style=\"fill:#21918c;\"/>\n    <path clip-path=\"url(#pf05a49f005)\" d=\"M 40.68 180.708487 \nL 74.16 180.708487 \nL 74.16 186.011902 \nL 40.68 186.011902 \nL 40.68 180.708487 \n\" style=\"fill:#21918c;\"/>\n    <path clip-path=\"url(#pf05a49f005)\" d=\"M 74.16 180.708487 \nL 107.64 180.708487 \nL 107.64 186.011902 \nL 74.16 186.011902 \nL 74.16 180.708487 \n\" style=\"fill:#21918c;\"/>\n    <path clip-path=\"url(#pf05a49f005)\" d=\"M 107.64 180.708487 \nL 141.12 180.708487 \nL 141.12 186.011902 \nL 107.64 186.011902 \nL 107.64 180.708487 \n\" style=\"fill:#21918c;\"/>\n    <path clip-path=\"url(#pf05a49f005)\" d=\"M 141.12 180.708487 \nL 174.6 180.708487 \nL 174.6 186.011902 \nL 141.12 186.011902 \nL 141.12 180.708487 \n\" style=\"fill:#21918c;\"/>\n    <path clip-path=\"url(#pf05a49f005)\" d=\"M 174.6 180.708487 \nL 208.08 180.708487 \nL 208.08 186.011902 \nL 174.6 186.011902 \nL 174.6 180.708487 \n\" style=\"fill:#21918c;\"/>\n    <path clip-path=\"url(#pf05a49f005)\" d=\"M 208.08 180.708487 \nL 241.56 180.708487 \nL 241.56 186.011902 \nL 208.08 186.011902 \nL 208.08 180.708487 \n\" style=\"fill:#21918c;\"/>\n    <path clip-path=\"url(#pf05a49f005)\" d=\"M 241.56 180.708487 \nL 275.04 180.708487 \nL 275.04 186.011902 \nL 241.56 186.011902 \nL 241.56 180.708487 \n\" style=\"fill:#21918c;\"/>\n    <path clip-path=\"url(#pf05a49f005)\" d=\"M 7.2 186.011902 \nL 40.68 186.011902 \nL 40.68 191.315316 \nL 7.2 191.315316 \nL 7.2 186.011902 \n\" style=\"fill:#21918c;\"/>\n    <path clip-path=\"url(#pf05a49f005)\" d=\"M 40.68 186.011902 \nL 74.16 186.011902 \nL 74.16 191.315316 \nL 40.68 191.315316 \nL 40.68 186.011902 \n\" style=\"fill:#21918c;\"/>\n    <path clip-path=\"url(#pf05a49f005)\" d=\"M 74.16 186.011902 \nL 107.64 186.011902 \nL 107.64 191.315316 \nL 74.16 191.315316 \nL 74.16 186.011902 \n\" style=\"fill:#21918c;\"/>\n    <path clip-path=\"url(#pf05a49f005)\" d=\"M 107.64 186.011902 \nL 141.12 186.011902 \nL 141.12 191.315316 \nL 107.64 191.315316 \nL 107.64 186.011902 \n\" style=\"fill:#21918c;\"/>\n    <path clip-path=\"url(#pf05a49f005)\" d=\"M 141.12 186.011902 \nL 174.6 186.011902 \nL 174.6 191.315316 \nL 141.12 191.315316 \nL 141.12 186.011902 \n\" style=\"fill:#21918c;\"/>\n    <path clip-path=\"url(#pf05a49f005)\" d=\"M 174.6 186.011902 \nL 208.08 186.011902 \nL 208.08 191.315316 \nL 174.6 191.315316 \nL 174.6 186.011902 \n\" style=\"fill:#21918c;\"/>\n    <path clip-path=\"url(#pf05a49f005)\" d=\"M 208.08 186.011902 \nL 241.56 186.011902 \nL 241.56 191.315316 \nL 208.08 191.315316 \nL 208.08 186.011902 \n\" style=\"fill:#21918c;\"/>\n    <path clip-path=\"url(#pf05a49f005)\" d=\"M 241.56 186.011902 \nL 275.04 186.011902 \nL 275.04 191.315316 \nL 241.56 191.315316 \nL 241.56 186.011902 \n\" style=\"fill:#21918c;\"/>\n    <path clip-path=\"url(#pf05a49f005)\" d=\"M 7.2 191.315316 \nL 40.68 191.315316 \nL 40.68 196.618731 \nL 7.2 196.618731 \nL 7.2 191.315316 \n\" style=\"fill:#21918c;\"/>\n    <path clip-path=\"url(#pf05a49f005)\" d=\"M 40.68 191.315316 \nL 74.16 191.315316 \nL 74.16 196.618731 \nL 40.68 196.618731 \nL 40.68 191.315316 \n\" style=\"fill:#21918c;\"/>\n    <path clip-path=\"url(#pf05a49f005)\" d=\"M 74.16 191.315316 \nL 107.64 191.315316 \nL 107.64 196.618731 \nL 74.16 196.618731 \nL 74.16 191.315316 \n\" style=\"fill:#21918c;\"/>\n    <path clip-path=\"url(#pf05a49f005)\" d=\"M 107.64 191.315316 \nL 141.12 191.315316 \nL 141.12 196.618731 \nL 107.64 196.618731 \nL 107.64 191.315316 \n\" style=\"fill:#21918c;\"/>\n    <path clip-path=\"url(#pf05a49f005)\" d=\"M 141.12 191.315316 \nL 174.6 191.315316 \nL 174.6 196.618731 \nL 141.12 196.618731 \nL 141.12 191.315316 \n\" style=\"fill:#21918c;\"/>\n    <path clip-path=\"url(#pf05a49f005)\" d=\"M 174.6 191.315316 \nL 208.08 191.315316 \nL 208.08 196.618731 \nL 174.6 196.618731 \nL 174.6 191.315316 \n\" style=\"fill:#21918c;\"/>\n    <path clip-path=\"url(#pf05a49f005)\" d=\"M 208.08 191.315316 \nL 241.56 191.315316 \nL 241.56 196.618731 \nL 208.08 196.618731 \nL 208.08 191.315316 \n\" style=\"fill:#21918c;\"/>\n    <path clip-path=\"url(#pf05a49f005)\" d=\"M 241.56 191.315316 \nL 275.04 191.315316 \nL 275.04 196.618731 \nL 241.56 196.618731 \nL 241.56 191.315316 \n\" style=\"fill:#21918c;\"/>\n    <path clip-path=\"url(#pf05a49f005)\" d=\"M 7.2 196.618731 \nL 40.68 196.618731 \nL 40.68 201.922146 \nL 7.2 201.922146 \nL 7.2 196.618731 \n\" style=\"fill:#21918c;\"/>\n    <path clip-path=\"url(#pf05a49f005)\" d=\"M 40.68 196.618731 \nL 74.16 196.618731 \nL 74.16 201.922146 \nL 40.68 201.922146 \nL 40.68 196.618731 \n\" style=\"fill:#21918c;\"/>\n    <path clip-path=\"url(#pf05a49f005)\" d=\"M 74.16 196.618731 \nL 107.64 196.618731 \nL 107.64 201.922146 \nL 74.16 201.922146 \nL 74.16 196.618731 \n\" style=\"fill:#21918c;\"/>\n    <path clip-path=\"url(#pf05a49f005)\" d=\"M 107.64 196.618731 \nL 141.12 196.618731 \nL 141.12 201.922146 \nL 107.64 201.922146 \nL 107.64 196.618731 \n\" style=\"fill:#21918c;\"/>\n    <path clip-path=\"url(#pf05a49f005)\" d=\"M 141.12 196.618731 \nL 174.6 196.618731 \nL 174.6 201.922146 \nL 141.12 201.922146 \nL 141.12 196.618731 \n\" style=\"fill:#21918c;\"/>\n    <path clip-path=\"url(#pf05a49f005)\" d=\"M 174.6 196.618731 \nL 208.08 196.618731 \nL 208.08 201.922146 \nL 174.6 201.922146 \nL 174.6 196.618731 \n\" style=\"fill:#21918c;\"/>\n    <path clip-path=\"url(#pf05a49f005)\" d=\"M 208.08 196.618731 \nL 241.56 196.618731 \nL 241.56 201.922146 \nL 208.08 201.922146 \nL 208.08 196.618731 \n\" style=\"fill:#21918c;\"/>\n    <path clip-path=\"url(#pf05a49f005)\" d=\"M 241.56 196.618731 \nL 275.04 196.618731 \nL 275.04 201.922146 \nL 241.56 201.922146 \nL 241.56 196.618731 \n\" style=\"fill:#21918c;\"/>\n    <path clip-path=\"url(#pf05a49f005)\" d=\"M 7.2 201.922146 \nL 40.68 201.922146 \nL 40.68 207.22556 \nL 7.2 207.22556 \nL 7.2 201.922146 \n\" style=\"fill:#21918c;\"/>\n    <path clip-path=\"url(#pf05a49f005)\" d=\"M 40.68 201.922146 \nL 74.16 201.922146 \nL 74.16 207.22556 \nL 40.68 207.22556 \nL 40.68 201.922146 \n\" style=\"fill:#21918c;\"/>\n    <path clip-path=\"url(#pf05a49f005)\" d=\"M 74.16 201.922146 \nL 107.64 201.922146 \nL 107.64 207.22556 \nL 74.16 207.22556 \nL 74.16 201.922146 \n\" style=\"fill:#21918c;\"/>\n    <path clip-path=\"url(#pf05a49f005)\" d=\"M 107.64 201.922146 \nL 141.12 201.922146 \nL 141.12 207.22556 \nL 107.64 207.22556 \nL 107.64 201.922146 \n\" style=\"fill:#21918c;\"/>\n    <path clip-path=\"url(#pf05a49f005)\" d=\"M 141.12 201.922146 \nL 174.6 201.922146 \nL 174.6 207.22556 \nL 141.12 207.22556 \nL 141.12 201.922146 \n\" style=\"fill:#21918c;\"/>\n    <path clip-path=\"url(#pf05a49f005)\" d=\"M 174.6 201.922146 \nL 208.08 201.922146 \nL 208.08 207.22556 \nL 174.6 207.22556 \nL 174.6 201.922146 \n\" style=\"fill:#21918c;\"/>\n    <path clip-path=\"url(#pf05a49f005)\" d=\"M 208.08 201.922146 \nL 241.56 201.922146 \nL 241.56 207.22556 \nL 208.08 207.22556 \nL 208.08 201.922146 \n\" style=\"fill:#21918c;\"/>\n    <path clip-path=\"url(#pf05a49f005)\" d=\"M 241.56 201.922146 \nL 275.04 201.922146 \nL 275.04 207.22556 \nL 241.56 207.22556 \nL 241.56 201.922146 \n\" style=\"fill:#21918c;\"/>\n    <path clip-path=\"url(#pf05a49f005)\" d=\"M 7.2 207.22556 \nL 40.68 207.22556 \nL 40.68 212.528975 \nL 7.2 212.528975 \nL 7.2 207.22556 \n\" style=\"fill:#21918c;\"/>\n    <path clip-path=\"url(#pf05a49f005)\" d=\"M 40.68 207.22556 \nL 74.16 207.22556 \nL 74.16 212.528975 \nL 40.68 212.528975 \nL 40.68 207.22556 \n\" style=\"fill:#21918c;\"/>\n    <path clip-path=\"url(#pf05a49f005)\" d=\"M 74.16 207.22556 \nL 107.64 207.22556 \nL 107.64 212.528975 \nL 74.16 212.528975 \nL 74.16 207.22556 \n\" style=\"fill:#21918c;\"/>\n    <path clip-path=\"url(#pf05a49f005)\" d=\"M 107.64 207.22556 \nL 141.12 207.22556 \nL 141.12 212.528975 \nL 107.64 212.528975 \nL 107.64 207.22556 \n\" style=\"fill:#21918c;\"/>\n    <path clip-path=\"url(#pf05a49f005)\" d=\"M 141.12 207.22556 \nL 174.6 207.22556 \nL 174.6 212.528975 \nL 141.12 212.528975 \nL 141.12 207.22556 \n\" style=\"fill:#21918c;\"/>\n    <path clip-path=\"url(#pf05a49f005)\" d=\"M 174.6 207.22556 \nL 208.08 207.22556 \nL 208.08 212.528975 \nL 174.6 212.528975 \nL 174.6 207.22556 \n\" style=\"fill:#21918c;\"/>\n    <path clip-path=\"url(#pf05a49f005)\" d=\"M 208.08 207.22556 \nL 241.56 207.22556 \nL 241.56 212.528975 \nL 208.08 212.528975 \nL 208.08 207.22556 \n\" style=\"fill:#21918c;\"/>\n    <path clip-path=\"url(#pf05a49f005)\" d=\"M 241.56 207.22556 \nL 275.04 207.22556 \nL 275.04 212.528975 \nL 241.56 212.528975 \nL 241.56 207.22556 \n\" style=\"fill:#21918c;\"/>\n    <path clip-path=\"url(#pf05a49f005)\" d=\"M 7.2 212.528975 \nL 40.68 212.528975 \nL 40.68 217.832389 \nL 7.2 217.832389 \nL 7.2 212.528975 \n\" style=\"fill:#21918c;\"/>\n    <path clip-path=\"url(#pf05a49f005)\" d=\"M 40.68 212.528975 \nL 74.16 212.528975 \nL 74.16 217.832389 \nL 40.68 217.832389 \nL 40.68 212.528975 \n\" style=\"fill:#21918c;\"/>\n    <path clip-path=\"url(#pf05a49f005)\" d=\"M 74.16 212.528975 \nL 107.64 212.528975 \nL 107.64 217.832389 \nL 74.16 217.832389 \nL 74.16 212.528975 \n\" style=\"fill:#21918c;\"/>\n    <path clip-path=\"url(#pf05a49f005)\" d=\"M 107.64 212.528975 \nL 141.12 212.528975 \nL 141.12 217.832389 \nL 107.64 217.832389 \nL 107.64 212.528975 \n\" style=\"fill:#21918c;\"/>\n    <path clip-path=\"url(#pf05a49f005)\" d=\"M 141.12 212.528975 \nL 174.6 212.528975 \nL 174.6 217.832389 \nL 141.12 217.832389 \nL 141.12 212.528975 \n\" style=\"fill:#21918c;\"/>\n    <path clip-path=\"url(#pf05a49f005)\" d=\"M 174.6 212.528975 \nL 208.08 212.528975 \nL 208.08 217.832389 \nL 174.6 217.832389 \nL 174.6 212.528975 \n\" style=\"fill:#21918c;\"/>\n    <path clip-path=\"url(#pf05a49f005)\" d=\"M 208.08 212.528975 \nL 241.56 212.528975 \nL 241.56 217.832389 \nL 208.08 217.832389 \nL 208.08 212.528975 \n\" style=\"fill:#21918c;\"/>\n    <path clip-path=\"url(#pf05a49f005)\" d=\"M 241.56 212.528975 \nL 275.04 212.528975 \nL 275.04 217.832389 \nL 241.56 217.832389 \nL 241.56 212.528975 \n\" style=\"fill:#21918c;\"/>\n    <path clip-path=\"url(#pf05a49f005)\" d=\"M 7.2 217.832389 \nL 40.68 217.832389 \nL 40.68 223.135804 \nL 7.2 223.135804 \nL 7.2 217.832389 \n\" style=\"fill:#21918c;\"/>\n    <path clip-path=\"url(#pf05a49f005)\" d=\"M 40.68 217.832389 \nL 74.16 217.832389 \nL 74.16 223.135804 \nL 40.68 223.135804 \nL 40.68 217.832389 \n\" style=\"fill:#21918c;\"/>\n    <path clip-path=\"url(#pf05a49f005)\" d=\"M 74.16 217.832389 \nL 107.64 217.832389 \nL 107.64 223.135804 \nL 74.16 223.135804 \nL 74.16 217.832389 \n\" style=\"fill:#21918c;\"/>\n    <path clip-path=\"url(#pf05a49f005)\" d=\"M 107.64 217.832389 \nL 141.12 217.832389 \nL 141.12 223.135804 \nL 107.64 223.135804 \nL 107.64 217.832389 \n\" style=\"fill:#21918c;\"/>\n    <path clip-path=\"url(#pf05a49f005)\" d=\"M 141.12 217.832389 \nL 174.6 217.832389 \nL 174.6 223.135804 \nL 141.12 223.135804 \nL 141.12 217.832389 \n\" style=\"fill:#21918c;\"/>\n    <path clip-path=\"url(#pf05a49f005)\" d=\"M 174.6 217.832389 \nL 208.08 217.832389 \nL 208.08 223.135804 \nL 174.6 223.135804 \nL 174.6 217.832389 \n\" style=\"fill:#21918c;\"/>\n    <path clip-path=\"url(#pf05a49f005)\" d=\"M 208.08 217.832389 \nL 241.56 217.832389 \nL 241.56 223.135804 \nL 208.08 223.135804 \nL 208.08 217.832389 \n\" style=\"fill:#21918c;\"/>\n    <path clip-path=\"url(#pf05a49f005)\" d=\"M 241.56 217.832389 \nL 275.04 217.832389 \nL 275.04 223.135804 \nL 241.56 223.135804 \nL 241.56 217.832389 \n\" style=\"fill:#21918c;\"/>\n    <path clip-path=\"url(#pf05a49f005)\" d=\"M 7.2 223.135804 \nL 40.68 223.135804 \nL 40.68 228.439219 \nL 7.2 228.439219 \nL 7.2 223.135804 \n\" style=\"fill:#21918c;\"/>\n    <path clip-path=\"url(#pf05a49f005)\" d=\"M 40.68 223.135804 \nL 74.16 223.135804 \nL 74.16 228.439219 \nL 40.68 228.439219 \nL 40.68 223.135804 \n\" style=\"fill:#21918c;\"/>\n    <path clip-path=\"url(#pf05a49f005)\" d=\"M 74.16 223.135804 \nL 107.64 223.135804 \nL 107.64 228.439219 \nL 74.16 228.439219 \nL 74.16 223.135804 \n\" style=\"fill:#21918c;\"/>\n    <path clip-path=\"url(#pf05a49f005)\" d=\"M 107.64 223.135804 \nL 141.12 223.135804 \nL 141.12 228.439219 \nL 107.64 228.439219 \nL 107.64 223.135804 \n\" style=\"fill:#21918c;\"/>\n    <path clip-path=\"url(#pf05a49f005)\" d=\"M 141.12 223.135804 \nL 174.6 223.135804 \nL 174.6 228.439219 \nL 141.12 228.439219 \nL 141.12 223.135804 \n\" style=\"fill:#21918c;\"/>\n    <path clip-path=\"url(#pf05a49f005)\" d=\"M 174.6 223.135804 \nL 208.08 223.135804 \nL 208.08 228.439219 \nL 174.6 228.439219 \nL 174.6 223.135804 \n\" style=\"fill:#21918c;\"/>\n    <path clip-path=\"url(#pf05a49f005)\" d=\"M 208.08 223.135804 \nL 241.56 223.135804 \nL 241.56 228.439219 \nL 208.08 228.439219 \nL 208.08 223.135804 \n\" style=\"fill:#21918c;\"/>\n    <path clip-path=\"url(#pf05a49f005)\" d=\"M 241.56 223.135804 \nL 275.04 223.135804 \nL 275.04 228.439219 \nL 241.56 228.439219 \nL 241.56 223.135804 \n\" style=\"fill:#21918c;\"/>\n   </g>\n   <g id=\"matplotlib.axis_1\">\n    <g id=\"xtick_1\">\n     <g id=\"line2d_1\">\n      <defs>\n       <path d=\"M 0 0 \nL 0 3.5 \n\" id=\"m02eb2aca95\" style=\"stroke:#000000;stroke-width:0.8;\"/>\n      </defs>\n      <g>\n       <use style=\"stroke:#000000;stroke-width:0.8;\" x=\"23.94\" xlink:href=\"#m02eb2aca95\" y=\"228.439219\"/>\n      </g>\n     </g>\n     <g id=\"text_1\">\n      <!-- ID -->\n      <defs>\n       <path d=\"M 9.8125 72.90625 \nL 19.671875 72.90625 \nL 19.671875 0 \nL 9.8125 0 \nz\n\" id=\"DejaVuSans-73\"/>\n       <path d=\"M 19.671875 64.796875 \nL 19.671875 8.109375 \nL 31.59375 8.109375 \nQ 46.6875 8.109375 53.6875 14.9375 \nQ 60.6875 21.78125 60.6875 36.53125 \nQ 60.6875 51.171875 53.6875 57.984375 \nQ 46.6875 64.796875 31.59375 64.796875 \nz\nM 9.8125 72.90625 \nL 30.078125 72.90625 \nQ 51.265625 72.90625 61.171875 64.09375 \nQ 71.09375 55.28125 71.09375 36.53125 \nQ 71.09375 17.671875 61.125 8.828125 \nQ 51.171875 0 30.078125 0 \nL 9.8125 0 \nz\n\" id=\"DejaVuSans-68\"/>\n      </defs>\n      <g transform=\"translate(26.699375 246.089219)rotate(-90)scale(0.1 -0.1)\">\n       <use xlink:href=\"#DejaVuSans-73\"/>\n       <use x=\"29.492188\" xlink:href=\"#DejaVuSans-68\"/>\n      </g>\n     </g>\n    </g>\n    <g id=\"xtick_2\">\n     <g id=\"line2d_2\">\n      <g>\n       <use style=\"stroke:#000000;stroke-width:0.8;\" x=\"57.42\" xlink:href=\"#m02eb2aca95\" y=\"228.439219\"/>\n      </g>\n     </g>\n     <g id=\"text_2\">\n      <!-- Age -->\n      <defs>\n       <path d=\"M 34.1875 63.1875 \nL 20.796875 26.90625 \nL 47.609375 26.90625 \nz\nM 28.609375 72.90625 \nL 39.796875 72.90625 \nL 67.578125 0 \nL 57.328125 0 \nL 50.6875 18.703125 \nL 17.828125 18.703125 \nL 11.1875 0 \nL 0.78125 0 \nz\n\" id=\"DejaVuSans-65\"/>\n       <path d=\"M 45.40625 27.984375 \nQ 45.40625 37.75 41.375 43.109375 \nQ 37.359375 48.484375 30.078125 48.484375 \nQ 22.859375 48.484375 18.828125 43.109375 \nQ 14.796875 37.75 14.796875 27.984375 \nQ 14.796875 18.265625 18.828125 12.890625 \nQ 22.859375 7.515625 30.078125 7.515625 \nQ 37.359375 7.515625 41.375 12.890625 \nQ 45.40625 18.265625 45.40625 27.984375 \nz\nM 54.390625 6.78125 \nQ 54.390625 -7.171875 48.1875 -13.984375 \nQ 42 -20.796875 29.203125 -20.796875 \nQ 24.46875 -20.796875 20.265625 -20.09375 \nQ 16.0625 -19.390625 12.109375 -17.921875 \nL 12.109375 -9.1875 \nQ 16.0625 -11.328125 19.921875 -12.34375 \nQ 23.78125 -13.375 27.78125 -13.375 \nQ 36.625 -13.375 41.015625 -8.765625 \nQ 45.40625 -4.15625 45.40625 5.171875 \nL 45.40625 9.625 \nQ 42.625 4.78125 38.28125 2.390625 \nQ 33.9375 0 27.875 0 \nQ 17.828125 0 11.671875 7.65625 \nQ 5.515625 15.328125 5.515625 27.984375 \nQ 5.515625 40.671875 11.671875 48.328125 \nQ 17.828125 56 27.875 56 \nQ 33.9375 56 38.28125 53.609375 \nQ 42.625 51.21875 45.40625 46.390625 \nL 45.40625 54.6875 \nL 54.390625 54.6875 \nz\n\" id=\"DejaVuSans-103\"/>\n       <path d=\"M 56.203125 29.59375 \nL 56.203125 25.203125 \nL 14.890625 25.203125 \nQ 15.484375 15.921875 20.484375 11.0625 \nQ 25.484375 6.203125 34.421875 6.203125 \nQ 39.59375 6.203125 44.453125 7.46875 \nQ 49.3125 8.734375 54.109375 11.28125 \nL 54.109375 2.78125 \nQ 49.265625 0.734375 44.1875 -0.34375 \nQ 39.109375 -1.421875 33.890625 -1.421875 \nQ 20.796875 -1.421875 13.15625 6.1875 \nQ 5.515625 13.8125 5.515625 26.8125 \nQ 5.515625 40.234375 12.765625 48.109375 \nQ 20.015625 56 32.328125 56 \nQ 43.359375 56 49.78125 48.890625 \nQ 56.203125 41.796875 56.203125 29.59375 \nz\nM 47.21875 32.234375 \nQ 47.125 39.59375 43.09375 43.984375 \nQ 39.0625 48.390625 32.421875 48.390625 \nQ 24.90625 48.390625 20.390625 44.140625 \nQ 15.875 39.890625 15.1875 32.171875 \nz\n\" id=\"DejaVuSans-101\"/>\n      </defs>\n      <g transform=\"translate(60.179375 254.781406)rotate(-90)scale(0.1 -0.1)\">\n       <use xlink:href=\"#DejaVuSans-65\"/>\n       <use x=\"68.408203\" xlink:href=\"#DejaVuSans-103\"/>\n       <use x=\"131.884766\" xlink:href=\"#DejaVuSans-101\"/>\n      </g>\n     </g>\n    </g>\n    <g id=\"xtick_3\">\n     <g id=\"line2d_3\">\n      <g>\n       <use style=\"stroke:#000000;stroke-width:0.8;\" x=\"90.9\" xlink:href=\"#m02eb2aca95\" y=\"228.439219\"/>\n      </g>\n     </g>\n     <g id=\"text_3\">\n      <!-- Weight -->\n      <defs>\n       <path d=\"M 3.328125 72.90625 \nL 13.28125 72.90625 \nL 28.609375 11.28125 \nL 43.890625 72.90625 \nL 54.984375 72.90625 \nL 70.3125 11.28125 \nL 85.59375 72.90625 \nL 95.609375 72.90625 \nL 77.296875 0 \nL 64.890625 0 \nL 49.515625 63.28125 \nL 33.984375 0 \nL 21.578125 0 \nz\n\" id=\"DejaVuSans-87\"/>\n       <path d=\"M 9.421875 54.6875 \nL 18.40625 54.6875 \nL 18.40625 0 \nL 9.421875 0 \nz\nM 9.421875 75.984375 \nL 18.40625 75.984375 \nL 18.40625 64.59375 \nL 9.421875 64.59375 \nz\n\" id=\"DejaVuSans-105\"/>\n       <path d=\"M 54.890625 33.015625 \nL 54.890625 0 \nL 45.90625 0 \nL 45.90625 32.71875 \nQ 45.90625 40.484375 42.875 44.328125 \nQ 39.84375 48.1875 33.796875 48.1875 \nQ 26.515625 48.1875 22.3125 43.546875 \nQ 18.109375 38.921875 18.109375 30.90625 \nL 18.109375 0 \nL 9.078125 0 \nL 9.078125 75.984375 \nL 18.109375 75.984375 \nL 18.109375 46.1875 \nQ 21.34375 51.125 25.703125 53.5625 \nQ 30.078125 56 35.796875 56 \nQ 45.21875 56 50.046875 50.171875 \nQ 54.890625 44.34375 54.890625 33.015625 \nz\n\" id=\"DejaVuSans-104\"/>\n       <path d=\"M 18.3125 70.21875 \nL 18.3125 54.6875 \nL 36.8125 54.6875 \nL 36.8125 47.703125 \nL 18.3125 47.703125 \nL 18.3125 18.015625 \nQ 18.3125 11.328125 20.140625 9.421875 \nQ 21.96875 7.515625 27.59375 7.515625 \nL 36.8125 7.515625 \nL 36.8125 0 \nL 27.59375 0 \nQ 17.1875 0 13.234375 3.875 \nQ 9.28125 7.765625 9.28125 18.015625 \nL 9.28125 47.703125 \nL 2.6875 47.703125 \nL 2.6875 54.6875 \nL 9.28125 54.6875 \nL 9.28125 70.21875 \nz\n\" id=\"DejaVuSans-116\"/>\n      </defs>\n      <g transform=\"translate(93.659375 270.276719)rotate(-90)scale(0.1 -0.1)\">\n       <use xlink:href=\"#DejaVuSans-87\"/>\n       <use x=\"93.001953\" xlink:href=\"#DejaVuSans-101\"/>\n       <use x=\"154.525391\" xlink:href=\"#DejaVuSans-105\"/>\n       <use x=\"182.308594\" xlink:href=\"#DejaVuSans-103\"/>\n       <use x=\"245.785156\" xlink:href=\"#DejaVuSans-104\"/>\n       <use x=\"309.164062\" xlink:href=\"#DejaVuSans-116\"/>\n      </g>\n     </g>\n    </g>\n    <g id=\"xtick_4\">\n     <g id=\"line2d_4\">\n      <g>\n       <use style=\"stroke:#000000;stroke-width:0.8;\" x=\"124.38\" xlink:href=\"#m02eb2aca95\" y=\"228.439219\"/>\n      </g>\n     </g>\n     <g id=\"text_4\">\n      <!-- Firstname -->\n      <defs>\n       <path d=\"M 9.8125 72.90625 \nL 51.703125 72.90625 \nL 51.703125 64.59375 \nL 19.671875 64.59375 \nL 19.671875 43.109375 \nL 48.578125 43.109375 \nL 48.578125 34.8125 \nL 19.671875 34.8125 \nL 19.671875 0 \nL 9.8125 0 \nz\n\" id=\"DejaVuSans-70\"/>\n       <path d=\"M 41.109375 46.296875 \nQ 39.59375 47.171875 37.8125 47.578125 \nQ 36.03125 48 33.890625 48 \nQ 26.265625 48 22.1875 43.046875 \nQ 18.109375 38.09375 18.109375 28.8125 \nL 18.109375 0 \nL 9.078125 0 \nL 9.078125 54.6875 \nL 18.109375 54.6875 \nL 18.109375 46.1875 \nQ 20.953125 51.171875 25.484375 53.578125 \nQ 30.03125 56 36.53125 56 \nQ 37.453125 56 38.578125 55.875 \nQ 39.703125 55.765625 41.0625 55.515625 \nz\n\" id=\"DejaVuSans-114\"/>\n       <path d=\"M 44.28125 53.078125 \nL 44.28125 44.578125 \nQ 40.484375 46.53125 36.375 47.5 \nQ 32.28125 48.484375 27.875 48.484375 \nQ 21.1875 48.484375 17.84375 46.4375 \nQ 14.5 44.390625 14.5 40.28125 \nQ 14.5 37.15625 16.890625 35.375 \nQ 19.28125 33.59375 26.515625 31.984375 \nL 29.59375 31.296875 \nQ 39.15625 29.25 43.1875 25.515625 \nQ 47.21875 21.78125 47.21875 15.09375 \nQ 47.21875 7.46875 41.1875 3.015625 \nQ 35.15625 -1.421875 24.609375 -1.421875 \nQ 20.21875 -1.421875 15.453125 -0.5625 \nQ 10.6875 0.296875 5.421875 2 \nL 5.421875 11.28125 \nQ 10.40625 8.6875 15.234375 7.390625 \nQ 20.0625 6.109375 24.8125 6.109375 \nQ 31.15625 6.109375 34.5625 8.28125 \nQ 37.984375 10.453125 37.984375 14.40625 \nQ 37.984375 18.0625 35.515625 20.015625 \nQ 33.0625 21.96875 24.703125 23.78125 \nL 21.578125 24.515625 \nQ 13.234375 26.265625 9.515625 29.90625 \nQ 5.8125 33.546875 5.8125 39.890625 \nQ 5.8125 47.609375 11.28125 51.796875 \nQ 16.75 56 26.8125 56 \nQ 31.78125 56 36.171875 55.265625 \nQ 40.578125 54.546875 44.28125 53.078125 \nz\n\" id=\"DejaVuSans-115\"/>\n       <path d=\"M 54.890625 33.015625 \nL 54.890625 0 \nL 45.90625 0 \nL 45.90625 32.71875 \nQ 45.90625 40.484375 42.875 44.328125 \nQ 39.84375 48.1875 33.796875 48.1875 \nQ 26.515625 48.1875 22.3125 43.546875 \nQ 18.109375 38.921875 18.109375 30.90625 \nL 18.109375 0 \nL 9.078125 0 \nL 9.078125 54.6875 \nL 18.109375 54.6875 \nL 18.109375 46.1875 \nQ 21.34375 51.125 25.703125 53.5625 \nQ 30.078125 56 35.796875 56 \nQ 45.21875 56 50.046875 50.171875 \nQ 54.890625 44.34375 54.890625 33.015625 \nz\n\" id=\"DejaVuSans-110\"/>\n       <path d=\"M 34.28125 27.484375 \nQ 23.390625 27.484375 19.1875 25 \nQ 14.984375 22.515625 14.984375 16.5 \nQ 14.984375 11.71875 18.140625 8.90625 \nQ 21.296875 6.109375 26.703125 6.109375 \nQ 34.1875 6.109375 38.703125 11.40625 \nQ 43.21875 16.703125 43.21875 25.484375 \nL 43.21875 27.484375 \nz\nM 52.203125 31.203125 \nL 52.203125 0 \nL 43.21875 0 \nL 43.21875 8.296875 \nQ 40.140625 3.328125 35.546875 0.953125 \nQ 30.953125 -1.421875 24.3125 -1.421875 \nQ 15.921875 -1.421875 10.953125 3.296875 \nQ 6 8.015625 6 15.921875 \nQ 6 25.140625 12.171875 29.828125 \nQ 18.359375 34.515625 30.609375 34.515625 \nL 43.21875 34.515625 \nL 43.21875 35.40625 \nQ 43.21875 41.609375 39.140625 45 \nQ 35.0625 48.390625 27.6875 48.390625 \nQ 23 48.390625 18.546875 47.265625 \nQ 14.109375 46.140625 10.015625 43.890625 \nL 10.015625 52.203125 \nQ 14.9375 54.109375 19.578125 55.046875 \nQ 24.21875 56 28.609375 56 \nQ 40.484375 56 46.34375 49.84375 \nQ 52.203125 43.703125 52.203125 31.203125 \nz\n\" id=\"DejaVuSans-97\"/>\n       <path d=\"M 52 44.1875 \nQ 55.375 50.25 60.0625 53.125 \nQ 64.75 56 71.09375 56 \nQ 79.640625 56 84.28125 50.015625 \nQ 88.921875 44.046875 88.921875 33.015625 \nL 88.921875 0 \nL 79.890625 0 \nL 79.890625 32.71875 \nQ 79.890625 40.578125 77.09375 44.375 \nQ 74.3125 48.1875 68.609375 48.1875 \nQ 61.625 48.1875 57.5625 43.546875 \nQ 53.515625 38.921875 53.515625 30.90625 \nL 53.515625 0 \nL 44.484375 0 \nL 44.484375 32.71875 \nQ 44.484375 40.625 41.703125 44.40625 \nQ 38.921875 48.1875 33.109375 48.1875 \nQ 26.21875 48.1875 22.15625 43.53125 \nQ 18.109375 38.875 18.109375 30.90625 \nL 18.109375 0 \nL 9.078125 0 \nL 9.078125 54.6875 \nL 18.109375 54.6875 \nL 18.109375 46.1875 \nQ 21.1875 51.21875 25.484375 53.609375 \nQ 29.78125 56 35.6875 56 \nQ 41.65625 56 45.828125 52.96875 \nQ 50 49.953125 52 44.1875 \nz\n\" id=\"DejaVuSans-109\"/>\n      </defs>\n      <g transform=\"translate(127.139375 284.843906)rotate(-90)scale(0.1 -0.1)\">\n       <use xlink:href=\"#DejaVuSans-70\"/>\n       <use x=\"50.269531\" xlink:href=\"#DejaVuSans-105\"/>\n       <use x=\"78.052734\" xlink:href=\"#DejaVuSans-114\"/>\n       <use x=\"119.166016\" xlink:href=\"#DejaVuSans-115\"/>\n       <use x=\"171.265625\" xlink:href=\"#DejaVuSans-116\"/>\n       <use x=\"210.474609\" xlink:href=\"#DejaVuSans-110\"/>\n       <use x=\"273.853516\" xlink:href=\"#DejaVuSans-97\"/>\n       <use x=\"335.132812\" xlink:href=\"#DejaVuSans-109\"/>\n       <use x=\"432.544922\" xlink:href=\"#DejaVuSans-101\"/>\n      </g>\n     </g>\n    </g>\n    <g id=\"xtick_5\">\n     <g id=\"line2d_5\">\n      <g>\n       <use style=\"stroke:#000000;stroke-width:0.8;\" x=\"157.86\" xlink:href=\"#m02eb2aca95\" y=\"228.439219\"/>\n      </g>\n     </g>\n     <g id=\"text_5\">\n      <!-- Lastname -->\n      <defs>\n       <path d=\"M 9.8125 72.90625 \nL 19.671875 72.90625 \nL 19.671875 8.296875 \nL 55.171875 8.296875 \nL 55.171875 0 \nL 9.8125 0 \nz\n\" id=\"DejaVuSans-76\"/>\n      </defs>\n      <g transform=\"translate(160.619375 284.628281)rotate(-90)scale(0.1 -0.1)\">\n       <use xlink:href=\"#DejaVuSans-76\"/>\n       <use x=\"55.712891\" xlink:href=\"#DejaVuSans-97\"/>\n       <use x=\"116.992188\" xlink:href=\"#DejaVuSans-115\"/>\n       <use x=\"169.091797\" xlink:href=\"#DejaVuSans-116\"/>\n       <use x=\"208.300781\" xlink:href=\"#DejaVuSans-110\"/>\n       <use x=\"271.679688\" xlink:href=\"#DejaVuSans-97\"/>\n       <use x=\"332.958984\" xlink:href=\"#DejaVuSans-109\"/>\n       <use x=\"430.371094\" xlink:href=\"#DejaVuSans-101\"/>\n      </g>\n     </g>\n    </g>\n    <g id=\"xtick_6\">\n     <g id=\"line2d_6\">\n      <g>\n       <use style=\"stroke:#000000;stroke-width:0.8;\" x=\"191.34\" xlink:href=\"#m02eb2aca95\" y=\"228.439219\"/>\n      </g>\n     </g>\n     <g id=\"text_6\">\n      <!-- PulseRate -->\n      <defs>\n       <path d=\"M 19.671875 64.796875 \nL 19.671875 37.40625 \nL 32.078125 37.40625 \nQ 38.96875 37.40625 42.71875 40.96875 \nQ 46.484375 44.53125 46.484375 51.125 \nQ 46.484375 57.671875 42.71875 61.234375 \nQ 38.96875 64.796875 32.078125 64.796875 \nz\nM 9.8125 72.90625 \nL 32.078125 72.90625 \nQ 44.34375 72.90625 50.609375 67.359375 \nQ 56.890625 61.8125 56.890625 51.125 \nQ 56.890625 40.328125 50.609375 34.8125 \nQ 44.34375 29.296875 32.078125 29.296875 \nL 19.671875 29.296875 \nL 19.671875 0 \nL 9.8125 0 \nz\n\" id=\"DejaVuSans-80\"/>\n       <path d=\"M 8.5 21.578125 \nL 8.5 54.6875 \nL 17.484375 54.6875 \nL 17.484375 21.921875 \nQ 17.484375 14.15625 20.5 10.265625 \nQ 23.53125 6.390625 29.59375 6.390625 \nQ 36.859375 6.390625 41.078125 11.03125 \nQ 45.3125 15.671875 45.3125 23.6875 \nL 45.3125 54.6875 \nL 54.296875 54.6875 \nL 54.296875 0 \nL 45.3125 0 \nL 45.3125 8.40625 \nQ 42.046875 3.421875 37.71875 1 \nQ 33.40625 -1.421875 27.6875 -1.421875 \nQ 18.265625 -1.421875 13.375 4.4375 \nQ 8.5 10.296875 8.5 21.578125 \nz\nM 31.109375 56 \nz\n\" id=\"DejaVuSans-117\"/>\n       <path d=\"M 9.421875 75.984375 \nL 18.40625 75.984375 \nL 18.40625 0 \nL 9.421875 0 \nz\n\" id=\"DejaVuSans-108\"/>\n       <path d=\"M 44.390625 34.1875 \nQ 47.5625 33.109375 50.5625 29.59375 \nQ 53.5625 26.078125 56.59375 19.921875 \nL 66.609375 0 \nL 56 0 \nL 46.6875 18.703125 \nQ 43.0625 26.03125 39.671875 28.421875 \nQ 36.28125 30.8125 30.421875 30.8125 \nL 19.671875 30.8125 \nL 19.671875 0 \nL 9.8125 0 \nL 9.8125 72.90625 \nL 32.078125 72.90625 \nQ 44.578125 72.90625 50.734375 67.671875 \nQ 56.890625 62.453125 56.890625 51.90625 \nQ 56.890625 45.015625 53.6875 40.46875 \nQ 50.484375 35.9375 44.390625 34.1875 \nz\nM 19.671875 64.796875 \nL 19.671875 38.921875 \nL 32.078125 38.921875 \nQ 39.203125 38.921875 42.84375 42.21875 \nQ 46.484375 45.515625 46.484375 51.90625 \nQ 46.484375 58.296875 42.84375 61.546875 \nQ 39.203125 64.796875 32.078125 64.796875 \nz\n\" id=\"DejaVuSans-82\"/>\n      </defs>\n      <g transform=\"translate(194.099375 284.697031)rotate(-90)scale(0.1 -0.1)\">\n       <use xlink:href=\"#DejaVuSans-80\"/>\n       <use x=\"58.552734\" xlink:href=\"#DejaVuSans-117\"/>\n       <use x=\"121.931641\" xlink:href=\"#DejaVuSans-108\"/>\n       <use x=\"149.714844\" xlink:href=\"#DejaVuSans-115\"/>\n       <use x=\"201.814453\" xlink:href=\"#DejaVuSans-101\"/>\n       <use x=\"263.337891\" xlink:href=\"#DejaVuSans-82\"/>\n       <use x=\"330.570312\" xlink:href=\"#DejaVuSans-97\"/>\n       <use x=\"391.849609\" xlink:href=\"#DejaVuSans-116\"/>\n       <use x=\"431.058594\" xlink:href=\"#DejaVuSans-101\"/>\n      </g>\n     </g>\n    </g>\n    <g id=\"xtick_7\">\n     <g id=\"line2d_7\">\n      <g>\n       <use style=\"stroke:#000000;stroke-width:0.8;\" x=\"224.82\" xlink:href=\"#m02eb2aca95\" y=\"228.439219\"/>\n      </g>\n     </g>\n     <g id=\"text_7\">\n      <!-- Sex -->\n      <defs>\n       <path d=\"M 53.515625 70.515625 \nL 53.515625 60.890625 \nQ 47.90625 63.578125 42.921875 64.890625 \nQ 37.9375 66.21875 33.296875 66.21875 \nQ 25.25 66.21875 20.875 63.09375 \nQ 16.5 59.96875 16.5 54.203125 \nQ 16.5 49.359375 19.40625 46.890625 \nQ 22.3125 44.4375 30.421875 42.921875 \nL 36.375 41.703125 \nQ 47.40625 39.59375 52.65625 34.296875 \nQ 57.90625 29 57.90625 20.125 \nQ 57.90625 9.515625 50.796875 4.046875 \nQ 43.703125 -1.421875 29.984375 -1.421875 \nQ 24.8125 -1.421875 18.96875 -0.25 \nQ 13.140625 0.921875 6.890625 3.21875 \nL 6.890625 13.375 \nQ 12.890625 10.015625 18.65625 8.296875 \nQ 24.421875 6.59375 29.984375 6.59375 \nQ 38.421875 6.59375 43.015625 9.90625 \nQ 47.609375 13.234375 47.609375 19.390625 \nQ 47.609375 24.75 44.3125 27.78125 \nQ 41.015625 30.8125 33.5 32.328125 \nL 27.484375 33.5 \nQ 16.453125 35.6875 11.515625 40.375 \nQ 6.59375 45.0625 6.59375 53.421875 \nQ 6.59375 63.09375 13.40625 68.65625 \nQ 20.21875 74.21875 32.171875 74.21875 \nQ 37.3125 74.21875 42.625 73.28125 \nQ 47.953125 72.359375 53.515625 70.515625 \nz\n\" id=\"DejaVuSans-83\"/>\n       <path d=\"M 54.890625 54.6875 \nL 35.109375 28.078125 \nL 55.90625 0 \nL 45.3125 0 \nL 29.390625 21.484375 \nL 13.484375 0 \nL 2.875 0 \nL 24.125 28.609375 \nL 4.6875 54.6875 \nL 15.28125 54.6875 \nL 29.78125 35.203125 \nL 44.28125 54.6875 \nz\n\" id=\"DejaVuSans-120\"/>\n      </defs>\n      <g transform=\"translate(227.579375 253.684531)rotate(-90)scale(0.1 -0.1)\">\n       <use xlink:href=\"#DejaVuSans-83\"/>\n       <use x=\"63.476562\" xlink:href=\"#DejaVuSans-101\"/>\n       <use x=\"123.25\" xlink:href=\"#DejaVuSans-120\"/>\n      </g>\n     </g>\n    </g>\n    <g id=\"xtick_8\">\n     <g id=\"line2d_8\">\n      <g>\n       <use style=\"stroke:#000000;stroke-width:0.8;\" x=\"258.3\" xlink:href=\"#m02eb2aca95\" y=\"228.439219\"/>\n      </g>\n     </g>\n     <g id=\"text_8\">\n      <!-- Time -->\n      <defs>\n       <path d=\"M -0.296875 72.90625 \nL 61.375 72.90625 \nL 61.375 64.59375 \nL 35.5 64.59375 \nL 35.5 0 \nL 25.59375 0 \nL 25.59375 64.59375 \nL -0.296875 64.59375 \nz\n\" id=\"DejaVuSans-84\"/>\n      </defs>\n      <g transform=\"translate(261.059375 259.906406)rotate(-90)scale(0.1 -0.1)\">\n       <use xlink:href=\"#DejaVuSans-84\"/>\n       <use x=\"57.958984\" xlink:href=\"#DejaVuSans-105\"/>\n       <use x=\"85.742188\" xlink:href=\"#DejaVuSans-109\"/>\n       <use x=\"183.154297\" xlink:href=\"#DejaVuSans-101\"/>\n      </g>\n     </g>\n    </g>\n   </g>\n   <g id=\"matplotlib.axis_2\"/>\n  </g>\n  <g id=\"axes_2\">\n   <g id=\"patch_3\">\n    <path clip-path=\"url(#p4a9aea2a22)\" d=\"M 291.78 228.439219 \nL 291.78 227.589844 \nL 291.78 11.848594 \nL 291.78 10.999219 \nL 302.652 10.999219 \nL 302.652 11.848594 \nL 302.652 227.589844 \nL 302.652 228.439219 \nz\n\" style=\"fill:#ffffff;stroke:#ffffff;stroke-linejoin:miter;stroke-width:0.01;\"/>\n   </g>\n   <image height=\"217\" id=\"image4658ad7a8b\" transform=\"scale(1 -1)translate(0 -217)\" width=\"11\" x=\"292\" xlink:href=\"data:image/png;base64,\niVBORw0KGgoAAAANSUhEUgAAAAsAAADZCAYAAAD2WsoCAAAABHNCSVQICAgIfAhkiAAAAV5JREFUaIHd2tFthEAMhOFdG66y1JD+C0lyaWG/h5HM8WyNZn57DQL2V32/1+F17dqntetau86Ldzcomw0o3gWeSXnFAm7hnEMXpJGzkaMxJOAMGu+eEZA8G7rj2nUtWTJBG0Eaohz0nFJeokzDb5zJRoyGKRsNUR5CQ+Z5SlMIHQWccrqheAq6YMDYkrF2i/Knt3uK5/NafN54Ygc/v93PowG6zwwYnefz8402ZqyCKTSC7QbPQXSVsjGEBjwiJWmslQsYUxYaxlk8U0CygQGl+NwFB0zR6PqbYKNiNErOYMdmIxhQintDu0l5SrG0+5LhH+KZlK/6nWCjZOo62G6g0UYjNUhIA2zcW2Yjt2RoP4syBpQRjc1GSwepKa/9A8qxptCI0vATulto5M4gocOAsV0XDJi6Ab1WbNfRSbGAx7WofJsyfG6Qt3tXy4eMEhs3vM9SG6BMnlt+BBIb/6Y/gWhq+41lAAAAAElFTkSuQmCC\" y=\"-11\"/>\n   <g id=\"matplotlib.axis_3\"/>\n   <g id=\"matplotlib.axis_4\">\n    <g id=\"ytick_1\">\n     <g id=\"line2d_9\">\n      <defs>\n       <path d=\"M 0 0 \nL 3.5 0 \n\" id=\"m87fd0297fe\" style=\"stroke:#000000;stroke-width:0.8;\"/>\n      </defs>\n      <g>\n       <use style=\"stroke:#000000;stroke-width:0.8;\" x=\"302.652\" xlink:href=\"#m87fd0297fe\" y=\"228.439219\"/>\n      </g>\n     </g>\n     <g id=\"text_9\">\n      <!-- −0.100 -->\n      <defs>\n       <path d=\"M 10.59375 35.5 \nL 73.1875 35.5 \nL 73.1875 27.203125 \nL 10.59375 27.203125 \nz\n\" id=\"DejaVuSans-8722\"/>\n       <path d=\"M 31.78125 66.40625 \nQ 24.171875 66.40625 20.328125 58.90625 \nQ 16.5 51.421875 16.5 36.375 \nQ 16.5 21.390625 20.328125 13.890625 \nQ 24.171875 6.390625 31.78125 6.390625 \nQ 39.453125 6.390625 43.28125 13.890625 \nQ 47.125 21.390625 47.125 36.375 \nQ 47.125 51.421875 43.28125 58.90625 \nQ 39.453125 66.40625 31.78125 66.40625 \nz\nM 31.78125 74.21875 \nQ 44.046875 74.21875 50.515625 64.515625 \nQ 56.984375 54.828125 56.984375 36.375 \nQ 56.984375 17.96875 50.515625 8.265625 \nQ 44.046875 -1.421875 31.78125 -1.421875 \nQ 19.53125 -1.421875 13.0625 8.265625 \nQ 6.59375 17.96875 6.59375 36.375 \nQ 6.59375 54.828125 13.0625 64.515625 \nQ 19.53125 74.21875 31.78125 74.21875 \nz\n\" id=\"DejaVuSans-48\"/>\n       <path d=\"M 10.6875 12.40625 \nL 21 12.40625 \nL 21 0 \nL 10.6875 0 \nz\n\" id=\"DejaVuSans-46\"/>\n       <path d=\"M 12.40625 8.296875 \nL 28.515625 8.296875 \nL 28.515625 63.921875 \nL 10.984375 60.40625 \nL 10.984375 69.390625 \nL 28.421875 72.90625 \nL 38.28125 72.90625 \nL 38.28125 8.296875 \nL 54.390625 8.296875 \nL 54.390625 0 \nL 12.40625 0 \nz\n\" id=\"DejaVuSans-49\"/>\n      </defs>\n      <g transform=\"translate(309.652 232.238438)scale(0.1 -0.1)\">\n       <use xlink:href=\"#DejaVuSans-8722\"/>\n       <use x=\"83.789062\" xlink:href=\"#DejaVuSans-48\"/>\n       <use x=\"147.412109\" xlink:href=\"#DejaVuSans-46\"/>\n       <use x=\"179.199219\" xlink:href=\"#DejaVuSans-49\"/>\n       <use x=\"242.822266\" xlink:href=\"#DejaVuSans-48\"/>\n       <use x=\"306.445312\" xlink:href=\"#DejaVuSans-48\"/>\n      </g>\n     </g>\n    </g>\n    <g id=\"ytick_2\">\n     <g id=\"line2d_10\">\n      <g>\n       <use style=\"stroke:#000000;stroke-width:0.8;\" x=\"302.652\" xlink:href=\"#m87fd0297fe\" y=\"201.259219\"/>\n      </g>\n     </g>\n     <g id=\"text_10\">\n      <!-- −0.075 -->\n      <defs>\n       <path d=\"M 8.203125 72.90625 \nL 55.078125 72.90625 \nL 55.078125 68.703125 \nL 28.609375 0 \nL 18.3125 0 \nL 43.21875 64.59375 \nL 8.203125 64.59375 \nz\n\" id=\"DejaVuSans-55\"/>\n       <path d=\"M 10.796875 72.90625 \nL 49.515625 72.90625 \nL 49.515625 64.59375 \nL 19.828125 64.59375 \nL 19.828125 46.734375 \nQ 21.96875 47.46875 24.109375 47.828125 \nQ 26.265625 48.1875 28.421875 48.1875 \nQ 40.625 48.1875 47.75 41.5 \nQ 54.890625 34.8125 54.890625 23.390625 \nQ 54.890625 11.625 47.5625 5.09375 \nQ 40.234375 -1.421875 26.90625 -1.421875 \nQ 22.3125 -1.421875 17.546875 -0.640625 \nQ 12.796875 0.140625 7.71875 1.703125 \nL 7.71875 11.625 \nQ 12.109375 9.234375 16.796875 8.0625 \nQ 21.484375 6.890625 26.703125 6.890625 \nQ 35.15625 6.890625 40.078125 11.328125 \nQ 45.015625 15.765625 45.015625 23.390625 \nQ 45.015625 31 40.078125 35.4375 \nQ 35.15625 39.890625 26.703125 39.890625 \nQ 22.75 39.890625 18.8125 39.015625 \nQ 14.890625 38.140625 10.796875 36.28125 \nz\n\" id=\"DejaVuSans-53\"/>\n      </defs>\n      <g transform=\"translate(309.652 205.058437)scale(0.1 -0.1)\">\n       <use xlink:href=\"#DejaVuSans-8722\"/>\n       <use x=\"83.789062\" xlink:href=\"#DejaVuSans-48\"/>\n       <use x=\"147.412109\" xlink:href=\"#DejaVuSans-46\"/>\n       <use x=\"179.199219\" xlink:href=\"#DejaVuSans-48\"/>\n       <use x=\"242.822266\" xlink:href=\"#DejaVuSans-55\"/>\n       <use x=\"306.445312\" xlink:href=\"#DejaVuSans-53\"/>\n      </g>\n     </g>\n    </g>\n    <g id=\"ytick_3\">\n     <g id=\"line2d_11\">\n      <g>\n       <use style=\"stroke:#000000;stroke-width:0.8;\" x=\"302.652\" xlink:href=\"#m87fd0297fe\" y=\"174.079219\"/>\n      </g>\n     </g>\n     <g id=\"text_11\">\n      <!-- −0.050 -->\n      <g transform=\"translate(309.652 177.878437)scale(0.1 -0.1)\">\n       <use xlink:href=\"#DejaVuSans-8722\"/>\n       <use x=\"83.789062\" xlink:href=\"#DejaVuSans-48\"/>\n       <use x=\"147.412109\" xlink:href=\"#DejaVuSans-46\"/>\n       <use x=\"179.199219\" xlink:href=\"#DejaVuSans-48\"/>\n       <use x=\"242.822266\" xlink:href=\"#DejaVuSans-53\"/>\n       <use x=\"306.445312\" xlink:href=\"#DejaVuSans-48\"/>\n      </g>\n     </g>\n    </g>\n    <g id=\"ytick_4\">\n     <g id=\"line2d_12\">\n      <g>\n       <use style=\"stroke:#000000;stroke-width:0.8;\" x=\"302.652\" xlink:href=\"#m87fd0297fe\" y=\"146.899219\"/>\n      </g>\n     </g>\n     <g id=\"text_12\">\n      <!-- −0.025 -->\n      <defs>\n       <path d=\"M 19.1875 8.296875 \nL 53.609375 8.296875 \nL 53.609375 0 \nL 7.328125 0 \nL 7.328125 8.296875 \nQ 12.9375 14.109375 22.625 23.890625 \nQ 32.328125 33.6875 34.8125 36.53125 \nQ 39.546875 41.84375 41.421875 45.53125 \nQ 43.3125 49.21875 43.3125 52.78125 \nQ 43.3125 58.59375 39.234375 62.25 \nQ 35.15625 65.921875 28.609375 65.921875 \nQ 23.96875 65.921875 18.8125 64.3125 \nQ 13.671875 62.703125 7.8125 59.421875 \nL 7.8125 69.390625 \nQ 13.765625 71.78125 18.9375 73 \nQ 24.125 74.21875 28.421875 74.21875 \nQ 39.75 74.21875 46.484375 68.546875 \nQ 53.21875 62.890625 53.21875 53.421875 \nQ 53.21875 48.921875 51.53125 44.890625 \nQ 49.859375 40.875 45.40625 35.40625 \nQ 44.1875 33.984375 37.640625 27.21875 \nQ 31.109375 20.453125 19.1875 8.296875 \nz\n\" id=\"DejaVuSans-50\"/>\n      </defs>\n      <g transform=\"translate(309.652 150.698437)scale(0.1 -0.1)\">\n       <use xlink:href=\"#DejaVuSans-8722\"/>\n       <use x=\"83.789062\" xlink:href=\"#DejaVuSans-48\"/>\n       <use x=\"147.412109\" xlink:href=\"#DejaVuSans-46\"/>\n       <use x=\"179.199219\" xlink:href=\"#DejaVuSans-48\"/>\n       <use x=\"242.822266\" xlink:href=\"#DejaVuSans-50\"/>\n       <use x=\"306.445312\" xlink:href=\"#DejaVuSans-53\"/>\n      </g>\n     </g>\n    </g>\n    <g id=\"ytick_5\">\n     <g id=\"line2d_13\">\n      <g>\n       <use style=\"stroke:#000000;stroke-width:0.8;\" x=\"302.652\" xlink:href=\"#m87fd0297fe\" y=\"119.719219\"/>\n      </g>\n     </g>\n     <g id=\"text_13\">\n      <!-- 0.000 -->\n      <g transform=\"translate(309.652 123.518437)scale(0.1 -0.1)\">\n       <use xlink:href=\"#DejaVuSans-48\"/>\n       <use x=\"63.623047\" xlink:href=\"#DejaVuSans-46\"/>\n       <use x=\"95.410156\" xlink:href=\"#DejaVuSans-48\"/>\n       <use x=\"159.033203\" xlink:href=\"#DejaVuSans-48\"/>\n       <use x=\"222.65625\" xlink:href=\"#DejaVuSans-48\"/>\n      </g>\n     </g>\n    </g>\n    <g id=\"ytick_6\">\n     <g id=\"line2d_14\">\n      <g>\n       <use style=\"stroke:#000000;stroke-width:0.8;\" x=\"302.652\" xlink:href=\"#m87fd0297fe\" y=\"92.539219\"/>\n      </g>\n     </g>\n     <g id=\"text_14\">\n      <!-- 0.025 -->\n      <g transform=\"translate(309.652 96.338437)scale(0.1 -0.1)\">\n       <use xlink:href=\"#DejaVuSans-48\"/>\n       <use x=\"63.623047\" xlink:href=\"#DejaVuSans-46\"/>\n       <use x=\"95.410156\" xlink:href=\"#DejaVuSans-48\"/>\n       <use x=\"159.033203\" xlink:href=\"#DejaVuSans-50\"/>\n       <use x=\"222.65625\" xlink:href=\"#DejaVuSans-53\"/>\n      </g>\n     </g>\n    </g>\n    <g id=\"ytick_7\">\n     <g id=\"line2d_15\">\n      <g>\n       <use style=\"stroke:#000000;stroke-width:0.8;\" x=\"302.652\" xlink:href=\"#m87fd0297fe\" y=\"65.359219\"/>\n      </g>\n     </g>\n     <g id=\"text_15\">\n      <!-- 0.050 -->\n      <g transform=\"translate(309.652 69.158437)scale(0.1 -0.1)\">\n       <use xlink:href=\"#DejaVuSans-48\"/>\n       <use x=\"63.623047\" xlink:href=\"#DejaVuSans-46\"/>\n       <use x=\"95.410156\" xlink:href=\"#DejaVuSans-48\"/>\n       <use x=\"159.033203\" xlink:href=\"#DejaVuSans-53\"/>\n       <use x=\"222.65625\" xlink:href=\"#DejaVuSans-48\"/>\n      </g>\n     </g>\n    </g>\n    <g id=\"ytick_8\">\n     <g id=\"line2d_16\">\n      <g>\n       <use style=\"stroke:#000000;stroke-width:0.8;\" x=\"302.652\" xlink:href=\"#m87fd0297fe\" y=\"38.179219\"/>\n      </g>\n     </g>\n     <g id=\"text_16\">\n      <!-- 0.075 -->\n      <g transform=\"translate(309.652 41.978437)scale(0.1 -0.1)\">\n       <use xlink:href=\"#DejaVuSans-48\"/>\n       <use x=\"63.623047\" xlink:href=\"#DejaVuSans-46\"/>\n       <use x=\"95.410156\" xlink:href=\"#DejaVuSans-48\"/>\n       <use x=\"159.033203\" xlink:href=\"#DejaVuSans-55\"/>\n       <use x=\"222.65625\" xlink:href=\"#DejaVuSans-53\"/>\n      </g>\n     </g>\n    </g>\n    <g id=\"ytick_9\">\n     <g id=\"line2d_17\">\n      <g>\n       <use style=\"stroke:#000000;stroke-width:0.8;\" x=\"302.652\" xlink:href=\"#m87fd0297fe\" y=\"10.999219\"/>\n      </g>\n     </g>\n     <g id=\"text_17\">\n      <!-- 0.100 -->\n      <g transform=\"translate(309.652 14.798437)scale(0.1 -0.1)\">\n       <use xlink:href=\"#DejaVuSans-48\"/>\n       <use x=\"63.623047\" xlink:href=\"#DejaVuSans-46\"/>\n       <use x=\"95.410156\" xlink:href=\"#DejaVuSans-49\"/>\n       <use x=\"159.033203\" xlink:href=\"#DejaVuSans-48\"/>\n       <use x=\"222.65625\" xlink:href=\"#DejaVuSans-48\"/>\n      </g>\n     </g>\n    </g>\n   </g>\n   <g id=\"patch_4\">\n    <path d=\"M 291.78 228.439219 \nL 291.78 227.589844 \nL 291.78 11.848594 \nL 291.78 10.999219 \nL 302.652 10.999219 \nL 302.652 11.848594 \nL 302.652 227.589844 \nL 302.652 228.439219 \nz\n\" style=\"fill:none;\"/>\n   </g>\n  </g>\n </g>\n <defs>\n  <clipPath id=\"pf05a49f005\">\n   <rect height=\"217.44\" width=\"267.84\" x=\"7.2\" y=\"10.999219\"/>\n  </clipPath>\n  <clipPath id=\"p4a9aea2a22\">\n   <rect height=\"217.44\" width=\"10.872\" x=\"291.78\" y=\"10.999219\"/>\n  </clipPath>\n </defs>\n</svg>\n"
          },
          "metadata": {
            "needs_background": "light"
          }
        }
      ]
    },
    {
      "cell_type": "code",
      "metadata": {
        "colab": {
          "base_uri": "https://localhost:8080/",
          "height": 204
        },
        "id": "KfBXC8-ihqoo",
        "outputId": "71debb9e-381f-4289-8e7f-ec7c22902762"
      },
      "source": [
        "df['PulseRate']= df['PulseRate'].replace({'-' : '0'}, regex=True)\n",
        "df[\"PulseRate\"].fillna('0', inplace =True)\n",
        "df.head(5)"
      ],
      "execution_count": 38,
      "outputs": [
        {
          "output_type": "execute_result",
          "data": {
            "text/html": [
              "<div>\n",
              "<style scoped>\n",
              "    .dataframe tbody tr th:only-of-type {\n",
              "        vertical-align: middle;\n",
              "    }\n",
              "\n",
              "    .dataframe tbody tr th {\n",
              "        vertical-align: top;\n",
              "    }\n",
              "\n",
              "    .dataframe thead th {\n",
              "        text-align: right;\n",
              "    }\n",
              "</style>\n",
              "<table border=\"1\" class=\"dataframe\">\n",
              "  <thead>\n",
              "    <tr style=\"text-align: right;\">\n",
              "      <th></th>\n",
              "      <th>ID</th>\n",
              "      <th>Age</th>\n",
              "      <th>Weight</th>\n",
              "      <th>Firstname</th>\n",
              "      <th>Lastname</th>\n",
              "      <th>PulseRate</th>\n",
              "      <th>Sex</th>\n",
              "      <th>Time</th>\n",
              "    </tr>\n",
              "  </thead>\n",
              "  <tbody>\n",
              "    <tr>\n",
              "      <th>0</th>\n",
              "      <td>1.0</td>\n",
              "      <td>56.0</td>\n",
              "      <td>70kgs</td>\n",
              "      <td>Micky</td>\n",
              "      <td>Mous</td>\n",
              "      <td>72</td>\n",
              "      <td>m</td>\n",
              "      <td>00-06</td>\n",
              "    </tr>\n",
              "    <tr>\n",
              "      <th>12</th>\n",
              "      <td>1.0</td>\n",
              "      <td>56.0</td>\n",
              "      <td>70kgs</td>\n",
              "      <td>Micky</td>\n",
              "      <td>Mous</td>\n",
              "      <td>69</td>\n",
              "      <td>m</td>\n",
              "      <td>06-12</td>\n",
              "    </tr>\n",
              "    <tr>\n",
              "      <th>24</th>\n",
              "      <td>1.0</td>\n",
              "      <td>56.0</td>\n",
              "      <td>70kgs</td>\n",
              "      <td>Micky</td>\n",
              "      <td>Mous</td>\n",
              "      <td>71</td>\n",
              "      <td>m</td>\n",
              "      <td>12-18</td>\n",
              "    </tr>\n",
              "    <tr>\n",
              "      <th>36</th>\n",
              "      <td>1.0</td>\n",
              "      <td>56.0</td>\n",
              "      <td>70kgs</td>\n",
              "      <td>Micky</td>\n",
              "      <td>Mous</td>\n",
              "      <td>0</td>\n",
              "      <td>f</td>\n",
              "      <td>0-06</td>\n",
              "    </tr>\n",
              "    <tr>\n",
              "      <th>48</th>\n",
              "      <td>1.0</td>\n",
              "      <td>56.0</td>\n",
              "      <td>70kgs</td>\n",
              "      <td>Micky</td>\n",
              "      <td>Mous</td>\n",
              "      <td>0</td>\n",
              "      <td>f</td>\n",
              "      <td>06-12</td>\n",
              "    </tr>\n",
              "  </tbody>\n",
              "</table>\n",
              "</div>"
            ],
            "text/plain": [
              "     ID   Age Weight Firstname Lastname PulseRate Sex   Time\n",
              "0   1.0  56.0  70kgs     Micky     Mous        72   m  00-06\n",
              "12  1.0  56.0  70kgs     Micky     Mous        69   m  06-12\n",
              "24  1.0  56.0  70kgs     Micky     Mous        71   m  12-18\n",
              "36  1.0  56.0  70kgs     Micky     Mous         0   f   0-06\n",
              "48  1.0  56.0  70kgs     Micky     Mous         0   f  06-12"
            ]
          },
          "metadata": {},
          "execution_count": 38
        }
      ]
    },
    {
      "cell_type": "code",
      "metadata": {
        "id": "_FRnP6Xxhshf"
      },
      "source": [
        "def avgPulserate(df, firstname):\n",
        "  sumPulserate = 0\n",
        "  nsumPulserate = 0\n",
        "  for i, value in enumerate(df['Firstname']):\n",
        "    if value == firstname:\n",
        "      try:\n",
        "        if df['PulseRate'][i] !='0':\n",
        "          sumPulserate += int(df['PulseRate'].values[i])\n",
        "          nsumPulserate += 1\n",
        "      except:\n",
        "        pass\n",
        "  if nsumPulserate > 0:\n",
        "    return str(sumPulserate/nsumPulserate)\n",
        "  else:\n",
        "    return 0"
      ],
      "execution_count": 39,
      "outputs": []
    },
    {
      "cell_type": "code",
      "metadata": {
        "id": "q4WE6YAvhuWA"
      },
      "source": [
        "\n",
        "def isValidIndex1(index, nrows):\n",
        "  return index - 1 > 0 & index + 1 < nrows"
      ],
      "execution_count": 40,
      "outputs": []
    },
    {
      "cell_type": "code",
      "metadata": {
        "id": "ijG4LA64hwRi"
      },
      "source": [
        "def isValidIndex2(index, nrows):\n",
        "  return index + 1 < nrows & index + 2 < nrows"
      ],
      "execution_count": 46,
      "outputs": []
    },
    {
      "cell_type": "code",
      "metadata": {
        "id": "odLO_hOChx3v"
      },
      "source": [
        "def isPulseRateNotNull1(index, df):\n",
        "  return str(df['PulseRate'].values[index-1])!= '0' and str(df['PulseRate'].values[index+1])!= '0'"
      ],
      "execution_count": 45,
      "outputs": []
    },
    {
      "cell_type": "code",
      "metadata": {
        "id": "OFgDVxSZhzru"
      },
      "source": [
        "def isPulseRateNotNull2(index, df):\n",
        "  return str(df['PulseRate'].values[index+1])!= '0' and str(df['PulseRate'].values[index +2])!= '0'"
      ],
      "execution_count": 44,
      "outputs": []
    },
    {
      "cell_type": "code",
      "metadata": {
        "id": "2MOW3gq5h5nS"
      },
      "source": [
        "def isInGroup1(df, index, firstname):\n",
        "  return df['Firstname'].values[index-1]== firstname and df['Firstname'].values[index +1]== firstname"
      ],
      "execution_count": 43,
      "outputs": []
    },
    {
      "cell_type": "code",
      "metadata": {
        "id": "cJOInFzBh8Cd"
      },
      "source": [
        "def isInGroup2(df, index, firstname):\n",
        "  return df['Firstname'].values[index+1]== firstname and df['Firstname'].values[index +2]== firstname"
      ],
      "execution_count": 42,
      "outputs": []
    },
    {
      "cell_type": "code",
      "metadata": {
        "id": "wD_jg6Q0h92V"
      },
      "source": [
        "def updatePulseRatena (index, df):\n",
        "  nrows = len(df['PulseRate']) -2\n",
        "  newvalue = ''\n",
        "  firstname = df['Firstname'].values[index]\n",
        "  try:\n",
        "    if isValidIndex1(index,nrows) & isPulseRateNotNull1(index, df) & isInGroup1(df, index, firstname):\n",
        "      try: \n",
        "        newvalue = (int(df['PulseRate'].values[index-1]) + int(df['PulseRate'].values[index+1]))/2\n",
        "      except:\n",
        "        newvalue = '0'\n",
        "    elif isValidIndex2(index,nrows) & isPulseRateNotNull2(index, df) & isInGroup2(df, index, firstname):\n",
        "      try:\n",
        "        newvalue = (int(df['PulseRate'].values[index-1]) + int(df['PulseRate'].values[index+1]))/2\n",
        "      except:\n",
        "        newvalue ='0'\n",
        "    else:\n",
        "      newvalue = avgPulserate(df, firstname)\n",
        "  except:\n",
        "      newvalue = avgPulserate(df, firstname)\n",
        "  finally:\n",
        "    pass\n",
        "  return newvalue"
      ],
      "execution_count": 41,
      "outputs": []
    },
    {
      "cell_type": "code",
      "metadata": {
        "id": "Q3IE1srsovdi"
      },
      "source": [
        "pulserateupdate = []\n",
        "for index, value in enumerate(df[\"PulseRate\"]):\n",
        "  if value =='0' or value == '':\n",
        "    newvalue = updatePulseRatena(index,df)\n",
        "    pulserateupdate.append(newvalue)\n",
        "  else:\n",
        "    pulserateupdate.append(value)"
      ],
      "execution_count": 47,
      "outputs": []
    },
    {
      "cell_type": "code",
      "metadata": {
        "id": "v2ABIFqmozVC"
      },
      "source": [
        "df[\"PulseRateUpdate\"] = pulserateupdate"
      ],
      "execution_count": 48,
      "outputs": []
    },
    {
      "cell_type": "code",
      "metadata": {
        "colab": {
          "base_uri": "https://localhost:8080/",
          "height": 204
        },
        "id": "G-1LgCLWo1wN",
        "outputId": "194297a4-6e12-46f8-c906-c13abf19c4eb"
      },
      "source": [
        "df.head(5)"
      ],
      "execution_count": 49,
      "outputs": [
        {
          "output_type": "execute_result",
          "data": {
            "text/html": [
              "<div>\n",
              "<style scoped>\n",
              "    .dataframe tbody tr th:only-of-type {\n",
              "        vertical-align: middle;\n",
              "    }\n",
              "\n",
              "    .dataframe tbody tr th {\n",
              "        vertical-align: top;\n",
              "    }\n",
              "\n",
              "    .dataframe thead th {\n",
              "        text-align: right;\n",
              "    }\n",
              "</style>\n",
              "<table border=\"1\" class=\"dataframe\">\n",
              "  <thead>\n",
              "    <tr style=\"text-align: right;\">\n",
              "      <th></th>\n",
              "      <th>ID</th>\n",
              "      <th>Age</th>\n",
              "      <th>Weight</th>\n",
              "      <th>Firstname</th>\n",
              "      <th>Lastname</th>\n",
              "      <th>PulseRate</th>\n",
              "      <th>Sex</th>\n",
              "      <th>Time</th>\n",
              "      <th>PulseRateUpdate</th>\n",
              "    </tr>\n",
              "  </thead>\n",
              "  <tbody>\n",
              "    <tr>\n",
              "      <th>0</th>\n",
              "      <td>1.0</td>\n",
              "      <td>56.0</td>\n",
              "      <td>70kgs</td>\n",
              "      <td>Micky</td>\n",
              "      <td>Mous</td>\n",
              "      <td>72</td>\n",
              "      <td>m</td>\n",
              "      <td>00-06</td>\n",
              "      <td>72</td>\n",
              "    </tr>\n",
              "    <tr>\n",
              "      <th>12</th>\n",
              "      <td>1.0</td>\n",
              "      <td>56.0</td>\n",
              "      <td>70kgs</td>\n",
              "      <td>Micky</td>\n",
              "      <td>Mous</td>\n",
              "      <td>69</td>\n",
              "      <td>m</td>\n",
              "      <td>06-12</td>\n",
              "      <td>69</td>\n",
              "    </tr>\n",
              "    <tr>\n",
              "      <th>24</th>\n",
              "      <td>1.0</td>\n",
              "      <td>56.0</td>\n",
              "      <td>70kgs</td>\n",
              "      <td>Micky</td>\n",
              "      <td>Mous</td>\n",
              "      <td>71</td>\n",
              "      <td>m</td>\n",
              "      <td>12-18</td>\n",
              "      <td>71</td>\n",
              "    </tr>\n",
              "    <tr>\n",
              "      <th>36</th>\n",
              "      <td>1.0</td>\n",
              "      <td>56.0</td>\n",
              "      <td>70kgs</td>\n",
              "      <td>Micky</td>\n",
              "      <td>Mous</td>\n",
              "      <td>0</td>\n",
              "      <td>f</td>\n",
              "      <td>0-06</td>\n",
              "      <td>72.0</td>\n",
              "    </tr>\n",
              "    <tr>\n",
              "      <th>48</th>\n",
              "      <td>1.0</td>\n",
              "      <td>56.0</td>\n",
              "      <td>70kgs</td>\n",
              "      <td>Micky</td>\n",
              "      <td>Mous</td>\n",
              "      <td>0</td>\n",
              "      <td>f</td>\n",
              "      <td>06-12</td>\n",
              "      <td>72.0</td>\n",
              "    </tr>\n",
              "  </tbody>\n",
              "</table>\n",
              "</div>"
            ],
            "text/plain": [
              "     ID   Age Weight Firstname Lastname PulseRate Sex   Time PulseRateUpdate\n",
              "0   1.0  56.0  70kgs     Micky     Mous        72   m  00-06              72\n",
              "12  1.0  56.0  70kgs     Micky     Mous        69   m  06-12              69\n",
              "24  1.0  56.0  70kgs     Micky     Mous        71   m  12-18              71\n",
              "36  1.0  56.0  70kgs     Micky     Mous         0   f   0-06            72.0\n",
              "48  1.0  56.0  70kgs     Micky     Mous         0   f  06-12            72.0"
            ]
          },
          "metadata": {},
          "execution_count": 49
        }
      ]
    },
    {
      "cell_type": "markdown",
      "metadata": {
        "id": "JSbPovfCo4Mt"
      },
      "source": [
        "**Vấn đề 10**"
      ]
    },
    {
      "cell_type": "markdown",
      "metadata": {
        "id": "nRHS920wo63y"
      },
      "source": [
        "1.Hãy rút gọn dữ liệu phù hợp và reindex lại dữ liệu. Sau đó, lưu trữ dữ liệu đã xử lý thành công với tên file patient_heart_rate_clean.csv Lưu ý: Ngoài ra còn rất nhiều vấn đề về mặt xử lý dữ liệu dựa trên nhiều khía cạnh khác nhau tùy vào sự am hiểu về dữ liệu của các chuyên gia như:"
      ]
    },
    {
      "cell_type": "markdown",
      "metadata": {
        "id": "jGt47Oy9pAKy"
      },
      "source": [
        "Handling dates\n",
        "\n",
        "Correcting character encodings (a problem you hit when you scrape data off the web)\n"
      ]
    },
    {
      "cell_type": "code",
      "metadata": {
        "id": "M6pNeinCpCzP"
      },
      "source": [
        "\n",
        "from google.colab import drive\n",
        "drive.mount('/drive')"
      ],
      "execution_count": null,
      "outputs": []
    },
    {
      "cell_type": "markdown",
      "metadata": {
        "id": "aQ6kRI6bpJ38"
      },
      "source": [
        "Mounted at /drive"
      ]
    },
    {
      "cell_type": "code",
      "metadata": {
        "id": "BDHC2y3vpLDL"
      },
      "source": [
        "df.to_csv('/drive/My Drive/DataAnalyst/patient_heart_rate_clean.csv')"
      ],
      "execution_count": null,
      "outputs": []
    }
  ]
}