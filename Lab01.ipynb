{
  "nbformat": 4,
  "nbformat_minor": 0,
  "metadata": {
    "colab": {
      "name": "Untitled0.ipynb",
      "provenance": [],
      "authorship_tag": "ABX9TyN0li3VjnhXMhRrH+CzQ/As",
      "include_colab_link": true
    },
    "kernelspec": {
      "name": "python3",
      "display_name": "Python 3"
    },
    "language_info": {
      "name": "python"
    }
  },
  "cells": [
    {
      "cell_type": "markdown",
      "metadata": {
        "id": "view-in-github",
        "colab_type": "text"
      },
      "source": [
        "<a href=\"https://colab.research.google.com/github/187it20961/PTDL-HS/blob/main/Lab01.ipynb\" target=\"_parent\"><img src=\"https://colab.research.google.com/assets/colab-badge.svg\" alt=\"Open In Colab\"/></a>"
      ]
    },
    {
      "cell_type": "markdown",
      "metadata": {
        "id": "Z2hCuqgJlWEC"
      },
      "source": [
        "LAB01"
      ]
    },
    {
      "cell_type": "code",
      "metadata": {
        "colab": {
          "base_uri": "https://localhost:8080/"
        },
        "id": "L1eDh04wlORK",
        "outputId": "fc24e408-7efb-4c70-8d4d-1959e331df47"
      },
      "source": [
        "import pandas as pd\n",
        "df = pd.read_csv(\"https://raw.githubusercontent.com/huynhhoc/DataAnalystDeepLearning/main/Data/dulieuxettuyendaihoc.csv\", index_col = \"STT\")\n",
        "print(df)"
      ],
      "execution_count": 1,
      "outputs": [
        {
          "output_type": "stream",
          "name": "stdout",
          "text": [
            "      T1   L1   H1   S1   V1   X1   D1  ...  GT  DT   KV   DH1   DH2   DH3  KT\n",
            "STT                                     ...                                   \n",
            "1    7.2  7.3  6.3  7.3  7.0  7.9  7.3  ...   F NaN  2NT  3.25  3.25  4.50  A1\n",
            "2    5.4  3.9  3.9  4.0  5.4  5.4  5.3  ...   M NaN    1  6.00  4.00  3.50   C\n",
            "3    5.6  6.8  7.2  7.5  4.3  7.4  5.8  ...   M NaN    1  5.00  6.75  4.00   C\n",
            "4    6.6  6.4  5.3  6.9  5.4  7.3  6.4  ...   M NaN    1  4.25  4.25  5.25  D1\n",
            "5    6.0  5.0  6.0  7.3  6.5  7.7  7.9  ...   M NaN  2NT  4.25  4.50  5.00   A\n",
            "..   ...  ...  ...  ...  ...  ...  ...  ...  ..  ..  ...   ...   ...   ...  ..\n",
            "96   8.6  6.9  7.4  8.8  7.6  5.8  7.3  ...   F NaN    1  5.25  1.50  6.25   C\n",
            "97   3.7  5.4  6.0  5.1  5.5  3.9  6.1  ...   F NaN    1  5.25  3.75  4.75   C\n",
            "98   8.8  5.5  7.4  7.7  6.2  7.3  8.1  ...   M NaN  2NT  7.00  8.00  4.00   C\n",
            "99   2.7  1.8  3.4  5.3  4.5  7.9  4.9  ...   M NaN    1  5.00  3.50  5.50   C\n",
            "100  4.1  5.2  4.9  5.3  5.5  5.4  7.2  ...   M NaN  2NT  5.25  2.50  4.25   C\n",
            "\n",
            "[100 rows x 55 columns]\n"
          ]
        }
      ]
    },
    {
      "cell_type": "code",
      "metadata": {
        "colab": {
          "base_uri": "https://localhost:8080/"
        },
        "id": "e8nbmOI4ld3b",
        "outputId": "4a9eb6f1-c574-4c9c-acb3-3fbf5a5fc1ac"
      },
      "source": [
        "def fill(col):\n",
        "  return df[col].fillna(df[col], inplace = True)\n",
        "print(df.dtypes)"
      ],
      "execution_count": 2,
      "outputs": [
        {
          "output_type": "stream",
          "name": "stdout",
          "text": [
            "T1     float64\n",
            "L1     float64\n",
            "H1     float64\n",
            "S1     float64\n",
            "V1     float64\n",
            "X1     float64\n",
            "D1     float64\n",
            "N1     float64\n",
            "T2     float64\n",
            "L2     float64\n",
            "H2     float64\n",
            "S2     float64\n",
            "V2     float64\n",
            "X2     float64\n",
            "D2     float64\n",
            "N2     float64\n",
            "T3     float64\n",
            "L3     float64\n",
            "H3     float64\n",
            "S3     float64\n",
            "V3     float64\n",
            "X3     float64\n",
            "D3     float64\n",
            "N3     float64\n",
            "T4     float64\n",
            "L4     float64\n",
            "H4     float64\n",
            "S4     float64\n",
            "V4     float64\n",
            "X4     float64\n",
            "D4     float64\n",
            "N4     float64\n",
            "T5     float64\n",
            "L5     float64\n",
            "H5     float64\n",
            "S5     float64\n",
            "V5     float64\n",
            "X5     float64\n",
            "D5     float64\n",
            "N5     float64\n",
            "T6     float64\n",
            "L6     float64\n",
            "H6     float64\n",
            "S6     float64\n",
            "V6     float64\n",
            "X6     float64\n",
            "D6     float64\n",
            "N6     float64\n",
            "GT      object\n",
            "DT     float64\n",
            "KV      object\n",
            "DH1    float64\n",
            "DH2    float64\n",
            "DH3    float64\n",
            "KT      object\n",
            "dtype: object\n"
          ]
        }
      ]
    },
    {
      "cell_type": "markdown",
      "metadata": {
        "id": "CZhHcPz8lmvB"
      },
      "source": [
        "Sử dụng Python để tải dữ liệu lên chương trình và in ra màn hình 10 dòng đầu tiên và 10 dòng cuối cùng"
      ]
    },
    {
      "cell_type": "code",
      "metadata": {
        "colab": {
          "base_uri": "https://localhost:8080/"
        },
        "id": "kXaA_63Mlfbq",
        "outputId": "aff9018d-13cc-49d8-ab5f-4219e530b81b"
      },
      "source": [
        "\n",
        "print(df.head(10))"
      ],
      "execution_count": 3,
      "outputs": [
        {
          "output_type": "stream",
          "name": "stdout",
          "text": [
            "      T1   L1   H1   S1   V1   X1   D1  ...  GT  DT   KV   DH1   DH2   DH3  KT\n",
            "STT                                     ...                                   \n",
            "1    7.2  7.3  6.3  7.3  7.0  7.9  7.3  ...   F NaN  2NT  3.25  3.25  4.50  A1\n",
            "2    5.4  3.9  3.9  4.0  5.4  5.4  5.3  ...   M NaN    1  6.00  4.00  3.50   C\n",
            "3    5.6  6.8  7.2  7.5  4.3  7.4  5.8  ...   M NaN    1  5.00  6.75  4.00   C\n",
            "4    6.6  6.4  5.3  6.9  5.4  7.3  6.4  ...   M NaN    1  4.25  4.25  5.25  D1\n",
            "5    6.0  5.0  6.0  7.3  6.5  7.7  7.9  ...   M NaN  2NT  4.25  4.50  5.00   A\n",
            "6    9.3  7.6  7.9  8.6  7.0  7.3  7.7  ...   M NaN    1  1.50  4.00  6.00  D1\n",
            "7    2.8  3.9  5.5  6.9  5.0  7.3  4.6  ...   F NaN    2  6.50  6.75  5.25   C\n",
            "8    8.3  6.0  7.6  5.1  7.5  4.7  5.8  ...   F NaN    2  3.75  4.50  4.25  D1\n",
            "9    6.5  6.3  7.6  6.0  5.5  7.1  6.3  ...   F NaN    1  3.50  3.50  6.75  D1\n",
            "10   7.3  5.9  4.7  7.1  6.7  7.9  6.7  ...   F NaN    1  4.00  4.75  5.50  D1\n",
            "\n",
            "[10 rows x 55 columns]\n"
          ]
        }
      ]
    },
    {
      "cell_type": "code",
      "metadata": {
        "colab": {
          "base_uri": "https://localhost:8080/"
        },
        "id": "h0oXvPXpluKa",
        "outputId": "d89c9cb3-ccb8-4b39-c83b-103bcbad7df8"
      },
      "source": [
        "print(df.tail(10))"
      ],
      "execution_count": 4,
      "outputs": [
        {
          "output_type": "stream",
          "name": "stdout",
          "text": [
            "      T1   L1   H1   S1   V1   X1   D1  ...  GT  DT   KV   DH1   DH2   DH3  KT\n",
            "STT                                     ...                                   \n",
            "91   8.1  7.7  9.1  8.5  6.1  8.6  8.8  ...   M NaN    2  6.25  4.00  6.50   A\n",
            "92   7.8  6.5  6.7  5.4  6.2  4.8  5.9  ...   M NaN  2NT  4.75  4.75  4.50   A\n",
            "93   5.0  6.6  6.5  7.2  5.8  6.7  6.4  ...   M NaN    1  3.25  5.25  4.25   A\n",
            "94   5.2  5.2  6.8  7.9  6.6  8.9  7.6  ...   M NaN    1  3.50  4.25  5.00   A\n",
            "95   5.8  5.9  7.6  6.1  5.3  8.1  6.1  ...   M NaN    1  4.25  2.50  4.75   A\n",
            "96   8.6  6.9  7.4  8.8  7.6  5.8  7.3  ...   F NaN    1  5.25  1.50  6.25   C\n",
            "97   3.7  5.4  6.0  5.1  5.5  3.9  6.1  ...   F NaN    1  5.25  3.75  4.75   C\n",
            "98   8.8  5.5  7.4  7.7  6.2  7.3  8.1  ...   M NaN  2NT  7.00  8.00  4.00   C\n",
            "99   2.7  1.8  3.4  5.3  4.5  7.9  4.9  ...   M NaN    1  5.00  3.50  5.50   C\n",
            "100  4.1  5.2  4.9  5.3  5.5  5.4  7.2  ...   M NaN  2NT  5.25  2.50  4.25   C\n",
            "\n",
            "[10 rows x 55 columns]\n"
          ]
        }
      ]
    },
    {
      "cell_type": "markdown",
      "metadata": {
        "id": "OGZZ0udCly9q"
      },
      "source": [
        "Thống kê dữ liệu thiếu cho cột dân tộc và hiệu chỉnh dữ liệu thiếu như sau: Mặc định thiếu thì điền giá trị 0"
      ]
    },
    {
      "cell_type": "code",
      "metadata": {
        "colab": {
          "base_uri": "https://localhost:8080/"
        },
        "id": "tRbhBVy1l0hK",
        "outputId": "f6e39320-b4c3-4d02-edb8-c98e61dfbcc5"
      },
      "source": [
        "df['DT'].fillna(0, inplace = True)\n",
        "print(df)"
      ],
      "execution_count": 5,
      "outputs": [
        {
          "output_type": "stream",
          "name": "stdout",
          "text": [
            "      T1   L1   H1   S1   V1   X1   D1  ...  GT   DT   KV   DH1   DH2   DH3  KT\n",
            "STT                                     ...                                    \n",
            "1    7.2  7.3  6.3  7.3  7.0  7.9  7.3  ...   F  0.0  2NT  3.25  3.25  4.50  A1\n",
            "2    5.4  3.9  3.9  4.0  5.4  5.4  5.3  ...   M  0.0    1  6.00  4.00  3.50   C\n",
            "3    5.6  6.8  7.2  7.5  4.3  7.4  5.8  ...   M  0.0    1  5.00  6.75  4.00   C\n",
            "4    6.6  6.4  5.3  6.9  5.4  7.3  6.4  ...   M  0.0    1  4.25  4.25  5.25  D1\n",
            "5    6.0  5.0  6.0  7.3  6.5  7.7  7.9  ...   M  0.0  2NT  4.25  4.50  5.00   A\n",
            "..   ...  ...  ...  ...  ...  ...  ...  ...  ..  ...  ...   ...   ...   ...  ..\n",
            "96   8.6  6.9  7.4  8.8  7.6  5.8  7.3  ...   F  0.0    1  5.25  1.50  6.25   C\n",
            "97   3.7  5.4  6.0  5.1  5.5  3.9  6.1  ...   F  0.0    1  5.25  3.75  4.75   C\n",
            "98   8.8  5.5  7.4  7.7  6.2  7.3  8.1  ...   M  0.0  2NT  7.00  8.00  4.00   C\n",
            "99   2.7  1.8  3.4  5.3  4.5  7.9  4.9  ...   M  0.0    1  5.00  3.50  5.50   C\n",
            "100  4.1  5.2  4.9  5.3  5.5  5.4  7.2  ...   M  0.0  2NT  5.25  2.50  4.25   C\n",
            "\n",
            "[100 rows x 55 columns]\n"
          ]
        }
      ]
    },
    {
      "cell_type": "markdown",
      "metadata": {
        "id": "TsE9FwKWl9xC"
      },
      "source": [
        "Thống kê dữ liệu thiếu cho biến T1 và hiệu chỉnh dữ liệu, lưu ý việc thay thế dữ liệu thiếu sử dụng phương pháp Mean."
      ]
    },
    {
      "cell_type": "code",
      "metadata": {
        "colab": {
          "base_uri": "https://localhost:8080/"
        },
        "id": "kXltJHPVl-lq",
        "outputId": "5fb21b35-0256-4fb9-9d7c-417fa8c5c9ee"
      },
      "source": [
        "df[\"T1\"].fillna(df[\"T1\"].mean(), inplace =True)\n",
        "print(df)"
      ],
      "execution_count": 6,
      "outputs": [
        {
          "output_type": "stream",
          "name": "stdout",
          "text": [
            "      T1   L1   H1   S1   V1   X1   D1  ...  GT   DT   KV   DH1   DH2   DH3  KT\n",
            "STT                                     ...                                    \n",
            "1    7.2  7.3  6.3  7.3  7.0  7.9  7.3  ...   F  0.0  2NT  3.25  3.25  4.50  A1\n",
            "2    5.4  3.9  3.9  4.0  5.4  5.4  5.3  ...   M  0.0    1  6.00  4.00  3.50   C\n",
            "3    5.6  6.8  7.2  7.5  4.3  7.4  5.8  ...   M  0.0    1  5.00  6.75  4.00   C\n",
            "4    6.6  6.4  5.3  6.9  5.4  7.3  6.4  ...   M  0.0    1  4.25  4.25  5.25  D1\n",
            "5    6.0  5.0  6.0  7.3  6.5  7.7  7.9  ...   M  0.0  2NT  4.25  4.50  5.00   A\n",
            "..   ...  ...  ...  ...  ...  ...  ...  ...  ..  ...  ...   ...   ...   ...  ..\n",
            "96   8.6  6.9  7.4  8.8  7.6  5.8  7.3  ...   F  0.0    1  5.25  1.50  6.25   C\n",
            "97   3.7  5.4  6.0  5.1  5.5  3.9  6.1  ...   F  0.0    1  5.25  3.75  4.75   C\n",
            "98   8.8  5.5  7.4  7.7  6.2  7.3  8.1  ...   M  0.0  2NT  7.00  8.00  4.00   C\n",
            "99   2.7  1.8  3.4  5.3  4.5  7.9  4.9  ...   M  0.0    1  5.00  3.50  5.50   C\n",
            "100  4.1  5.2  4.9  5.3  5.5  5.4  7.2  ...   M  0.0  2NT  5.25  2.50  4.25   C\n",
            "\n",
            "[100 rows x 55 columns]\n"
          ]
        }
      ]
    },
    {
      "cell_type": "markdown",
      "metadata": {
        "id": "LqgyIstbmGE6"
      },
      "source": [
        "Hãy thực hiện xử lý lần lượt tất cả dữ liệu thiếu cho các biến về điểm số còn lại"
      ]
    },
    {
      "cell_type": "code",
      "metadata": {
        "id": "Kum4pnzimG8Z"
      },
      "source": [
        "is_float64 = df.dtypes == float\n",
        "df_column_list = df.columns[is_float64].tolist()"
      ],
      "execution_count": 8,
      "outputs": []
    },
    {
      "cell_type": "code",
      "metadata": {
        "colab": {
          "base_uri": "https://localhost:8080/"
        },
        "id": "-EBMbw2Smi8K",
        "outputId": "c04bf7c0-be8b-492d-f127-3a292c3a2dc9"
      },
      "source": [
        "df_column_list"
      ],
      "execution_count": 9,
      "outputs": [
        {
          "output_type": "execute_result",
          "data": {
            "text/plain": [
              "['T1',\n",
              " 'L1',\n",
              " 'H1',\n",
              " 'S1',\n",
              " 'V1',\n",
              " 'X1',\n",
              " 'D1',\n",
              " 'N1',\n",
              " 'T2',\n",
              " 'L2',\n",
              " 'H2',\n",
              " 'S2',\n",
              " 'V2',\n",
              " 'X2',\n",
              " 'D2',\n",
              " 'N2',\n",
              " 'T3',\n",
              " 'L3',\n",
              " 'H3',\n",
              " 'S3',\n",
              " 'V3',\n",
              " 'X3',\n",
              " 'D3',\n",
              " 'N3',\n",
              " 'T4',\n",
              " 'L4',\n",
              " 'H4',\n",
              " 'S4',\n",
              " 'V4',\n",
              " 'X4',\n",
              " 'D4',\n",
              " 'N4',\n",
              " 'T5',\n",
              " 'L5',\n",
              " 'H5',\n",
              " 'S5',\n",
              " 'V5',\n",
              " 'X5',\n",
              " 'D5',\n",
              " 'N5',\n",
              " 'T6',\n",
              " 'L6',\n",
              " 'H6',\n",
              " 'S6',\n",
              " 'V6',\n",
              " 'X6',\n",
              " 'D6',\n",
              " 'N6',\n",
              " 'DT',\n",
              " 'DH1',\n",
              " 'DH2',\n",
              " 'DH3']"
            ]
          },
          "metadata": {},
          "execution_count": 9
        }
      ]
    },
    {
      "cell_type": "code",
      "metadata": {
        "colab": {
          "base_uri": "https://localhost:8080/"
        },
        "id": "G7vLhlEumnO8",
        "outputId": "c0848181-9bd1-4e7c-c483-1fb6b2bceda8"
      },
      "source": [
        "\n",
        "for col in df_column_list:\n",
        "  df[col].fillna(df[col].mean(), inplace =True)\n",
        "print(df)"
      ],
      "execution_count": 11,
      "outputs": [
        {
          "output_type": "stream",
          "name": "stdout",
          "text": [
            "      T1   L1   H1   S1   V1   X1   D1  ...  GT   DT   KV   DH1   DH2   DH3  KT\n",
            "STT                                     ...                                    \n",
            "1    7.2  7.3  6.3  7.3  7.0  7.9  7.3  ...   F  0.0  2NT  3.25  3.25  4.50  A1\n",
            "2    5.4  3.9  3.9  4.0  5.4  5.4  5.3  ...   M  0.0    1  6.00  4.00  3.50   C\n",
            "3    5.6  6.8  7.2  7.5  4.3  7.4  5.8  ...   M  0.0    1  5.00  6.75  4.00   C\n",
            "4    6.6  6.4  5.3  6.9  5.4  7.3  6.4  ...   M  0.0    1  4.25  4.25  5.25  D1\n",
            "5    6.0  5.0  6.0  7.3  6.5  7.7  7.9  ...   M  0.0  2NT  4.25  4.50  5.00   A\n",
            "..   ...  ...  ...  ...  ...  ...  ...  ...  ..  ...  ...   ...   ...   ...  ..\n",
            "96   8.6  6.9  7.4  8.8  7.6  5.8  7.3  ...   F  0.0    1  5.25  1.50  6.25   C\n",
            "97   3.7  5.4  6.0  5.1  5.5  3.9  6.1  ...   F  0.0    1  5.25  3.75  4.75   C\n",
            "98   8.8  5.5  7.4  7.7  6.2  7.3  8.1  ...   M  0.0  2NT  7.00  8.00  4.00   C\n",
            "99   2.7  1.8  3.4  5.3  4.5  7.9  4.9  ...   M  0.0    1  5.00  3.50  5.50   C\n",
            "100  4.1  5.2  4.9  5.3  5.5  5.4  7.2  ...   M  0.0  2NT  5.25  2.50  4.25   C\n",
            "\n",
            "[100 rows x 55 columns]\n"
          ]
        }
      ]
    },
    {
      "cell_type": "markdown",
      "metadata": {
        "id": "eopPWLwwmxWM"
      },
      "source": [
        "Tạo các biến TBM1, TBM2, TBM3 tương ứng với trung bình môn của các năm lớp 10, 11 và 12."
      ]
    },
    {
      "cell_type": "markdown",
      "metadata": {
        "id": "XRGDNNX0m1az"
      },
      "source": [
        "#Công thức tính: TBM = (T*2 + L + H + S + V*2 + X + D + N) / 10"
      ]
    },
    {
      "cell_type": "code",
      "metadata": {
        "id": "Xq9XbWZCmyOK"
      },
      "source": [
        "for i in ['1', '2', '6']:\n",
        "  df['TBM' + i] = (df['T'+i] * 2 + df['L' + i] + df['H' + i] + df['S' + i] + df['V' + i] * 2 + df['X' + i] + df['D' + i] + df['N' + i]) / 10"
      ],
      "execution_count": null,
      "outputs": []
    },
    {
      "cell_type": "code",
      "metadata": {
        "id": "PshCNnY0m6cv"
      },
      "source": [
        "df.rename(columns={\"TBM6\":\"TBM3\"}, inplace = True)"
      ],
      "execution_count": null,
      "outputs": []
    },
    {
      "cell_type": "code",
      "metadata": {
        "colab": {
          "base_uri": "https://localhost:8080/"
        },
        "id": "lf22PnN9m8LJ",
        "outputId": "b1749697-4e78-40db-b094-d388c24ec3d1"
      },
      "source": [
        "print(df)"
      ],
      "execution_count": 12,
      "outputs": [
        {
          "output_type": "stream",
          "name": "stdout",
          "text": [
            "      T1   L1   H1   S1   V1   X1   D1  ...  GT   DT   KV   DH1   DH2   DH3  KT\n",
            "STT                                     ...                                    \n",
            "1    7.2  7.3  6.3  7.3  7.0  7.9  7.3  ...   F  0.0  2NT  3.25  3.25  4.50  A1\n",
            "2    5.4  3.9  3.9  4.0  5.4  5.4  5.3  ...   M  0.0    1  6.00  4.00  3.50   C\n",
            "3    5.6  6.8  7.2  7.5  4.3  7.4  5.8  ...   M  0.0    1  5.00  6.75  4.00   C\n",
            "4    6.6  6.4  5.3  6.9  5.4  7.3  6.4  ...   M  0.0    1  4.25  4.25  5.25  D1\n",
            "5    6.0  5.0  6.0  7.3  6.5  7.7  7.9  ...   M  0.0  2NT  4.25  4.50  5.00   A\n",
            "..   ...  ...  ...  ...  ...  ...  ...  ...  ..  ...  ...   ...   ...   ...  ..\n",
            "96   8.6  6.9  7.4  8.8  7.6  5.8  7.3  ...   F  0.0    1  5.25  1.50  6.25   C\n",
            "97   3.7  5.4  6.0  5.1  5.5  3.9  6.1  ...   F  0.0    1  5.25  3.75  4.75   C\n",
            "98   8.8  5.5  7.4  7.7  6.2  7.3  8.1  ...   M  0.0  2NT  7.00  8.00  4.00   C\n",
            "99   2.7  1.8  3.4  5.3  4.5  7.9  4.9  ...   M  0.0    1  5.00  3.50  5.50   C\n",
            "100  4.1  5.2  4.9  5.3  5.5  5.4  7.2  ...   M  0.0  2NT  5.25  2.50  4.25   C\n",
            "\n",
            "[100 rows x 55 columns]\n"
          ]
        }
      ]
    },
    {
      "cell_type": "markdown",
      "metadata": {
        "id": "H-436cxqnBGC"
      },
      "source": [
        "\n",
        "8.Tạo các biến xếp loại XL1, XL2 và XL3 dựa trên TBM1,TBM2 và TBM3 cho từng năm lớp 10, 11, 12 như sau:\n",
        "\n",
        "-Nhỏ hơn 5.0 xếp loại: yếu (kí hiệu là Y)\n",
        "-Từ 5.0 đến dưới 6.5: trung bình (kí hiệu là TB)\n",
        "-Từ 6.5 đến dưới 8.0: khá (kí hiệu là K)\n",
        "-Từ 8.0 đến dưới 9.0: giỏi (kí hiệu là G)\n",
        "-Từ 9.0 trở lên: xuất sắc (kí hiệu là XS)"
      ]
    },
    {
      "cell_type": "code",
      "metadata": {
        "id": "Iib1sMy0nFYb"
      },
      "source": [
        "for i in ['1','2','3']:\n",
        "  df.loc[df['TBM' + i] < 5, 'XL' + i] = 'Y'\n",
        "  df.loc[(df['TBM'+i] <= 6.5) &(df['TBM'+i] > 5), 'XL' + i] = 'TB'\n",
        "  df.loc[(df['TBM'+i] < 8) &(df['TBM'+i] >= 6.5), 'XL'+i] = 'K' \n",
        "  df.loc[(df['TBM'+i] < 9) &(df['TBM'+i] >=8), 'XL'+i] = 'G' \n",
        "  df.loc[(df['TBM'+i] >= 9), 'XL'+i] = 'XS'"
      ],
      "execution_count": null,
      "outputs": []
    },
    {
      "cell_type": "code",
      "metadata": {
        "colab": {
          "base_uri": "https://localhost:8080/"
        },
        "id": "o1SDptOznHfC",
        "outputId": "2e543cb9-3d8e-4513-b29d-bbd2ddc89d71"
      },
      "source": [
        "print(df)"
      ],
      "execution_count": 13,
      "outputs": [
        {
          "output_type": "stream",
          "name": "stdout",
          "text": [
            "      T1   L1   H1   S1   V1   X1   D1  ...  GT   DT   KV   DH1   DH2   DH3  KT\n",
            "STT                                     ...                                    \n",
            "1    7.2  7.3  6.3  7.3  7.0  7.9  7.3  ...   F  0.0  2NT  3.25  3.25  4.50  A1\n",
            "2    5.4  3.9  3.9  4.0  5.4  5.4  5.3  ...   M  0.0    1  6.00  4.00  3.50   C\n",
            "3    5.6  6.8  7.2  7.5  4.3  7.4  5.8  ...   M  0.0    1  5.00  6.75  4.00   C\n",
            "4    6.6  6.4  5.3  6.9  5.4  7.3  6.4  ...   M  0.0    1  4.25  4.25  5.25  D1\n",
            "5    6.0  5.0  6.0  7.3  6.5  7.7  7.9  ...   M  0.0  2NT  4.25  4.50  5.00   A\n",
            "..   ...  ...  ...  ...  ...  ...  ...  ...  ..  ...  ...   ...   ...   ...  ..\n",
            "96   8.6  6.9  7.4  8.8  7.6  5.8  7.3  ...   F  0.0    1  5.25  1.50  6.25   C\n",
            "97   3.7  5.4  6.0  5.1  5.5  3.9  6.1  ...   F  0.0    1  5.25  3.75  4.75   C\n",
            "98   8.8  5.5  7.4  7.7  6.2  7.3  8.1  ...   M  0.0  2NT  7.00  8.00  4.00   C\n",
            "99   2.7  1.8  3.4  5.3  4.5  7.9  4.9  ...   M  0.0    1  5.00  3.50  5.50   C\n",
            "100  4.1  5.2  4.9  5.3  5.5  5.4  7.2  ...   M  0.0  2NT  5.25  2.50  4.25   C\n",
            "\n",
            "[100 rows x 55 columns]\n"
          ]
        }
      ]
    },
    {
      "cell_type": "markdown",
      "metadata": {
        "id": "ePtd50DWnLGa"
      },
      "source": [
        "Tạo các biến US_TBM1, US_TBM2 và US_TBM3 để chuyển điểm trung bình các năm lớp 10, 11 và 12 từ thang điểm 10 của Việt Nam sang thang điểm 4 của Mỹ. Sử dụng phương pháp Min-Max Normalization"
      ]
    },
    {
      "cell_type": "code",
      "metadata": {
        "id": "KnxJ7vZQnLyi"
      },
      "source": [
        "for i in [\"1\",\"2\",\"3\"]:\n",
        "    df[\"US_TBM\"+i] = (df[\"TBM\"+i]/10) *4"
      ],
      "execution_count": null,
      "outputs": []
    },
    {
      "cell_type": "code",
      "metadata": {
        "colab": {
          "base_uri": "https://localhost:8080/"
        },
        "id": "4B873ftDnNQL",
        "outputId": "3d10f286-0de9-4e85-cc8a-ef89ee8e2faa"
      },
      "source": [
        "print(df)"
      ],
      "execution_count": 14,
      "outputs": [
        {
          "output_type": "stream",
          "name": "stdout",
          "text": [
            "      T1   L1   H1   S1   V1   X1   D1  ...  GT   DT   KV   DH1   DH2   DH3  KT\n",
            "STT                                     ...                                    \n",
            "1    7.2  7.3  6.3  7.3  7.0  7.9  7.3  ...   F  0.0  2NT  3.25  3.25  4.50  A1\n",
            "2    5.4  3.9  3.9  4.0  5.4  5.4  5.3  ...   M  0.0    1  6.00  4.00  3.50   C\n",
            "3    5.6  6.8  7.2  7.5  4.3  7.4  5.8  ...   M  0.0    1  5.00  6.75  4.00   C\n",
            "4    6.6  6.4  5.3  6.9  5.4  7.3  6.4  ...   M  0.0    1  4.25  4.25  5.25  D1\n",
            "5    6.0  5.0  6.0  7.3  6.5  7.7  7.9  ...   M  0.0  2NT  4.25  4.50  5.00   A\n",
            "..   ...  ...  ...  ...  ...  ...  ...  ...  ..  ...  ...   ...   ...   ...  ..\n",
            "96   8.6  6.9  7.4  8.8  7.6  5.8  7.3  ...   F  0.0    1  5.25  1.50  6.25   C\n",
            "97   3.7  5.4  6.0  5.1  5.5  3.9  6.1  ...   F  0.0    1  5.25  3.75  4.75   C\n",
            "98   8.8  5.5  7.4  7.7  6.2  7.3  8.1  ...   M  0.0  2NT  7.00  8.00  4.00   C\n",
            "99   2.7  1.8  3.4  5.3  4.5  7.9  4.9  ...   M  0.0    1  5.00  3.50  5.50   C\n",
            "100  4.1  5.2  4.9  5.3  5.5  5.4  7.2  ...   M  0.0  2NT  5.25  2.50  4.25   C\n",
            "\n",
            "[100 rows x 55 columns]\n"
          ]
        }
      ]
    },
    {
      "cell_type": "markdown",
      "metadata": {
        "id": "XWLLUy8fnRgK"
      },
      "source": [
        "Tạo biến kết quả xét tuyển (kí hiệu là KQXT) nhằm xác định sinh viên đậu (giá trị \"1\") và rớt ( giá trị \"0\") vào các khối dựa trên điểm DH1, DH2 và DH3 như sau\n",
        "\n",
        "-Với khối A, A1 nếu [(DH1*2 + DH2 + DH3)/4] lớn hơn hoặc bằng 5.0 thì đậu, ngược lại là rớt\n",
        "-Với khối B nếu [(DH1 + DH2*2 + DH3)/4] lớn hơn hoặc bằng 5.0 thì đậu, ngược lại là rớt\n",
        "\n",
        "-Với khối khác nếu [(DH1+ DH2 + DH3)/3] lớn hơn hoặc bằng 5.0 thì đậu, ngược lại là rớt"
      ]
    },
    {
      "cell_type": "code",
      "metadata": {
        "id": "h5Owk_SnnVaL"
      },
      "source": [
        "for i in df['KT']:\n",
        "  str(i)\n",
        "  df.loc[(i == 'A' or i == 'A1') & ((df['DH1'] * 2 + df['DH2'] + df['DH3']) / 4 >= 5.0), 'KQXT'] = 'đậu'\n",
        "  df.loc[(i == 'A' or i == 'Ađậu') & ((df['DH1'] * 2 + df['DH2'] + df['DH3']) / 4 < 5.0), 'KQXT'] = 'rớt'\n",
        "\n",
        "  df.loc[(i == 'B') & ((df['DH1'] + df['DH2'] * 2 + df['DH3']) / 4 >= 5.0), 'KQXT'] = 'đậu'\n",
        "  df.loc[(i == 'B') & ((df['DH1'] + df['DH2'] * 2 + df['DH3']) / 4 < 5.0), 'KQXT'] = 'rớt'\n",
        "          \n",
        "  df.loc[(i != 'B' and i != 'A' and i != 'A1') & ((df['DH1'] + df['DH2']+ df['DH3']) / 3 >= 5.0), 'KQXT'] = 'đậu'\n",
        "  df.loc[(i != 'B' and i != 'A' and i != 'A1') & ((df['DH1'] + df['DH2']+ df['DH3']) / 3 < 5.0), 'KQXT'] = 'rớt'"
      ],
      "execution_count": null,
      "outputs": []
    },
    {
      "cell_type": "code",
      "metadata": {
        "colab": {
          "base_uri": "https://localhost:8080/"
        },
        "id": "spVqI51AnYAs",
        "outputId": "55d31010-c9b9-4f00-e5a6-76836f01ff08"
      },
      "source": [
        "\n",
        "print(df)"
      ],
      "execution_count": 15,
      "outputs": [
        {
          "output_type": "stream",
          "name": "stdout",
          "text": [
            "      T1   L1   H1   S1   V1   X1   D1  ...  GT   DT   KV   DH1   DH2   DH3  KT\n",
            "STT                                     ...                                    \n",
            "1    7.2  7.3  6.3  7.3  7.0  7.9  7.3  ...   F  0.0  2NT  3.25  3.25  4.50  A1\n",
            "2    5.4  3.9  3.9  4.0  5.4  5.4  5.3  ...   M  0.0    1  6.00  4.00  3.50   C\n",
            "3    5.6  6.8  7.2  7.5  4.3  7.4  5.8  ...   M  0.0    1  5.00  6.75  4.00   C\n",
            "4    6.6  6.4  5.3  6.9  5.4  7.3  6.4  ...   M  0.0    1  4.25  4.25  5.25  D1\n",
            "5    6.0  5.0  6.0  7.3  6.5  7.7  7.9  ...   M  0.0  2NT  4.25  4.50  5.00   A\n",
            "..   ...  ...  ...  ...  ...  ...  ...  ...  ..  ...  ...   ...   ...   ...  ..\n",
            "96   8.6  6.9  7.4  8.8  7.6  5.8  7.3  ...   F  0.0    1  5.25  1.50  6.25   C\n",
            "97   3.7  5.4  6.0  5.1  5.5  3.9  6.1  ...   F  0.0    1  5.25  3.75  4.75   C\n",
            "98   8.8  5.5  7.4  7.7  6.2  7.3  8.1  ...   M  0.0  2NT  7.00  8.00  4.00   C\n",
            "99   2.7  1.8  3.4  5.3  4.5  7.9  4.9  ...   M  0.0    1  5.00  3.50  5.50   C\n",
            "100  4.1  5.2  4.9  5.3  5.5  5.4  7.2  ...   M  0.0  2NT  5.25  2.50  4.25   C\n",
            "\n",
            "[100 rows x 55 columns]\n"
          ]
        }
      ]
    },
    {
      "cell_type": "markdown",
      "metadata": {
        "id": "Fiu7BMH5nbe8"
      },
      "source": [
        "Lưu trữ dữ liệu xuống ổ đĩa thành file processed_dulieuxettuyendaihoc.csv"
      ]
    },
    {
      "cell_type": "code",
      "metadata": {
        "id": "bYih4tIancjL"
      },
      "source": [
        "from google.colab import drive\n",
        "drive.mount('/drive')"
      ],
      "execution_count": null,
      "outputs": []
    },
    {
      "cell_type": "code",
      "metadata": {
        "id": "OzLmqYlunhBk"
      },
      "source": [
        "df.to_csv('/drive/My Drive/DataAnalyst/processed_dulieuxettuyendaihoc.csv')"
      ],
      "execution_count": null,
      "outputs": []
    }
  ]
}